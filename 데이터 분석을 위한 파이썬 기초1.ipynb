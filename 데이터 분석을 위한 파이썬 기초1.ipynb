{
 "cells": [
  {
   "cell_type": "markdown",
   "id": "e3fd4f15",
   "metadata": {},
   "source": [
    "# 데이터 분석을 위한 파이썬 기초1"
   ]
  },
  {
   "cell_type": "code",
   "execution_count": 1,
   "id": "6125e139",
   "metadata": {},
   "outputs": [
    {
     "name": "stdout",
     "output_type": "stream",
     "text": [
      "45\n"
     ]
    }
   ],
   "source": [
    "# 숫자 \n",
    "# print(2022)\n",
    "print(45)"
   ]
  },
  {
   "cell_type": "code",
   "execution_count": 2,
   "id": "9bc23c31",
   "metadata": {},
   "outputs": [
    {
     "name": "stdout",
     "output_type": "stream",
     "text": [
      "happy\n"
     ]
    }
   ],
   "source": [
    "# 문자 (큰따옴표)\n",
    "# print(\"happy\")\n",
    "print(\"happy\")"
   ]
  },
  {
   "cell_type": "code",
   "execution_count": 3,
   "id": "c22e3d3e",
   "metadata": {},
   "outputs": [
    {
     "name": "stdout",
     "output_type": "stream",
     "text": [
      "happy\n"
     ]
    }
   ],
   "source": [
    "print('happy')"
   ]
  },
  {
   "cell_type": "code",
   "execution_count": 4,
   "id": "964ef4ed",
   "metadata": {},
   "outputs": [
    {
     "data": {
      "text/plain": [
       "456"
      ]
     },
     "execution_count": 4,
     "metadata": {},
     "output_type": "execute_result"
    }
   ],
   "source": [
    "456"
   ]
  },
  {
   "cell_type": "markdown",
   "id": "892a2923",
   "metadata": {},
   "source": [
    "## 주석\n",
    "    - #을 앞에 사용하면 #뒤에 줄(내용)은 무시함\n",
    "    - 한 줄만 주석 처리(해제) : Ctrl + / (맥 : Command + /)\n",
    "    - 여러 줄 주석 처리(해제) : 블록 지정 후 Ctrl + / (맥 : Command + /)"
   ]
  },
  {
   "cell_type": "markdown",
   "id": "89205022",
   "metadata": {},
   "source": [
    "## 산술연산자"
   ]
  },
  {
   "cell_type": "code",
   "execution_count": 5,
   "id": "4eaa7866",
   "metadata": {},
   "outputs": [
    {
     "name": "stdout",
     "output_type": "stream",
     "text": [
      "3\n"
     ]
    }
   ],
   "source": [
    "# 정수 + 정수\n",
    "print(1+2)"
   ]
  },
  {
   "cell_type": "code",
   "execution_count": 6,
   "id": "3cf4bc64",
   "metadata": {},
   "outputs": [
    {
     "name": "stdout",
     "output_type": "stream",
     "text": [
      "8.44\n"
     ]
    }
   ],
   "source": [
    "# 실수 + 정수\n",
    "print(3.44 + 5)"
   ]
  },
  {
   "cell_type": "code",
   "execution_count": 7,
   "id": "41157f98",
   "metadata": {},
   "outputs": [
    {
     "name": "stdout",
     "output_type": "stream",
     "text": [
      "hello\n"
     ]
    }
   ],
   "source": [
    "# 문자열 더하기\n",
    "print(\"he\" + \"llo\");"
   ]
  },
  {
   "cell_type": "code",
   "execution_count": 8,
   "id": "55b73fbb",
   "metadata": {},
   "outputs": [
    {
     "data": {
      "text/plain": [
       "5"
      ]
     },
     "execution_count": 8,
     "metadata": {},
     "output_type": "execute_result"
    }
   ],
   "source": [
    "# 몫\n",
    "16//3"
   ]
  },
  {
   "cell_type": "code",
   "execution_count": 9,
   "id": "4878df02",
   "metadata": {},
   "outputs": [
    {
     "data": {
      "text/plain": [
       "1"
      ]
     },
     "execution_count": 9,
     "metadata": {},
     "output_type": "execute_result"
    }
   ],
   "source": [
    "#나머지\n",
    "16%3"
   ]
  },
  {
   "cell_type": "code",
   "execution_count": 10,
   "id": "b73e8366",
   "metadata": {},
   "outputs": [
    {
     "data": {
      "text/plain": [
       "16"
      ]
     },
     "execution_count": 10,
     "metadata": {},
     "output_type": "execute_result"
    }
   ],
   "source": [
    "#제곱\n",
    "4**2"
   ]
  },
  {
   "cell_type": "markdown",
   "id": "87373d65",
   "metadata": {},
   "source": [
    "## 자료형(타입)\n",
    "    - 정수형 : int\n",
    "    - 실수형 : float\n",
    "    - 문자열 : str\n",
    "    - 참 / 거짓 : bool"
   ]
  },
  {
   "cell_type": "code",
   "execution_count": 11,
   "id": "85d71d45",
   "metadata": {},
   "outputs": [
    {
     "data": {
      "text/plain": [
       "int"
      ]
     },
     "execution_count": 11,
     "metadata": {},
     "output_type": "execute_result"
    }
   ],
   "source": [
    "#정수형\n",
    "type(1)"
   ]
  },
  {
   "cell_type": "code",
   "execution_count": 12,
   "id": "77369a23",
   "metadata": {},
   "outputs": [
    {
     "data": {
      "text/plain": [
       "float"
      ]
     },
     "execution_count": 12,
     "metadata": {},
     "output_type": "execute_result"
    }
   ],
   "source": [
    "#실수형\n",
    "type(3.44)"
   ]
  },
  {
   "cell_type": "code",
   "execution_count": 13,
   "id": "ee4e88ef",
   "metadata": {},
   "outputs": [
    {
     "data": {
      "text/plain": [
       "str"
      ]
     },
     "execution_count": 13,
     "metadata": {},
     "output_type": "execute_result"
    }
   ],
   "source": [
    "#문자열\n",
    "type('hello')"
   ]
  },
  {
   "cell_type": "code",
   "execution_count": 15,
   "id": "0d9147c6",
   "metadata": {},
   "outputs": [
    {
     "data": {
      "text/plain": [
       "bool"
      ]
     },
     "execution_count": 15,
     "metadata": {},
     "output_type": "execute_result"
    }
   ],
   "source": [
    "#참 / 거짓\n",
    "type(True)\n",
    "type(False)"
   ]
  },
  {
   "cell_type": "markdown",
   "id": "bbce549c",
   "metadata": {},
   "source": [
    "## 변수"
   ]
  },
  {
   "cell_type": "code",
   "execution_count": 16,
   "id": "86a22304",
   "metadata": {},
   "outputs": [],
   "source": [
    "# box변수 값에 10 대입\n",
    "# box = 10\n",
    "box = 10"
   ]
  },
  {
   "cell_type": "code",
   "execution_count": 18,
   "id": "04496684",
   "metadata": {},
   "outputs": [
    {
     "name": "stdout",
     "output_type": "stream",
     "text": [
      "10\n"
     ]
    },
    {
     "data": {
      "text/plain": [
       "10"
      ]
     },
     "execution_count": 18,
     "metadata": {},
     "output_type": "execute_result"
    }
   ],
   "source": [
    "# box변수 값 출력\n",
    "print(box)\n",
    "box"
   ]
  },
  {
   "cell_type": "code",
   "execution_count": 19,
   "id": "15cd87e4",
   "metadata": {},
   "outputs": [],
   "source": [
    "# box2 변수 값에 20 대입\n",
    "box2 = 20"
   ]
  },
  {
   "cell_type": "code",
   "execution_count": 20,
   "id": "915d746a",
   "metadata": {},
   "outputs": [
    {
     "name": "stdout",
     "output_type": "stream",
     "text": [
      "30\n"
     ]
    }
   ],
   "source": [
    "# 변수 + 변수\n",
    "print(box + box2)"
   ]
  },
  {
   "cell_type": "code",
   "execution_count": 22,
   "id": "320f46fd",
   "metadata": {},
   "outputs": [
    {
     "data": {
      "text/plain": [
       "30"
      ]
     },
     "execution_count": 22,
     "metadata": {},
     "output_type": "execute_result"
    }
   ],
   "source": [
    "box3 = box + box2\n",
    "box3"
   ]
  },
  {
   "cell_type": "code",
   "execution_count": 27,
   "id": "4f32bda4",
   "metadata": {},
   "outputs": [
    {
     "data": {
      "text/plain": [
       "160"
      ]
     },
     "execution_count": 27,
     "metadata": {},
     "output_type": "execute_result"
    }
   ],
   "source": [
    "box = box + box\n",
    "box"
   ]
  },
  {
   "cell_type": "code",
   "execution_count": 24,
   "id": "b163989e",
   "metadata": {},
   "outputs": [
    {
     "data": {
      "text/plain": [
       "20"
      ]
     },
     "execution_count": 24,
     "metadata": {},
     "output_type": "execute_result"
    }
   ],
   "source": [
    "box"
   ]
  },
  {
   "cell_type": "markdown",
   "id": "49a8add5",
   "metadata": {},
   "source": [
    "## 형변환"
   ]
  },
  {
   "cell_type": "code",
   "execution_count": 28,
   "id": "e50deff9",
   "metadata": {},
   "outputs": [
    {
     "data": {
      "text/plain": [
       "str"
      ]
     },
     "execution_count": 28,
     "metadata": {},
     "output_type": "execute_result"
    }
   ],
   "source": [
    "# str(문자)\n",
    "box = '15'\n",
    "type(box)"
   ]
  },
  {
   "cell_type": "code",
   "execution_count": 29,
   "id": "a27b6194",
   "metadata": {},
   "outputs": [
    {
     "ename": "TypeError",
     "evalue": "can only concatenate str (not \"int\") to str",
     "output_type": "error",
     "traceback": [
      "\u001b[0;31m---------------------------------------------------------------------------\u001b[0m",
      "\u001b[0;31mTypeError\u001b[0m                                 Traceback (most recent call last)",
      "\u001b[0;32m/var/folders/g6/_1k7gh8n3kn0c_msqqjf59jc0000gn/T/ipykernel_26928/2151087279.py\u001b[0m in \u001b[0;36m<module>\u001b[0;34m\u001b[0m\n\u001b[0;32m----> 1\u001b[0;31m \u001b[0mbox\u001b[0m \u001b[0;34m+\u001b[0m \u001b[0;36m10\u001b[0m\u001b[0;34m\u001b[0m\u001b[0;34m\u001b[0m\u001b[0m\n\u001b[0m",
      "\u001b[0;31mTypeError\u001b[0m: can only concatenate str (not \"int\") to str"
     ]
    }
   ],
   "source": [
    "box + 10"
   ]
  },
  {
   "cell_type": "code",
   "execution_count": 32,
   "id": "62b47fb6",
   "metadata": {},
   "outputs": [
    {
     "data": {
      "text/plain": [
       "int"
      ]
     },
     "execution_count": 32,
     "metadata": {},
     "output_type": "execute_result"
    }
   ],
   "source": [
    "box = int(box)\n",
    "type(box)"
   ]
  },
  {
   "cell_type": "code",
   "execution_count": 33,
   "id": "69a57bae",
   "metadata": {},
   "outputs": [
    {
     "data": {
      "text/plain": [
       "str"
      ]
     },
     "execution_count": 33,
     "metadata": {},
     "output_type": "execute_result"
    }
   ],
   "source": [
    "type(str(box))"
   ]
  },
  {
   "cell_type": "code",
   "execution_count": 34,
   "id": "2033ee33",
   "metadata": {},
   "outputs": [
    {
     "ename": "ValueError",
     "evalue": "invalid literal for int() with base 10: 'hi'",
     "output_type": "error",
     "traceback": [
      "\u001b[0;31m---------------------------------------------------------------------------\u001b[0m",
      "\u001b[0;31mValueError\u001b[0m                                Traceback (most recent call last)",
      "\u001b[0;32m/var/folders/g6/_1k7gh8n3kn0c_msqqjf59jc0000gn/T/ipykernel_26928/206811236.py\u001b[0m in \u001b[0;36m<module>\u001b[0;34m\u001b[0m\n\u001b[1;32m      1\u001b[0m \u001b[0mbox\u001b[0m \u001b[0;34m=\u001b[0m \u001b[0;34m\"hi\"\u001b[0m\u001b[0;34m\u001b[0m\u001b[0;34m\u001b[0m\u001b[0m\n\u001b[0;32m----> 2\u001b[0;31m \u001b[0mint\u001b[0m\u001b[0;34m(\u001b[0m\u001b[0mbox\u001b[0m\u001b[0;34m)\u001b[0m\u001b[0;34m\u001b[0m\u001b[0;34m\u001b[0m\u001b[0m\n\u001b[0m",
      "\u001b[0;31mValueError\u001b[0m: invalid literal for int() with base 10: 'hi'"
     ]
    }
   ],
   "source": [
    "box = \"hi\"\n",
    "int(box)\n",
    "# 숫자 형태의 문자만 int형으로 변환이 가능하다"
   ]
  },
  {
   "cell_type": "markdown",
   "id": "5a14a45e",
   "metadata": {},
   "source": [
    "## 비교연산자"
   ]
  },
  {
   "cell_type": "code",
   "execution_count": 35,
   "id": "c185dc58",
   "metadata": {},
   "outputs": [
    {
     "data": {
      "text/plain": [
       "True"
      ]
     },
     "execution_count": 35,
     "metadata": {},
     "output_type": "execute_result"
    }
   ],
   "source": [
    "# 크다(참)\n",
    "10 > 5"
   ]
  },
  {
   "cell_type": "code",
   "execution_count": 36,
   "id": "4422ce28",
   "metadata": {},
   "outputs": [
    {
     "data": {
      "text/plain": [
       "False"
      ]
     },
     "execution_count": 36,
     "metadata": {},
     "output_type": "execute_result"
    }
   ],
   "source": [
    "# 작다\n",
    "10 < 5"
   ]
  },
  {
   "cell_type": "code",
   "execution_count": 37,
   "id": "a2afae44",
   "metadata": {},
   "outputs": [
    {
     "data": {
      "text/plain": [
       "True"
      ]
     },
     "execution_count": 37,
     "metadata": {},
     "output_type": "execute_result"
    }
   ],
   "source": [
    "# 같거나 크다\n",
    "10 >= 5 "
   ]
  },
  {
   "cell_type": "code",
   "execution_count": 38,
   "id": "b373f7f5",
   "metadata": {},
   "outputs": [
    {
     "data": {
      "text/plain": [
       "False"
      ]
     },
     "execution_count": 38,
     "metadata": {},
     "output_type": "execute_result"
    }
   ],
   "source": [
    "# 같다\n",
    "10 == 5"
   ]
  },
  {
   "cell_type": "code",
   "execution_count": 39,
   "id": "b4973407",
   "metadata": {},
   "outputs": [
    {
     "data": {
      "text/plain": [
       "True"
      ]
     },
     "execution_count": 39,
     "metadata": {},
     "output_type": "execute_result"
    }
   ],
   "source": [
    "# 같지 않다\n",
    "10 != 5"
   ]
  },
  {
   "cell_type": "code",
   "execution_count": 40,
   "id": "3cbcb79c",
   "metadata": {},
   "outputs": [
    {
     "data": {
      "text/plain": [
       "True"
      ]
     },
     "execution_count": 40,
     "metadata": {},
     "output_type": "execute_result"
    }
   ],
   "source": [
    "# 같다\n",
    "a = 10\n",
    "b = 10\n",
    "a == b"
   ]
  },
  {
   "cell_type": "code",
   "execution_count": 41,
   "id": "b20687a7",
   "metadata": {},
   "outputs": [
    {
     "data": {
      "text/plain": [
       "True"
      ]
     },
     "execution_count": 41,
     "metadata": {},
     "output_type": "execute_result"
    }
   ],
   "source": [
    "# 같거나 크다\n",
    "a >= b"
   ]
  },
  {
   "cell_type": "code",
   "execution_count": 42,
   "id": "847a5fd5",
   "metadata": {},
   "outputs": [
    {
     "data": {
      "text/plain": [
       "False"
      ]
     },
     "execution_count": 42,
     "metadata": {},
     "output_type": "execute_result"
    }
   ],
   "source": [
    "a > b"
   ]
  },
  {
   "cell_type": "code",
   "execution_count": 44,
   "id": "2588220c",
   "metadata": {},
   "outputs": [
    {
     "name": "stdout",
     "output_type": "stream",
     "text": [
      "True\n",
      "False\n"
     ]
    }
   ],
   "source": [
    "c = \"빅데이터\"\n",
    "d = \"빅데이터\"\n",
    "e = \"데이터\"\n",
    "print(c == d)\n",
    "print(d == e)"
   ]
  },
  {
   "cell_type": "markdown",
   "id": "f5c31880",
   "metadata": {},
   "source": [
    "## 조건문\n",
    "    - 들여쓰기 : tab\n",
    "    - 내어쓰기 : shift + tab"
   ]
  },
  {
   "cell_type": "code",
   "execution_count": 45,
   "id": "f915b40a",
   "metadata": {},
   "outputs": [
    {
     "name": "stdout",
     "output_type": "stream",
     "text": [
      "참입니다.\n"
     ]
    }
   ],
   "source": [
    "if True:\n",
    "    print(\"참입니다.\")"
   ]
  },
  {
   "cell_type": "code",
   "execution_count": 46,
   "id": "e5a51537",
   "metadata": {},
   "outputs": [],
   "source": [
    "if False:\n",
    "    print(\"실행안됨\")"
   ]
  },
  {
   "cell_type": "code",
   "execution_count": 48,
   "id": "91d23172",
   "metadata": {},
   "outputs": [
    {
     "name": "stdout",
     "output_type": "stream",
     "text": [
      "box가 5보다 크다\n"
     ]
    }
   ],
   "source": [
    "if box > 5:\n",
    "    print(\"box가 5보다 크다\")"
   ]
  },
  {
   "cell_type": "code",
   "execution_count": 50,
   "id": "047819af",
   "metadata": {
    "scrolled": true
   },
   "outputs": [
    {
     "name": "stdout",
     "output_type": "stream",
     "text": [
      "box는 10이 아닙니다.\n"
     ]
    }
   ],
   "source": [
    "box = 1\n",
    "\n",
    "if box == 10:\n",
    "    print(\"box는 10입니다.\")\n",
    "else:\n",
    "    print(\"box는 10이 아닙니다.\")"
   ]
  },
  {
   "cell_type": "code",
   "execution_count": 51,
   "id": "6d43ef7f",
   "metadata": {},
   "outputs": [
    {
     "name": "stdout",
     "output_type": "stream",
     "text": [
      "box는 10 이상입니다.\n"
     ]
    }
   ],
   "source": [
    "box = 15\n",
    "if box >=10:\n",
    "    print(\"box는 10 이상입니다.\")\n",
    "else:\n",
    "    print(\"box는 10 미만입니다.\")"
   ]
  },
  {
   "cell_type": "code",
   "execution_count": 53,
   "id": "c755cc6d",
   "metadata": {},
   "outputs": [
    {
     "name": "stdout",
     "output_type": "stream",
     "text": [
      "box는 5이상 10 미만입니다.\n"
     ]
    }
   ],
   "source": [
    "box = 7\n",
    "if box >=10:\n",
    "    print(\"box는 10 이상입니다.\")\n",
    "elif box < 10 and box >= 5:\n",
    "    print(\"box는 5이상 10 미만입니다.\")\n",
    "else:\n",
    "    print(\"box는 5 미만입니다.\")"
   ]
  },
  {
   "cell_type": "code",
   "execution_count": null,
   "id": "b01e8d96",
   "metadata": {},
   "outputs": [],
   "source": []
  },
  {
   "cell_type": "code",
   "execution_count": null,
   "id": "eff7313a",
   "metadata": {},
   "outputs": [],
   "source": []
  },
  {
   "cell_type": "code",
   "execution_count": null,
   "id": "9958718f",
   "metadata": {},
   "outputs": [],
   "source": []
  },
  {
   "cell_type": "code",
   "execution_count": null,
   "id": "04448349",
   "metadata": {},
   "outputs": [],
   "source": []
  },
  {
   "cell_type": "code",
   "execution_count": null,
   "id": "82b82595",
   "metadata": {},
   "outputs": [],
   "source": []
  },
  {
   "cell_type": "code",
   "execution_count": null,
   "id": "b966c337",
   "metadata": {},
   "outputs": [],
   "source": []
  },
  {
   "cell_type": "code",
   "execution_count": null,
   "id": "127c8c0f",
   "metadata": {},
   "outputs": [],
   "source": []
  }
 ],
 "metadata": {
  "kernelspec": {
   "display_name": "Python 3 (ipykernel)",
   "language": "python",
   "name": "python3"
  },
  "language_info": {
   "codemirror_mode": {
    "name": "ipython",
    "version": 3
   },
   "file_extension": ".py",
   "mimetype": "text/x-python",
   "name": "python",
   "nbconvert_exporter": "python",
   "pygments_lexer": "ipython3",
   "version": "3.9.7"
  }
 },
 "nbformat": 4,
 "nbformat_minor": 5
}
