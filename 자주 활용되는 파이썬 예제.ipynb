{
 "cells": [
  {
   "cell_type": "markdown",
   "id": "bafabf6c",
   "metadata": {},
   "source": [
    "# 반복문"
   ]
  },
  {
   "cell_type": "code",
   "execution_count": 1,
   "id": "e79fd44b",
   "metadata": {},
   "outputs": [
    {
     "name": "stdout",
     "output_type": "stream",
     "text": [
      "5\n",
      "6\n",
      "7\n",
      "8\n",
      "9\n"
     ]
    }
   ],
   "source": [
    "for i in range(5,10):\n",
    "    print(i)"
   ]
  },
  {
   "cell_type": "code",
   "execution_count": 2,
   "id": "7fa19614",
   "metadata": {},
   "outputs": [
    {
     "name": "stdout",
     "output_type": "stream",
     "text": [
      "0\n",
      "1\n",
      "2\n",
      "3\n",
      "4\n"
     ]
    }
   ],
   "source": [
    "for i in range(5):\n",
    "    print(i)"
   ]
  },
  {
   "cell_type": "code",
   "execution_count": 3,
   "id": "eb016e1e",
   "metadata": {},
   "outputs": [],
   "source": [
    "cols = [2,4,6,7,10]"
   ]
  },
  {
   "cell_type": "code",
   "execution_count": 4,
   "id": "fd0fe916",
   "metadata": {},
   "outputs": [
    {
     "name": "stdout",
     "output_type": "stream",
     "text": [
      "2\n",
      "4\n",
      "6\n",
      "7\n",
      "10\n"
     ]
    }
   ],
   "source": [
    "for col in cols:\n",
    "    print(col)"
   ]
  },
  {
   "cell_type": "code",
   "execution_count": 6,
   "id": "59bb32dc",
   "metadata": {},
   "outputs": [
    {
     "name": "stdout",
     "output_type": "stream",
     "text": [
      "4\n",
      "8\n",
      "12\n",
      "14\n",
      "20\n"
     ]
    }
   ],
   "source": [
    "for col in cols:\n",
    "    print(col*2)"
   ]
  },
  {
   "cell_type": "markdown",
   "id": "f174de55",
   "metadata": {},
   "source": [
    "# 함수"
   ]
  },
  {
   "cell_type": "code",
   "execution_count": 7,
   "id": "1934479d",
   "metadata": {},
   "outputs": [],
   "source": [
    "def hello():\n",
    "    print(\"안녕하세요!\")"
   ]
  },
  {
   "cell_type": "code",
   "execution_count": 8,
   "id": "30d195d8",
   "metadata": {},
   "outputs": [
    {
     "name": "stdout",
     "output_type": "stream",
     "text": [
      "안녕하세요!\n"
     ]
    }
   ],
   "source": [
    "hello()"
   ]
  },
  {
   "cell_type": "code",
   "execution_count": 9,
   "id": "d7fda777",
   "metadata": {},
   "outputs": [],
   "source": [
    "def plus(x,y):\n",
    "    result = x+y\n",
    "    print(result)"
   ]
  },
  {
   "cell_type": "code",
   "execution_count": 10,
   "id": "ad3ff4c5",
   "metadata": {},
   "outputs": [
    {
     "name": "stdout",
     "output_type": "stream",
     "text": [
      "4\n"
     ]
    }
   ],
   "source": [
    "x = 2\n",
    "y = 2\n",
    "plus(x,y)"
   ]
  },
  {
   "cell_type": "code",
   "execution_count": 11,
   "id": "d23fea3e",
   "metadata": {},
   "outputs": [],
   "source": [
    "def plus2(x,y):\n",
    "    result = x+y\n",
    "    return result"
   ]
  },
  {
   "cell_type": "code",
   "execution_count": 13,
   "id": "42c0fd33",
   "metadata": {},
   "outputs": [
    {
     "data": {
      "text/plain": [
       "4"
      ]
     },
     "execution_count": 13,
     "metadata": {},
     "output_type": "execute_result"
    }
   ],
   "source": [
    "x = 2\n",
    "y = 2\n",
    "total = plus2(x,y)\n",
    "total"
   ]
  },
  {
   "cell_type": "markdown",
   "id": "0d0339f5",
   "metadata": {},
   "source": [
    "# 반복문"
   ]
  },
  {
   "cell_type": "code",
   "execution_count": 15,
   "id": "55221408",
   "metadata": {},
   "outputs": [
    {
     "name": "stdout",
     "output_type": "stream",
     "text": [
      "0\n",
      "1\n",
      "2\n",
      "3\n",
      "4\n"
     ]
    }
   ],
   "source": [
    "for item in range(5):\n",
    "    print(item)"
   ]
  },
  {
   "cell_type": "code",
   "execution_count": 16,
   "id": "6cedba35",
   "metadata": {},
   "outputs": [
    {
     "name": "stdout",
     "output_type": "stream",
     "text": [
      "5\n",
      "6\n",
      "7\n",
      "8\n",
      "9\n"
     ]
    }
   ],
   "source": [
    "for i in range(5,10):\n",
    "    print(i)"
   ]
  },
  {
   "cell_type": "code",
   "execution_count": 17,
   "id": "adcbb2b9",
   "metadata": {},
   "outputs": [
    {
     "name": "stdout",
     "output_type": "stream",
     "text": [
      "2\n",
      "4\n",
      "6\n",
      "8\n",
      "10\n"
     ]
    }
   ],
   "source": [
    "listbox = [2,4,6,8,10]\n",
    "for item in listbox:\n",
    "    print(item)"
   ]
  },
  {
   "cell_type": "code",
   "execution_count": 18,
   "id": "2da29e28",
   "metadata": {},
   "outputs": [
    {
     "name": "stdout",
     "output_type": "stream",
     "text": [
      "3\n",
      "5\n",
      "7\n",
      "9\n",
      "11\n"
     ]
    }
   ],
   "source": [
    "for item in listbox:\n",
    "    print(item+1)"
   ]
  },
  {
   "cell_type": "code",
   "execution_count": 20,
   "id": "6d6a044f",
   "metadata": {},
   "outputs": [
    {
     "name": "stdout",
     "output_type": "stream",
     "text": [
      "네모\n",
      "세모\n",
      "동그라미\n"
     ]
    }
   ],
   "source": [
    "listbox2 = ['네모', '세모', '동그라미']\n",
    "for i in listbox2:\n",
    "    print(i)"
   ]
  },
  {
   "cell_type": "code",
   "execution_count": 22,
   "id": "96af60f4",
   "metadata": {},
   "outputs": [
    {
     "name": "stdout",
     "output_type": "stream",
     "text": [
      "0\n",
      "네모\n",
      "1\n",
      "세모\n",
      "2\n",
      "동그라미\n"
     ]
    }
   ],
   "source": [
    "for index,item in enumerate(listbox2):\n",
    "    print(index)\n",
    "    print(item)"
   ]
  },
  {
   "cell_type": "code",
   "execution_count": 23,
   "id": "9ca4f754",
   "metadata": {},
   "outputs": [
    {
     "name": "stdout",
     "output_type": "stream",
     "text": [
      "인덱스0인 값은네모입니다.\n",
      "인덱스1인 값은세모입니다.\n",
      "인덱스2인 값은동그라미입니다.\n"
     ]
    }
   ],
   "source": [
    "for index,item in enumerate(listbox2):\n",
    "    print(f'인덱스{index}인 값은{item}입니다.')"
   ]
  },
  {
   "cell_type": "code",
   "execution_count": 24,
   "id": "c604977d",
   "metadata": {},
   "outputs": [
    {
     "name": "stdout",
     "output_type": "stream",
     "text": [
      "name\n",
      "age\n",
      "phone\n"
     ]
    }
   ],
   "source": [
    "cols = ['name', 'age', 'phone']\n",
    "\n",
    "for i in cols:\n",
    "    print(i)"
   ]
  },
  {
   "cell_type": "markdown",
   "id": "c221d282",
   "metadata": {},
   "source": [
    "# 함수"
   ]
  },
  {
   "cell_type": "code",
   "execution_count": 25,
   "id": "94762215",
   "metadata": {},
   "outputs": [],
   "source": [
    "def hello():\n",
    "    print(\"안녕하세요!\")"
   ]
  },
  {
   "cell_type": "code",
   "execution_count": 26,
   "id": "a06a09c4",
   "metadata": {},
   "outputs": [
    {
     "name": "stdout",
     "output_type": "stream",
     "text": [
      "안녕하세요!\n"
     ]
    }
   ],
   "source": [
    "hello()"
   ]
  },
  {
   "cell_type": "code",
   "execution_count": 27,
   "id": "4e743db6",
   "metadata": {},
   "outputs": [],
   "source": [
    "def plus(x,y):\n",
    "    print(x+y)"
   ]
  },
  {
   "cell_type": "code",
   "execution_count": 28,
   "id": "045208d1",
   "metadata": {},
   "outputs": [
    {
     "name": "stdout",
     "output_type": "stream",
     "text": [
      "5\n"
     ]
    }
   ],
   "source": [
    "plus(2,3)"
   ]
  },
  {
   "cell_type": "code",
   "execution_count": 29,
   "id": "e89d9b6b",
   "metadata": {},
   "outputs": [],
   "source": [
    "def plus2(x,y):\n",
    "    result = x+y\n",
    "    return result"
   ]
  },
  {
   "cell_type": "code",
   "execution_count": 30,
   "id": "9ac26523",
   "metadata": {},
   "outputs": [
    {
     "data": {
      "text/plain": [
       "8"
      ]
     },
     "execution_count": 30,
     "metadata": {},
     "output_type": "execute_result"
    }
   ],
   "source": [
    "plus2(3,5)"
   ]
  },
  {
   "cell_type": "code",
   "execution_count": null,
   "id": "689813e1",
   "metadata": {},
   "outputs": [],
   "source": []
  },
  {
   "cell_type": "code",
   "execution_count": 31,
   "id": "7c5e2d1f",
   "metadata": {},
   "outputs": [],
   "source": [
    "listbox = [15,46,78,24,56]"
   ]
  },
  {
   "cell_type": "code",
   "execution_count": 32,
   "id": "44d6173c",
   "metadata": {},
   "outputs": [],
   "source": [
    "def min_max(data):\n",
    "    mi = min(data)\n",
    "    ma = max(data)\n",
    "    return mi,ma"
   ]
  },
  {
   "cell_type": "code",
   "execution_count": 34,
   "id": "cc78f3e0",
   "metadata": {},
   "outputs": [],
   "source": [
    "a,b = min_max(listbox)"
   ]
  },
  {
   "cell_type": "code",
   "execution_count": 36,
   "id": "201ce52a",
   "metadata": {},
   "outputs": [
    {
     "name": "stdout",
     "output_type": "stream",
     "text": [
      "15 78\n"
     ]
    }
   ],
   "source": [
    "print(a,b)"
   ]
  },
  {
   "cell_type": "code",
   "execution_count": 39,
   "id": "73dd3e64",
   "metadata": {},
   "outputs": [],
   "source": [
    "listbox2 = [15,46,78,24,56]"
   ]
  },
  {
   "cell_type": "code",
   "execution_count": 37,
   "id": "98e71601",
   "metadata": {},
   "outputs": [],
   "source": [
    "def mean(data):\n",
    "    return sum(data) / len(data)"
   ]
  },
  {
   "cell_type": "code",
   "execution_count": 40,
   "id": "477b143f",
   "metadata": {},
   "outputs": [
    {
     "data": {
      "text/plain": [
       "43.8"
      ]
     },
     "execution_count": 40,
     "metadata": {},
     "output_type": "execute_result"
    }
   ],
   "source": [
    "mean(listbox2)"
   ]
  },
  {
   "cell_type": "code",
   "execution_count": 45,
   "id": "ee6002f6",
   "metadata": {},
   "outputs": [],
   "source": [
    "listbox3 = [15,46,78,24,56]"
   ]
  },
  {
   "cell_type": "code",
   "execution_count": 42,
   "id": "8c9b8a95",
   "metadata": {},
   "outputs": [],
   "source": [
    "def maxminusmin(data):\n",
    "    ma = max(data)\n",
    "    mi = min(data)\n",
    "    return ma - mi"
   ]
  },
  {
   "cell_type": "code",
   "execution_count": 46,
   "id": "f9e4be0b",
   "metadata": {},
   "outputs": [
    {
     "data": {
      "text/plain": [
       "63"
      ]
     },
     "execution_count": 46,
     "metadata": {},
     "output_type": "execute_result"
    }
   ],
   "source": [
    "maxminusmin(listbox3)"
   ]
  },
  {
   "cell_type": "code",
   "execution_count": null,
   "id": "edb51dc2",
   "metadata": {},
   "outputs": [],
   "source": []
  },
  {
   "cell_type": "code",
   "execution_count": null,
   "id": "994da4cd",
   "metadata": {},
   "outputs": [],
   "source": []
  },
  {
   "cell_type": "code",
   "execution_count": null,
   "id": "ad489789",
   "metadata": {},
   "outputs": [],
   "source": []
  }
 ],
 "metadata": {
  "kernelspec": {
   "display_name": "Python 3 (ipykernel)",
   "language": "python",
   "name": "python3"
  },
  "language_info": {
   "codemirror_mode": {
    "name": "ipython",
    "version": 3
   },
   "file_extension": ".py",
   "mimetype": "text/x-python",
   "name": "python",
   "nbconvert_exporter": "python",
   "pygments_lexer": "ipython3",
   "version": "3.9.7"
  }
 },
 "nbformat": 4,
 "nbformat_minor": 5
}
