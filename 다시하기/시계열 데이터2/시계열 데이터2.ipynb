{
 "cells": [
  {
   "cell_type": "code",
   "execution_count": 1,
   "id": "0664667d",
   "metadata": {},
   "outputs": [
    {
     "data": {
      "text/html": [
       "<div>\n",
       "<style scoped>\n",
       "    .dataframe tbody tr th:only-of-type {\n",
       "        vertical-align: middle;\n",
       "    }\n",
       "\n",
       "    .dataframe tbody tr th {\n",
       "        vertical-align: top;\n",
       "    }\n",
       "\n",
       "    .dataframe thead th {\n",
       "        text-align: right;\n",
       "    }\n",
       "</style>\n",
       "<table border=\"1\" class=\"dataframe\">\n",
       "  <thead>\n",
       "    <tr style=\"text-align: right;\">\n",
       "      <th></th>\n",
       "      <th>Date1</th>\n",
       "      <th>Date2</th>\n",
       "      <th>Date3</th>\n",
       "      <th>Date4</th>\n",
       "      <th>Date5</th>\n",
       "      <th>Date6</th>\n",
       "      <th>DateTime1</th>\n",
       "      <th>DateTime2</th>\n",
       "      <th>DateTime3</th>\n",
       "      <th>DateTime4</th>\n",
       "    </tr>\n",
       "  </thead>\n",
       "  <tbody>\n",
       "    <tr>\n",
       "      <th>0</th>\n",
       "      <td>2024-02-17</td>\n",
       "      <td>2024:02:17</td>\n",
       "      <td>24/02/17</td>\n",
       "      <td>02/17/2024</td>\n",
       "      <td>17-Feb-2024</td>\n",
       "      <td>2024년02월17일</td>\n",
       "      <td>24-02-17 11:45:30</td>\n",
       "      <td>2024-02-17 11-45-30</td>\n",
       "      <td>02/17/2024 11:45:30 AM</td>\n",
       "      <td>17 Feb 2024 11:45:30</td>\n",
       "    </tr>\n",
       "    <tr>\n",
       "      <th>1</th>\n",
       "      <td>2024-02-18</td>\n",
       "      <td>2024:02:18</td>\n",
       "      <td>24/02/18</td>\n",
       "      <td>02/18/2024</td>\n",
       "      <td>18-Feb-2024</td>\n",
       "      <td>2024년02월18일</td>\n",
       "      <td>24-02-18 12:55:45</td>\n",
       "      <td>2024-02-18 12-55-45</td>\n",
       "      <td>02/18/2024 12:55:45 PM</td>\n",
       "      <td>18 Feb 2024 12:55:45</td>\n",
       "    </tr>\n",
       "    <tr>\n",
       "      <th>2</th>\n",
       "      <td>2024-02-19</td>\n",
       "      <td>2024:02:19</td>\n",
       "      <td>24/02/19</td>\n",
       "      <td>02/19/2024</td>\n",
       "      <td>19-Feb-2024</td>\n",
       "      <td>2024년02월19일</td>\n",
       "      <td>24-02-19 13:30:15</td>\n",
       "      <td>2024-02-19 13-30-15</td>\n",
       "      <td>02/19/2024 01:30:15 PM</td>\n",
       "      <td>19 Feb 2024 13:30:15</td>\n",
       "    </tr>\n",
       "  </tbody>\n",
       "</table>\n",
       "</div>"
      ],
      "text/plain": [
       "        Date1       Date2     Date3       Date4        Date5        Date6  \\\n",
       "0  2024-02-17  2024:02:17  24/02/17  02/17/2024  17-Feb-2024  2024년02월17일   \n",
       "1  2024-02-18  2024:02:18  24/02/18  02/18/2024  18-Feb-2024  2024년02월18일   \n",
       "2  2024-02-19  2024:02:19  24/02/19  02/19/2024  19-Feb-2024  2024년02월19일   \n",
       "\n",
       "           DateTime1            DateTime2               DateTime3  \\\n",
       "0  24-02-17 11:45:30  2024-02-17 11-45-30  02/17/2024 11:45:30 AM   \n",
       "1  24-02-18 12:55:45  2024-02-18 12-55-45  02/18/2024 12:55:45 PM   \n",
       "2  24-02-19 13:30:15  2024-02-19 13-30-15  02/19/2024 01:30:15 PM   \n",
       "\n",
       "              DateTime4  \n",
       "0  17 Feb 2024 11:45:30  \n",
       "1  18 Feb 2024 12:55:45  \n",
       "2  19 Feb 2024 13:30:15  "
      ]
     },
     "execution_count": 1,
     "metadata": {},
     "output_type": "execute_result"
    }
   ],
   "source": [
    "# 데이터 생성(실습 전 실행)\n",
    "import pandas as pd\n",
    "data = {\n",
    "    'Date1': ['2024-02-17', '2024-02-18', '2024-02-19'],\n",
    "    'Date2': ['2024:02:17', '2024:02:18', '2024:02:19'],\n",
    "    'Date3': ['24/02/17', '24/02/18', '24/02/19'],\n",
    "    'Date4': ['02/17/2024', '02/18/2024', '02/19/2024'],\n",
    "    'Date5': ['17-Feb-2024', '18-Feb-2024', '19-Feb-2024'],\n",
    "    'Date6': ['2024년02월17일', '2024년02월18일', '2024년02월19일'],\n",
    "    'DateTime1': ['24-02-17 11:45:30', '24-02-18 12:55:45', '24-02-19 13:30:15'],\n",
    "    'DateTime2': ['2024-02-17 11-45-30', '2024-02-18 12-55-45', '2024-02-19 13-30-15'],\n",
    "    'DateTime3': ['02/17/2024 11:45:30 AM', '02/18/2024 12:55:45 PM', '02/19/2024 01:30:15 PM'],\n",
    "    'DateTime4': ['17 Feb 2024 11:45:30', '18 Feb 2024 12:55:45', '19 Feb 2024 13:30:15']\n",
    "}\n",
    "\n",
    "df = pd.DataFrame(data)\n",
    "df.to_csv(\"date.csv\", index=False)\n",
    "df"
   ]
  },
  {
   "cell_type": "code",
   "execution_count": 2,
   "id": "1d9f28b0",
   "metadata": {},
   "outputs": [
    {
     "data": {
      "text/html": [
       "<div>\n",
       "<style scoped>\n",
       "    .dataframe tbody tr th:only-of-type {\n",
       "        vertical-align: middle;\n",
       "    }\n",
       "\n",
       "    .dataframe tbody tr th {\n",
       "        vertical-align: top;\n",
       "    }\n",
       "\n",
       "    .dataframe thead th {\n",
       "        text-align: right;\n",
       "    }\n",
       "</style>\n",
       "<table border=\"1\" class=\"dataframe\">\n",
       "  <thead>\n",
       "    <tr style=\"text-align: right;\">\n",
       "      <th></th>\n",
       "      <th>DateTime4</th>\n",
       "    </tr>\n",
       "  </thead>\n",
       "  <tbody>\n",
       "    <tr>\n",
       "      <th>0</th>\n",
       "      <td>2024-02-17 11:45:30</td>\n",
       "    </tr>\n",
       "    <tr>\n",
       "      <th>1</th>\n",
       "      <td>2024-02-18 12:55:45</td>\n",
       "    </tr>\n",
       "    <tr>\n",
       "      <th>2</th>\n",
       "      <td>2024-02-19 13:30:15</td>\n",
       "    </tr>\n",
       "  </tbody>\n",
       "</table>\n",
       "</div>"
      ],
      "text/plain": [
       "            DateTime4\n",
       "0 2024-02-17 11:45:30\n",
       "1 2024-02-18 12:55:45\n",
       "2 2024-02-19 13:30:15"
      ]
     },
     "execution_count": 2,
     "metadata": {},
     "output_type": "execute_result"
    }
   ],
   "source": [
    "# 데이터 불러오기 (usecols, parse_dates)\n",
    "df = pd.read_csv(\"date.csv\", usecols=['DateTime4'], parse_dates=['DateTime4'])\n",
    "df"
   ]
  },
  {
   "cell_type": "code",
   "execution_count": 3,
   "id": "e333135e",
   "metadata": {},
   "outputs": [
    {
     "data": {
      "text/html": [
       "<div>\n",
       "<style scoped>\n",
       "    .dataframe tbody tr th:only-of-type {\n",
       "        vertical-align: middle;\n",
       "    }\n",
       "\n",
       "    .dataframe tbody tr th {\n",
       "        vertical-align: top;\n",
       "    }\n",
       "\n",
       "    .dataframe thead th {\n",
       "        text-align: right;\n",
       "    }\n",
       "</style>\n",
       "<table border=\"1\" class=\"dataframe\">\n",
       "  <thead>\n",
       "    <tr style=\"text-align: right;\">\n",
       "      <th></th>\n",
       "      <th>DateTime4</th>\n",
       "      <th>100일</th>\n",
       "    </tr>\n",
       "  </thead>\n",
       "  <tbody>\n",
       "    <tr>\n",
       "      <th>0</th>\n",
       "      <td>2024-02-17 11:45:30</td>\n",
       "      <td>2024-05-26 11:45:30</td>\n",
       "    </tr>\n",
       "    <tr>\n",
       "      <th>1</th>\n",
       "      <td>2024-02-18 12:55:45</td>\n",
       "      <td>2024-05-27 12:55:45</td>\n",
       "    </tr>\n",
       "    <tr>\n",
       "      <th>2</th>\n",
       "      <td>2024-02-19 13:30:15</td>\n",
       "      <td>2024-05-28 13:30:15</td>\n",
       "    </tr>\n",
       "  </tbody>\n",
       "</table>\n",
       "</div>"
      ],
      "text/plain": [
       "            DateTime4                100일\n",
       "0 2024-02-17 11:45:30 2024-05-26 11:45:30\n",
       "1 2024-02-18 12:55:45 2024-05-27 12:55:45\n",
       "2 2024-02-19 13:30:15 2024-05-28 13:30:15"
      ]
     },
     "execution_count": 3,
     "metadata": {},
     "output_type": "execute_result"
    }
   ],
   "source": [
    "# 100일째 되는 날\n",
    "day = pd.Timedelta(days=99)\n",
    "df['100일'] = df['DateTime4'] + day\n",
    "df"
   ]
  },
  {
   "cell_type": "code",
   "execution_count": 4,
   "id": "fcb9f3fd",
   "metadata": {},
   "outputs": [
    {
     "data": {
      "text/html": [
       "<div>\n",
       "<style scoped>\n",
       "    .dataframe tbody tr th:only-of-type {\n",
       "        vertical-align: middle;\n",
       "    }\n",
       "\n",
       "    .dataframe tbody tr th {\n",
       "        vertical-align: top;\n",
       "    }\n",
       "\n",
       "    .dataframe thead th {\n",
       "        text-align: right;\n",
       "    }\n",
       "</style>\n",
       "<table border=\"1\" class=\"dataframe\">\n",
       "  <thead>\n",
       "    <tr style=\"text-align: right;\">\n",
       "      <th></th>\n",
       "      <th>DateTime4</th>\n",
       "      <th>100일</th>\n",
       "      <th>100시간</th>\n",
       "    </tr>\n",
       "  </thead>\n",
       "  <tbody>\n",
       "    <tr>\n",
       "      <th>0</th>\n",
       "      <td>2024-02-17 11:45:30</td>\n",
       "      <td>2024-05-26 11:45:30</td>\n",
       "      <td>2024-02-21 15:45:30</td>\n",
       "    </tr>\n",
       "    <tr>\n",
       "      <th>1</th>\n",
       "      <td>2024-02-18 12:55:45</td>\n",
       "      <td>2024-05-27 12:55:45</td>\n",
       "      <td>2024-02-22 16:55:45</td>\n",
       "    </tr>\n",
       "    <tr>\n",
       "      <th>2</th>\n",
       "      <td>2024-02-19 13:30:15</td>\n",
       "      <td>2024-05-28 13:30:15</td>\n",
       "      <td>2024-02-23 17:30:15</td>\n",
       "    </tr>\n",
       "  </tbody>\n",
       "</table>\n",
       "</div>"
      ],
      "text/plain": [
       "            DateTime4                100일               100시간\n",
       "0 2024-02-17 11:45:30 2024-05-26 11:45:30 2024-02-21 15:45:30\n",
       "1 2024-02-18 12:55:45 2024-05-27 12:55:45 2024-02-22 16:55:45\n",
       "2 2024-02-19 13:30:15 2024-05-28 13:30:15 2024-02-23 17:30:15"
      ]
     },
     "execution_count": 4,
     "metadata": {},
     "output_type": "execute_result"
    }
   ],
   "source": [
    "# 100시간 이후 \n",
    "hour = pd.Timedelta(hours=100)\n",
    "df['100시간'] = df['DateTime4'] + hour\n",
    "df"
   ]
  },
  {
   "cell_type": "code",
   "execution_count": 5,
   "id": "5ce4757b",
   "metadata": {},
   "outputs": [
    {
     "data": {
      "text/html": [
       "<div>\n",
       "<style scoped>\n",
       "    .dataframe tbody tr th:only-of-type {\n",
       "        vertical-align: middle;\n",
       "    }\n",
       "\n",
       "    .dataframe tbody tr th {\n",
       "        vertical-align: top;\n",
       "    }\n",
       "\n",
       "    .dataframe thead th {\n",
       "        text-align: right;\n",
       "    }\n",
       "</style>\n",
       "<table border=\"1\" class=\"dataframe\">\n",
       "  <thead>\n",
       "    <tr style=\"text-align: right;\">\n",
       "      <th></th>\n",
       "      <th>DateTime4</th>\n",
       "      <th>100일</th>\n",
       "      <th>100시간</th>\n",
       "      <th>+diff</th>\n",
       "      <th>-diff</th>\n",
       "    </tr>\n",
       "  </thead>\n",
       "  <tbody>\n",
       "    <tr>\n",
       "      <th>0</th>\n",
       "      <td>2024-02-17 11:45:30</td>\n",
       "      <td>2024-05-26 11:45:30</td>\n",
       "      <td>2024-02-21 15:45:30</td>\n",
       "      <td>2024-03-12 14:48:33</td>\n",
       "      <td>2024-01-24 08:42:27</td>\n",
       "    </tr>\n",
       "    <tr>\n",
       "      <th>1</th>\n",
       "      <td>2024-02-18 12:55:45</td>\n",
       "      <td>2024-05-27 12:55:45</td>\n",
       "      <td>2024-02-22 16:55:45</td>\n",
       "      <td>2024-03-13 15:58:48</td>\n",
       "      <td>2024-01-25 09:52:42</td>\n",
       "    </tr>\n",
       "    <tr>\n",
       "      <th>2</th>\n",
       "      <td>2024-02-19 13:30:15</td>\n",
       "      <td>2024-05-28 13:30:15</td>\n",
       "      <td>2024-02-23 17:30:15</td>\n",
       "      <td>2024-03-14 16:33:18</td>\n",
       "      <td>2024-01-26 10:27:12</td>\n",
       "    </tr>\n",
       "  </tbody>\n",
       "</table>\n",
       "</div>"
      ],
      "text/plain": [
       "            DateTime4                100일               100시간  \\\n",
       "0 2024-02-17 11:45:30 2024-05-26 11:45:30 2024-02-21 15:45:30   \n",
       "1 2024-02-18 12:55:45 2024-05-27 12:55:45 2024-02-22 16:55:45   \n",
       "2 2024-02-19 13:30:15 2024-05-28 13:30:15 2024-02-23 17:30:15   \n",
       "\n",
       "                +diff               -diff  \n",
       "0 2024-03-12 14:48:33 2024-01-24 08:42:27  \n",
       "1 2024-03-13 15:58:48 2024-01-25 09:52:42  \n",
       "2 2024-03-14 16:33:18 2024-01-26 10:27:12  "
      ]
     },
     "execution_count": 5,
     "metadata": {},
     "output_type": "execute_result"
    }
   ],
   "source": [
    "# 시간 +/- (3주, 3일, 3시간, 3분, 3초 이전과 이후)\n",
    "diff = pd.Timedelta(weeks=3, days=3, hours=3, minutes=3, seconds=3)\n",
    "df['+diff'] = df['DateTime4'] + diff\n",
    "df['-diff'] = df['DateTime4'] - diff\n",
    "df"
   ]
  },
  {
   "cell_type": "code",
   "execution_count": 6,
   "id": "476df99f",
   "metadata": {},
   "outputs": [
    {
     "data": {
      "text/plain": [
       "0   94 days 20:00:00\n",
       "1   94 days 20:00:00\n",
       "2   94 days 20:00:00\n",
       "dtype: timedelta64[ns]"
      ]
     },
     "execution_count": 6,
     "metadata": {},
     "output_type": "execute_result"
    }
   ],
   "source": [
    "# timedelta 자료형(datetime간의 연산 결과)\n",
    "diff = df['100일'] - df['100시간']\n",
    "diff"
   ]
  },
  {
   "cell_type": "code",
   "execution_count": 7,
   "id": "ced614ce",
   "metadata": {},
   "outputs": [
    {
     "name": "stdout",
     "output_type": "stream",
     "text": [
      "0    8193600.0\n",
      "1    8193600.0\n",
      "2    8193600.0\n",
      "dtype: float64\n",
      "0    136560.0\n",
      "1    136560.0\n",
      "2    136560.0\n",
      "dtype: float64\n",
      "0    2276.0\n",
      "1    2276.0\n",
      "2    2276.0\n",
      "dtype: float64\n",
      "0    94.833333\n",
      "1    94.833333\n",
      "2    94.833333\n",
      "dtype: float64\n"
     ]
    }
   ],
   "source": [
    "# 기간을 초로 변환 total_seconds()\n",
    "print(diff.dt.total_seconds())\n",
    "print(diff.dt.total_seconds()/60)\n",
    "print(diff.dt.total_seconds()/60/60)\n",
    "print(diff.dt.total_seconds()/60/60/24)"
   ]
  },
  {
   "cell_type": "code",
   "execution_count": 8,
   "id": "a623ffc5",
   "metadata": {},
   "outputs": [
    {
     "name": "stdout",
     "output_type": "stream",
     "text": [
      "0    94\n",
      "1    94\n",
      "2    94\n",
      "dtype: int64\n",
      "0    72000\n",
      "1    72000\n",
      "2    72000\n",
      "dtype: int64\n",
      "72000\n"
     ]
    }
   ],
   "source": [
    "# 일(days), 초(seconds)\n",
    "print(diff.dt.days)\n",
    "print(diff.dt.seconds)\n",
    "print(20*60*60)"
   ]
  },
  {
   "cell_type": "code",
   "execution_count": 9,
   "id": "9647a6b3",
   "metadata": {},
   "outputs": [
    {
     "data": {
      "text/plain": [
       "5"
      ]
     },
     "execution_count": 9,
     "metadata": {},
     "output_type": "execute_result"
    }
   ],
   "source": [
    "# 반올림 (ex: 5.49분) 30초 이상이면 올림, 30초 미만이면 버림\n",
    "value = 5.49\n",
    "round(value)"
   ]
  },
  {
   "cell_type": "code",
   "execution_count": null,
   "id": "77761e58",
   "metadata": {},
   "outputs": [],
   "source": []
  },
  {
   "cell_type": "code",
   "execution_count": null,
   "id": "28b18af0",
   "metadata": {},
   "outputs": [],
   "source": []
  },
  {
   "cell_type": "code",
   "execution_count": null,
   "id": "83a17deb",
   "metadata": {},
   "outputs": [],
   "source": []
  },
  {
   "cell_type": "code",
   "execution_count": null,
   "id": "494a254c",
   "metadata": {},
   "outputs": [],
   "source": []
  },
  {
   "cell_type": "code",
   "execution_count": null,
   "id": "4e143472",
   "metadata": {},
   "outputs": [],
   "source": []
  }
 ],
 "metadata": {
  "kernelspec": {
   "display_name": "Python 3 (ipykernel)",
   "language": "python",
   "name": "python3"
  },
  "language_info": {
   "codemirror_mode": {
    "name": "ipython",
    "version": 3
   },
   "file_extension": ".py",
   "mimetype": "text/x-python",
   "name": "python",
   "nbconvert_exporter": "python",
   "pygments_lexer": "ipython3",
   "version": "3.9.7"
  }
 },
 "nbformat": 4,
 "nbformat_minor": 5
}
