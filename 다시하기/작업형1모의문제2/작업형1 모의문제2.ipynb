{
 "cells": [
  {
   "cell_type": "markdown",
   "id": "ae2e40e9",
   "metadata": {},
   "source": [
    "# 작업형1 모의문제2\n",
    "- data : members.csv"
   ]
  },
  {
   "cell_type": "markdown",
   "id": "9598cfed",
   "metadata": {},
   "source": [
    "## 문제4\n",
    "- 주어진 데이터에서 자료형(type)이 object인 컬럼은 삭제하고, 결측치는 0으로 대체한다.\n",
    "- 행 단위로 합한 다음 그 값이 3000보다 큰 값의 데이터 수를 구하시오\n",
    "('age', 'f1', 'f2', 'f5', 'views'의 각 행별 합)"
   ]
  },
  {
   "cell_type": "code",
   "execution_count": 22,
   "id": "b64b2cd4",
   "metadata": {},
   "outputs": [
    {
     "name": "stdout",
     "output_type": "stream",
     "text": [
      "73\n"
     ]
    }
   ],
   "source": [
    "import pandas as pd\n",
    "\n",
    "df = pd.read_csv('members.csv')\n",
    "#df.info()\n",
    "# object인 컬럼 삭제 \n",
    "df = df.drop(['id','city','f3','f4','subscribed'], axis=1)\n",
    "\n",
    "# 결측치를 0으로 대체\n",
    "#print(df.isnull().sum())\n",
    "df = df.fillna(0)\n",
    "#print(df.isnull().sum())\n",
    "\n",
    "# 행 단위로 합\n",
    "tdf = df.T\n",
    "result = tdf.sum()\n",
    "\n",
    "# 3000보다 큰 값의 데이터 수\n",
    "cond = result > 3000\n",
    "print(cond.sum())"
   ]
  },
  {
   "cell_type": "markdown",
   "id": "185d77e0",
   "metadata": {},
   "source": [
    "## 문제5\n",
    "- 데이터에서 IQR을 활용해 views 컬럼의 이상치를 찾고, 이상치 데이터의 수를 구하시오"
   ]
  },
  {
   "cell_type": "code",
   "execution_count": 49,
   "id": "3601bb41",
   "metadata": {},
   "outputs": [
    {
     "name": "stdout",
     "output_type": "stream",
     "text": [
      "4\n"
     ]
    }
   ],
   "source": [
    "import pandas as pd\n",
    "\n",
    "df = pd.read_csv('members.csv')\n",
    "q1 = df['views'].quantile(.25)\n",
    "q3 = df['views'].quantile(.75)\n",
    "IQR = q3 - q1\n",
    "line1 = q1 - 1.5 * IQR\n",
    "line2 = q3 + 1.5 * IQR\n",
    "\n",
    "print(sum(df['views'] < line1)+ sum(df['views'] > line2))"
   ]
  },
  {
   "cell_type": "markdown",
   "id": "3649647c",
   "metadata": {},
   "source": [
    "## 문제6\n",
    "- 'age' 컬럼의 이상치(소수점 나이와 음수나이, 0포함)를 제거하고\n",
    "- 제거 전 후의 views 컬럼 표준편차를 더하시오 (최종 결과 값은 소수 둘째자리까지 출력, 셋째자리에서 반올림)"
   ]
  },
  {
   "cell_type": "code",
   "execution_count": 62,
   "id": "55d927e4",
   "metadata": {},
   "outputs": [
    {
     "name": "stdout",
     "output_type": "stream",
     "text": [
      "4170.860768106485\n"
     ]
    }
   ],
   "source": [
    "import pandas as pd\n",
    "\n",
    "df = pd.read_csv('members.csv')\n",
    "\n",
    "r1 = df['views'].std()\n",
    "cond1 = df['age'] <= 0\n",
    "df[~cond1]\n",
    "\n",
    "cond2 = df['age'] == round(df['age'],0)\n",
    "df[cond2]\n",
    "\n",
    "r2 = df['views'].std()\n",
    "\n",
    "print(round(r1 + r2,))"
   ]
  },
  {
   "cell_type": "code",
   "execution_count": null,
   "id": "17c4fe60",
   "metadata": {},
   "outputs": [],
   "source": []
  },
  {
   "cell_type": "code",
   "execution_count": null,
   "id": "7ebfb2cb",
   "metadata": {},
   "outputs": [],
   "source": []
  }
 ],
 "metadata": {
  "kernelspec": {
   "display_name": "Python 3 (ipykernel)",
   "language": "python",
   "name": "python3"
  },
  "language_info": {
   "codemirror_mode": {
    "name": "ipython",
    "version": 3
   },
   "file_extension": ".py",
   "mimetype": "text/x-python",
   "name": "python",
   "nbconvert_exporter": "python",
   "pygments_lexer": "ipython3",
   "version": "3.9.7"
  }
 },
 "nbformat": 4,
 "nbformat_minor": 5
}
