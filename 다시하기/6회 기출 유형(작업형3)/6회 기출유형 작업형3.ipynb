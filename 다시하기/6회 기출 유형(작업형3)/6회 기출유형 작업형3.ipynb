{
 "cells": [
  {
   "cell_type": "markdown",
   "id": "f7f17bf1",
   "metadata": {},
   "source": [
    "### Q1. 항암약 위약을 투여 받은 환자의 부작용은 감기약 위약을 투여 받은 환자의 부작용 분포와 차이가 있는가?"
   ]
  },
  {
   "cell_type": "code",
   "execution_count": 1,
   "id": "0aa8e61f",
   "metadata": {},
   "outputs": [],
   "source": [
    "import pandas as pd\n",
    "df = pd.DataFrame({ \"항암약\":[4,4,3,4,1,4,1,4,1,4,4,2,1,4,2,3,2,4,4,4] })\n",
    "# 1: '아픔', 2: '조금 아픔', 3: '속쓰림', 4: '무증상'"
   ]
  },
  {
   "cell_type": "markdown",
   "id": "9e0b9ec4",
   "metadata": {},
   "source": [
    "감기약(위약)을 투여받은 환자들 중의 알려진 부작용 발생 비율"
   ]
  },
  {
   "cell_type": "code",
   "execution_count": null,
   "id": "db90eafe",
   "metadata": {},
   "outputs": [],
   "source": [
    "# 1. 아픔: 10%\n",
    "# 2. 조금 아픔 5%\n",
    "# 3. 속 쓰림 15%\n",
    "# 4. 무증상: 70%"
   ]
  },
  {
   "cell_type": "markdown",
   "id": "bf5b43bb",
   "metadata": {},
   "source": [
    "-\t귀무가설(H0): 감기약(위약)의 부작용과 항암약(위약)의 부작용은 동일하다.\n",
    "- \t대립가설(H1): 감기약(위약)의 부작용과 항암약(위약)의 부작용은 다르다."
   ]
  },
  {
   "cell_type": "markdown",
   "id": "a039ccbd",
   "metadata": {},
   "source": [
    " ### 1-1. 항암약을 투여 받은 환자 중 '무증상'의 비율을 0과 1사이로 구하시오."
   ]
  },
  {
   "cell_type": "code",
   "execution_count": 4,
   "id": "5074adca",
   "metadata": {},
   "outputs": [
    {
     "data": {
      "text/plain": [
       "0.55"
      ]
     },
     "execution_count": 4,
     "metadata": {},
     "output_type": "execute_result"
    }
   ],
   "source": [
    "cond = df['항암약'] == 4\n",
    "sum(cond) / len(df['항암약'])"
   ]
  },
  {
   "cell_type": "code",
   "execution_count": 6,
   "id": "ab1f08a5",
   "metadata": {},
   "outputs": [
    {
     "data": {
      "text/plain": [
       "4    0.55\n",
       "1    0.20\n",
       "2    0.15\n",
       "3    0.10\n",
       "Name: 항암약, dtype: float64"
      ]
     },
     "execution_count": 6,
     "metadata": {},
     "output_type": "execute_result"
    }
   ],
   "source": [
    "df['항암약'].value_counts(normalize=True)"
   ]
  },
  {
   "cell_type": "markdown",
   "id": "41b404e4",
   "metadata": {},
   "source": [
    "### 1-2. 감기약의 예상 부작용 비율과 항암약의 부작용 관찰값이 통계적으로 유의미하게 차이가 있는지 확인하려 한다. 카이 제곱 검정을 사용하여 검정 통계량을 구하시오."
   ]
  },
  {
   "cell_type": "code",
   "execution_count": 12,
   "id": "e1db4a01",
   "metadata": {},
   "outputs": [
    {
     "data": {
      "text/plain": [
       "Power_divergenceResult(statistic=6.976190476190476, pvalue=0.07266054733847573)"
      ]
     },
     "execution_count": 12,
     "metadata": {},
     "output_type": "execute_result"
    }
   ],
   "source": [
    "ob = df['항암약'].value_counts().sort_index().to_list() # 관찰 빈도수\n",
    "ex = [0.1 * 20, 0.05 * 20, 0.15 * 20, 0.7 * 20] # 기대 빈도수\n",
    "\n",
    "\n",
    "from scipy import stats\n",
    "stats.chisquare(ob, ex)"
   ]
  },
  {
   "cell_type": "code",
   "execution_count": null,
   "id": "ea396344",
   "metadata": {},
   "outputs": [],
   "source": []
  },
  {
   "cell_type": "markdown",
   "id": "5097f150",
   "metadata": {},
   "source": [
    "### 1-3. 위의 p-값을 구하시오"
   ]
  },
  {
   "cell_type": "code",
   "execution_count": null,
   "id": "74a86d68",
   "metadata": {},
   "outputs": [],
   "source": []
  },
  {
   "cell_type": "code",
   "execution_count": null,
   "id": "01725f02",
   "metadata": {},
   "outputs": [],
   "source": []
  },
  {
   "cell_type": "code",
   "execution_count": null,
   "id": "0a8db287",
   "metadata": {},
   "outputs": [],
   "source": []
  },
  {
   "cell_type": "code",
   "execution_count": null,
   "id": "f87f4507",
   "metadata": {},
   "outputs": [],
   "source": []
  },
  {
   "cell_type": "code",
   "execution_count": null,
   "id": "66cb5b60",
   "metadata": {},
   "outputs": [],
   "source": []
  }
 ],
 "metadata": {
  "kernelspec": {
   "display_name": "Python 3 (ipykernel)",
   "language": "python",
   "name": "python3"
  },
  "language_info": {
   "codemirror_mode": {
    "name": "ipython",
    "version": 3
   },
   "file_extension": ".py",
   "mimetype": "text/x-python",
   "name": "python",
   "nbconvert_exporter": "python",
   "pygments_lexer": "ipython3",
   "version": "3.9.7"
  }
 },
 "nbformat": 4,
 "nbformat_minor": 5
}
