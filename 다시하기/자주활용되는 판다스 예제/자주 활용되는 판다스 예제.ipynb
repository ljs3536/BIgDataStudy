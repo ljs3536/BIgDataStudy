{
 "cells": [
  {
   "cell_type": "markdown",
   "id": "fb0fccac",
   "metadata": {},
   "source": [
    "# 자주 활용되는 판다스 예제"
   ]
  },
  {
   "cell_type": "code",
   "execution_count": 1,
   "id": "88696b2f",
   "metadata": {},
   "outputs": [],
   "source": [
    "# 학습 전 실행: csv파일 (data.csv) 생성\n",
    "import pandas as pd\n",
    "import numpy as np\n",
    "data = {\n",
    "    \"메뉴\":['아메리카노','카페라떼','카페모카', '바닐라라떼', '녹차', '초코라떼', '바닐라콜드브루'],\n",
    "    \"가격\":[4100, 4600, 4600, 5100, 4100, 5000, 5100],\n",
    "    \"할인율\":[0.5, 0.1, 0.2, 0.3, 0, 0, 0],\n",
    "    \"칼로리\":[10, 180, 420, 320, 20, 500, 400],\n",
    "    \"원두\":['콜롬비아', np.NaN, '과테말라', np.NaN, '한국', '콜롬비아', np.NaN],\n",
    "    \"이벤트가\":[1900, 2300, np.NaN, 2600, np.NaN, 3000, 3200],\n",
    "}\n",
    "data = pd.DataFrame(data)\n",
    "data.to_csv('data.csv', index=False)"
   ]
  },
  {
   "cell_type": "code",
   "execution_count": 2,
   "id": "ea66a470",
   "metadata": {},
   "outputs": [
    {
     "data": {
      "text/html": [
       "<div>\n",
       "<style scoped>\n",
       "    .dataframe tbody tr th:only-of-type {\n",
       "        vertical-align: middle;\n",
       "    }\n",
       "\n",
       "    .dataframe tbody tr th {\n",
       "        vertical-align: top;\n",
       "    }\n",
       "\n",
       "    .dataframe thead th {\n",
       "        text-align: right;\n",
       "    }\n",
       "</style>\n",
       "<table border=\"1\" class=\"dataframe\">\n",
       "  <thead>\n",
       "    <tr style=\"text-align: right;\">\n",
       "      <th></th>\n",
       "      <th>메뉴</th>\n",
       "      <th>가격</th>\n",
       "      <th>할인율</th>\n",
       "      <th>칼로리</th>\n",
       "      <th>원두</th>\n",
       "      <th>이벤트가</th>\n",
       "    </tr>\n",
       "  </thead>\n",
       "  <tbody>\n",
       "    <tr>\n",
       "      <th>0</th>\n",
       "      <td>아메리카노</td>\n",
       "      <td>4100</td>\n",
       "      <td>0.5</td>\n",
       "      <td>10</td>\n",
       "      <td>콜롬비아</td>\n",
       "      <td>1900.0</td>\n",
       "    </tr>\n",
       "    <tr>\n",
       "      <th>1</th>\n",
       "      <td>카페라떼</td>\n",
       "      <td>4600</td>\n",
       "      <td>0.1</td>\n",
       "      <td>180</td>\n",
       "      <td>NaN</td>\n",
       "      <td>2300.0</td>\n",
       "    </tr>\n",
       "    <tr>\n",
       "      <th>2</th>\n",
       "      <td>카페모카</td>\n",
       "      <td>4600</td>\n",
       "      <td>0.2</td>\n",
       "      <td>420</td>\n",
       "      <td>과테말라</td>\n",
       "      <td>NaN</td>\n",
       "    </tr>\n",
       "    <tr>\n",
       "      <th>3</th>\n",
       "      <td>바닐라라떼</td>\n",
       "      <td>5100</td>\n",
       "      <td>0.3</td>\n",
       "      <td>320</td>\n",
       "      <td>NaN</td>\n",
       "      <td>2600.0</td>\n",
       "    </tr>\n",
       "    <tr>\n",
       "      <th>4</th>\n",
       "      <td>녹차</td>\n",
       "      <td>4100</td>\n",
       "      <td>0.0</td>\n",
       "      <td>20</td>\n",
       "      <td>한국</td>\n",
       "      <td>NaN</td>\n",
       "    </tr>\n",
       "    <tr>\n",
       "      <th>5</th>\n",
       "      <td>초코라떼</td>\n",
       "      <td>5000</td>\n",
       "      <td>0.0</td>\n",
       "      <td>500</td>\n",
       "      <td>콜롬비아</td>\n",
       "      <td>3000.0</td>\n",
       "    </tr>\n",
       "    <tr>\n",
       "      <th>6</th>\n",
       "      <td>바닐라콜드브루</td>\n",
       "      <td>5100</td>\n",
       "      <td>0.0</td>\n",
       "      <td>400</td>\n",
       "      <td>NaN</td>\n",
       "      <td>3200.0</td>\n",
       "    </tr>\n",
       "  </tbody>\n",
       "</table>\n",
       "</div>"
      ],
      "text/plain": [
       "        메뉴    가격  할인율  칼로리    원두    이벤트가\n",
       "0    아메리카노  4100  0.5   10  콜롬비아  1900.0\n",
       "1     카페라떼  4600  0.1  180   NaN  2300.0\n",
       "2     카페모카  4600  0.2  420  과테말라     NaN\n",
       "3    바닐라라떼  5100  0.3  320   NaN  2600.0\n",
       "4       녹차  4100  0.0   20    한국     NaN\n",
       "5     초코라떼  5000  0.0  500  콜롬비아  3000.0\n",
       "6  바닐라콜드브루  5100  0.0  400   NaN  3200.0"
      ]
     },
     "execution_count": 2,
     "metadata": {},
     "output_type": "execute_result"
    }
   ],
   "source": [
    "# 데이터 불러오기\n",
    "df = pd.read_csv('data.csv')\n",
    "df"
   ]
  },
  {
   "cell_type": "markdown",
   "id": "78ea49cc",
   "metadata": {},
   "source": [
    "## 조건 핉터"
   ]
  },
  {
   "cell_type": "code",
   "execution_count": 4,
   "id": "9d8adea1",
   "metadata": {},
   "outputs": [
    {
     "data": {
      "text/html": [
       "<div>\n",
       "<style scoped>\n",
       "    .dataframe tbody tr th:only-of-type {\n",
       "        vertical-align: middle;\n",
       "    }\n",
       "\n",
       "    .dataframe tbody tr th {\n",
       "        vertical-align: top;\n",
       "    }\n",
       "\n",
       "    .dataframe thead th {\n",
       "        text-align: right;\n",
       "    }\n",
       "</style>\n",
       "<table border=\"1\" class=\"dataframe\">\n",
       "  <thead>\n",
       "    <tr style=\"text-align: right;\">\n",
       "      <th></th>\n",
       "      <th>메뉴</th>\n",
       "      <th>가격</th>\n",
       "      <th>할인율</th>\n",
       "      <th>칼로리</th>\n",
       "      <th>원두</th>\n",
       "      <th>이벤트가</th>\n",
       "    </tr>\n",
       "  </thead>\n",
       "  <tbody>\n",
       "    <tr>\n",
       "      <th>0</th>\n",
       "      <td>아메리카노</td>\n",
       "      <td>4100</td>\n",
       "      <td>0.5</td>\n",
       "      <td>10</td>\n",
       "      <td>콜롬비아</td>\n",
       "      <td>1900.0</td>\n",
       "    </tr>\n",
       "    <tr>\n",
       "      <th>3</th>\n",
       "      <td>바닐라라떼</td>\n",
       "      <td>5100</td>\n",
       "      <td>0.3</td>\n",
       "      <td>320</td>\n",
       "      <td>NaN</td>\n",
       "      <td>2600.0</td>\n",
       "    </tr>\n",
       "  </tbody>\n",
       "</table>\n",
       "</div>"
      ],
      "text/plain": [
       "      메뉴    가격  할인율  칼로리    원두    이벤트가\n",
       "0  아메리카노  4100  0.5   10  콜롬비아  1900.0\n",
       "3  바닐라라떼  5100  0.3  320   NaN  2600.0"
      ]
     },
     "execution_count": 4,
     "metadata": {},
     "output_type": "execute_result"
    }
   ],
   "source": [
    "# 1개 조건\n",
    "# 할인율 > 0.2\n",
    "cond = df['할인율'] > 0.2\n",
    "df[cond]"
   ]
  },
  {
   "cell_type": "code",
   "execution_count": 5,
   "id": "7e61f9cb",
   "metadata": {},
   "outputs": [
    {
     "data": {
      "text/html": [
       "<div>\n",
       "<style scoped>\n",
       "    .dataframe tbody tr th:only-of-type {\n",
       "        vertical-align: middle;\n",
       "    }\n",
       "\n",
       "    .dataframe tbody tr th {\n",
       "        vertical-align: top;\n",
       "    }\n",
       "\n",
       "    .dataframe thead th {\n",
       "        text-align: right;\n",
       "    }\n",
       "</style>\n",
       "<table border=\"1\" class=\"dataframe\">\n",
       "  <thead>\n",
       "    <tr style=\"text-align: right;\">\n",
       "      <th></th>\n",
       "      <th>메뉴</th>\n",
       "      <th>가격</th>\n",
       "      <th>할인율</th>\n",
       "      <th>칼로리</th>\n",
       "      <th>원두</th>\n",
       "      <th>이벤트가</th>\n",
       "    </tr>\n",
       "  </thead>\n",
       "  <tbody>\n",
       "    <tr>\n",
       "      <th>0</th>\n",
       "      <td>아메리카노</td>\n",
       "      <td>4100</td>\n",
       "      <td>0.5</td>\n",
       "      <td>10</td>\n",
       "      <td>콜롬비아</td>\n",
       "      <td>1900.0</td>\n",
       "    </tr>\n",
       "    <tr>\n",
       "      <th>3</th>\n",
       "      <td>바닐라라떼</td>\n",
       "      <td>5100</td>\n",
       "      <td>0.3</td>\n",
       "      <td>320</td>\n",
       "      <td>NaN</td>\n",
       "      <td>2600.0</td>\n",
       "    </tr>\n",
       "  </tbody>\n",
       "</table>\n",
       "</div>"
      ],
      "text/plain": [
       "      메뉴    가격  할인율  칼로리    원두    이벤트가\n",
       "0  아메리카노  4100  0.5   10  콜롬비아  1900.0\n",
       "3  바닐라라떼  5100  0.3  320   NaN  2600.0"
      ]
     },
     "execution_count": 5,
     "metadata": {},
     "output_type": "execute_result"
    }
   ],
   "source": [
    "# 2개 이상 일 때 (AND)\n",
    "# 할인율 >= 0.2\n",
    "# 칼로리 < 400\n",
    "cond1 = df['할인율'] >= 0.2\n",
    "cond2 = df['칼로리'] < 400\n",
    "df[cond1 & cond2]"
   ]
  },
  {
   "cell_type": "code",
   "execution_count": 6,
   "id": "0c2db009",
   "metadata": {},
   "outputs": [
    {
     "data": {
      "text/html": [
       "<div>\n",
       "<style scoped>\n",
       "    .dataframe tbody tr th:only-of-type {\n",
       "        vertical-align: middle;\n",
       "    }\n",
       "\n",
       "    .dataframe tbody tr th {\n",
       "        vertical-align: top;\n",
       "    }\n",
       "\n",
       "    .dataframe thead th {\n",
       "        text-align: right;\n",
       "    }\n",
       "</style>\n",
       "<table border=\"1\" class=\"dataframe\">\n",
       "  <thead>\n",
       "    <tr style=\"text-align: right;\">\n",
       "      <th></th>\n",
       "      <th>메뉴</th>\n",
       "      <th>가격</th>\n",
       "      <th>할인율</th>\n",
       "      <th>칼로리</th>\n",
       "      <th>원두</th>\n",
       "      <th>이벤트가</th>\n",
       "    </tr>\n",
       "  </thead>\n",
       "  <tbody>\n",
       "    <tr>\n",
       "      <th>0</th>\n",
       "      <td>아메리카노</td>\n",
       "      <td>4100</td>\n",
       "      <td>0.5</td>\n",
       "      <td>10</td>\n",
       "      <td>콜롬비아</td>\n",
       "      <td>1900.0</td>\n",
       "    </tr>\n",
       "    <tr>\n",
       "      <th>1</th>\n",
       "      <td>카페라떼</td>\n",
       "      <td>4600</td>\n",
       "      <td>0.1</td>\n",
       "      <td>180</td>\n",
       "      <td>NaN</td>\n",
       "      <td>2300.0</td>\n",
       "    </tr>\n",
       "    <tr>\n",
       "      <th>2</th>\n",
       "      <td>카페모카</td>\n",
       "      <td>4600</td>\n",
       "      <td>0.2</td>\n",
       "      <td>420</td>\n",
       "      <td>과테말라</td>\n",
       "      <td>NaN</td>\n",
       "    </tr>\n",
       "    <tr>\n",
       "      <th>3</th>\n",
       "      <td>바닐라라떼</td>\n",
       "      <td>5100</td>\n",
       "      <td>0.3</td>\n",
       "      <td>320</td>\n",
       "      <td>NaN</td>\n",
       "      <td>2600.0</td>\n",
       "    </tr>\n",
       "    <tr>\n",
       "      <th>4</th>\n",
       "      <td>녹차</td>\n",
       "      <td>4100</td>\n",
       "      <td>0.0</td>\n",
       "      <td>20</td>\n",
       "      <td>한국</td>\n",
       "      <td>NaN</td>\n",
       "    </tr>\n",
       "  </tbody>\n",
       "</table>\n",
       "</div>"
      ],
      "text/plain": [
       "      메뉴    가격  할인율  칼로리    원두    이벤트가\n",
       "0  아메리카노  4100  0.5   10  콜롬비아  1900.0\n",
       "1   카페라떼  4600  0.1  180   NaN  2300.0\n",
       "2   카페모카  4600  0.2  420  과테말라     NaN\n",
       "3  바닐라라떼  5100  0.3  320   NaN  2600.0\n",
       "4     녹차  4100  0.0   20    한국     NaN"
      ]
     },
     "execution_count": 6,
     "metadata": {},
     "output_type": "execute_result"
    }
   ],
   "source": [
    "# 2개 이상 일 때 (OR)\n",
    "# 할인율 >= 0.2\n",
    "# 칼로리 < 400\n",
    "df[cond1 | cond2]"
   ]
  },
  {
   "cell_type": "code",
   "execution_count": 7,
   "id": "6f8e9693",
   "metadata": {},
   "outputs": [
    {
     "data": {
      "text/html": [
       "<div>\n",
       "<style scoped>\n",
       "    .dataframe tbody tr th:only-of-type {\n",
       "        vertical-align: middle;\n",
       "    }\n",
       "\n",
       "    .dataframe tbody tr th {\n",
       "        vertical-align: top;\n",
       "    }\n",
       "\n",
       "    .dataframe thead th {\n",
       "        text-align: right;\n",
       "    }\n",
       "</style>\n",
       "<table border=\"1\" class=\"dataframe\">\n",
       "  <thead>\n",
       "    <tr style=\"text-align: right;\">\n",
       "      <th></th>\n",
       "      <th>메뉴</th>\n",
       "      <th>가격</th>\n",
       "      <th>할인율</th>\n",
       "      <th>칼로리</th>\n",
       "      <th>원두</th>\n",
       "      <th>이벤트가</th>\n",
       "    </tr>\n",
       "  </thead>\n",
       "  <tbody>\n",
       "    <tr>\n",
       "      <th>0</th>\n",
       "      <td>아메리카노</td>\n",
       "      <td>4100</td>\n",
       "      <td>0.5</td>\n",
       "      <td>10</td>\n",
       "      <td>콜롬비아</td>\n",
       "      <td>1900.0</td>\n",
       "    </tr>\n",
       "    <tr>\n",
       "      <th>5</th>\n",
       "      <td>초코라떼</td>\n",
       "      <td>5000</td>\n",
       "      <td>0.0</td>\n",
       "      <td>500</td>\n",
       "      <td>콜롬비아</td>\n",
       "      <td>3000.0</td>\n",
       "    </tr>\n",
       "  </tbody>\n",
       "</table>\n",
       "</div>"
      ],
      "text/plain": [
       "      메뉴    가격  할인율  칼로리    원두    이벤트가\n",
       "0  아메리카노  4100  0.5   10  콜롬비아  1900.0\n",
       "5   초코라떼  5000  0.0  500  콜롬비아  3000.0"
      ]
     },
     "execution_count": 7,
     "metadata": {},
     "output_type": "execute_result"
    }
   ],
   "source": [
    "# 문자열 1개 조건\n",
    "# 원두 == 콜롬비아\n",
    "cond3 = df['원두'] == '콜롬비아'\n",
    "df[cond3]"
   ]
  },
  {
   "cell_type": "code",
   "execution_count": 8,
   "id": "29b1c37f",
   "metadata": {},
   "outputs": [
    {
     "data": {
      "text/html": [
       "<div>\n",
       "<style scoped>\n",
       "    .dataframe tbody tr th:only-of-type {\n",
       "        vertical-align: middle;\n",
       "    }\n",
       "\n",
       "    .dataframe tbody tr th {\n",
       "        vertical-align: top;\n",
       "    }\n",
       "\n",
       "    .dataframe thead th {\n",
       "        text-align: right;\n",
       "    }\n",
       "</style>\n",
       "<table border=\"1\" class=\"dataframe\">\n",
       "  <thead>\n",
       "    <tr style=\"text-align: right;\">\n",
       "      <th></th>\n",
       "      <th>메뉴</th>\n",
       "      <th>가격</th>\n",
       "      <th>할인율</th>\n",
       "      <th>칼로리</th>\n",
       "      <th>원두</th>\n",
       "      <th>이벤트가</th>\n",
       "    </tr>\n",
       "  </thead>\n",
       "  <tbody>\n",
       "    <tr>\n",
       "      <th>0</th>\n",
       "      <td>아메리카노</td>\n",
       "      <td>4100</td>\n",
       "      <td>0.5</td>\n",
       "      <td>10</td>\n",
       "      <td>콜롬비아</td>\n",
       "      <td>1900.0</td>\n",
       "    </tr>\n",
       "  </tbody>\n",
       "</table>\n",
       "</div>"
      ],
      "text/plain": [
       "      메뉴    가격  할인율  칼로리    원두    이벤트가\n",
       "0  아메리카노  4100  0.5   10  콜롬비아  1900.0"
      ]
     },
     "execution_count": 8,
     "metadata": {},
     "output_type": "execute_result"
    }
   ],
   "source": [
    "# 문자열과 숫자 조건 (AND)\n",
    "# 원두 == 콜롬비아\n",
    "# 가격 < 4500\n",
    "cond1 = df['원두'] == '콜롬비아'\n",
    "cond2 = df['가격'] < 4500\n",
    "df[cond1 & cond2]"
   ]
  },
  {
   "cell_type": "markdown",
   "id": "deaa1fc6",
   "metadata": {},
   "source": [
    "## 결측치"
   ]
  },
  {
   "cell_type": "code",
   "execution_count": 10,
   "id": "bee8bace",
   "metadata": {},
   "outputs": [
    {
     "data": {
      "text/plain": [
       "메뉴      0\n",
       "가격      0\n",
       "할인율     0\n",
       "칼로리     0\n",
       "원두      3\n",
       "이벤트가    2\n",
       "dtype: int64"
      ]
     },
     "execution_count": 10,
     "metadata": {},
     "output_type": "execute_result"
    }
   ],
   "source": [
    "# 컬럼별 결측치 확인\n",
    "df.isnull().sum()"
   ]
  },
  {
   "cell_type": "code",
   "execution_count": 11,
   "id": "7de9a091",
   "metadata": {},
   "outputs": [
    {
     "data": {
      "text/html": [
       "<div>\n",
       "<style scoped>\n",
       "    .dataframe tbody tr th:only-of-type {\n",
       "        vertical-align: middle;\n",
       "    }\n",
       "\n",
       "    .dataframe tbody tr th {\n",
       "        vertical-align: top;\n",
       "    }\n",
       "\n",
       "    .dataframe thead th {\n",
       "        text-align: right;\n",
       "    }\n",
       "</style>\n",
       "<table border=\"1\" class=\"dataframe\">\n",
       "  <thead>\n",
       "    <tr style=\"text-align: right;\">\n",
       "      <th></th>\n",
       "      <th>메뉴</th>\n",
       "      <th>가격</th>\n",
       "      <th>할인율</th>\n",
       "      <th>칼로리</th>\n",
       "      <th>원두</th>\n",
       "      <th>이벤트가</th>\n",
       "    </tr>\n",
       "  </thead>\n",
       "  <tbody>\n",
       "    <tr>\n",
       "      <th>0</th>\n",
       "      <td>아메리카노</td>\n",
       "      <td>4100</td>\n",
       "      <td>0.5</td>\n",
       "      <td>10</td>\n",
       "      <td>콜롬비아</td>\n",
       "      <td>1900.0</td>\n",
       "    </tr>\n",
       "    <tr>\n",
       "      <th>1</th>\n",
       "      <td>카페라떼</td>\n",
       "      <td>4600</td>\n",
       "      <td>0.1</td>\n",
       "      <td>180</td>\n",
       "      <td>코스타리카</td>\n",
       "      <td>2300.0</td>\n",
       "    </tr>\n",
       "    <tr>\n",
       "      <th>2</th>\n",
       "      <td>카페모카</td>\n",
       "      <td>4600</td>\n",
       "      <td>0.2</td>\n",
       "      <td>420</td>\n",
       "      <td>과테말라</td>\n",
       "      <td>NaN</td>\n",
       "    </tr>\n",
       "    <tr>\n",
       "      <th>3</th>\n",
       "      <td>바닐라라떼</td>\n",
       "      <td>5100</td>\n",
       "      <td>0.3</td>\n",
       "      <td>320</td>\n",
       "      <td>코스타리카</td>\n",
       "      <td>2600.0</td>\n",
       "    </tr>\n",
       "    <tr>\n",
       "      <th>4</th>\n",
       "      <td>녹차</td>\n",
       "      <td>4100</td>\n",
       "      <td>0.0</td>\n",
       "      <td>20</td>\n",
       "      <td>한국</td>\n",
       "      <td>NaN</td>\n",
       "    </tr>\n",
       "    <tr>\n",
       "      <th>5</th>\n",
       "      <td>초코라떼</td>\n",
       "      <td>5000</td>\n",
       "      <td>0.0</td>\n",
       "      <td>500</td>\n",
       "      <td>콜롬비아</td>\n",
       "      <td>3000.0</td>\n",
       "    </tr>\n",
       "    <tr>\n",
       "      <th>6</th>\n",
       "      <td>바닐라콜드브루</td>\n",
       "      <td>5100</td>\n",
       "      <td>0.0</td>\n",
       "      <td>400</td>\n",
       "      <td>코스타리카</td>\n",
       "      <td>3200.0</td>\n",
       "    </tr>\n",
       "  </tbody>\n",
       "</table>\n",
       "</div>"
      ],
      "text/plain": [
       "        메뉴    가격  할인율  칼로리     원두    이벤트가\n",
       "0    아메리카노  4100  0.5   10   콜롬비아  1900.0\n",
       "1     카페라떼  4600  0.1  180  코스타리카  2300.0\n",
       "2     카페모카  4600  0.2  420   과테말라     NaN\n",
       "3    바닐라라떼  5100  0.3  320  코스타리카  2600.0\n",
       "4       녹차  4100  0.0   20     한국     NaN\n",
       "5     초코라떼  5000  0.0  500   콜롬비아  3000.0\n",
       "6  바닐라콜드브루  5100  0.0  400  코스타리카  3200.0"
      ]
     },
     "execution_count": 11,
     "metadata": {},
     "output_type": "execute_result"
    }
   ],
   "source": [
    "# 결측값 채우기\n",
    "# 원두 -> 코스타리카로 채우기\n",
    "df['원두'] = df['원두'].fillna('코스타리카')\n",
    "df"
   ]
  },
  {
   "cell_type": "code",
   "execution_count": 12,
   "id": "806b8f51",
   "metadata": {},
   "outputs": [
    {
     "data": {
      "text/html": [
       "<div>\n",
       "<style scoped>\n",
       "    .dataframe tbody tr th:only-of-type {\n",
       "        vertical-align: middle;\n",
       "    }\n",
       "\n",
       "    .dataframe tbody tr th {\n",
       "        vertical-align: top;\n",
       "    }\n",
       "\n",
       "    .dataframe thead th {\n",
       "        text-align: right;\n",
       "    }\n",
       "</style>\n",
       "<table border=\"1\" class=\"dataframe\">\n",
       "  <thead>\n",
       "    <tr style=\"text-align: right;\">\n",
       "      <th></th>\n",
       "      <th>메뉴</th>\n",
       "      <th>가격</th>\n",
       "      <th>할인율</th>\n",
       "      <th>칼로리</th>\n",
       "      <th>원두</th>\n",
       "      <th>이벤트가</th>\n",
       "    </tr>\n",
       "  </thead>\n",
       "  <tbody>\n",
       "    <tr>\n",
       "      <th>0</th>\n",
       "      <td>아메리카노</td>\n",
       "      <td>4100</td>\n",
       "      <td>0.5</td>\n",
       "      <td>10</td>\n",
       "      <td>콜롬비아</td>\n",
       "      <td>1900.0</td>\n",
       "    </tr>\n",
       "    <tr>\n",
       "      <th>1</th>\n",
       "      <td>카페라떼</td>\n",
       "      <td>4600</td>\n",
       "      <td>0.1</td>\n",
       "      <td>180</td>\n",
       "      <td>코스타리카</td>\n",
       "      <td>2300.0</td>\n",
       "    </tr>\n",
       "    <tr>\n",
       "      <th>2</th>\n",
       "      <td>카페모카</td>\n",
       "      <td>4600</td>\n",
       "      <td>0.2</td>\n",
       "      <td>420</td>\n",
       "      <td>과테말라</td>\n",
       "      <td>1900.0</td>\n",
       "    </tr>\n",
       "    <tr>\n",
       "      <th>3</th>\n",
       "      <td>바닐라라떼</td>\n",
       "      <td>5100</td>\n",
       "      <td>0.3</td>\n",
       "      <td>320</td>\n",
       "      <td>코스타리카</td>\n",
       "      <td>2600.0</td>\n",
       "    </tr>\n",
       "    <tr>\n",
       "      <th>4</th>\n",
       "      <td>녹차</td>\n",
       "      <td>4100</td>\n",
       "      <td>0.0</td>\n",
       "      <td>20</td>\n",
       "      <td>한국</td>\n",
       "      <td>1900.0</td>\n",
       "    </tr>\n",
       "    <tr>\n",
       "      <th>5</th>\n",
       "      <td>초코라떼</td>\n",
       "      <td>5000</td>\n",
       "      <td>0.0</td>\n",
       "      <td>500</td>\n",
       "      <td>콜롬비아</td>\n",
       "      <td>3000.0</td>\n",
       "    </tr>\n",
       "    <tr>\n",
       "      <th>6</th>\n",
       "      <td>바닐라콜드브루</td>\n",
       "      <td>5100</td>\n",
       "      <td>0.0</td>\n",
       "      <td>400</td>\n",
       "      <td>코스타리카</td>\n",
       "      <td>3200.0</td>\n",
       "    </tr>\n",
       "  </tbody>\n",
       "</table>\n",
       "</div>"
      ],
      "text/plain": [
       "        메뉴    가격  할인율  칼로리     원두    이벤트가\n",
       "0    아메리카노  4100  0.5   10   콜롬비아  1900.0\n",
       "1     카페라떼  4600  0.1  180  코스타리카  2300.0\n",
       "2     카페모카  4600  0.2  420   과테말라  1900.0\n",
       "3    바닐라라떼  5100  0.3  320  코스타리카  2600.0\n",
       "4       녹차  4100  0.0   20     한국  1900.0\n",
       "5     초코라떼  5000  0.0  500   콜롬비아  3000.0\n",
       "6  바닐라콜드브루  5100  0.0  400  코스타리카  3200.0"
      ]
     },
     "execution_count": 12,
     "metadata": {},
     "output_type": "execute_result"
    }
   ],
   "source": [
    "# '이벤트가' 컬럼 결측치는 1900으로 결측치 채움\n",
    "df['이벤트가'] = df['이벤트가'].fillna(1900)\n",
    "df"
   ]
  },
  {
   "cell_type": "markdown",
   "id": "f35fa7d8",
   "metadata": {},
   "source": [
    "## 값 변경"
   ]
  },
  {
   "cell_type": "code",
   "execution_count": 16,
   "id": "58d86b28",
   "metadata": {},
   "outputs": [
    {
     "data": {
      "text/html": [
       "<div>\n",
       "<style scoped>\n",
       "    .dataframe tbody tr th:only-of-type {\n",
       "        vertical-align: middle;\n",
       "    }\n",
       "\n",
       "    .dataframe tbody tr th {\n",
       "        vertical-align: top;\n",
       "    }\n",
       "\n",
       "    .dataframe thead th {\n",
       "        text-align: right;\n",
       "    }\n",
       "</style>\n",
       "<table border=\"1\" class=\"dataframe\">\n",
       "  <thead>\n",
       "    <tr style=\"text-align: right;\">\n",
       "      <th></th>\n",
       "      <th>메뉴</th>\n",
       "      <th>가격</th>\n",
       "      <th>할인율</th>\n",
       "      <th>칼로리</th>\n",
       "      <th>원두</th>\n",
       "      <th>이벤트가</th>\n",
       "    </tr>\n",
       "  </thead>\n",
       "  <tbody>\n",
       "    <tr>\n",
       "      <th>0</th>\n",
       "      <td>룽고</td>\n",
       "      <td>4100</td>\n",
       "      <td>0.5</td>\n",
       "      <td>10</td>\n",
       "      <td>콜롬비아</td>\n",
       "      <td>1900.0</td>\n",
       "    </tr>\n",
       "    <tr>\n",
       "      <th>1</th>\n",
       "      <td>카페라떼</td>\n",
       "      <td>4600</td>\n",
       "      <td>0.1</td>\n",
       "      <td>180</td>\n",
       "      <td>코스타리카</td>\n",
       "      <td>2300.0</td>\n",
       "    </tr>\n",
       "    <tr>\n",
       "      <th>2</th>\n",
       "      <td>카페모카</td>\n",
       "      <td>4600</td>\n",
       "      <td>0.2</td>\n",
       "      <td>420</td>\n",
       "      <td>과테말라</td>\n",
       "      <td>1900.0</td>\n",
       "    </tr>\n",
       "    <tr>\n",
       "      <th>3</th>\n",
       "      <td>바닐라라떼</td>\n",
       "      <td>5100</td>\n",
       "      <td>0.3</td>\n",
       "      <td>320</td>\n",
       "      <td>코스타리카</td>\n",
       "      <td>2600.0</td>\n",
       "    </tr>\n",
       "    <tr>\n",
       "      <th>4</th>\n",
       "      <td>그린티</td>\n",
       "      <td>4100</td>\n",
       "      <td>0.0</td>\n",
       "      <td>20</td>\n",
       "      <td>한국</td>\n",
       "      <td>1900.0</td>\n",
       "    </tr>\n",
       "    <tr>\n",
       "      <th>5</th>\n",
       "      <td>초코라떼</td>\n",
       "      <td>5000</td>\n",
       "      <td>0.0</td>\n",
       "      <td>500</td>\n",
       "      <td>콜롬비아</td>\n",
       "      <td>3000.0</td>\n",
       "    </tr>\n",
       "    <tr>\n",
       "      <th>6</th>\n",
       "      <td>바닐라콜드브루</td>\n",
       "      <td>5100</td>\n",
       "      <td>0.0</td>\n",
       "      <td>400</td>\n",
       "      <td>코스타리카</td>\n",
       "      <td>3200.0</td>\n",
       "    </tr>\n",
       "  </tbody>\n",
       "</table>\n",
       "</div>"
      ],
      "text/plain": [
       "        메뉴    가격  할인율  칼로리     원두    이벤트가\n",
       "0       룽고  4100  0.5   10   콜롬비아  1900.0\n",
       "1     카페라떼  4600  0.1  180  코스타리카  2300.0\n",
       "2     카페모카  4600  0.2  420   과테말라  1900.0\n",
       "3    바닐라라떼  5100  0.3  320  코스타리카  2600.0\n",
       "4      그린티  4100  0.0   20     한국  1900.0\n",
       "5     초코라떼  5000  0.0  500   콜롬비아  3000.0\n",
       "6  바닐라콜드브루  5100  0.0  400  코스타리카  3200.0"
      ]
     },
     "execution_count": 16,
     "metadata": {},
     "output_type": "execute_result"
    }
   ],
   "source": [
    "# 문자변경 : 아메리카노 -> 룽고, 녹차 -> 그란데\n",
    "df = df.replace('아메리카노','룽고').replace('녹차','그린티')\n",
    "df"
   ]
  },
  {
   "cell_type": "code",
   "execution_count": 18,
   "id": "70893e9a",
   "metadata": {},
   "outputs": [
    {
     "data": {
      "text/html": [
       "<div>\n",
       "<style scoped>\n",
       "    .dataframe tbody tr th:only-of-type {\n",
       "        vertical-align: middle;\n",
       "    }\n",
       "\n",
       "    .dataframe tbody tr th {\n",
       "        vertical-align: top;\n",
       "    }\n",
       "\n",
       "    .dataframe thead th {\n",
       "        text-align: right;\n",
       "    }\n",
       "</style>\n",
       "<table border=\"1\" class=\"dataframe\">\n",
       "  <thead>\n",
       "    <tr style=\"text-align: right;\">\n",
       "      <th></th>\n",
       "      <th>메뉴</th>\n",
       "      <th>가격</th>\n",
       "      <th>할인율</th>\n",
       "      <th>칼로리</th>\n",
       "      <th>원두</th>\n",
       "      <th>이벤트가</th>\n",
       "    </tr>\n",
       "  </thead>\n",
       "  <tbody>\n",
       "    <tr>\n",
       "      <th>0</th>\n",
       "      <td>룽고</td>\n",
       "      <td>4100</td>\n",
       "      <td>0.5</td>\n",
       "      <td>10</td>\n",
       "      <td>콜롬비아</td>\n",
       "      <td>1900.0</td>\n",
       "    </tr>\n",
       "    <tr>\n",
       "      <th>1</th>\n",
       "      <td>카페라떼</td>\n",
       "      <td>4600</td>\n",
       "      <td>0.1</td>\n",
       "      <td>180</td>\n",
       "      <td>코스타리카</td>\n",
       "      <td>2300.0</td>\n",
       "    </tr>\n",
       "    <tr>\n",
       "      <th>2</th>\n",
       "      <td>카페모카</td>\n",
       "      <td>4600</td>\n",
       "      <td>0.2</td>\n",
       "      <td>420</td>\n",
       "      <td>과테말라</td>\n",
       "      <td>1900.0</td>\n",
       "    </tr>\n",
       "    <tr>\n",
       "      <th>3</th>\n",
       "      <td>바닐라라떼</td>\n",
       "      <td>5100</td>\n",
       "      <td>0.3</td>\n",
       "      <td>320</td>\n",
       "      <td>코스타리카</td>\n",
       "      <td>2600.0</td>\n",
       "    </tr>\n",
       "    <tr>\n",
       "      <th>4</th>\n",
       "      <td>그린티</td>\n",
       "      <td>4100</td>\n",
       "      <td>0.0</td>\n",
       "      <td>20</td>\n",
       "      <td>한국</td>\n",
       "      <td>1900.0</td>\n",
       "    </tr>\n",
       "    <tr>\n",
       "      <th>5</th>\n",
       "      <td>초코라떼</td>\n",
       "      <td>5000</td>\n",
       "      <td>0.0</td>\n",
       "      <td>500</td>\n",
       "      <td>콜롬비아</td>\n",
       "      <td>3000.0</td>\n",
       "    </tr>\n",
       "    <tr>\n",
       "      <th>6</th>\n",
       "      <td>바닐라콜드브루</td>\n",
       "      <td>5100</td>\n",
       "      <td>0.0</td>\n",
       "      <td>400</td>\n",
       "      <td>코스타리카</td>\n",
       "      <td>3200.0</td>\n",
       "    </tr>\n",
       "  </tbody>\n",
       "</table>\n",
       "</div>"
      ],
      "text/plain": [
       "        메뉴    가격  할인율  칼로리     원두    이벤트가\n",
       "0       룽고  4100  0.5   10   콜롬비아  1900.0\n",
       "1     카페라떼  4600  0.1  180  코스타리카  2300.0\n",
       "2     카페모카  4600  0.2  420   과테말라  1900.0\n",
       "3    바닐라라떼  5100  0.3  320  코스타리카  2600.0\n",
       "4      그린티  4100  0.0   20     한국  1900.0\n",
       "5     초코라떼  5000  0.0  500   콜롬비아  3000.0\n",
       "6  바닐라콜드브루  5100  0.0  400  코스타리카  3200.0"
      ]
     },
     "execution_count": 18,
     "metadata": {},
     "output_type": "execute_result"
    }
   ],
   "source": [
    "d = {'아메리카노' : '룽고','녹차' : '그란티'}\n",
    "df = df.replace(d)\n",
    "df"
   ]
  },
  {
   "cell_type": "code",
   "execution_count": 19,
   "id": "50a651aa",
   "metadata": {},
   "outputs": [
    {
     "data": {
      "text/html": [
       "<div>\n",
       "<style scoped>\n",
       "    .dataframe tbody tr th:only-of-type {\n",
       "        vertical-align: middle;\n",
       "    }\n",
       "\n",
       "    .dataframe tbody tr th {\n",
       "        vertical-align: top;\n",
       "    }\n",
       "\n",
       "    .dataframe thead th {\n",
       "        text-align: right;\n",
       "    }\n",
       "</style>\n",
       "<table border=\"1\" class=\"dataframe\">\n",
       "  <thead>\n",
       "    <tr style=\"text-align: right;\">\n",
       "      <th></th>\n",
       "      <th>메뉴</th>\n",
       "      <th>가격</th>\n",
       "      <th>할인율</th>\n",
       "      <th>칼로리</th>\n",
       "      <th>원두</th>\n",
       "      <th>이벤트가</th>\n",
       "    </tr>\n",
       "  </thead>\n",
       "  <tbody>\n",
       "    <tr>\n",
       "      <th>0</th>\n",
       "      <td>룽고</td>\n",
       "      <td>4100</td>\n",
       "      <td>0.5</td>\n",
       "      <td>10</td>\n",
       "      <td>콜롬비아</td>\n",
       "      <td>1500.0</td>\n",
       "    </tr>\n",
       "    <tr>\n",
       "      <th>1</th>\n",
       "      <td>카페라떼</td>\n",
       "      <td>4600</td>\n",
       "      <td>0.1</td>\n",
       "      <td>180</td>\n",
       "      <td>코스타리카</td>\n",
       "      <td>2300.0</td>\n",
       "    </tr>\n",
       "    <tr>\n",
       "      <th>2</th>\n",
       "      <td>카페모카</td>\n",
       "      <td>4600</td>\n",
       "      <td>0.2</td>\n",
       "      <td>420</td>\n",
       "      <td>과테말라</td>\n",
       "      <td>1500.0</td>\n",
       "    </tr>\n",
       "    <tr>\n",
       "      <th>3</th>\n",
       "      <td>바닐라라떼</td>\n",
       "      <td>5100</td>\n",
       "      <td>0.3</td>\n",
       "      <td>320</td>\n",
       "      <td>코스타리카</td>\n",
       "      <td>2600.0</td>\n",
       "    </tr>\n",
       "    <tr>\n",
       "      <th>4</th>\n",
       "      <td>그린티</td>\n",
       "      <td>4100</td>\n",
       "      <td>0.0</td>\n",
       "      <td>20</td>\n",
       "      <td>한국</td>\n",
       "      <td>1500.0</td>\n",
       "    </tr>\n",
       "    <tr>\n",
       "      <th>5</th>\n",
       "      <td>초코라떼</td>\n",
       "      <td>5000</td>\n",
       "      <td>0.0</td>\n",
       "      <td>500</td>\n",
       "      <td>콜롬비아</td>\n",
       "      <td>3000.0</td>\n",
       "    </tr>\n",
       "    <tr>\n",
       "      <th>6</th>\n",
       "      <td>바닐라콜드브루</td>\n",
       "      <td>5100</td>\n",
       "      <td>0.0</td>\n",
       "      <td>400</td>\n",
       "      <td>코스타리카</td>\n",
       "      <td>3200.0</td>\n",
       "    </tr>\n",
       "  </tbody>\n",
       "</table>\n",
       "</div>"
      ],
      "text/plain": [
       "        메뉴    가격  할인율  칼로리     원두    이벤트가\n",
       "0       룽고  4100  0.5   10   콜롬비아  1500.0\n",
       "1     카페라떼  4600  0.1  180  코스타리카  2300.0\n",
       "2     카페모카  4600  0.2  420   과테말라  1500.0\n",
       "3    바닐라라떼  5100  0.3  320  코스타리카  2600.0\n",
       "4      그린티  4100  0.0   20     한국  1500.0\n",
       "5     초코라떼  5000  0.0  500   콜롬비아  3000.0\n",
       "6  바닐라콜드브루  5100  0.0  400  코스타리카  3200.0"
      ]
     },
     "execution_count": 19,
     "metadata": {},
     "output_type": "execute_result"
    }
   ],
   "source": [
    "# 숫자 변경 : 1900 -> 1500\n",
    "df = df.replace(1900,1500)\n",
    "df"
   ]
  },
  {
   "cell_type": "code",
   "execution_count": 22,
   "id": "72cea60d",
   "metadata": {},
   "outputs": [
    {
     "data": {
      "text/html": [
       "<div>\n",
       "<style scoped>\n",
       "    .dataframe tbody tr th:only-of-type {\n",
       "        vertical-align: middle;\n",
       "    }\n",
       "\n",
       "    .dataframe tbody tr th {\n",
       "        vertical-align: top;\n",
       "    }\n",
       "\n",
       "    .dataframe thead th {\n",
       "        text-align: right;\n",
       "    }\n",
       "</style>\n",
       "<table border=\"1\" class=\"dataframe\">\n",
       "  <thead>\n",
       "    <tr style=\"text-align: right;\">\n",
       "      <th></th>\n",
       "      <th>메뉴</th>\n",
       "      <th>가격</th>\n",
       "      <th>할인율</th>\n",
       "      <th>칼로리</th>\n",
       "      <th>원두</th>\n",
       "      <th>이벤트가</th>\n",
       "    </tr>\n",
       "  </thead>\n",
       "  <tbody>\n",
       "    <tr>\n",
       "      <th>0</th>\n",
       "      <td>룽고</td>\n",
       "      <td>4100</td>\n",
       "      <td>0.5</td>\n",
       "      <td>10</td>\n",
       "      <td>콜롬비아</td>\n",
       "      <td>1500.0</td>\n",
       "    </tr>\n",
       "    <tr>\n",
       "      <th>1</th>\n",
       "      <td>카페라떼</td>\n",
       "      <td>4600</td>\n",
       "      <td>0.1</td>\n",
       "      <td>180</td>\n",
       "      <td>코스타리카</td>\n",
       "      <td>2300.0</td>\n",
       "    </tr>\n",
       "    <tr>\n",
       "      <th>2</th>\n",
       "      <td>카페모카</td>\n",
       "      <td>4600</td>\n",
       "      <td>0.2</td>\n",
       "      <td>420</td>\n",
       "      <td>과테말라</td>\n",
       "      <td>1500.0</td>\n",
       "    </tr>\n",
       "    <tr>\n",
       "      <th>3</th>\n",
       "      <td>바닐라라떼</td>\n",
       "      <td>5100</td>\n",
       "      <td>0.3</td>\n",
       "      <td>320</td>\n",
       "      <td>과테말라</td>\n",
       "      <td>2600.0</td>\n",
       "    </tr>\n",
       "    <tr>\n",
       "      <th>4</th>\n",
       "      <td>그린티</td>\n",
       "      <td>4100</td>\n",
       "      <td>0.0</td>\n",
       "      <td>20</td>\n",
       "      <td>한국</td>\n",
       "      <td>1500.0</td>\n",
       "    </tr>\n",
       "    <tr>\n",
       "      <th>5</th>\n",
       "      <td>초코라떼</td>\n",
       "      <td>5000</td>\n",
       "      <td>0.0</td>\n",
       "      <td>500</td>\n",
       "      <td>콜롬비아</td>\n",
       "      <td>3000.0</td>\n",
       "    </tr>\n",
       "    <tr>\n",
       "      <th>6</th>\n",
       "      <td>바닐라콜드브루</td>\n",
       "      <td>5100</td>\n",
       "      <td>0.0</td>\n",
       "      <td>400</td>\n",
       "      <td>코스타리카</td>\n",
       "      <td>3200.0</td>\n",
       "    </tr>\n",
       "  </tbody>\n",
       "</table>\n",
       "</div>"
      ],
      "text/plain": [
       "        메뉴    가격  할인율  칼로리     원두    이벤트가\n",
       "0       룽고  4100  0.5   10   콜롬비아  1500.0\n",
       "1     카페라떼  4600  0.1  180  코스타리카  2300.0\n",
       "2     카페모카  4600  0.2  420   과테말라  1500.0\n",
       "3    바닐라라떼  5100  0.3  320   과테말라  2600.0\n",
       "4      그린티  4100  0.0   20     한국  1500.0\n",
       "5     초코라떼  5000  0.0  500   콜롬비아  3000.0\n",
       "6  바닐라콜드브루  5100  0.0  400  코스타리카  3200.0"
      ]
     },
     "execution_count": 22,
     "metadata": {},
     "output_type": "execute_result"
    }
   ],
   "source": [
    "# loc로 값 변경하기\n",
    "# 바닐라라떼 원두 -> 과테말라\n",
    "df.loc[3, '원두'] = '과테말라'\n",
    "df"
   ]
  },
  {
   "cell_type": "code",
   "execution_count": 23,
   "id": "f2632110",
   "metadata": {},
   "outputs": [
    {
     "data": {
      "text/html": [
       "<div>\n",
       "<style scoped>\n",
       "    .dataframe tbody tr th:only-of-type {\n",
       "        vertical-align: middle;\n",
       "    }\n",
       "\n",
       "    .dataframe tbody tr th {\n",
       "        vertical-align: top;\n",
       "    }\n",
       "\n",
       "    .dataframe thead th {\n",
       "        text-align: right;\n",
       "    }\n",
       "</style>\n",
       "<table border=\"1\" class=\"dataframe\">\n",
       "  <thead>\n",
       "    <tr style=\"text-align: right;\">\n",
       "      <th></th>\n",
       "      <th>메뉴</th>\n",
       "      <th>가격</th>\n",
       "      <th>할인율</th>\n",
       "      <th>칼로리</th>\n",
       "      <th>원두</th>\n",
       "      <th>이벤트가</th>\n",
       "    </tr>\n",
       "  </thead>\n",
       "  <tbody>\n",
       "    <tr>\n",
       "      <th>0</th>\n",
       "      <td>룽고</td>\n",
       "      <td>4100</td>\n",
       "      <td>0.5</td>\n",
       "      <td>10</td>\n",
       "      <td>콜롬비아</td>\n",
       "      <td>1000</td>\n",
       "    </tr>\n",
       "    <tr>\n",
       "      <th>1</th>\n",
       "      <td>카페라떼</td>\n",
       "      <td>4600</td>\n",
       "      <td>0.1</td>\n",
       "      <td>180</td>\n",
       "      <td>코스타리카</td>\n",
       "      <td>1000</td>\n",
       "    </tr>\n",
       "    <tr>\n",
       "      <th>2</th>\n",
       "      <td>카페모카</td>\n",
       "      <td>4600</td>\n",
       "      <td>0.2</td>\n",
       "      <td>420</td>\n",
       "      <td>과테말라</td>\n",
       "      <td>1000</td>\n",
       "    </tr>\n",
       "    <tr>\n",
       "      <th>3</th>\n",
       "      <td>바닐라라떼</td>\n",
       "      <td>5100</td>\n",
       "      <td>0.3</td>\n",
       "      <td>320</td>\n",
       "      <td>과테말라</td>\n",
       "      <td>1000</td>\n",
       "    </tr>\n",
       "    <tr>\n",
       "      <th>4</th>\n",
       "      <td>그린티</td>\n",
       "      <td>4100</td>\n",
       "      <td>0.0</td>\n",
       "      <td>20</td>\n",
       "      <td>한국</td>\n",
       "      <td>1000</td>\n",
       "    </tr>\n",
       "    <tr>\n",
       "      <th>5</th>\n",
       "      <td>초코라떼</td>\n",
       "      <td>5000</td>\n",
       "      <td>0.0</td>\n",
       "      <td>500</td>\n",
       "      <td>콜롬비아</td>\n",
       "      <td>1000</td>\n",
       "    </tr>\n",
       "    <tr>\n",
       "      <th>6</th>\n",
       "      <td>바닐라콜드브루</td>\n",
       "      <td>5100</td>\n",
       "      <td>0.0</td>\n",
       "      <td>400</td>\n",
       "      <td>코스타리카</td>\n",
       "      <td>1000</td>\n",
       "    </tr>\n",
       "  </tbody>\n",
       "</table>\n",
       "</div>"
      ],
      "text/plain": [
       "        메뉴    가격  할인율  칼로리     원두  이벤트가\n",
       "0       룽고  4100  0.5   10   콜롬비아  1000\n",
       "1     카페라떼  4600  0.1  180  코스타리카  1000\n",
       "2     카페모카  4600  0.2  420   과테말라  1000\n",
       "3    바닐라라떼  5100  0.3  320   과테말라  1000\n",
       "4      그린티  4100  0.0   20     한국  1000\n",
       "5     초코라떼  5000  0.0  500   콜롬비아  1000\n",
       "6  바닐라콜드브루  5100  0.0  400  코스타리카  1000"
      ]
     },
     "execution_count": 23,
     "metadata": {},
     "output_type": "execute_result"
    }
   ],
   "source": [
    "# 이벤트가 전체 1000으로 변경\n",
    "df.loc[:,'이벤트가'] = 1000\n",
    "df"
   ]
  },
  {
   "cell_type": "markdown",
   "id": "24a464e7",
   "metadata": {},
   "source": [
    "## 내장함수"
   ]
  },
  {
   "cell_type": "code",
   "execution_count": 25,
   "id": "acc90498",
   "metadata": {},
   "outputs": [
    {
     "data": {
      "text/html": [
       "<div>\n",
       "<style scoped>\n",
       "    .dataframe tbody tr th:only-of-type {\n",
       "        vertical-align: middle;\n",
       "    }\n",
       "\n",
       "    .dataframe tbody tr th {\n",
       "        vertical-align: top;\n",
       "    }\n",
       "\n",
       "    .dataframe thead th {\n",
       "        text-align: right;\n",
       "    }\n",
       "</style>\n",
       "<table border=\"1\" class=\"dataframe\">\n",
       "  <thead>\n",
       "    <tr style=\"text-align: right;\">\n",
       "      <th></th>\n",
       "      <th>메뉴</th>\n",
       "      <th>가격</th>\n",
       "      <th>할인율</th>\n",
       "      <th>칼로리</th>\n",
       "      <th>원두</th>\n",
       "      <th>이벤트가</th>\n",
       "    </tr>\n",
       "  </thead>\n",
       "  <tbody>\n",
       "    <tr>\n",
       "      <th>0</th>\n",
       "      <td>아메리카노</td>\n",
       "      <td>4100</td>\n",
       "      <td>0.5</td>\n",
       "      <td>10</td>\n",
       "      <td>콜롬비아</td>\n",
       "      <td>1900.0</td>\n",
       "    </tr>\n",
       "    <tr>\n",
       "      <th>1</th>\n",
       "      <td>카페라떼</td>\n",
       "      <td>4600</td>\n",
       "      <td>0.1</td>\n",
       "      <td>180</td>\n",
       "      <td>NaN</td>\n",
       "      <td>2300.0</td>\n",
       "    </tr>\n",
       "    <tr>\n",
       "      <th>2</th>\n",
       "      <td>카페모카</td>\n",
       "      <td>4600</td>\n",
       "      <td>0.2</td>\n",
       "      <td>420</td>\n",
       "      <td>과테말라</td>\n",
       "      <td>NaN</td>\n",
       "    </tr>\n",
       "    <tr>\n",
       "      <th>3</th>\n",
       "      <td>바닐라라떼</td>\n",
       "      <td>5100</td>\n",
       "      <td>0.3</td>\n",
       "      <td>320</td>\n",
       "      <td>NaN</td>\n",
       "      <td>2600.0</td>\n",
       "    </tr>\n",
       "    <tr>\n",
       "      <th>4</th>\n",
       "      <td>녹차</td>\n",
       "      <td>4100</td>\n",
       "      <td>0.0</td>\n",
       "      <td>20</td>\n",
       "      <td>한국</td>\n",
       "      <td>NaN</td>\n",
       "    </tr>\n",
       "    <tr>\n",
       "      <th>5</th>\n",
       "      <td>초코라떼</td>\n",
       "      <td>5000</td>\n",
       "      <td>0.0</td>\n",
       "      <td>500</td>\n",
       "      <td>콜롬비아</td>\n",
       "      <td>3000.0</td>\n",
       "    </tr>\n",
       "    <tr>\n",
       "      <th>6</th>\n",
       "      <td>바닐라콜드브루</td>\n",
       "      <td>5100</td>\n",
       "      <td>0.0</td>\n",
       "      <td>400</td>\n",
       "      <td>NaN</td>\n",
       "      <td>3200.0</td>\n",
       "    </tr>\n",
       "  </tbody>\n",
       "</table>\n",
       "</div>"
      ],
      "text/plain": [
       "        메뉴    가격  할인율  칼로리    원두    이벤트가\n",
       "0    아메리카노  4100  0.5   10  콜롬비아  1900.0\n",
       "1     카페라떼  4600  0.1  180   NaN  2300.0\n",
       "2     카페모카  4600  0.2  420  과테말라     NaN\n",
       "3    바닐라라떼  5100  0.3  320   NaN  2600.0\n",
       "4       녹차  4100  0.0   20    한국     NaN\n",
       "5     초코라떼  5000  0.0  500  콜롬비아  3000.0\n",
       "6  바닐라콜드브루  5100  0.0  400   NaN  3200.0"
      ]
     },
     "execution_count": 25,
     "metadata": {},
     "output_type": "execute_result"
    }
   ],
   "source": [
    "# 데이터 불러오기\n",
    "df = pd.read_csv('data.csv')\n",
    "df"
   ]
  },
  {
   "cell_type": "code",
   "execution_count": 27,
   "id": "f2c00be9",
   "metadata": {},
   "outputs": [
    {
     "data": {
      "text/plain": [
       "메뉴      7\n",
       "가격      7\n",
       "할인율     7\n",
       "칼로리     7\n",
       "원두      4\n",
       "이벤트가    5\n",
       "dtype: int64"
      ]
     },
     "execution_count": 27,
     "metadata": {},
     "output_type": "execute_result"
    }
   ],
   "source": [
    "# 카운트 (컬럼) # 기본값 axis = 0\n",
    "df.count()"
   ]
  },
  {
   "cell_type": "code",
   "execution_count": 28,
   "id": "bc98392a",
   "metadata": {},
   "outputs": [
    {
     "data": {
      "text/plain": [
       "0    6\n",
       "1    5\n",
       "2    5\n",
       "3    5\n",
       "4    5\n",
       "5    6\n",
       "6    5\n",
       "dtype: int64"
      ]
     },
     "execution_count": 28,
     "metadata": {},
     "output_type": "execute_result"
    }
   ],
   "source": [
    "# 행기준 카운트\n",
    "df.count(axis=1)"
   ]
  },
  {
   "cell_type": "code",
   "execution_count": 31,
   "id": "d8a2ecc3",
   "metadata": {},
   "outputs": [
    {
     "data": {
      "text/plain": [
       "7"
      ]
     },
     "execution_count": 31,
     "metadata": {},
     "output_type": "execute_result"
    }
   ],
   "source": [
    "# 데이터 수 len, shape\n",
    "len(df)\n",
    "df.shape[0]"
   ]
  },
  {
   "cell_type": "code",
   "execution_count": 33,
   "id": "4d695e12",
   "metadata": {},
   "outputs": [
    {
     "data": {
      "text/plain": [
       "5100"
      ]
     },
     "execution_count": 33,
     "metadata": {},
     "output_type": "execute_result"
    }
   ],
   "source": [
    "# 최대값\n",
    "df['가격'].max()"
   ]
  },
  {
   "cell_type": "code",
   "execution_count": 34,
   "id": "2edfd4c6",
   "metadata": {},
   "outputs": [
    {
     "data": {
      "text/plain": [
       "4100"
      ]
     },
     "execution_count": 34,
     "metadata": {},
     "output_type": "execute_result"
    }
   ],
   "source": [
    "# 최소값\n",
    "df['가격'].min()"
   ]
  },
  {
   "cell_type": "code",
   "execution_count": 35,
   "id": "dae26104",
   "metadata": {},
   "outputs": [
    {
     "data": {
      "text/plain": [
       "4657.142857142857"
      ]
     },
     "execution_count": 35,
     "metadata": {},
     "output_type": "execute_result"
    }
   ],
   "source": [
    "# 평균\n",
    "df['가격'].mean()"
   ]
  },
  {
   "cell_type": "code",
   "execution_count": 36,
   "id": "1fe75e1a",
   "metadata": {},
   "outputs": [
    {
     "data": {
      "text/plain": [
       "4600.0"
      ]
     },
     "execution_count": 36,
     "metadata": {},
     "output_type": "execute_result"
    }
   ],
   "source": [
    "# 중간값\n",
    "df['가격'].median()"
   ]
  },
  {
   "cell_type": "code",
   "execution_count": 37,
   "id": "0ffd94fe",
   "metadata": {},
   "outputs": [
    {
     "data": {
      "text/plain": [
       "32600"
      ]
     },
     "execution_count": 37,
     "metadata": {},
     "output_type": "execute_result"
    }
   ],
   "source": [
    "# 합계\n",
    "df['가격'].sum()"
   ]
  },
  {
   "cell_type": "code",
   "execution_count": 40,
   "id": "53e35ff3",
   "metadata": {},
   "outputs": [
    {
     "data": {
      "text/plain": [
       "435.3433237386437"
      ]
     },
     "execution_count": 40,
     "metadata": {},
     "output_type": "execute_result"
    }
   ],
   "source": [
    "# 표준편차\n",
    "df['가격'].std()"
   ]
  },
  {
   "cell_type": "code",
   "execution_count": 41,
   "id": "21b1f76d",
   "metadata": {},
   "outputs": [
    {
     "data": {
      "text/plain": [
       "189523.8095238095"
      ]
     },
     "execution_count": 41,
     "metadata": {},
     "output_type": "execute_result"
    }
   ],
   "source": [
    "# 분산\n",
    "df['가격'].var()"
   ]
  },
  {
   "cell_type": "code",
   "execution_count": 42,
   "id": "7ebb8cde",
   "metadata": {},
   "outputs": [
    {
     "data": {
      "text/plain": [
       "-0.3739900475641664"
      ]
     },
     "execution_count": 42,
     "metadata": {},
     "output_type": "execute_result"
    }
   ],
   "source": [
    "# 왜도\n",
    "df['가격'].skew()"
   ]
  },
  {
   "cell_type": "code",
   "execution_count": 43,
   "id": "8160e226",
   "metadata": {},
   "outputs": [
    {
     "data": {
      "text/plain": [
       "-1.7170778515694067"
      ]
     },
     "execution_count": 43,
     "metadata": {},
     "output_type": "execute_result"
    }
   ],
   "source": [
    "# 첨도\n",
    "df['가격'].kurt()"
   ]
  },
  {
   "cell_type": "code",
   "execution_count": 44,
   "id": "c41b4894",
   "metadata": {},
   "outputs": [
    {
     "data": {
      "text/html": [
       "<div>\n",
       "<style scoped>\n",
       "    .dataframe tbody tr th:only-of-type {\n",
       "        vertical-align: middle;\n",
       "    }\n",
       "\n",
       "    .dataframe tbody tr th {\n",
       "        vertical-align: top;\n",
       "    }\n",
       "\n",
       "    .dataframe thead th {\n",
       "        text-align: right;\n",
       "    }\n",
       "</style>\n",
       "<table border=\"1\" class=\"dataframe\">\n",
       "  <thead>\n",
       "    <tr style=\"text-align: right;\">\n",
       "      <th></th>\n",
       "      <th>가격</th>\n",
       "      <th>할인율</th>\n",
       "      <th>칼로리</th>\n",
       "      <th>이벤트가</th>\n",
       "    </tr>\n",
       "  </thead>\n",
       "  <tbody>\n",
       "    <tr>\n",
       "      <th>count</th>\n",
       "      <td>7.000000</td>\n",
       "      <td>7.000000</td>\n",
       "      <td>7.000000</td>\n",
       "      <td>5.000000</td>\n",
       "    </tr>\n",
       "    <tr>\n",
       "      <th>mean</th>\n",
       "      <td>4657.142857</td>\n",
       "      <td>0.157143</td>\n",
       "      <td>264.285714</td>\n",
       "      <td>2600.000000</td>\n",
       "    </tr>\n",
       "    <tr>\n",
       "      <th>std</th>\n",
       "      <td>435.343324</td>\n",
       "      <td>0.190238</td>\n",
       "      <td>196.965068</td>\n",
       "      <td>524.404424</td>\n",
       "    </tr>\n",
       "    <tr>\n",
       "      <th>min</th>\n",
       "      <td>4100.000000</td>\n",
       "      <td>0.000000</td>\n",
       "      <td>10.000000</td>\n",
       "      <td>1900.000000</td>\n",
       "    </tr>\n",
       "    <tr>\n",
       "      <th>25%</th>\n",
       "      <td>4350.000000</td>\n",
       "      <td>0.000000</td>\n",
       "      <td>100.000000</td>\n",
       "      <td>2300.000000</td>\n",
       "    </tr>\n",
       "    <tr>\n",
       "      <th>50%</th>\n",
       "      <td>4600.000000</td>\n",
       "      <td>0.100000</td>\n",
       "      <td>320.000000</td>\n",
       "      <td>2600.000000</td>\n",
       "    </tr>\n",
       "    <tr>\n",
       "      <th>75%</th>\n",
       "      <td>5050.000000</td>\n",
       "      <td>0.250000</td>\n",
       "      <td>410.000000</td>\n",
       "      <td>3000.000000</td>\n",
       "    </tr>\n",
       "    <tr>\n",
       "      <th>max</th>\n",
       "      <td>5100.000000</td>\n",
       "      <td>0.500000</td>\n",
       "      <td>500.000000</td>\n",
       "      <td>3200.000000</td>\n",
       "    </tr>\n",
       "  </tbody>\n",
       "</table>\n",
       "</div>"
      ],
      "text/plain": [
       "                가격       할인율         칼로리         이벤트가\n",
       "count     7.000000  7.000000    7.000000     5.000000\n",
       "mean   4657.142857  0.157143  264.285714  2600.000000\n",
       "std     435.343324  0.190238  196.965068   524.404424\n",
       "min    4100.000000  0.000000   10.000000  1900.000000\n",
       "25%    4350.000000  0.000000  100.000000  2300.000000\n",
       "50%    4600.000000  0.100000  320.000000  2600.000000\n",
       "75%    5050.000000  0.250000  410.000000  3000.000000\n",
       "max    5100.000000  0.500000  500.000000  3200.000000"
      ]
     },
     "execution_count": 44,
     "metadata": {},
     "output_type": "execute_result"
    }
   ],
   "source": [
    "# 백분위수\n",
    "df.describe()"
   ]
  },
  {
   "cell_type": "code",
   "execution_count": 45,
   "id": "4d9a8503",
   "metadata": {},
   "outputs": [
    {
     "data": {
      "text/plain": [
       "가격      4350.0\n",
       "할인율        0.0\n",
       "칼로리      100.0\n",
       "이벤트가    2300.0\n",
       "Name: 0.25, dtype: float64"
      ]
     },
     "execution_count": 45,
     "metadata": {},
     "output_type": "execute_result"
    }
   ],
   "source": [
    "# 하위 25% 값\n",
    "df.quantile(.25)"
   ]
  },
  {
   "cell_type": "code",
   "execution_count": 47,
   "id": "d30a881c",
   "metadata": {},
   "outputs": [
    {
     "data": {
      "text/plain": [
       "가격      5050.00\n",
       "할인율        0.25\n",
       "칼로리      410.00\n",
       "이벤트가    3000.00\n",
       "Name: 0.75, dtype: float64"
      ]
     },
     "execution_count": 47,
     "metadata": {},
     "output_type": "execute_result"
    }
   ],
   "source": [
    "# 상위 25% 값\n",
    "df.quantile(.75)"
   ]
  },
  {
   "cell_type": "code",
   "execution_count": 49,
   "id": "dd18bac7",
   "metadata": {},
   "outputs": [
    {
     "data": {
      "text/html": [
       "<div>\n",
       "<style scoped>\n",
       "    .dataframe tbody tr th:only-of-type {\n",
       "        vertical-align: middle;\n",
       "    }\n",
       "\n",
       "    .dataframe tbody tr th {\n",
       "        vertical-align: top;\n",
       "    }\n",
       "\n",
       "    .dataframe thead th {\n",
       "        text-align: right;\n",
       "    }\n",
       "</style>\n",
       "<table border=\"1\" class=\"dataframe\">\n",
       "  <thead>\n",
       "    <tr style=\"text-align: right;\">\n",
       "      <th></th>\n",
       "      <th>메뉴</th>\n",
       "      <th>가격</th>\n",
       "      <th>할인율</th>\n",
       "      <th>칼로리</th>\n",
       "      <th>원두</th>\n",
       "      <th>이벤트가</th>\n",
       "    </tr>\n",
       "  </thead>\n",
       "  <tbody>\n",
       "    <tr>\n",
       "      <th>0</th>\n",
       "      <td>아메리카노</td>\n",
       "      <td>4100</td>\n",
       "      <td>0.5</td>\n",
       "      <td>10</td>\n",
       "      <td>콜롬비아</td>\n",
       "      <td>1900.0</td>\n",
       "    </tr>\n",
       "    <tr>\n",
       "      <th>4</th>\n",
       "      <td>녹차</td>\n",
       "      <td>4100</td>\n",
       "      <td>0.0</td>\n",
       "      <td>20</td>\n",
       "      <td>한국</td>\n",
       "      <td>NaN</td>\n",
       "    </tr>\n",
       "  </tbody>\n",
       "</table>\n",
       "</div>"
      ],
      "text/plain": [
       "      메뉴    가격  할인율  칼로리    원두    이벤트가\n",
       "0  아메리카노  4100  0.5   10  콜롬비아  1900.0\n",
       "4     녹차  4100  0.0   20    한국     NaN"
      ]
     },
     "execution_count": 49,
     "metadata": {},
     "output_type": "execute_result"
    }
   ],
   "source": [
    "# 하위 25% 데이터\n",
    "cond = df['가격'].quantile(.25) > df['가격']\n",
    "df[cond]"
   ]
  },
  {
   "cell_type": "code",
   "execution_count": 50,
   "id": "44a51b29",
   "metadata": {},
   "outputs": [
    {
     "data": {
      "text/html": [
       "<div>\n",
       "<style scoped>\n",
       "    .dataframe tbody tr th:only-of-type {\n",
       "        vertical-align: middle;\n",
       "    }\n",
       "\n",
       "    .dataframe tbody tr th {\n",
       "        vertical-align: top;\n",
       "    }\n",
       "\n",
       "    .dataframe thead th {\n",
       "        text-align: right;\n",
       "    }\n",
       "</style>\n",
       "<table border=\"1\" class=\"dataframe\">\n",
       "  <thead>\n",
       "    <tr style=\"text-align: right;\">\n",
       "      <th></th>\n",
       "      <th>메뉴</th>\n",
       "      <th>가격</th>\n",
       "      <th>할인율</th>\n",
       "      <th>칼로리</th>\n",
       "      <th>원두</th>\n",
       "      <th>이벤트가</th>\n",
       "    </tr>\n",
       "  </thead>\n",
       "  <tbody>\n",
       "    <tr>\n",
       "      <th>3</th>\n",
       "      <td>바닐라라떼</td>\n",
       "      <td>5100</td>\n",
       "      <td>0.3</td>\n",
       "      <td>320</td>\n",
       "      <td>NaN</td>\n",
       "      <td>2600.0</td>\n",
       "    </tr>\n",
       "    <tr>\n",
       "      <th>6</th>\n",
       "      <td>바닐라콜드브루</td>\n",
       "      <td>5100</td>\n",
       "      <td>0.0</td>\n",
       "      <td>400</td>\n",
       "      <td>NaN</td>\n",
       "      <td>3200.0</td>\n",
       "    </tr>\n",
       "  </tbody>\n",
       "</table>\n",
       "</div>"
      ],
      "text/plain": [
       "        메뉴    가격  할인율  칼로리   원두    이벤트가\n",
       "3    바닐라라떼  5100  0.3  320  NaN  2600.0\n",
       "6  바닐라콜드브루  5100  0.0  400  NaN  3200.0"
      ]
     },
     "execution_count": 50,
     "metadata": {},
     "output_type": "execute_result"
    }
   ],
   "source": [
    "# 상위 25% 데이터\n",
    "cond = df['가격'].quantile(.75) < df['가격']\n",
    "df[cond]"
   ]
  },
  {
   "cell_type": "code",
   "execution_count": 53,
   "id": "35f02c28",
   "metadata": {},
   "outputs": [
    {
     "data": {
      "text/plain": [
       "0    콜롬비아\n",
       "dtype: object"
      ]
     },
     "execution_count": 53,
     "metadata": {},
     "output_type": "execute_result"
    }
   ],
   "source": [
    "# 최빈값 구하기\n",
    "df['원두'].mode()"
   ]
  },
  {
   "cell_type": "markdown",
   "id": "f4b21ba2",
   "metadata": {},
   "source": [
    "## 그룹핑"
   ]
  },
  {
   "cell_type": "code",
   "execution_count": 54,
   "id": "bd1e78a8",
   "metadata": {},
   "outputs": [
    {
     "data": {
      "text/html": [
       "<div>\n",
       "<style scoped>\n",
       "    .dataframe tbody tr th:only-of-type {\n",
       "        vertical-align: middle;\n",
       "    }\n",
       "\n",
       "    .dataframe tbody tr th {\n",
       "        vertical-align: top;\n",
       "    }\n",
       "\n",
       "    .dataframe thead th {\n",
       "        text-align: right;\n",
       "    }\n",
       "</style>\n",
       "<table border=\"1\" class=\"dataframe\">\n",
       "  <thead>\n",
       "    <tr style=\"text-align: right;\">\n",
       "      <th></th>\n",
       "      <th>가격</th>\n",
       "      <th>할인율</th>\n",
       "      <th>칼로리</th>\n",
       "      <th>이벤트가</th>\n",
       "    </tr>\n",
       "    <tr>\n",
       "      <th>원두</th>\n",
       "      <th></th>\n",
       "      <th></th>\n",
       "      <th></th>\n",
       "      <th></th>\n",
       "    </tr>\n",
       "  </thead>\n",
       "  <tbody>\n",
       "    <tr>\n",
       "      <th>과테말라</th>\n",
       "      <td>4600.0</td>\n",
       "      <td>0.20</td>\n",
       "      <td>420.0</td>\n",
       "      <td>NaN</td>\n",
       "    </tr>\n",
       "    <tr>\n",
       "      <th>콜롬비아</th>\n",
       "      <td>4550.0</td>\n",
       "      <td>0.25</td>\n",
       "      <td>255.0</td>\n",
       "      <td>2450.0</td>\n",
       "    </tr>\n",
       "    <tr>\n",
       "      <th>한국</th>\n",
       "      <td>4100.0</td>\n",
       "      <td>0.00</td>\n",
       "      <td>20.0</td>\n",
       "      <td>NaN</td>\n",
       "    </tr>\n",
       "  </tbody>\n",
       "</table>\n",
       "</div>"
      ],
      "text/plain": [
       "          가격   할인율    칼로리    이벤트가\n",
       "원두                               \n",
       "과테말라  4600.0  0.20  420.0     NaN\n",
       "콜롬비아  4550.0  0.25  255.0  2450.0\n",
       "한국    4100.0  0.00   20.0     NaN"
      ]
     },
     "execution_count": 54,
     "metadata": {},
     "output_type": "execute_result"
    }
   ],
   "source": [
    "# 원두 기준, 평균\n",
    "df.groupby('원두').mean()"
   ]
  },
  {
   "cell_type": "code",
   "execution_count": 55,
   "id": "fd3236c6",
   "metadata": {},
   "outputs": [
    {
     "data": {
      "text/html": [
       "<div>\n",
       "<style scoped>\n",
       "    .dataframe tbody tr th:only-of-type {\n",
       "        vertical-align: middle;\n",
       "    }\n",
       "\n",
       "    .dataframe tbody tr th {\n",
       "        vertical-align: top;\n",
       "    }\n",
       "\n",
       "    .dataframe thead th {\n",
       "        text-align: right;\n",
       "    }\n",
       "</style>\n",
       "<table border=\"1\" class=\"dataframe\">\n",
       "  <thead>\n",
       "    <tr style=\"text-align: right;\">\n",
       "      <th></th>\n",
       "      <th></th>\n",
       "      <th>가격</th>\n",
       "      <th>칼로리</th>\n",
       "      <th>이벤트가</th>\n",
       "    </tr>\n",
       "    <tr>\n",
       "      <th>원두</th>\n",
       "      <th>할인율</th>\n",
       "      <th></th>\n",
       "      <th></th>\n",
       "      <th></th>\n",
       "    </tr>\n",
       "  </thead>\n",
       "  <tbody>\n",
       "    <tr>\n",
       "      <th>과테말라</th>\n",
       "      <th>0.2</th>\n",
       "      <td>4600.0</td>\n",
       "      <td>420.0</td>\n",
       "      <td>NaN</td>\n",
       "    </tr>\n",
       "    <tr>\n",
       "      <th rowspan=\"2\" valign=\"top\">콜롬비아</th>\n",
       "      <th>0.0</th>\n",
       "      <td>5000.0</td>\n",
       "      <td>500.0</td>\n",
       "      <td>3000.0</td>\n",
       "    </tr>\n",
       "    <tr>\n",
       "      <th>0.5</th>\n",
       "      <td>4100.0</td>\n",
       "      <td>10.0</td>\n",
       "      <td>1900.0</td>\n",
       "    </tr>\n",
       "    <tr>\n",
       "      <th>한국</th>\n",
       "      <th>0.0</th>\n",
       "      <td>4100.0</td>\n",
       "      <td>20.0</td>\n",
       "      <td>NaN</td>\n",
       "    </tr>\n",
       "  </tbody>\n",
       "</table>\n",
       "</div>"
      ],
      "text/plain": [
       "              가격    칼로리    이벤트가\n",
       "원두   할인율                       \n",
       "과테말라 0.2  4600.0  420.0     NaN\n",
       "콜롬비아 0.0  5000.0  500.0  3000.0\n",
       "     0.5  4100.0   10.0  1900.0\n",
       "한국   0.0  4100.0   20.0     NaN"
      ]
     },
     "execution_count": 55,
     "metadata": {},
     "output_type": "execute_result"
    }
   ],
   "source": [
    "# 원두와 할인율 기준, 평균\n",
    "df.groupby(['원두','할인율']).mean()"
   ]
  },
  {
   "cell_type": "code",
   "execution_count": 56,
   "id": "c9cb38e8",
   "metadata": {},
   "outputs": [
    {
     "data": {
      "text/plain": [
       "원두    할인율\n",
       "과테말라  0.2    4600.0\n",
       "콜롬비아  0.0    5000.0\n",
       "      0.5    4100.0\n",
       "한국    0.0    4100.0\n",
       "Name: 가격, dtype: float64"
      ]
     },
     "execution_count": 56,
     "metadata": {},
     "output_type": "execute_result"
    }
   ],
   "source": [
    "# 원두와 할인율 기준, 가격 평균\n",
    "df.groupby(['원두','할인율'])['가격'].mean()"
   ]
  },
  {
   "cell_type": "code",
   "execution_count": 57,
   "id": "8f24fc9f",
   "metadata": {},
   "outputs": [
    {
     "data": {
      "text/html": [
       "<div>\n",
       "<style scoped>\n",
       "    .dataframe tbody tr th:only-of-type {\n",
       "        vertical-align: middle;\n",
       "    }\n",
       "\n",
       "    .dataframe tbody tr th {\n",
       "        vertical-align: top;\n",
       "    }\n",
       "\n",
       "    .dataframe thead th {\n",
       "        text-align: right;\n",
       "    }\n",
       "</style>\n",
       "<table border=\"1\" class=\"dataframe\">\n",
       "  <thead>\n",
       "    <tr style=\"text-align: right;\">\n",
       "      <th></th>\n",
       "      <th></th>\n",
       "      <th>가격</th>\n",
       "    </tr>\n",
       "    <tr>\n",
       "      <th>원두</th>\n",
       "      <th>할인율</th>\n",
       "      <th></th>\n",
       "    </tr>\n",
       "  </thead>\n",
       "  <tbody>\n",
       "    <tr>\n",
       "      <th>과테말라</th>\n",
       "      <th>0.2</th>\n",
       "      <td>4600.0</td>\n",
       "    </tr>\n",
       "    <tr>\n",
       "      <th rowspan=\"2\" valign=\"top\">콜롬비아</th>\n",
       "      <th>0.0</th>\n",
       "      <td>5000.0</td>\n",
       "    </tr>\n",
       "    <tr>\n",
       "      <th>0.5</th>\n",
       "      <td>4100.0</td>\n",
       "    </tr>\n",
       "    <tr>\n",
       "      <th>한국</th>\n",
       "      <th>0.0</th>\n",
       "      <td>4100.0</td>\n",
       "    </tr>\n",
       "  </tbody>\n",
       "</table>\n",
       "</div>"
      ],
      "text/plain": [
       "              가격\n",
       "원두   할인율        \n",
       "과테말라 0.2  4600.0\n",
       "콜롬비아 0.0  5000.0\n",
       "     0.5  4100.0\n",
       "한국   0.0  4100.0"
      ]
     },
     "execution_count": 57,
     "metadata": {},
     "output_type": "execute_result"
    }
   ],
   "source": [
    "# 데이터 프레임으로 변환\n",
    "pd.DataFrame(df.groupby(['원두','할인율'])['가격'].mean())"
   ]
  },
  {
   "cell_type": "code",
   "execution_count": 59,
   "id": "f1d1b47e",
   "metadata": {},
   "outputs": [
    {
     "data": {
      "text/html": [
       "<div>\n",
       "<style scoped>\n",
       "    .dataframe tbody tr th:only-of-type {\n",
       "        vertical-align: middle;\n",
       "    }\n",
       "\n",
       "    .dataframe tbody tr th {\n",
       "        vertical-align: top;\n",
       "    }\n",
       "\n",
       "    .dataframe thead th {\n",
       "        text-align: right;\n",
       "    }\n",
       "</style>\n",
       "<table border=\"1\" class=\"dataframe\">\n",
       "  <thead>\n",
       "    <tr style=\"text-align: right;\">\n",
       "      <th></th>\n",
       "      <th>원두</th>\n",
       "      <th>할인율</th>\n",
       "      <th>가격</th>\n",
       "      <th>칼로리</th>\n",
       "      <th>이벤트가</th>\n",
       "    </tr>\n",
       "  </thead>\n",
       "  <tbody>\n",
       "    <tr>\n",
       "      <th>0</th>\n",
       "      <td>과테말라</td>\n",
       "      <td>0.2</td>\n",
       "      <td>4600.0</td>\n",
       "      <td>420.0</td>\n",
       "      <td>NaN</td>\n",
       "    </tr>\n",
       "    <tr>\n",
       "      <th>1</th>\n",
       "      <td>콜롬비아</td>\n",
       "      <td>0.0</td>\n",
       "      <td>5000.0</td>\n",
       "      <td>500.0</td>\n",
       "      <td>3000.0</td>\n",
       "    </tr>\n",
       "    <tr>\n",
       "      <th>2</th>\n",
       "      <td>콜롬비아</td>\n",
       "      <td>0.5</td>\n",
       "      <td>4100.0</td>\n",
       "      <td>10.0</td>\n",
       "      <td>1900.0</td>\n",
       "    </tr>\n",
       "    <tr>\n",
       "      <th>3</th>\n",
       "      <td>한국</td>\n",
       "      <td>0.0</td>\n",
       "      <td>4100.0</td>\n",
       "      <td>20.0</td>\n",
       "      <td>NaN</td>\n",
       "    </tr>\n",
       "  </tbody>\n",
       "</table>\n",
       "</div>"
      ],
      "text/plain": [
       "     원두  할인율      가격    칼로리    이벤트가\n",
       "0  과테말라  0.2  4600.0  420.0     NaN\n",
       "1  콜롬비아  0.0  5000.0  500.0  3000.0\n",
       "2  콜롬비아  0.5  4100.0   10.0  1900.0\n",
       "3    한국  0.0  4100.0   20.0     NaN"
      ]
     },
     "execution_count": 59,
     "metadata": {},
     "output_type": "execute_result"
    }
   ],
   "source": [
    "# 1개 인덱스 형태로 리셋\n",
    "df.groupby(['원두','할인율']).mean().reset_index()"
   ]
  },
  {
   "cell_type": "code",
   "execution_count": null,
   "id": "020029c3",
   "metadata": {},
   "outputs": [],
   "source": []
  },
  {
   "cell_type": "code",
   "execution_count": null,
   "id": "3f8cfc90",
   "metadata": {},
   "outputs": [],
   "source": []
  },
  {
   "cell_type": "code",
   "execution_count": null,
   "id": "d7c83569",
   "metadata": {},
   "outputs": [],
   "source": []
  },
  {
   "cell_type": "code",
   "execution_count": null,
   "id": "6396ff03",
   "metadata": {},
   "outputs": [],
   "source": []
  },
  {
   "cell_type": "code",
   "execution_count": null,
   "id": "fe5affed",
   "metadata": {},
   "outputs": [],
   "source": []
  }
 ],
 "metadata": {
  "kernelspec": {
   "display_name": "Python 3 (ipykernel)",
   "language": "python",
   "name": "python3"
  },
  "language_info": {
   "codemirror_mode": {
    "name": "ipython",
    "version": 3
   },
   "file_extension": ".py",
   "mimetype": "text/x-python",
   "name": "python",
   "nbconvert_exporter": "python",
   "pygments_lexer": "ipython3",
   "version": "3.9.7"
  }
 },
 "nbformat": 4,
 "nbformat_minor": 5
}
