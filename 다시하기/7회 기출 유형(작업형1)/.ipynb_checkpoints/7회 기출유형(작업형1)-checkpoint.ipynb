{
 "cells": [
  {
   "cell_type": "markdown",
   "id": "7954c639",
   "metadata": {},
   "source": [
    "## 작업형1"
   ]
  },
  {
   "cell_type": "markdown",
   "id": "ae1256b5",
   "metadata": {},
   "source": [
    "### 문제1. 결측치가 있는 행을 제거한 후, 학생이 가장 많이 수강한 과목(id_assessment)을 찾고, 해당 과목 점수(score)를 표준화(스탠다스 스케일) 한 뒤에 표준화된 가장 큰 값을 구하시오. (반올림하여 소수 셋째자리까지 계산)"
   ]
  },
  {
   "cell_type": "code",
   "execution_count": 39,
   "id": "82a22f72",
   "metadata": {},
   "outputs": [
    {
     "name": "stdout",
     "output_type": "stream",
     "text": [
      "2.183\n"
     ]
    }
   ],
   "source": [
    "import pandas as pd\n",
    "df = pd.read_csv(\"student_assessment.csv\")\n",
    "\n",
    "#print(df.isnull().sum())\n",
    "\n",
    "df = df.dropna()\n",
    "\n",
    "#print(df.isnull().sum())\n",
    "\n",
    "id = df['id_assessment'].value_counts().index[0]\n",
    "\n",
    "cond = df['id_assessment'] == id\n",
    "\n",
    "df = df[cond]\n",
    "\n",
    "#print(a)\n",
    "\n",
    "from sklearn.preprocessing import StandardScaler\n",
    "scaler = StandardScaler()\n",
    "df['score'] = scaler.fit_transform(df[['score']])\n",
    "\n",
    "\n",
    "print(round(df['score'].max(),3))"
   ]
  },
  {
   "cell_type": "code",
   "execution_count": null,
   "id": "6836f189",
   "metadata": {},
   "outputs": [],
   "source": []
  },
  {
   "cell_type": "markdown",
   "id": "bfefb911",
   "metadata": {},
   "source": [
    "### 문제2. DE1~DE77컬럼 중 주가지수의 종가 \"close\"와 가장 상관관계가 높은 변수를 찾아, 해당 변수의 평균값을 구하시오. (반올림하여 소수 넷째자리까지 계산)"
   ]
  },
  {
   "cell_type": "code",
   "execution_count": 54,
   "id": "3b70c037",
   "metadata": {},
   "outputs": [
    {
     "name": "stdout",
     "output_type": "stream",
     "text": [
      "-0.0004\n"
     ]
    }
   ],
   "source": [
    "import pandas as pd\n",
    "df = pd.read_csv(\"stock_market.csv\")\n",
    "\n",
    "#df.head()\n",
    "\n",
    "#df.corr()['close'].abs().sort_values(ascending = False)\n",
    "\n",
    "print(round(df['DE14'].mean(),4))"
   ]
  },
  {
   "cell_type": "code",
   "execution_count": null,
   "id": "c0c6db9e",
   "metadata": {},
   "outputs": [],
   "source": []
  },
  {
   "cell_type": "markdown",
   "id": "a9f9c8fd",
   "metadata": {},
   "source": [
    "### 문제3. IQR을 이용해 이산화탄소(CO2) 이상치 수를 찾으시오\n",
    "\n",
    "- Q1 (제 1사분위수): 하위 25% 값\n",
    "- Q3 (제 3사분위수): 상위 25% 값\n",
    "- IQR (사분위수 범위): IQR = Q3 - Q1\n",
    "\n",
    "- lower (하한선): Q1 - 1.5 * IQR, 이 값보다 작은 데이터는 이상치로 간주\n",
    "- upper (상한선): Q3 + 1.5 * IQR, 이 값보다 큰 데이터는 이상치로 간주\n",
    "\n"
   ]
  },
  {
   "cell_type": "code",
   "execution_count": 63,
   "id": "96e7802c",
   "metadata": {},
   "outputs": [
    {
     "name": "stdout",
     "output_type": "stream",
     "text": [
      "304\n"
     ]
    }
   ],
   "source": [
    "import pandas as pd\n",
    "df = pd.read_csv(\"air_quality.csv\")\n",
    "\n",
    "#print(df)\n",
    "\n",
    "q1 = df['CO2'].quantile(.25)\n",
    "q3 = df['CO2'].quantile(.75)\n",
    "\n",
    "iqr = q3 - q1\n",
    "\n",
    "lower = q1 - 1.5 * iqr\n",
    "upper = q3 + 1.5 * iqr\n",
    "\n",
    "cond1 = df['CO2'] < lower\n",
    "cond2 = df['CO2'] > upper\n",
    "\n",
    "outlier = df[cond1 | cond2]\n",
    "\n",
    "print(len(outlier))"
   ]
  },
  {
   "cell_type": "code",
   "execution_count": null,
   "id": "7f3f07dd",
   "metadata": {},
   "outputs": [],
   "source": []
  },
  {
   "cell_type": "code",
   "execution_count": null,
   "id": "45d5e6d9",
   "metadata": {},
   "outputs": [],
   "source": []
  }
 ],
 "metadata": {
  "kernelspec": {
   "display_name": "Python 3 (ipykernel)",
   "language": "python",
   "name": "python3"
  },
  "language_info": {
   "codemirror_mode": {
    "name": "ipython",
    "version": 3
   },
   "file_extension": ".py",
   "mimetype": "text/x-python",
   "name": "python",
   "nbconvert_exporter": "python",
   "pygments_lexer": "ipython3",
   "version": "3.10.9"
  }
 },
 "nbformat": 4,
 "nbformat_minor": 5
}
