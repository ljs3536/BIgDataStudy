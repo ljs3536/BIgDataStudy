{
 "cells": [
  {
   "cell_type": "markdown",
   "id": "d33a552d",
   "metadata": {},
   "source": [
    "## 작업형3"
   ]
  },
  {
   "cell_type": "markdown",
   "id": "2fdf3a07",
   "metadata": {},
   "source": [
    "### 문제1. 주어진 조개 데이터 300개 중 앞에서부터 210개는 train 데이터로 만들고, 나머지 90개는 test데이터로 만든다. 모델을 학습(적합)할 때는 train데이터를 사용하고, 예측할 때는 test데이터를 사용한다. 모델은 로지스틱 회귀를 써서 성별(gender)을 예측하되, 패널티는 부과하지 않는다.\n",
    "- 종속변수: gender(0:암컷, 1:수컷)"
   ]
  },
  {
   "cell_type": "markdown",
   "id": "c353dd63",
   "metadata": {},
   "source": [
    "### 문제1-1. weight를 독립변수로 gender를 종속변수로 사용하여 로지스틱 회귀 모형을 만들고, weight 변수가 한 단위 증가할 때 수컷일 오즈비 값은? (반올림하여 소수 넷째자리까지 계산)"
   ]
  },
  {
   "cell_type": "code",
   "execution_count": 1,
   "id": "eb490a98",
   "metadata": {},
   "outputs": [
    {
     "name": "stdout",
     "output_type": "stream",
     "text": [
      "(210, 6) (90, 6)\n"
     ]
    }
   ],
   "source": [
    "import pandas as pd\n",
    "df = pd.read_csv(\"clam.csv\")\n",
    "\n",
    "# 데이터셋 분할\n",
    "df.head()\n",
    "\n",
    "train = df.iloc[:210]\n",
    "test = df.iloc[210:]\n",
    "\n",
    "print(train.shape, test.shape)"
   ]
  },
  {
   "cell_type": "code",
   "execution_count": 2,
   "id": "bd040b4d",
   "metadata": {},
   "outputs": [
    {
     "name": "stdout",
     "output_type": "stream",
     "text": [
      "Optimization terminated successfully.\n",
      "         Current function value: 0.690045\n",
      "         Iterations 4\n",
      "                           Logit Regression Results                           \n",
      "==============================================================================\n",
      "Dep. Variable:                 gender   No. Observations:                  210\n",
      "Model:                          Logit   Df Residuals:                      208\n",
      "Method:                           MLE   Df Model:                            1\n",
      "Date:                Wed, 19 Jun 2024   Pseudo R-squ.:                0.003431\n",
      "Time:                        22:58:38   Log-Likelihood:                -144.91\n",
      "converged:                       True   LL-Null:                       -145.41\n",
      "Covariance Type:            nonrobust   LLR p-value:                    0.3178\n",
      "==============================================================================\n",
      "                 coef    std err          z      P>|z|      [0.025      0.975]\n",
      "------------------------------------------------------------------------------\n",
      "Intercept     -0.3140      0.276     -1.137      0.256      -0.855       0.227\n",
      "weight         0.0047      0.005      0.997      0.319      -0.005       0.014\n",
      "==============================================================================\n",
      "1.0047\n",
      "1.0047\n"
     ]
    }
   ],
   "source": [
    "from statsmodels.formula.api import logit\n",
    "import numpy as np\n",
    "\n",
    "# 1) 로지스틱 회귀 모델 생성 및 학습\n",
    "model =logit(\"gender ~ weight\",data=train).fit()\n",
    "print(model.summary())\n",
    "\n",
    "# 2) 오즈비 계산\n",
    "print(round(np.exp(0.0047),4))\n",
    "print(round(np.exp(model.params['weight']),4))"
   ]
  },
  {
   "cell_type": "markdown",
   "id": "9e70d0ab",
   "metadata": {},
   "source": [
    "### 문제1-2. gender를 종속변수로 하고 나머지 변수들(age, length, diameter, height, weight)을 독립변수로 사용하는 로지스틱 회귀 모델을 적합시킨 후, 잔차 이탈도(Residual Deviance)를 계산하시오. (반올림하여 소수 둘째자리까지 계산)"
   ]
  },
  {
   "cell_type": "code",
   "execution_count": 3,
   "id": "14cee537",
   "metadata": {},
   "outputs": [
    {
     "name": "stdout",
     "output_type": "stream",
     "text": [
      "                 Generalized Linear Model Regression Results                  \n",
      "==============================================================================\n",
      "Dep. Variable:                 gender   No. Observations:                  210\n",
      "Model:                            GLM   Df Residuals:                      204\n",
      "Model Family:                Binomial   Df Model:                            5\n",
      "Link Function:                  Logit   Scale:                          1.0000\n",
      "Method:                          IRLS   Log-Likelihood:                -143.47\n",
      "Date:                Wed, 19 Jun 2024   Deviance:                       286.93\n",
      "Time:                        22:58:39   Pearson chi2:                     210.\n",
      "No. Iterations:                     4   Pseudo R-squ. (CS):            0.01833\n",
      "Covariance Type:            nonrobust                                         \n",
      "==============================================================================\n",
      "                 coef    std err          z      P>|z|      [0.025      0.975]\n",
      "------------------------------------------------------------------------------\n",
      "Intercept      0.6701      0.651      1.030      0.303      -0.605       1.946\n",
      "age           -0.0482      0.055     -0.881      0.378      -0.156       0.059\n",
      "length        -0.7832      0.998     -0.785      0.433      -2.739       1.173\n",
      "diameter      -1.1573      1.389     -0.833      0.405      -3.880       1.565\n",
      "height        -2.2977      2.640     -0.870      0.384      -7.472       2.877\n",
      "weight         0.0054      0.005      1.098      0.272      -0.004       0.015\n",
      "==============================================================================\n",
      "286.93\n"
     ]
    }
   ],
   "source": [
    "from statsmodels.formula.api import glm\n",
    "import statsmodels.api as sm\n",
    "\n",
    "# 1) glm 모델 적합 (로지스틱 회귀를 위해 이항 분포 사용)\n",
    "formula = \"gender ~ age + length + diameter + height + weight\"\n",
    "model = glm(formula, data = train, family=sm.families.Binomial()).fit()\n",
    "# 2) 잔차이탈도 계산 =>  Deviance\n",
    "\n",
    "print(model.summary())\n",
    "\n",
    "print(round(model.deviance,2))"
   ]
  },
  {
   "cell_type": "markdown",
   "id": "e92407f3",
   "metadata": {},
   "source": [
    "### 문제1-3. 독립변수 weight 만 사용해 학습한 로지스틱 회귀모델에서 test데이터의 gender를 예측하고, error rate(오류율)를 구하시오. (반올림하여 소수 셋째자리까지 계산)"
   ]
  },
  {
   "cell_type": "code",
   "execution_count": 7,
   "id": "d30a1b61",
   "metadata": {},
   "outputs": [
    {
     "name": "stdout",
     "output_type": "stream",
     "text": [
      "Optimization terminated successfully.\n",
      "         Current function value: 0.690045\n",
      "         Iterations 4\n",
      "0.478\n"
     ]
    }
   ],
   "source": [
    "from sklearn.metrics import accuracy_score\n",
    "from statsmodels.formula.api import logit\n",
    "\n",
    "train = df.iloc[:210]\n",
    "test = df.iloc[210:]\n",
    "\n",
    "model = logit(\"gender ~ weight\",data=train).fit()\n",
    "target = test.pop('gender')\n",
    "pred = model.predict(test) > 0.5\n",
    "\n",
    "acc = accuracy_score(target,pred)\n",
    "\n",
    "print(round(1-acc,3))"
   ]
  },
  {
   "cell_type": "markdown",
   "id": "799fe500",
   "metadata": {},
   "source": [
    "### 문제2-1. ERP와 가장 상관관계 높은값을 구하시오. (반올림하여 소수 셋째자리까지 계산)"
   ]
  },
  {
   "cell_type": "code",
   "execution_count": 8,
   "id": "99e7ab7c",
   "metadata": {},
   "outputs": [
    {
     "data": {
      "text/html": [
       "<div>\n",
       "<style scoped>\n",
       "    .dataframe tbody tr th:only-of-type {\n",
       "        vertical-align: middle;\n",
       "    }\n",
       "\n",
       "    .dataframe tbody tr th {\n",
       "        vertical-align: top;\n",
       "    }\n",
       "\n",
       "    .dataframe thead th {\n",
       "        text-align: right;\n",
       "    }\n",
       "</style>\n",
       "<table border=\"1\" class=\"dataframe\">\n",
       "  <thead>\n",
       "    <tr style=\"text-align: right;\">\n",
       "      <th></th>\n",
       "      <th>ERP</th>\n",
       "      <th>Feature1</th>\n",
       "      <th>Feature2</th>\n",
       "      <th>Feature3</th>\n",
       "      <th>CPU</th>\n",
       "    </tr>\n",
       "  </thead>\n",
       "  <tbody>\n",
       "    <tr>\n",
       "      <th>0</th>\n",
       "      <td>135.281047</td>\n",
       "      <td>235.088034</td>\n",
       "      <td>44.462272</td>\n",
       "      <td>-36.532634</td>\n",
       "      <td>20.492369</td>\n",
       "    </tr>\n",
       "    <tr>\n",
       "      <th>1</th>\n",
       "      <td>108.003144</td>\n",
       "      <td>36.571914</td>\n",
       "      <td>46.409312</td>\n",
       "      <td>-21.709347</td>\n",
       "      <td>34.169811</td>\n",
       "    </tr>\n",
       "    <tr>\n",
       "      <th>2</th>\n",
       "      <td>119.574760</td>\n",
       "      <td>52.239055</td>\n",
       "      <td>66.494894</td>\n",
       "      <td>-30.590820</td>\n",
       "      <td>67.624248</td>\n",
       "    </tr>\n",
       "  </tbody>\n",
       "</table>\n",
       "</div>"
      ],
      "text/plain": [
       "          ERP    Feature1   Feature2   Feature3        CPU\n",
       "0  135.281047  235.088034  44.462272 -36.532634  20.492369\n",
       "1  108.003144   36.571914  46.409312 -21.709347  34.169811\n",
       "2  119.574760   52.239055  66.494894 -30.590820  67.624248"
      ]
     },
     "execution_count": 8,
     "metadata": {},
     "output_type": "execute_result"
    }
   ],
   "source": [
    "import pandas as pd\n",
    "df = pd.read_csv('system.csv')\n",
    "df.head(3)"
   ]
  },
  {
   "cell_type": "code",
   "execution_count": 11,
   "id": "9b73b1e0",
   "metadata": {},
   "outputs": [
    {
     "data": {
      "text/html": [
       "<div>\n",
       "<style scoped>\n",
       "    .dataframe tbody tr th:only-of-type {\n",
       "        vertical-align: middle;\n",
       "    }\n",
       "\n",
       "    .dataframe tbody tr th {\n",
       "        vertical-align: top;\n",
       "    }\n",
       "\n",
       "    .dataframe thead th {\n",
       "        text-align: right;\n",
       "    }\n",
       "</style>\n",
       "<table border=\"1\" class=\"dataframe\">\n",
       "  <thead>\n",
       "    <tr style=\"text-align: right;\">\n",
       "      <th></th>\n",
       "      <th>ERP</th>\n",
       "      <th>Feature1</th>\n",
       "      <th>Feature2</th>\n",
       "      <th>Feature3</th>\n",
       "      <th>CPU</th>\n",
       "    </tr>\n",
       "  </thead>\n",
       "  <tbody>\n",
       "    <tr>\n",
       "      <th>ERP</th>\n",
       "      <td>1.000000</td>\n",
       "      <td>0.434442</td>\n",
       "      <td>0.076116</td>\n",
       "      <td>-0.059888</td>\n",
       "      <td>-0.201027</td>\n",
       "    </tr>\n",
       "    <tr>\n",
       "      <th>Feature1</th>\n",
       "      <td>0.434442</td>\n",
       "      <td>1.000000</td>\n",
       "      <td>0.076148</td>\n",
       "      <td>0.049980</td>\n",
       "      <td>-0.098571</td>\n",
       "    </tr>\n",
       "    <tr>\n",
       "      <th>Feature2</th>\n",
       "      <td>0.076116</td>\n",
       "      <td>0.076148</td>\n",
       "      <td>1.000000</td>\n",
       "      <td>0.126589</td>\n",
       "      <td>0.071456</td>\n",
       "    </tr>\n",
       "    <tr>\n",
       "      <th>Feature3</th>\n",
       "      <td>-0.059888</td>\n",
       "      <td>0.049980</td>\n",
       "      <td>0.126589</td>\n",
       "      <td>1.000000</td>\n",
       "      <td>-0.035247</td>\n",
       "    </tr>\n",
       "    <tr>\n",
       "      <th>CPU</th>\n",
       "      <td>-0.201027</td>\n",
       "      <td>-0.098571</td>\n",
       "      <td>0.071456</td>\n",
       "      <td>-0.035247</td>\n",
       "      <td>1.000000</td>\n",
       "    </tr>\n",
       "  </tbody>\n",
       "</table>\n",
       "</div>"
      ],
      "text/plain": [
       "               ERP  Feature1  Feature2  Feature3       CPU\n",
       "ERP       1.000000  0.434442  0.076116 -0.059888 -0.201027\n",
       "Feature1  0.434442  1.000000  0.076148  0.049980 -0.098571\n",
       "Feature2  0.076116  0.076148  1.000000  0.126589  0.071456\n",
       "Feature3 -0.059888  0.049980  0.126589  1.000000 -0.035247\n",
       "CPU      -0.201027 -0.098571  0.071456 -0.035247  1.000000"
      ]
     },
     "execution_count": 11,
     "metadata": {},
     "output_type": "execute_result"
    }
   ],
   "source": [
    "df.corr()\n",
    "\n",
    "#print(0.43)"
   ]
  },
  {
   "cell_type": "markdown",
   "id": "837c1475",
   "metadata": {},
   "source": [
    "### 문제2-2. CPU 컬럼이 100미만인 것만 찾아 ERP를 종속 변수로, 나머지 변수들을 독립 변수로 설정해 선형회귀 모델을 만들고 적합한 결정계수를 구하시오. (반올림하여 소수 셋째자리까지 계산)"
   ]
  },
  {
   "cell_type": "code",
   "execution_count": 13,
   "id": "322a456b",
   "metadata": {},
   "outputs": [
    {
     "name": "stdout",
     "output_type": "stream",
     "text": [
      "                            OLS Regression Results                            \n",
      "==============================================================================\n",
      "Dep. Variable:                    ERP   R-squared:                       0.226\n",
      "Model:                            OLS   Adj. R-squared:                  0.193\n",
      "Method:                 Least Squares   F-statistic:                     6.937\n",
      "Date:                Wed, 19 Jun 2024   Prob (F-statistic):           6.07e-05\n",
      "Time:                        23:03:42   Log-Likelihood:                -429.44\n",
      "No. Observations:                 100   AIC:                             868.9\n",
      "Df Residuals:                      95   BIC:                             881.9\n",
      "Df Model:                           4                                         \n",
      "Covariance Type:            nonrobust                                         \n",
      "==============================================================================\n",
      "                 coef    std err          t      P>|t|      [0.025      0.975]\n",
      "------------------------------------------------------------------------------\n",
      "Intercept     74.4348     15.094      4.932      0.000      44.470     104.399\n",
      "Feature1       0.1391      0.030      4.583      0.000       0.079       0.199\n",
      "Feature2       0.0966      0.129      0.747      0.457      -0.160       0.353\n",
      "Feature3      -0.4136      0.395     -1.046      0.298      -1.198       0.371\n",
      "CPU           -0.1125      0.061     -1.846      0.068      -0.233       0.008\n",
      "==============================================================================\n",
      "Omnibus:                        0.279   Durbin-Watson:                   1.976\n",
      "Prob(Omnibus):                  0.870   Jarque-Bera (JB):                0.442\n",
      "Skew:                           0.090   Prob(JB):                        0.802\n",
      "Kurtosis:                       2.729   Cond. No.                     1.16e+03\n",
      "==============================================================================\n",
      "\n",
      "Notes:\n",
      "[1] Standard Errors assume that the covariance matrix of the errors is correctly specified.\n",
      "[2] The condition number is large, 1.16e+03. This might indicate that there are\n",
      "strong multicollinearity or other numerical problems.\n"
     ]
    }
   ],
   "source": [
    "from statsmodels.formula.api import ols\n",
    "\n",
    "cond  = df['CPU'] < 100\n",
    "\n",
    "df = df[cond]\n",
    "df\n",
    "model = ols('ERP ~ Feature1 + Feature2 + Feature3 + CPU',data=df).fit()\n",
    "\n",
    "print(model.summary())\n",
    "#0.226\n",
    "# model.rsquared"
   ]
  },
  {
   "cell_type": "markdown",
   "id": "6be92273",
   "metadata": {},
   "source": [
    "### 문제 2-3. 2-2에서 만든 모델에서 독립변수 중 p-value가 가장 높은값을 구하시오. (반올림하여 소수 셋째자리까지 계산)"
   ]
  },
  {
   "cell_type": "code",
   "execution_count": 17,
   "id": "43b37320",
   "metadata": {},
   "outputs": [
    {
     "data": {
      "text/plain": [
       "1.3935115195752718e-05"
      ]
     },
     "execution_count": 17,
     "metadata": {},
     "output_type": "execute_result"
    }
   ],
   "source": [
    "# 0.457\n",
    "model.pvalues['Feature1']"
   ]
  },
  {
   "cell_type": "code",
   "execution_count": null,
   "id": "7e4bf25b",
   "metadata": {},
   "outputs": [],
   "source": []
  }
 ],
 "metadata": {
  "kernelspec": {
   "display_name": "Python 3 (ipykernel)",
   "language": "python",
   "name": "python3"
  },
  "language_info": {
   "codemirror_mode": {
    "name": "ipython",
    "version": 3
   },
   "file_extension": ".py",
   "mimetype": "text/x-python",
   "name": "python",
   "nbconvert_exporter": "python",
   "pygments_lexer": "ipython3",
   "version": "3.10.9"
  }
 },
 "nbformat": 4,
 "nbformat_minor": 5
}
