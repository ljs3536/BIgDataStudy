{
 "cells": [
  {
   "cell_type": "markdown",
   "id": "d33a552d",
   "metadata": {},
   "source": [
    "## 작업형3"
   ]
  },
  {
   "cell_type": "markdown",
   "id": "2fdf3a07",
   "metadata": {},
   "source": [
    "### 문제1. 주어진 조개 데이터 300개 중 앞에서부터 210개는 train 데이터로 만들고, 나머지 90개는 test데이터로 만든다. 모델을 학습(적합)할 때는 train데이터를 사용하고, 예측할 때는 test데이터를 사용한다. 모델은 로지스틱 회귀를 써서 성별(gender)을 예측하되, 패널티는 부과하지 않는다.\n",
    "- 종속변수: gender(0:암컷, 1:수컷)"
   ]
  },
  {
   "cell_type": "markdown",
   "id": "c353dd63",
   "metadata": {},
   "source": [
    "### 문제1-1. weight를 독립변수로 gender를 종속변수로 사용하여 로지스틱 회귀 모형을 만들고, weight 변수가 한 단위 증가할 때 수컷일 오즈비 값은? (반올림하여 소수 넷째자리까지 계산)"
   ]
  },
  {
   "cell_type": "code",
   "execution_count": 2,
   "id": "eb490a98",
   "metadata": {},
   "outputs": [
    {
     "name": "stdout",
     "output_type": "stream",
     "text": [
      "(210, 6) (90, 6)\n"
     ]
    }
   ],
   "source": [
    "import pandas as pd\n",
    "df = pd.read_csv(\"clam.csv\")\n",
    "\n",
    "# 데이터셋 분할\n",
    "df.head()\n",
    "\n",
    "train = df.iloc[:210]\n",
    "test = df.iloc[210:]\n",
    "\n",
    "print(train.shape, test.shape)"
   ]
  },
  {
   "cell_type": "code",
   "execution_count": 8,
   "id": "bd040b4d",
   "metadata": {},
   "outputs": [
    {
     "name": "stdout",
     "output_type": "stream",
     "text": [
      "Optimization terminated successfully.\n",
      "         Current function value: 0.690045\n",
      "         Iterations 4\n",
      "                           Logit Regression Results                           \n",
      "==============================================================================\n",
      "Dep. Variable:                 gender   No. Observations:                  210\n",
      "Model:                          Logit   Df Residuals:                      208\n",
      "Method:                           MLE   Df Model:                            1\n",
      "Date:                Sun, 16 Jun 2024   Pseudo R-squ.:                0.003431\n",
      "Time:                        20:14:38   Log-Likelihood:                -144.91\n",
      "converged:                       True   LL-Null:                       -145.41\n",
      "Covariance Type:            nonrobust   LLR p-value:                    0.3178\n",
      "==============================================================================\n",
      "                 coef    std err          z      P>|z|      [0.025      0.975]\n",
      "------------------------------------------------------------------------------\n",
      "Intercept     -0.3140      0.276     -1.137      0.256      -0.855       0.227\n",
      "weight         0.0047      0.005      0.997      0.319      -0.005       0.014\n",
      "==============================================================================\n",
      "1.0047\n",
      "1.0047\n"
     ]
    }
   ],
   "source": [
    "from statsmodels.formula.api import logit\n",
    "import numpy as np\n",
    "\n",
    "# 1) 로지스틱 회귀 모델 생성 및 학습\n",
    "model =logit(\"gender ~ weight\",data=train).fit()\n",
    "print(model.summary())\n",
    "\n",
    "# 2) 오즈비 계산\n",
    "print(round(np.exp(0.0047),4))\n",
    "print(round(np.exp(model.params['weight']),4))"
   ]
  },
  {
   "cell_type": "markdown",
   "id": "9e70d0ab",
   "metadata": {},
   "source": [
    "### 문제1-2. gender를 종속변수로 하고 나머지 변수들(age, length, diameter, height, weight)을 독립변수로 사용하는 로지스틱 회귀 모델을 적합시킨 후, 잔차 이탈도(Residual Deviance)를 계산하시오. (반올림하여 소수 둘째자리까지 계산)"
   ]
  },
  {
   "cell_type": "code",
   "execution_count": 14,
   "id": "14cee537",
   "metadata": {},
   "outputs": [
    {
     "name": "stdout",
     "output_type": "stream",
     "text": [
      "                 Generalized Linear Model Regression Results                  \n",
      "==============================================================================\n",
      "Dep. Variable:                 gender   No. Observations:                  210\n",
      "Model:                            GLM   Df Residuals:                      204\n",
      "Model Family:                Binomial   Df Model:                            5\n",
      "Link Function:                  Logit   Scale:                          1.0000\n",
      "Method:                          IRLS   Log-Likelihood:                -143.47\n",
      "Date:                Sun, 16 Jun 2024   Deviance:                       286.93\n",
      "Time:                        20:46:46   Pearson chi2:                     210.\n",
      "No. Iterations:                     4   Pseudo R-squ. (CS):            0.01833\n",
      "Covariance Type:            nonrobust                                         \n",
      "==============================================================================\n",
      "                 coef    std err          z      P>|z|      [0.025      0.975]\n",
      "------------------------------------------------------------------------------\n",
      "Intercept      0.6701      0.651      1.030      0.303      -0.605       1.946\n",
      "age           -0.0482      0.055     -0.881      0.378      -0.156       0.059\n",
      "length        -0.7832      0.998     -0.785      0.433      -2.739       1.173\n",
      "diameter      -1.1573      1.389     -0.833      0.405      -3.880       1.565\n",
      "height        -2.2977      2.640     -0.870      0.384      -7.472       2.877\n",
      "weight         0.0054      0.005      1.098      0.272      -0.004       0.015\n",
      "==============================================================================\n",
      "286.93\n"
     ]
    }
   ],
   "source": [
    "from statsmodels.formula.api import glm\n",
    "import statsmodels.api as sm\n",
    "\n",
    "# 1) glm 모델 적합 (로지스틱 회귀를 위해 이항 분포 사용)\n",
    "formula = \"gender ~ age + length + diameter + height + weight\"\n",
    "model = glm(formula, data = train, family=sm.families.Binomial()).fit()\n",
    "# 2) 잔차이탈도 계산 =>  Deviance\n",
    "\n",
    "print(model.summary())\n",
    "\n",
    "print(round(model.deviance,2))"
   ]
  },
  {
   "cell_type": "markdown",
   "id": "e92407f3",
   "metadata": {},
   "source": [
    "### 문제1-3. 독립변수 weight 만 사용해 학습한 로지스틱 회귀모델에서 test데이터의 gender를 예측하고, error rate(오류율)를 구하시오. (반올림하여 소수 셋째자리까지 계산)"
   ]
  },
  {
   "cell_type": "code",
   "execution_count": null,
   "id": "d30a1b61",
   "metadata": {},
   "outputs": [],
   "source": []
  },
  {
   "cell_type": "markdown",
   "id": "799fe500",
   "metadata": {},
   "source": [
    "### 문제2-1. ERP와 가장 상관관계 높은값을 구하시오. (반올림하여 소수 셋째자리까지 계산)"
   ]
  },
  {
   "cell_type": "code",
   "execution_count": null,
   "id": "99e7ab7c",
   "metadata": {},
   "outputs": [],
   "source": []
  },
  {
   "cell_type": "markdown",
   "id": "837c1475",
   "metadata": {},
   "source": [
    "### 문제2-2. CPU 컬럼이 100미만인 것만 찾아 ERP를 종속 변수로, 나머지 변수들을 독립 변수로 설정해 선형회귀 모델을 만들고 적합한 결정계수를 구하시오. (반올림하여 소수 셋째자리까지 계산)"
   ]
  },
  {
   "cell_type": "code",
   "execution_count": null,
   "id": "322a456b",
   "metadata": {},
   "outputs": [],
   "source": []
  },
  {
   "cell_type": "markdown",
   "id": "6be92273",
   "metadata": {},
   "source": [
    "### 문제 2-3. 2-2에서 만든 모델에서 독립변수 중 p-value가 가장 높은값을 구하시오. (반올림하여 소수 셋째자리까지 계산)"
   ]
  },
  {
   "cell_type": "code",
   "execution_count": null,
   "id": "43b37320",
   "metadata": {},
   "outputs": [],
   "source": []
  }
 ],
 "metadata": {
  "kernelspec": {
   "display_name": "Python 3 (ipykernel)",
   "language": "python",
   "name": "python3"
  },
  "language_info": {
   "codemirror_mode": {
    "name": "ipython",
    "version": 3
   },
   "file_extension": ".py",
   "mimetype": "text/x-python",
   "name": "python",
   "nbconvert_exporter": "python",
   "pygments_lexer": "ipython3",
   "version": "3.10.9"
  }
 },
 "nbformat": 4,
 "nbformat_minor": 5
}
