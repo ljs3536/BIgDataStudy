{
 "cells": [
  {
   "cell_type": "markdown",
   "id": "8ff22218",
   "metadata": {},
   "source": [
    "## 다중 분류 문제\n",
    "- 난방 부하 단계를 예측해주세요!\n",
    "\n",
    "- 예측할 값(y): Heat_Load (Very Low, Low, Medium, High, Very High)\n",
    "- 평가: f1-macro\n",
    "- data: train.csv, test.csv\n",
    "- 제출 형식: result.csv파일을 아래와 같은 형식으로 제출\n",
    "~~~\n",
    "pred\n",
    "Very Low\n",
    "Low\n",
    "High\n",
    "...\n",
    "Very High\n",
    "~~~\n",
    "\n",
    "### 답안 제출 참고\n",
    "- pd.read_csv('result.csv') 로 제출 코드 확인"
   ]
  },
  {
   "cell_type": "markdown",
   "id": "4b6ff480",
   "metadata": {},
   "source": [
    "# 1. 문제정의\n",
    "- 문제: 다중 분류\n",
    "- 평가: f1-macro\n",
    "- 타겟: 문자(5가지)"
   ]
  },
  {
   "cell_type": "markdown",
   "id": "fa014627",
   "metadata": {},
   "source": [
    "# 2. 라이브러리 및 데이터 불러오기"
   ]
  },
  {
   "cell_type": "code",
   "execution_count": 1,
   "id": "b9ee2f9e",
   "metadata": {},
   "outputs": [],
   "source": [
    "# 데이터 불러오기\n",
    "import pandas as pd\n",
    "train = pd.read_csv(\"energy_train.csv\")\n",
    "test = pd.read_csv(\"energy_test.csv\")"
   ]
  },
  {
   "cell_type": "markdown",
   "id": "81902c6d",
   "metadata": {},
   "source": [
    "# 3. 탐색적 데이터 분석(EDA)"
   ]
  },
  {
   "cell_type": "code",
   "execution_count": 2,
   "id": "f5a26b43",
   "metadata": {},
   "outputs": [
    {
     "data": {
      "text/plain": [
       "((537, 10), (231, 9))"
      ]
     },
     "execution_count": 2,
     "metadata": {},
     "output_type": "execute_result"
    }
   ],
   "source": [
    "# 데이터 크기 확인\n",
    "train.shape, test.shape"
   ]
  },
  {
   "cell_type": "code",
   "execution_count": 3,
   "id": "fe3a552b",
   "metadata": {},
   "outputs": [
    {
     "data": {
      "text/html": [
       "<div>\n",
       "<style scoped>\n",
       "    .dataframe tbody tr th:only-of-type {\n",
       "        vertical-align: middle;\n",
       "    }\n",
       "\n",
       "    .dataframe tbody tr th {\n",
       "        vertical-align: top;\n",
       "    }\n",
       "\n",
       "    .dataframe thead th {\n",
       "        text-align: right;\n",
       "    }\n",
       "</style>\n",
       "<table border=\"1\" class=\"dataframe\">\n",
       "  <thead>\n",
       "    <tr style=\"text-align: right;\">\n",
       "      <th></th>\n",
       "      <th>Compac</th>\n",
       "      <th>Surf_Area</th>\n",
       "      <th>Wall_Area</th>\n",
       "      <th>Roof</th>\n",
       "      <th>Height</th>\n",
       "      <th>Orient</th>\n",
       "      <th>Glaze_Area</th>\n",
       "      <th>Glaze_Distr</th>\n",
       "      <th>Cool_Load</th>\n",
       "      <th>Heat_Load</th>\n",
       "    </tr>\n",
       "  </thead>\n",
       "  <tbody>\n",
       "    <tr>\n",
       "      <th>0</th>\n",
       "      <td>0.74</td>\n",
       "      <td>686.0</td>\n",
       "      <td>245.0</td>\n",
       "      <td>220.5</td>\n",
       "      <td>Short</td>\n",
       "      <td>South</td>\n",
       "      <td>0.25</td>\n",
       "      <td>3</td>\n",
       "      <td>14.72</td>\n",
       "      <td>Very Low</td>\n",
       "    </tr>\n",
       "    <tr>\n",
       "      <th>1</th>\n",
       "      <td>0.98</td>\n",
       "      <td>514.5</td>\n",
       "      <td>294.0</td>\n",
       "      <td>Small</td>\n",
       "      <td>Tall</td>\n",
       "      <td>South</td>\n",
       "      <td>0.40</td>\n",
       "      <td>2</td>\n",
       "      <td>33.94</td>\n",
       "      <td>High</td>\n",
       "    </tr>\n",
       "  </tbody>\n",
       "</table>\n",
       "</div>"
      ],
      "text/plain": [
       "   Compac  Surf_Area  Wall_Area   Roof Height Orient  Glaze_Area  Glaze_Distr  \\\n",
       "0    0.74      686.0      245.0  220.5  Short  South        0.25            3   \n",
       "1    0.98      514.5      294.0  Small   Tall  South        0.40            2   \n",
       "\n",
       "   Cool_Load Heat_Load  \n",
       "0      14.72  Very Low  \n",
       "1      33.94      High  "
      ]
     },
     "execution_count": 3,
     "metadata": {},
     "output_type": "execute_result"
    }
   ],
   "source": [
    "# train 샘플 확인\n",
    "train.head(2)"
   ]
  },
  {
   "cell_type": "code",
   "execution_count": 4,
   "id": "802e5987",
   "metadata": {},
   "outputs": [
    {
     "data": {
      "text/html": [
       "<div>\n",
       "<style scoped>\n",
       "    .dataframe tbody tr th:only-of-type {\n",
       "        vertical-align: middle;\n",
       "    }\n",
       "\n",
       "    .dataframe tbody tr th {\n",
       "        vertical-align: top;\n",
       "    }\n",
       "\n",
       "    .dataframe thead th {\n",
       "        text-align: right;\n",
       "    }\n",
       "</style>\n",
       "<table border=\"1\" class=\"dataframe\">\n",
       "  <thead>\n",
       "    <tr style=\"text-align: right;\">\n",
       "      <th></th>\n",
       "      <th>Compac</th>\n",
       "      <th>Surf_Area</th>\n",
       "      <th>Wall_Area</th>\n",
       "      <th>Roof</th>\n",
       "      <th>Height</th>\n",
       "      <th>Orient</th>\n",
       "      <th>Glaze_Area</th>\n",
       "      <th>Glaze_Distr</th>\n",
       "      <th>Cool_Load</th>\n",
       "    </tr>\n",
       "  </thead>\n",
       "  <tbody>\n",
       "    <tr>\n",
       "      <th>0</th>\n",
       "      <td>0.64</td>\n",
       "      <td>784.0</td>\n",
       "      <td>343.0</td>\n",
       "      <td>220.5</td>\n",
       "      <td>Short</td>\n",
       "      <td>South</td>\n",
       "      <td>0.4</td>\n",
       "      <td>4</td>\n",
       "      <td>22.25</td>\n",
       "    </tr>\n",
       "  </tbody>\n",
       "</table>\n",
       "</div>"
      ],
      "text/plain": [
       "   Compac  Surf_Area  Wall_Area   Roof Height Orient  Glaze_Area  Glaze_Distr  \\\n",
       "0    0.64      784.0      343.0  220.5  Short  South         0.4            4   \n",
       "\n",
       "   Cool_Load  \n",
       "0      22.25  "
      ]
     },
     "execution_count": 4,
     "metadata": {},
     "output_type": "execute_result"
    }
   ],
   "source": [
    "# test 샘플 확인\n",
    "test.head(1)"
   ]
  },
  {
   "cell_type": "code",
   "execution_count": 5,
   "id": "9de98ef5",
   "metadata": {},
   "outputs": [
    {
     "name": "stdout",
     "output_type": "stream",
     "text": [
      "<class 'pandas.core.frame.DataFrame'>\n",
      "RangeIndex: 537 entries, 0 to 536\n",
      "Data columns (total 10 columns):\n",
      " #   Column       Non-Null Count  Dtype  \n",
      "---  ------       --------------  -----  \n",
      " 0   Compac       537 non-null    float64\n",
      " 1   Surf_Area    537 non-null    float64\n",
      " 2   Wall_Area    537 non-null    float64\n",
      " 3   Roof         537 non-null    object \n",
      " 4   Height       537 non-null    object \n",
      " 5   Orient       537 non-null    object \n",
      " 6   Glaze_Area   537 non-null    float64\n",
      " 7   Glaze_Distr  537 non-null    int64  \n",
      " 8   Cool_Load    537 non-null    float64\n",
      " 9   Heat_Load    537 non-null    object \n",
      "dtypes: float64(5), int64(1), object(4)\n",
      "memory usage: 42.1+ KB\n"
     ]
    }
   ],
   "source": [
    "# type 확인\n",
    "train.info()"
   ]
  },
  {
   "cell_type": "code",
   "execution_count": 6,
   "id": "0c85520c",
   "metadata": {},
   "outputs": [
    {
     "data": {
      "text/plain": [
       "220.5     257\n",
       "Large     141\n",
       "Medium     92\n",
       "Small      47\n",
       "Name: Roof, dtype: int64"
      ]
     },
     "execution_count": 6,
     "metadata": {},
     "output_type": "execute_result"
    }
   ],
   "source": [
    "train['Roof'].value_counts()"
   ]
  },
  {
   "cell_type": "code",
   "execution_count": 7,
   "id": "8abb45e2",
   "metadata": {},
   "outputs": [
    {
     "data": {
      "text/html": [
       "<div>\n",
       "<style scoped>\n",
       "    .dataframe tbody tr th:only-of-type {\n",
       "        vertical-align: middle;\n",
       "    }\n",
       "\n",
       "    .dataframe tbody tr th {\n",
       "        vertical-align: top;\n",
       "    }\n",
       "\n",
       "    .dataframe thead th {\n",
       "        text-align: right;\n",
       "    }\n",
       "</style>\n",
       "<table border=\"1\" class=\"dataframe\">\n",
       "  <thead>\n",
       "    <tr style=\"text-align: right;\">\n",
       "      <th></th>\n",
       "      <th>Roof</th>\n",
       "      <th>Height</th>\n",
       "      <th>Orient</th>\n",
       "      <th>Heat_Load</th>\n",
       "    </tr>\n",
       "  </thead>\n",
       "  <tbody>\n",
       "    <tr>\n",
       "      <th>count</th>\n",
       "      <td>537</td>\n",
       "      <td>537</td>\n",
       "      <td>537</td>\n",
       "      <td>537</td>\n",
       "    </tr>\n",
       "    <tr>\n",
       "      <th>unique</th>\n",
       "      <td>4</td>\n",
       "      <td>2</td>\n",
       "      <td>4</td>\n",
       "      <td>5</td>\n",
       "    </tr>\n",
       "    <tr>\n",
       "      <th>top</th>\n",
       "      <td>220.5</td>\n",
       "      <td>Tall</td>\n",
       "      <td>South</td>\n",
       "      <td>Very Low</td>\n",
       "    </tr>\n",
       "    <tr>\n",
       "      <th>freq</th>\n",
       "      <td>257</td>\n",
       "      <td>280</td>\n",
       "      <td>145</td>\n",
       "      <td>142</td>\n",
       "    </tr>\n",
       "  </tbody>\n",
       "</table>\n",
       "</div>"
      ],
      "text/plain": [
       "         Roof Height Orient Heat_Load\n",
       "count     537    537    537       537\n",
       "unique      4      2      4         5\n",
       "top     220.5   Tall  South  Very Low\n",
       "freq      257    280    145       142"
      ]
     },
     "execution_count": 7,
     "metadata": {},
     "output_type": "execute_result"
    }
   ],
   "source": [
    "# 기초통계 train(object)\n",
    "train.describe(include='O')"
   ]
  },
  {
   "cell_type": "code",
   "execution_count": 8,
   "id": "3c260f12",
   "metadata": {},
   "outputs": [
    {
     "data": {
      "text/html": [
       "<div>\n",
       "<style scoped>\n",
       "    .dataframe tbody tr th:only-of-type {\n",
       "        vertical-align: middle;\n",
       "    }\n",
       "\n",
       "    .dataframe tbody tr th {\n",
       "        vertical-align: top;\n",
       "    }\n",
       "\n",
       "    .dataframe thead th {\n",
       "        text-align: right;\n",
       "    }\n",
       "</style>\n",
       "<table border=\"1\" class=\"dataframe\">\n",
       "  <thead>\n",
       "    <tr style=\"text-align: right;\">\n",
       "      <th></th>\n",
       "      <th>Roof</th>\n",
       "      <th>Height</th>\n",
       "      <th>Orient</th>\n",
       "    </tr>\n",
       "  </thead>\n",
       "  <tbody>\n",
       "    <tr>\n",
       "      <th>count</th>\n",
       "      <td>231</td>\n",
       "      <td>231</td>\n",
       "      <td>231</td>\n",
       "    </tr>\n",
       "    <tr>\n",
       "      <th>unique</th>\n",
       "      <td>4</td>\n",
       "      <td>2</td>\n",
       "      <td>4</td>\n",
       "    </tr>\n",
       "    <tr>\n",
       "      <th>top</th>\n",
       "      <td>220.5</td>\n",
       "      <td>Short</td>\n",
       "      <td>North</td>\n",
       "    </tr>\n",
       "    <tr>\n",
       "      <th>freq</th>\n",
       "      <td>127</td>\n",
       "      <td>127</td>\n",
       "      <td>74</td>\n",
       "    </tr>\n",
       "  </tbody>\n",
       "</table>\n",
       "</div>"
      ],
      "text/plain": [
       "         Roof Height Orient\n",
       "count     231    231    231\n",
       "unique      4      2      4\n",
       "top     220.5  Short  North\n",
       "freq      127    127     74"
      ]
     },
     "execution_count": 8,
     "metadata": {},
     "output_type": "execute_result"
    }
   ],
   "source": [
    "# 기초통계 test(object)\n",
    "test.describe(include='O')"
   ]
  },
  {
   "cell_type": "code",
   "execution_count": 9,
   "id": "8a210e48",
   "metadata": {},
   "outputs": [
    {
     "data": {
      "text/plain": [
       "Compac         0\n",
       "Surf_Area      0\n",
       "Wall_Area      0\n",
       "Roof           0\n",
       "Height         0\n",
       "Orient         0\n",
       "Glaze_Area     0\n",
       "Glaze_Distr    0\n",
       "Cool_Load      0\n",
       "Heat_Load      0\n",
       "dtype: int64"
      ]
     },
     "execution_count": 9,
     "metadata": {},
     "output_type": "execute_result"
    }
   ],
   "source": [
    "# 결측치 확인(train)\n",
    "train.isnull().sum()"
   ]
  },
  {
   "cell_type": "code",
   "execution_count": 10,
   "id": "a99a1f47",
   "metadata": {},
   "outputs": [
    {
     "data": {
      "text/plain": [
       "0"
      ]
     },
     "execution_count": 10,
     "metadata": {},
     "output_type": "execute_result"
    }
   ],
   "source": [
    "# 결측치 확인(test)\n",
    "test.isnull().sum().sum()"
   ]
  },
  {
   "cell_type": "code",
   "execution_count": 11,
   "id": "044ad99e",
   "metadata": {},
   "outputs": [
    {
     "data": {
      "text/plain": [
       "Very Low     142\n",
       "Low          123\n",
       "High         122\n",
       "Very High     79\n",
       "Medium        71\n",
       "Name: Heat_Load, dtype: int64"
      ]
     },
     "execution_count": 11,
     "metadata": {},
     "output_type": "execute_result"
    }
   ],
   "source": [
    "# target 확인\n",
    "train['Heat_Load'].value_counts()"
   ]
  },
  {
   "cell_type": "markdown",
   "id": "f612a26e",
   "metadata": {},
   "source": [
    "# 4. 데이터 전처리"
   ]
  },
  {
   "cell_type": "code",
   "execution_count": 12,
   "id": "1cf2ced7",
   "metadata": {},
   "outputs": [],
   "source": [
    "# target컬럼 처리\n",
    "target = train.pop('Heat_Load')"
   ]
  },
  {
   "cell_type": "code",
   "execution_count": 13,
   "id": "1ba52583",
   "metadata": {},
   "outputs": [
    {
     "name": "stdout",
     "output_type": "stream",
     "text": [
      "(537, 9) (231, 9)\n",
      "(537, 16) (231, 16)\n"
     ]
    }
   ],
   "source": [
    "# 원핫 인코딩(판다스)\n",
    "print(train.shape, test.shape)\n",
    "train = pd.get_dummies(train)\n",
    "test = pd.get_dummies(test)\n",
    "print(train.shape, test.shape)"
   ]
  },
  {
   "cell_type": "markdown",
   "id": "b7ddc609",
   "metadata": {},
   "source": [
    "# 5. 검증 데이터 분할"
   ]
  },
  {
   "cell_type": "code",
   "execution_count": 14,
   "id": "86f5b92e",
   "metadata": {},
   "outputs": [
    {
     "data": {
      "text/plain": [
       "((429, 16), (108, 16), (429,), (108,))"
      ]
     },
     "execution_count": 14,
     "metadata": {},
     "output_type": "execute_result"
    }
   ],
   "source": [
    "from sklearn.model_selection import train_test_split\n",
    "X_tr, X_val, y_tr, y_val = train_test_split(train,\n",
    "                                           target,\n",
    "                                           test_size=0.2,\n",
    "                                           random_state=0)\n",
    "X_tr.shape, X_val.shape, y_tr.shape, y_val.shape"
   ]
  },
  {
   "cell_type": "markdown",
   "id": "5c855b3c",
   "metadata": {},
   "source": [
    "# 6. 머신러닝 학습 및 평가"
   ]
  },
  {
   "cell_type": "code",
   "execution_count": 17,
   "id": "84724f76",
   "metadata": {},
   "outputs": [],
   "source": [
    "# 평가 함수\n",
    "from sklearn.metrics import f1_score"
   ]
  },
  {
   "cell_type": "code",
   "execution_count": 19,
   "id": "b4506509",
   "metadata": {},
   "outputs": [
    {
     "data": {
      "text/plain": [
       "0.9277616846430405"
      ]
     },
     "execution_count": 19,
     "metadata": {},
     "output_type": "execute_result"
    }
   ],
   "source": [
    "# 랜덤 포레스트\n",
    "from sklearn.ensemble import RandomForestClassifier\n",
    "rf = RandomForestClassifier(random_state=0)\n",
    "rf.fit(X_tr, y_tr)\n",
    "pred = rf.predict(X_val)\n",
    "\n",
    "f1_score(y_val, pred, average='macro')"
   ]
  },
  {
   "cell_type": "markdown",
   "id": "63605781",
   "metadata": {},
   "source": [
    "# 7. 예측 및 결과 파일 생성"
   ]
  },
  {
   "cell_type": "code",
   "execution_count": 20,
   "id": "fd8961d6",
   "metadata": {},
   "outputs": [],
   "source": [
    "# test 예측\n",
    "pred = rf.predict(test)\n",
    "submit = pd.DataFrame({\n",
    "    'pred':pred\n",
    "})\n",
    "submit.to_csv('result.csv', index=False)"
   ]
  },
  {
   "cell_type": "code",
   "execution_count": 21,
   "id": "acd41904",
   "metadata": {},
   "outputs": [
    {
     "data": {
      "text/html": [
       "<div>\n",
       "<style scoped>\n",
       "    .dataframe tbody tr th:only-of-type {\n",
       "        vertical-align: middle;\n",
       "    }\n",
       "\n",
       "    .dataframe tbody tr th {\n",
       "        vertical-align: top;\n",
       "    }\n",
       "\n",
       "    .dataframe thead th {\n",
       "        text-align: right;\n",
       "    }\n",
       "</style>\n",
       "<table border=\"1\" class=\"dataframe\">\n",
       "  <thead>\n",
       "    <tr style=\"text-align: right;\">\n",
       "      <th></th>\n",
       "      <th>pred</th>\n",
       "    </tr>\n",
       "  </thead>\n",
       "  <tbody>\n",
       "    <tr>\n",
       "      <th>0</th>\n",
       "      <td>Low</td>\n",
       "    </tr>\n",
       "    <tr>\n",
       "      <th>1</th>\n",
       "      <td>High</td>\n",
       "    </tr>\n",
       "    <tr>\n",
       "      <th>2</th>\n",
       "      <td>High</td>\n",
       "    </tr>\n",
       "    <tr>\n",
       "      <th>3</th>\n",
       "      <td>Low</td>\n",
       "    </tr>\n",
       "    <tr>\n",
       "      <th>4</th>\n",
       "      <td>Low</td>\n",
       "    </tr>\n",
       "    <tr>\n",
       "      <th>...</th>\n",
       "      <td>...</td>\n",
       "    </tr>\n",
       "    <tr>\n",
       "      <th>226</th>\n",
       "      <td>Very Low</td>\n",
       "    </tr>\n",
       "    <tr>\n",
       "      <th>227</th>\n",
       "      <td>Medium</td>\n",
       "    </tr>\n",
       "    <tr>\n",
       "      <th>228</th>\n",
       "      <td>Very Low</td>\n",
       "    </tr>\n",
       "    <tr>\n",
       "      <th>229</th>\n",
       "      <td>Low</td>\n",
       "    </tr>\n",
       "    <tr>\n",
       "      <th>230</th>\n",
       "      <td>Very High</td>\n",
       "    </tr>\n",
       "  </tbody>\n",
       "</table>\n",
       "<p>231 rows × 1 columns</p>\n",
       "</div>"
      ],
      "text/plain": [
       "          pred\n",
       "0          Low\n",
       "1         High\n",
       "2         High\n",
       "3          Low\n",
       "4          Low\n",
       "..         ...\n",
       "226   Very Low\n",
       "227     Medium\n",
       "228   Very Low\n",
       "229        Low\n",
       "230  Very High\n",
       "\n",
       "[231 rows x 1 columns]"
      ]
     },
     "execution_count": 21,
     "metadata": {},
     "output_type": "execute_result"
    }
   ],
   "source": [
    "pd.read_csv(\"result.csv\")"
   ]
  }
 ],
 "metadata": {
  "kernelspec": {
   "display_name": "Python 3 (ipykernel)",
   "language": "python",
   "name": "python3"
  },
  "language_info": {
   "codemirror_mode": {
    "name": "ipython",
    "version": 3
   },
   "file_extension": ".py",
   "mimetype": "text/x-python",
   "name": "python",
   "nbconvert_exporter": "python",
   "pygments_lexer": "ipython3",
   "version": "3.9.7"
  }
 },
 "nbformat": 4,
 "nbformat_minor": 5
}
