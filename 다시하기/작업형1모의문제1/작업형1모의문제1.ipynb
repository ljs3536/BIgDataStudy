{
 "cells": [
  {
   "cell_type": "markdown",
   "id": "2df489e9",
   "metadata": {},
   "source": [
    "# 작업형1 모의문제1\n",
    "- data : members.csv\n",
    "- 한 개의 셀만 사용해서 문제를 풀어주세요"
   ]
  },
  {
   "cell_type": "markdown",
   "id": "5beda3e3",
   "metadata": {},
   "source": [
    "## 문제1\n",
    "- f1컬럼의 결측치는 중앙 값으로 대체하고\n",
    "- 나머지 결측치가 있는 데이터(행)을 모두 제거하고,\n",
    "- 앞에서부터 70% 데이터 중 views 컬럼의 3사분위 수에서 1사분위 수를 뺀 값을 구하시오\n",
    "- (단, 데이터 70% 지점은 정수형(int) 변환)"
   ]
  },
  {
   "cell_type": "code",
   "execution_count": 35,
   "id": "5110668e",
   "metadata": {},
   "outputs": [
    {
     "name": "stdout",
     "output_type": "stream",
     "text": [
      "3261.0\n"
     ]
    }
   ],
   "source": [
    "import pandas as pd\n",
    "df = pd.read_csv('members.csv')\n",
    "\n",
    "#print(df.isnull().sum())\n",
    "# f1컬럼의 결측치는 중앙 값으로 대체하고\n",
    "df['f1']=df['f1'].fillna(df['f1'].median())\n",
    "\n",
    "# 나머지 결측치가 있는 데이터(행)을 모두 제거하고,\n",
    "#print(df.shape)\n",
    "df = df.dropna()\n",
    "#print(df.shape)\n",
    "\n",
    "# 앞에서부터 70% 데이터 중 views 컬럼의 3사분위 수에서 1사분위 수를 뺀 값을 구하시오\n",
    "\n",
    "df = df[:int(len(df) * 0.7)]\n",
    "\n",
    "q = df['views'].quantile(.75)\n",
    "a = df['views'].quantile(.25)\n",
    "\n",
    "print(q-a)"
   ]
  },
  {
   "cell_type": "markdown",
   "id": "79fb3c7c",
   "metadata": {},
   "source": [
    "## 문제2\n",
    "- 주어진 데이터에서 결측치가 30%이상 되는 컬럼을 찾고 해당 컬럼에 결측치가 있는 데이터(행)를 삭제 함.\n",
    "- 그리고 30% 미만, 20% 이상인 결측치가 있는 컬럼은 최빈값으로 값을 대체하고\n",
    "- 'f3'컬럼의 'gold' 값을 가진 데이터 수를 출력하세요!"
   ]
  },
  {
   "cell_type": "code",
   "execution_count": 45,
   "id": "6769ab50",
   "metadata": {},
   "outputs": [
    {
     "name": "stdout",
     "output_type": "stream",
     "text": [
      "56\n"
     ]
    }
   ],
   "source": [
    "import pandas as pd\n",
    "df = pd.read_csv('members.csv')\n",
    "\n",
    "#print(df.shape)\n",
    "# 주어진 데이터에서 결측치가 30%이상 되는 컬럼을 찾고 해당 컬럼에 결측치가 있는 데이터(행)를 삭제 함.\n",
    "#df.isnull().sum()\n",
    "df = df.dropna(subset=['f1']) #특정컬럼에 하기 위해서는 subset =\n",
    "#print(df.shape)\n",
    "# 그리고 30% 미만, 20% 이상인 결측치가 있는 컬럼은 최빈값으로 값을 대체하고\n",
    "#df['f3'].mode()[0] # 최빈값\n",
    "#print(df.head())\n",
    "df['f3'] = df['f3'].fillna(df['f3'].mode()[0])\n",
    "#print(df.head())\n",
    "\n",
    "#df.isnull().sum()\n",
    "# 'f3'컬럼의 'gold' 값을 가진 데이터 수를 출력하세요!\n",
    "\n",
    "print(sum(df['f3'] == 'gold'))"
   ]
  },
  {
   "cell_type": "markdown",
   "id": "9776c6bb",
   "metadata": {},
   "source": [
    "## 문제3\n",
    "- views 컬럼에 결측치가 있는 데이터(행)을 삭제하고,\n",
    "- f3 컬럼의 결측치는 0, silver는 1, gold는 2, vip는 3 으로 변환한 후 총 합을 정수형으로 출력하시오"
   ]
  },
  {
   "cell_type": "code",
   "execution_count": 50,
   "id": "fb609f8c",
   "metadata": {},
   "outputs": [
    {
     "name": "stdout",
     "output_type": "stream",
     "text": [
      "133\n"
     ]
    }
   ],
   "source": [
    "import pandas as pd\n",
    "df = pd.read_csv('members.csv')\n",
    "\n",
    "#print(df.shape)\n",
    "# views 컬럼에 결측치가 있는 데이터(행)을 삭제하고,\n",
    "df = df.dropna(subset=['views'])\n",
    "#print(df.shape)\n",
    "\n",
    "# f3 컬럼의 결측치는 0, silver는 1, gold는 2, vip는 3 으로 변환한 후 총 합을 정수형으로 출력하시오\n",
    "import numpy as np\n",
    "\n",
    "df['f3'] = df['f3'].replace(np.nan,0)\n",
    "df['f3'] = df['f3'].replace('silver',1)\n",
    "df['f3'] = df['f3'].replace('gold',2)\n",
    "df['f3'] = df['f3'].replace('vip',3)\n",
    "\n",
    "print(df['f3'].sum())"
   ]
  },
  {
   "cell_type": "code",
   "execution_count": null,
   "id": "b19d0b89",
   "metadata": {},
   "outputs": [],
   "source": []
  },
  {
   "cell_type": "code",
   "execution_count": null,
   "id": "66c52f37",
   "metadata": {},
   "outputs": [],
   "source": []
  },
  {
   "cell_type": "code",
   "execution_count": null,
   "id": "8efabd9a",
   "metadata": {},
   "outputs": [],
   "source": []
  },
  {
   "cell_type": "code",
   "execution_count": null,
   "id": "d57ebbf9",
   "metadata": {},
   "outputs": [],
   "source": []
  }
 ],
 "metadata": {
  "kernelspec": {
   "display_name": "Python 3 (ipykernel)",
   "language": "python",
   "name": "python3"
  },
  "language_info": {
   "codemirror_mode": {
    "name": "ipython",
    "version": 3
   },
   "file_extension": ".py",
   "mimetype": "text/x-python",
   "name": "python",
   "nbconvert_exporter": "python",
   "pygments_lexer": "ipython3",
   "version": "3.10.9"
  }
 },
 "nbformat": 4,
 "nbformat_minor": 5
}
