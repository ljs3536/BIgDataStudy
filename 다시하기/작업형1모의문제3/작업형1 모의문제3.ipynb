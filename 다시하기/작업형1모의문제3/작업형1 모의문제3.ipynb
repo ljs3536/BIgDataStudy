{
 "cells": [
  {
   "cell_type": "markdown",
   "id": "4d5d686b",
   "metadata": {},
   "source": [
    "# 작업형1 모의문제3\n",
    "- data : members.csv"
   ]
  },
  {
   "cell_type": "markdown",
   "id": "345e7297",
   "metadata": {},
   "source": [
    "## 문제7\n",
    "- index '2001' 데이터(행)의 평균보다 큰 값의 수와\n",
    "- index '2003' 데이터(행)의 평균보다 작은 값의 수를 더하시오\n",
    "\n",
    "[참고]\n",
    "- 데이터가 랜덤으로 생성되어 결과값이 다를 수 있습니다. 🙏\n",
    "- 혹, 랜덤 결과값을 고정하기 위해서는 seed값을 넣어 주면 됩니다.\n",
    "- import random 이후 random.seed(2022) 입력\n",
    "- 정답: 202 (영상에서 seed값을 고정하지 못해 동일한 데이터 구현을 못했습니다. 202가 정답입니다.)"
   ]
  },
  {
   "cell_type": "code",
   "execution_count": 2,
   "id": "823be6d0",
   "metadata": {},
   "outputs": [],
   "source": [
    "# 데이터 생성(먼저 실행해 주세요)\n",
    "import pandas as pd\n",
    "import random\n",
    "random.seed(2022)\n",
    "df = pd.DataFrame()\n",
    "for i in range(0, 5):\n",
    "    list_box = []\n",
    "    for k in range(0, 200):\n",
    "        ran_num = random.randint(1,200)\n",
    "        list_box.append(ran_num)\n",
    "    df[i+2000] = list_box\n",
    "df = df.T\n",
    "df.to_csv(\"data.csv\", index=True)"
   ]
  },
  {
   "cell_type": "code",
   "execution_count": 26,
   "id": "6c775cd8",
   "metadata": {},
   "outputs": [
    {
     "name": "stdout",
     "output_type": "stream",
     "text": [
      "202\n"
     ]
    }
   ],
   "source": [
    "df = pd.read_csv(\"data.csv\", index_col=\"Unnamed: 0\")\n",
    "\n",
    "m2001 = df.loc[2001].mean()\n",
    "cond1 = df.loc[2001] > m2001\n",
    "r1 = sum(cond1)\n",
    "m2003 = df.loc[2003].mean()\n",
    "cond2 = df.loc[2003] < m2003\n",
    "r2 = sum(cond2)\n",
    "print(r1+r2)"
   ]
  },
  {
   "cell_type": "code",
   "execution_count": null,
   "id": "62de51ce",
   "metadata": {},
   "outputs": [],
   "source": []
  },
  {
   "cell_type": "markdown",
   "id": "bbb0ce15",
   "metadata": {},
   "source": [
    "## 문제8\n",
    "- 결측 값을 가진 데이터는 바로 뒤에 있는 값으로 대체한 후 (바로 뒤가 결측값이라면 뒤에 있는 데이터 중 가장 가까운 값)\n",
    "- city와 f2 컬럼 기준으로 그룹합을 계산한 뒤\n",
    "- views가 세번째로 큰 city(도시) 이름은?"
   ]
  },
  {
   "cell_type": "code",
   "execution_count": 47,
   "id": "ceea6612",
   "metadata": {},
   "outputs": [
    {
     "name": "stdout",
     "output_type": "stream",
     "text": [
      "대구\n"
     ]
    },
    {
     "name": "stderr",
     "output_type": "stream",
     "text": [
      "C:\\Users\\user\\AppData\\Local\\Temp\\ipykernel_34316\\1168610703.py:6: FutureWarning: The default value of numeric_only in DataFrameGroupBy.sum is deprecated. In a future version, numeric_only will default to False. Either specify numeric_only or select only columns which should be valid for the function.\n",
      "  df = df.groupby(['city','f2']).sum().reset_index()\n"
     ]
    }
   ],
   "source": [
    "df = pd.read_csv('members.csv')\n",
    "df.isnull().sum()\n",
    "df = df.fillna(method='bfill')\n",
    "df.isnull().sum()\n",
    "\n",
    "df = df.groupby(['city','f2']).sum().reset_index()\n",
    "df = df.sort_values('views',ascending=False)\n",
    "print(df.iloc[2,0])"
   ]
  },
  {
   "cell_type": "markdown",
   "id": "00dbb8e1",
   "metadata": {},
   "source": [
    "## 문제9\n",
    "- 구독(subscribed) 월별로 데이터 개수를 구한 뒤\n",
    "- 가장 작은 구독 수가 있는 월을 구하시오"
   ]
  },
  {
   "cell_type": "code",
   "execution_count": 68,
   "id": "a9b59bef",
   "metadata": {},
   "outputs": [
    {
     "data": {
      "text/plain": [
       "11"
      ]
     },
     "execution_count": 68,
     "metadata": {},
     "output_type": "execute_result"
    }
   ],
   "source": [
    "df = pd.read_csv('members.csv')\n",
    "\n",
    "df['subscribed'] = pd.to_datetime(df['subscribed'])\n",
    "\n",
    "df['year'] = df['subscribed'].dt.year\n",
    "df['month'] = df['subscribed'].dt.month\n",
    "df['day'] = df['subscribed'].dt.day\n",
    "\n",
    "df = df.groupby('month').count()\n",
    "df = df.sort_values('subscribed',ascending=True)\n",
    "df.index[0]\n",
    "#df.iloc[0,0]"
   ]
  },
  {
   "cell_type": "code",
   "execution_count": null,
   "id": "cc517fd3",
   "metadata": {},
   "outputs": [],
   "source": []
  },
  {
   "cell_type": "code",
   "execution_count": null,
   "id": "075f4a28",
   "metadata": {},
   "outputs": [],
   "source": []
  },
  {
   "cell_type": "code",
   "execution_count": null,
   "id": "b2b262e1",
   "metadata": {},
   "outputs": [],
   "source": []
  },
  {
   "cell_type": "code",
   "execution_count": null,
   "id": "282b2410",
   "metadata": {},
   "outputs": [],
   "source": []
  }
 ],
 "metadata": {
  "kernelspec": {
   "display_name": "Python 3 (ipykernel)",
   "language": "python",
   "name": "python3"
  },
  "language_info": {
   "codemirror_mode": {
    "name": "ipython",
    "version": 3
   },
   "file_extension": ".py",
   "mimetype": "text/x-python",
   "name": "python",
   "nbconvert_exporter": "python",
   "pygments_lexer": "ipython3",
   "version": "3.10.9"
  }
 },
 "nbformat": 4,
 "nbformat_minor": 5
}
