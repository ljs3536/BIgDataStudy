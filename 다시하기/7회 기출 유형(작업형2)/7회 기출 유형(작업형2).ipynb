{
 "cells": [
  {
   "cell_type": "markdown",
   "id": "bbce270b",
   "metadata": {},
   "source": [
    "### mart 판매 데이터를 기반으로 판매액을 예측하시오.\n",
    "- 제공된 데이터 목록: mart_train.csv (훈련 데이터), mart_test.csv (평가용 데이터)\n",
    "- 예측할 컬럼: total (총 판매액)\n",
    "학습용 데이터(mart_train.csv)를 이용하여 총 판매액을 예측하는 모델을 만든 후, 이를 평가용 데이터(mart_test.csv)에 적용하여 얻은 예측값을 다음과 같은 형식의 CSV 파일로 생성하시오.\n",
    "- 제출 파일은 다음 한 개의 컬럼을 포함해야 합니다.\n",
    "- pred: 예측된 총 판매액\n",
    "- 제출 파일명: 'result.csv'\n",
    "- 제출한 모델의 성능은 RMSE(Root Mean Square Error) 평가지표에 따라 채점한다.\n",
    "- 제출 CSV 파일명 및 형태: result.csv\n",
    "\n",
    "~~~\n",
    "pred\n",
    "10000\n",
    "20000\n",
    "30000\n",
    "40000\n",
    "...\n",
    "~~~\n",
    "\n",
    "### 답안 제출 참고\n",
    "- pd.read_csv('result.csv') 로 제출 코드 확인"
   ]
  },
  {
   "cell_type": "markdown",
   "id": "c4d93461",
   "metadata": {},
   "source": [
    "# 1. 문제정의\n",
    "- RMSE\n",
    "- target: total\n",
    "- 예측 파일명: result.csv\n",
    "- 컬럼 1개(pred)"
   ]
  },
  {
   "cell_type": "markdown",
   "id": "82f6346a",
   "metadata": {},
   "source": [
    "# 2. 라이브러리 및 데이터 불러오기"
   ]
  },
  {
   "cell_type": "code",
   "execution_count": 1,
   "id": "cb8d70c0",
   "metadata": {},
   "outputs": [],
   "source": [
    "# 데이터 불러오기\n",
    "import pandas as pd\n",
    "train = pd.read_csv(\"mart_train.csv\")\n",
    "test = pd.read_csv(\"mart_test.csv\")"
   ]
  },
  {
   "cell_type": "markdown",
   "id": "a0ca9769",
   "metadata": {},
   "source": [
    "# 3. 탐색적 데이터 분석(EDA)"
   ]
  },
  {
   "cell_type": "code",
   "execution_count": 2,
   "id": "8bb8c1b0",
   "metadata": {},
   "outputs": [
    {
     "data": {
      "text/plain": [
       "((700, 10), (300, 9))"
      ]
     },
     "execution_count": 2,
     "metadata": {},
     "output_type": "execute_result"
    }
   ],
   "source": [
    "# 데이터 크기 확인\n",
    "train.shape, test.shape"
   ]
  },
  {
   "cell_type": "code",
   "execution_count": 3,
   "id": "8f267476",
   "metadata": {},
   "outputs": [
    {
     "data": {
      "text/html": [
       "<div>\n",
       "<style scoped>\n",
       "    .dataframe tbody tr th:only-of-type {\n",
       "        vertical-align: middle;\n",
       "    }\n",
       "\n",
       "    .dataframe tbody tr th {\n",
       "        vertical-align: top;\n",
       "    }\n",
       "\n",
       "    .dataframe thead th {\n",
       "        text-align: right;\n",
       "    }\n",
       "</style>\n",
       "<table border=\"1\" class=\"dataframe\">\n",
       "  <thead>\n",
       "    <tr style=\"text-align: right;\">\n",
       "      <th></th>\n",
       "      <th>branch</th>\n",
       "      <th>city</th>\n",
       "      <th>customer_type</th>\n",
       "      <th>gender</th>\n",
       "      <th>product_line</th>\n",
       "      <th>total</th>\n",
       "      <th>payment_method</th>\n",
       "      <th>rating</th>\n",
       "      <th>time_of_day</th>\n",
       "      <th>day_name</th>\n",
       "    </tr>\n",
       "  </thead>\n",
       "  <tbody>\n",
       "    <tr>\n",
       "      <th>0</th>\n",
       "      <td>A</td>\n",
       "      <td>Yangon</td>\n",
       "      <td>Member</td>\n",
       "      <td>Female</td>\n",
       "      <td>Health and beauty</td>\n",
       "      <td>823457.25</td>\n",
       "      <td>Ewallet</td>\n",
       "      <td>9.1</td>\n",
       "      <td>afternoon</td>\n",
       "      <td>Saturday</td>\n",
       "    </tr>\n",
       "    <tr>\n",
       "      <th>1</th>\n",
       "      <td>C</td>\n",
       "      <td>Naypyitaw</td>\n",
       "      <td>Normal</td>\n",
       "      <td>Female</td>\n",
       "      <td>Electronic accessories</td>\n",
       "      <td>120330.00</td>\n",
       "      <td>Cash</td>\n",
       "      <td>9.6</td>\n",
       "      <td>morning</td>\n",
       "      <td>Friday</td>\n",
       "    </tr>\n",
       "    <tr>\n",
       "      <th>2</th>\n",
       "      <td>A</td>\n",
       "      <td>Yangon</td>\n",
       "      <td>Normal</td>\n",
       "      <td>Male</td>\n",
       "      <td>Home and lifestyle</td>\n",
       "      <td>510788.25</td>\n",
       "      <td>Credit card</td>\n",
       "      <td>7.4</td>\n",
       "      <td>afternoon</td>\n",
       "      <td>Sunday</td>\n",
       "    </tr>\n",
       "    <tr>\n",
       "      <th>3</th>\n",
       "      <td>A</td>\n",
       "      <td>Yangon</td>\n",
       "      <td>Member</td>\n",
       "      <td>Male</td>\n",
       "      <td>Health and beauty</td>\n",
       "      <td>733572.00</td>\n",
       "      <td>Ewallet</td>\n",
       "      <td>8.4</td>\n",
       "      <td>evening</td>\n",
       "      <td>Sunday</td>\n",
       "    </tr>\n",
       "    <tr>\n",
       "      <th>4</th>\n",
       "      <td>A</td>\n",
       "      <td>Yangon</td>\n",
       "      <td>Normal</td>\n",
       "      <td>Male</td>\n",
       "      <td>Sports and travel</td>\n",
       "      <td>951567.75</td>\n",
       "      <td>Ewallet</td>\n",
       "      <td>5.3</td>\n",
       "      <td>morning</td>\n",
       "      <td>Friday</td>\n",
       "    </tr>\n",
       "  </tbody>\n",
       "</table>\n",
       "</div>"
      ],
      "text/plain": [
       "  branch       city customer_type  gender            product_line      total  \\\n",
       "0      A     Yangon        Member  Female       Health and beauty  823457.25   \n",
       "1      C  Naypyitaw        Normal  Female  Electronic accessories  120330.00   \n",
       "2      A     Yangon        Normal    Male      Home and lifestyle  510788.25   \n",
       "3      A     Yangon        Member    Male       Health and beauty  733572.00   \n",
       "4      A     Yangon        Normal    Male       Sports and travel  951567.75   \n",
       "\n",
       "  payment_method  rating time_of_day  day_name  \n",
       "0        Ewallet     9.1   afternoon  Saturday  \n",
       "1           Cash     9.6     morning    Friday  \n",
       "2    Credit card     7.4   afternoon    Sunday  \n",
       "3        Ewallet     8.4     evening    Sunday  \n",
       "4        Ewallet     5.3     morning    Friday  "
      ]
     },
     "execution_count": 3,
     "metadata": {},
     "output_type": "execute_result"
    }
   ],
   "source": [
    "# train  샘플 확인\n",
    "train.head()"
   ]
  },
  {
   "cell_type": "code",
   "execution_count": 4,
   "id": "ea2e3041",
   "metadata": {},
   "outputs": [
    {
     "data": {
      "text/html": [
       "<div>\n",
       "<style scoped>\n",
       "    .dataframe tbody tr th:only-of-type {\n",
       "        vertical-align: middle;\n",
       "    }\n",
       "\n",
       "    .dataframe tbody tr th {\n",
       "        vertical-align: top;\n",
       "    }\n",
       "\n",
       "    .dataframe thead th {\n",
       "        text-align: right;\n",
       "    }\n",
       "</style>\n",
       "<table border=\"1\" class=\"dataframe\">\n",
       "  <thead>\n",
       "    <tr style=\"text-align: right;\">\n",
       "      <th></th>\n",
       "      <th>branch</th>\n",
       "      <th>city</th>\n",
       "      <th>customer_type</th>\n",
       "      <th>gender</th>\n",
       "      <th>product_line</th>\n",
       "      <th>payment_method</th>\n",
       "      <th>rating</th>\n",
       "      <th>time_of_day</th>\n",
       "      <th>day_name</th>\n",
       "    </tr>\n",
       "  </thead>\n",
       "  <tbody>\n",
       "    <tr>\n",
       "      <th>0</th>\n",
       "      <td>C</td>\n",
       "      <td>Naypyitaw</td>\n",
       "      <td>Normal</td>\n",
       "      <td>Female</td>\n",
       "      <td>Fashion accessories</td>\n",
       "      <td>Ewallet</td>\n",
       "      <td>9.6</td>\n",
       "      <td>afternoon</td>\n",
       "      <td>Thursday</td>\n",
       "    </tr>\n",
       "    <tr>\n",
       "      <th>1</th>\n",
       "      <td>B</td>\n",
       "      <td>Mandalay</td>\n",
       "      <td>Normal</td>\n",
       "      <td>Male</td>\n",
       "      <td>Food and beverages</td>\n",
       "      <td>Credit card</td>\n",
       "      <td>4.3</td>\n",
       "      <td>evening</td>\n",
       "      <td>Wednesday</td>\n",
       "    </tr>\n",
       "    <tr>\n",
       "      <th>2</th>\n",
       "      <td>B</td>\n",
       "      <td>Mandalay</td>\n",
       "      <td>Member</td>\n",
       "      <td>Female</td>\n",
       "      <td>Fashion accessories</td>\n",
       "      <td>Credit card</td>\n",
       "      <td>5.0</td>\n",
       "      <td>evening</td>\n",
       "      <td>Wednesday</td>\n",
       "    </tr>\n",
       "    <tr>\n",
       "      <th>3</th>\n",
       "      <td>B</td>\n",
       "      <td>Mandalay</td>\n",
       "      <td>Member</td>\n",
       "      <td>Male</td>\n",
       "      <td>Health and beauty</td>\n",
       "      <td>Cash</td>\n",
       "      <td>9.2</td>\n",
       "      <td>morning</td>\n",
       "      <td>Sunday</td>\n",
       "    </tr>\n",
       "    <tr>\n",
       "      <th>4</th>\n",
       "      <td>B</td>\n",
       "      <td>Mandalay</td>\n",
       "      <td>Member</td>\n",
       "      <td>Female</td>\n",
       "      <td>Home and lifestyle</td>\n",
       "      <td>Cash</td>\n",
       "      <td>6.3</td>\n",
       "      <td>afternoon</td>\n",
       "      <td>Saturday</td>\n",
       "    </tr>\n",
       "  </tbody>\n",
       "</table>\n",
       "</div>"
      ],
      "text/plain": [
       "  branch       city customer_type  gender         product_line payment_method  \\\n",
       "0      C  Naypyitaw        Normal  Female  Fashion accessories        Ewallet   \n",
       "1      B   Mandalay        Normal    Male   Food and beverages    Credit card   \n",
       "2      B   Mandalay        Member  Female  Fashion accessories    Credit card   \n",
       "3      B   Mandalay        Member    Male    Health and beauty           Cash   \n",
       "4      B   Mandalay        Member  Female   Home and lifestyle           Cash   \n",
       "\n",
       "   rating time_of_day   day_name  \n",
       "0     9.6   afternoon   Thursday  \n",
       "1     4.3     evening  Wednesday  \n",
       "2     5.0     evening  Wednesday  \n",
       "3     9.2     morning     Sunday  \n",
       "4     6.3   afternoon   Saturday  "
      ]
     },
     "execution_count": 4,
     "metadata": {},
     "output_type": "execute_result"
    }
   ],
   "source": [
    "# test 샘플 확인\n",
    "test.head()"
   ]
  },
  {
   "cell_type": "code",
   "execution_count": 5,
   "id": "18538cfe",
   "metadata": {},
   "outputs": [
    {
     "name": "stdout",
     "output_type": "stream",
     "text": [
      "<class 'pandas.core.frame.DataFrame'>\n",
      "RangeIndex: 700 entries, 0 to 699\n",
      "Data columns (total 10 columns):\n",
      " #   Column          Non-Null Count  Dtype  \n",
      "---  ------          --------------  -----  \n",
      " 0   branch          700 non-null    object \n",
      " 1   city            700 non-null    object \n",
      " 2   customer_type   700 non-null    object \n",
      " 3   gender          700 non-null    object \n",
      " 4   product_line    700 non-null    object \n",
      " 5   total           700 non-null    float64\n",
      " 6   payment_method  700 non-null    object \n",
      " 7   rating          700 non-null    float64\n",
      " 8   time_of_day     700 non-null    object \n",
      " 9   day_name        700 non-null    object \n",
      "dtypes: float64(2), object(8)\n",
      "memory usage: 54.8+ KB\n"
     ]
    }
   ],
   "source": [
    "# 자료형 확인\n",
    "train.info()"
   ]
  },
  {
   "cell_type": "code",
   "execution_count": 6,
   "id": "b5e491ba",
   "metadata": {},
   "outputs": [
    {
     "data": {
      "text/html": [
       "<div>\n",
       "<style scoped>\n",
       "    .dataframe tbody tr th:only-of-type {\n",
       "        vertical-align: middle;\n",
       "    }\n",
       "\n",
       "    .dataframe tbody tr th {\n",
       "        vertical-align: top;\n",
       "    }\n",
       "\n",
       "    .dataframe thead th {\n",
       "        text-align: right;\n",
       "    }\n",
       "</style>\n",
       "<table border=\"1\" class=\"dataframe\">\n",
       "  <thead>\n",
       "    <tr style=\"text-align: right;\">\n",
       "      <th></th>\n",
       "      <th>total</th>\n",
       "      <th>rating</th>\n",
       "    </tr>\n",
       "  </thead>\n",
       "  <tbody>\n",
       "    <tr>\n",
       "      <th>count</th>\n",
       "      <td>7.000000e+02</td>\n",
       "      <td>700.000000</td>\n",
       "    </tr>\n",
       "    <tr>\n",
       "      <th>mean</th>\n",
       "      <td>4.850780e+05</td>\n",
       "      <td>7.003429</td>\n",
       "    </tr>\n",
       "    <tr>\n",
       "      <th>std</th>\n",
       "      <td>3.643907e+05</td>\n",
       "      <td>1.713078</td>\n",
       "    </tr>\n",
       "    <tr>\n",
       "      <th>min</th>\n",
       "      <td>1.904175e+04</td>\n",
       "      <td>4.000000</td>\n",
       "    </tr>\n",
       "    <tr>\n",
       "      <th>25%</th>\n",
       "      <td>2.001195e+05</td>\n",
       "      <td>5.500000</td>\n",
       "    </tr>\n",
       "    <tr>\n",
       "      <th>50%</th>\n",
       "      <td>3.818745e+05</td>\n",
       "      <td>7.000000</td>\n",
       "    </tr>\n",
       "    <tr>\n",
       "      <th>75%</th>\n",
       "      <td>7.061276e+05</td>\n",
       "      <td>8.425000</td>\n",
       "    </tr>\n",
       "    <tr>\n",
       "      <th>max</th>\n",
       "      <td>1.563975e+06</td>\n",
       "      <td>10.000000</td>\n",
       "    </tr>\n",
       "  </tbody>\n",
       "</table>\n",
       "</div>"
      ],
      "text/plain": [
       "              total      rating\n",
       "count  7.000000e+02  700.000000\n",
       "mean   4.850780e+05    7.003429\n",
       "std    3.643907e+05    1.713078\n",
       "min    1.904175e+04    4.000000\n",
       "25%    2.001195e+05    5.500000\n",
       "50%    3.818745e+05    7.000000\n",
       "75%    7.061276e+05    8.425000\n",
       "max    1.563975e+06   10.000000"
      ]
     },
     "execution_count": 6,
     "metadata": {},
     "output_type": "execute_result"
    }
   ],
   "source": [
    "# train 기초 통계값 확인\n",
    "train.describe()"
   ]
  },
  {
   "cell_type": "code",
   "execution_count": 8,
   "id": "39cd00f4",
   "metadata": {},
   "outputs": [
    {
     "data": {
      "text/html": [
       "<div>\n",
       "<style scoped>\n",
       "    .dataframe tbody tr th:only-of-type {\n",
       "        vertical-align: middle;\n",
       "    }\n",
       "\n",
       "    .dataframe tbody tr th {\n",
       "        vertical-align: top;\n",
       "    }\n",
       "\n",
       "    .dataframe thead th {\n",
       "        text-align: right;\n",
       "    }\n",
       "</style>\n",
       "<table border=\"1\" class=\"dataframe\">\n",
       "  <thead>\n",
       "    <tr style=\"text-align: right;\">\n",
       "      <th></th>\n",
       "      <th>branch</th>\n",
       "      <th>city</th>\n",
       "      <th>customer_type</th>\n",
       "      <th>gender</th>\n",
       "      <th>product_line</th>\n",
       "      <th>payment_method</th>\n",
       "      <th>time_of_day</th>\n",
       "      <th>day_name</th>\n",
       "    </tr>\n",
       "  </thead>\n",
       "  <tbody>\n",
       "    <tr>\n",
       "      <th>count</th>\n",
       "      <td>700</td>\n",
       "      <td>700</td>\n",
       "      <td>700</td>\n",
       "      <td>700</td>\n",
       "      <td>700</td>\n",
       "      <td>700</td>\n",
       "      <td>700</td>\n",
       "      <td>700</td>\n",
       "    </tr>\n",
       "    <tr>\n",
       "      <th>unique</th>\n",
       "      <td>3</td>\n",
       "      <td>3</td>\n",
       "      <td>2</td>\n",
       "      <td>2</td>\n",
       "      <td>6</td>\n",
       "      <td>3</td>\n",
       "      <td>3</td>\n",
       "      <td>7</td>\n",
       "    </tr>\n",
       "    <tr>\n",
       "      <th>top</th>\n",
       "      <td>A</td>\n",
       "      <td>Yangon</td>\n",
       "      <td>Normal</td>\n",
       "      <td>Male</td>\n",
       "      <td>Sports and travel</td>\n",
       "      <td>Cash</td>\n",
       "      <td>evening</td>\n",
       "      <td>Saturday</td>\n",
       "    </tr>\n",
       "    <tr>\n",
       "      <th>freq</th>\n",
       "      <td>236</td>\n",
       "      <td>236</td>\n",
       "      <td>354</td>\n",
       "      <td>356</td>\n",
       "      <td>127</td>\n",
       "      <td>246</td>\n",
       "      <td>309</td>\n",
       "      <td>114</td>\n",
       "    </tr>\n",
       "  </tbody>\n",
       "</table>\n",
       "</div>"
      ],
      "text/plain": [
       "       branch    city customer_type gender       product_line payment_method  \\\n",
       "count     700     700           700    700                700            700   \n",
       "unique      3       3             2      2                  6              3   \n",
       "top         A  Yangon        Normal   Male  Sports and travel           Cash   \n",
       "freq      236     236           354    356                127            246   \n",
       "\n",
       "       time_of_day  day_name  \n",
       "count          700       700  \n",
       "unique           3         7  \n",
       "top        evening  Saturday  \n",
       "freq           309       114  "
      ]
     },
     "execution_count": 8,
     "metadata": {},
     "output_type": "execute_result"
    }
   ],
   "source": [
    "train.describe(include='O')"
   ]
  },
  {
   "cell_type": "code",
   "execution_count": 9,
   "id": "ec064a94",
   "metadata": {},
   "outputs": [
    {
     "data": {
      "text/plain": [
       "branch            0\n",
       "city              0\n",
       "customer_type     0\n",
       "gender            0\n",
       "product_line      0\n",
       "total             0\n",
       "payment_method    0\n",
       "rating            0\n",
       "time_of_day       0\n",
       "day_name          0\n",
       "dtype: int64"
      ]
     },
     "execution_count": 9,
     "metadata": {},
     "output_type": "execute_result"
    }
   ],
   "source": [
    "# train 결측치\n",
    "train.isnull().sum()"
   ]
  },
  {
   "cell_type": "code",
   "execution_count": 10,
   "id": "ad45a917",
   "metadata": {},
   "outputs": [
    {
     "data": {
      "text/plain": [
       "branch            0\n",
       "city              0\n",
       "customer_type     0\n",
       "gender            0\n",
       "product_line      0\n",
       "payment_method    0\n",
       "rating            0\n",
       "time_of_day       0\n",
       "day_name          0\n",
       "dtype: int64"
      ]
     },
     "execution_count": 10,
     "metadata": {},
     "output_type": "execute_result"
    }
   ],
   "source": [
    "# test 결측치\n",
    "test.isnull().sum()"
   ]
  },
  {
   "cell_type": "code",
   "execution_count": 12,
   "id": "1e9f7ceb",
   "metadata": {},
   "outputs": [
    {
     "data": {
      "text/plain": [
       "283641.75     2\n",
       "263875.50     2\n",
       "415422.00     2\n",
       "326450.25     2\n",
       "130851.00     2\n",
       "             ..\n",
       "293391.00     1\n",
       "137103.75     1\n",
       "348232.50     1\n",
       "104107.50     1\n",
       "1535625.00    1\n",
       "Name: total, Length: 695, dtype: int64"
      ]
     },
     "execution_count": 12,
     "metadata": {},
     "output_type": "execute_result"
    }
   ],
   "source": [
    "# traget \n",
    "train['total'].value_counts()"
   ]
  },
  {
   "cell_type": "markdown",
   "id": "9e84ddb7",
   "metadata": {},
   "source": [
    "# 4. 데이터 전처리"
   ]
  },
  {
   "cell_type": "code",
   "execution_count": 14,
   "id": "b85a852f",
   "metadata": {},
   "outputs": [],
   "source": [
    "target = train.pop('total')"
   ]
  },
  {
   "cell_type": "code",
   "execution_count": 16,
   "id": "7510d36e",
   "metadata": {},
   "outputs": [],
   "source": [
    "train = pd.get_dummies(train)\n",
    "test = pd.get_dummies(test)"
   ]
  },
  {
   "cell_type": "markdown",
   "id": "82fdcc0f",
   "metadata": {},
   "source": [
    "# 5. 검증 데이터 분할"
   ]
  },
  {
   "cell_type": "code",
   "execution_count": 23,
   "id": "623542cd",
   "metadata": {},
   "outputs": [
    {
     "data": {
      "text/plain": [
       "((560, 30), (140, 30), (560,), (140,))"
      ]
     },
     "execution_count": 23,
     "metadata": {},
     "output_type": "execute_result"
    }
   ],
   "source": [
    "from sklearn.model_selection import train_test_split\n",
    "X_tr, X_val, y_tr, y_val = train_test_split(train, target, test_size=0.2, random_state=0)\n",
    "X_tr.shape, X_val.shape, y_tr.shape, y_val.shape"
   ]
  },
  {
   "cell_type": "markdown",
   "id": "b8dc242a",
   "metadata": {},
   "source": [
    "# 6. 머신러닝 학습 및 평가"
   ]
  },
  {
   "cell_type": "code",
   "execution_count": 25,
   "id": "1ee5b525",
   "metadata": {},
   "outputs": [
    {
     "data": {
      "text/plain": [
       "array([546066.045 , 578279.835 , 532296.45  , 548084.4075, 495159.21  ,\n",
       "       419774.355 , 464927.5575, 550659.06  , 569962.7325, 442991.43  ,\n",
       "       533436.435 , 313835.9175, 483317.1   , 772205.3325, 474225.885 ,\n",
       "       390585.195 , 553624.6275, 464890.23  , 514984.68  , 648688.4775,\n",
       "       491477.0175, 614603.2725, 434590.065 , 538724.4975, 581107.275 ,\n",
       "       415857.4875, 547410.78  , 486769.3425, 291739.14  , 387871.9425,\n",
       "       426157.0425, 581832.72  , 337196.6325, 550093.7925, 296767.8   ,\n",
       "       470672.2125, 466180.3125, 466847.325 , 704970.7875, 475374.2175,\n",
       "       426557.7225, 503441.505 , 304425.765 , 515050.0425, 618847.74  ,\n",
       "       319851.7875, 341523.315 , 621907.8075, 664629.6825, 426466.845 ,\n",
       "       697635.855 , 509414.3775, 378168.0525, 428345.82  , 391869.765 ,\n",
       "       720886.4775, 507657.3075, 446126.7825, 630664.65  , 515000.2725,\n",
       "       555140.25  , 506139.6375, 474818.715 , 491461.8975, 668152.9575,\n",
       "       449131.095 , 782975.34  , 763689.78  , 409705.8525, 418713.12  ,\n",
       "       478690.5375, 533752.8525, 436007.4075, 522260.865 , 726247.935 ,\n",
       "       614379.15  , 531807.57  , 390877.2   , 436955.8725, 301915.0575,\n",
       "       349267.905 , 304169.8275, 535614.1875, 654713.7975, 440073.4275,\n",
       "       427610.7675, 608710.5675, 814899.645 , 481525.5375, 685487.565 ,\n",
       "       426914.3025, 655988.76  , 562793.9625, 563698.0125, 398907.18  ,\n",
       "       586090.7325, 547443.6975, 505710.765 , 633824.415 , 422623.845 ,\n",
       "       428241.7125, 482261.85  , 526296.015 , 551552.2425, 465536.925 ,\n",
       "       802793.7225, 649877.445 , 632190.3525, 368136.2475, 450150.12  ,\n",
       "       401589.2475, 410155.515 , 463019.2875, 288222.165 , 546799.05  ,\n",
       "       328887.09  , 621074.6325, 519337.035 , 542891.79  , 729274.6125,\n",
       "       693054.81  , 361957.5225, 381471.1425, 511537.95  , 433987.785 ,\n",
       "       404571.51  , 372842.19  , 393749.37  , 501956.1225, 741717.4275,\n",
       "       805616.28  , 371391.7725, 447832.8225, 464918.58  , 563672.1825,\n",
       "       497307.6675, 422536.59  , 487010.16  , 435066.8175, 460966.1175])"
      ]
     },
     "execution_count": 25,
     "metadata": {},
     "output_type": "execute_result"
    }
   ],
   "source": [
    "from sklearn.ensemble import RandomForestRegressor\n",
    "rf = RandomForestRegressor()\n",
    "model = rf.fit(X_tr, y_tr)\n",
    "pred = model.predict(X_val)\n",
    "pred"
   ]
  },
  {
   "cell_type": "code",
   "execution_count": 28,
   "id": "175636d4",
   "metadata": {},
   "outputs": [
    {
     "data": {
      "text/plain": [
       "array([319681.53  , 668193.2775, 350330.085 , 537739.965 , 550546.92  ,\n",
       "       462581.91  , 507944.115 , 654953.1975, 502513.0425, 456035.265 ,\n",
       "       456678.9675, 577458.1575, 497665.5075, 489369.195 , 384054.7725,\n",
       "       540164.835 , 597172.59  , 587449.485 , 663408.7425, 569170.8225,\n",
       "       410536.8225, 750745.17  , 331440.165 , 642980.0475, 448425.3375,\n",
       "       452563.8075, 411845.9625, 441466.9875, 390701.9025, 452056.6575,\n",
       "       694986.705 , 541376.325 , 485499.8925, 315591.255 , 342288.9225,\n",
       "       426016.395 , 607538.1375, 572149.1475, 503556.48  , 531280.1025,\n",
       "       862446.8475, 681918.3   , 689965.29  , 422106.615 , 638270.955 ,\n",
       "       690153.345 , 314131.3875, 606073.3875, 535833.585 , 431543.8575,\n",
       "       476401.7475, 459960.165 , 569426.6025, 522620.4375, 694090.53  ,\n",
       "       608115.8475, 518608.9125, 525425.985 , 354928.14  , 508889.43  ,\n",
       "       503397.8775, 565008.0975, 487372.2525, 471706.2   , 463560.1425,\n",
       "       440396.46  , 442938.6675, 465590.16  , 437449.1625, 605613.96  ,\n",
       "       327605.04  , 549971.1   , 425914.4925, 591852.3975, 600979.8375,\n",
       "       436652.2125, 460026.4725, 587500.0425, 321887.475 , 431266.815 ,\n",
       "       392103.18  , 419213.1825, 545547.24  , 637898.31  , 659127.42  ,\n",
       "       433891.71  , 414259.65  , 455750.9775, 410986.485 , 397877.445 ,\n",
       "       628889.31  , 523224.135 , 473683.77  , 545453.055 , 724563.315 ,\n",
       "       555541.0875, 618557.94  , 517522.005 , 387874.7775, 411231.3975,\n",
       "       437207.8725, 619068.555 , 420327.9675, 444302.46  , 401699.8125,\n",
       "       701746.1325, 502664.085 , 437048.955 , 731899.035 , 428337.7875,\n",
       "       443463.7725, 478722.6675, 922585.86  , 324802.9575, 417521.79  ,\n",
       "       497460.4425, 536114.25  , 490046.6025, 563590.2825, 475963.74  ,\n",
       "       323829.45  , 878810.7825, 410877.9675, 656042.4675, 482868.225 ,\n",
       "       691503.75  , 574635.915 , 607767.93  , 426831.3   , 609446.565 ,\n",
       "       679081.8825, 572666.0625, 512464.365 , 575232.0525, 479562.93  ,\n",
       "       426761.5275, 244937.2275, 515818.0125, 396096.2775, 511237.755 ,\n",
       "       584380.2825, 438244.2225, 446170.5675, 688863.105 , 463196.79  ,\n",
       "       261535.995 , 358277.85  , 498423.87  , 520987.32  , 429216.6375,\n",
       "       696672.9   , 507680.46  , 569207.3625, 493067.4525, 588375.7425,\n",
       "       576108.225 , 513074.0475, 509534.0775, 705450.5325, 476795.025 ,\n",
       "       400674.4875, 441857.5875, 593395.8975, 380130.5025, 484762.4775,\n",
       "       640015.74  , 495777.555 , 698476.4325, 638504.8425, 496891.8675,\n",
       "       421247.925 , 476986.3875, 470682.2925, 435128.715 , 428778.63  ,\n",
       "       367562.475 , 297991.575 , 387789.255 , 600457.2525, 439241.5125,\n",
       "       552005.5275, 563198.58  , 680079.1725, 726931.3275, 590576.49  ,\n",
       "       360832.185 , 462458.745 , 639035.6175, 343698.8625, 328720.14  ,\n",
       "       508036.5675, 413862.435 , 443874.5325, 470122.38  , 540495.585 ,\n",
       "       553279.86  , 513319.4325, 467956.44  , 444318.84  , 662005.4175,\n",
       "       536203.395 , 468243.09  , 483412.86  , 492043.545 , 473825.6775,\n",
       "       645108.66  , 427560.9975, 576912.42  , 513085.0725, 563349.78  ,\n",
       "       559513.5525, 494790.1875, 260492.5575, 585301.3425, 469483.0875,\n",
       "       381471.1425, 408182.1975, 442620.36  , 455077.665 , 605057.355 ,\n",
       "       721286.2125, 468496.35  , 760704.9975, 376232.535 , 353351.0925,\n",
       "       328798.26  , 417147.0975, 524876.4675, 551057.3775, 487656.54  ,\n",
       "       373785.4575, 563198.58  , 451470.4425, 521057.0925, 496030.0275,\n",
       "       534479.5575, 569303.91  , 426428.1   , 655073.2125, 579579.6825,\n",
       "       426714.12  , 441366.345 , 359710.3125, 358484.9625, 550126.2375,\n",
       "       563389.47  , 501060.105 , 516353.5125, 427638.4875, 499143.015 ,\n",
       "       552579.4575, 599373.9675, 549565.065 , 685656.405 , 339457.545 ,\n",
       "       440769.5775, 527850.54  , 434075.8275, 556103.6775, 477685.6875,\n",
       "       475201.125 , 424322.955 , 819729.3825, 384506.955 , 676896.255 ,\n",
       "       831224.0475, 493224.9525, 476718.48  , 561326.6925, 427626.36  ,\n",
       "       370691.055 , 452500.02  , 515044.215 , 381294.1125, 435470.9625,\n",
       "       422387.91  , 463725.8325, 490786.065 , 533811.1275, 644525.91  ,\n",
       "       708839.3025, 510172.74  , 499418.01  , 374643.045 , 325612.98  ,\n",
       "       392964.39  , 308998.7775, 624145.41  , 700720.02  , 712530.    ,\n",
       "       686300.4225, 410240.88  , 461256.075 , 263945.9025, 478060.695 ,\n",
       "       478998.135 , 449116.605 , 548358.3   , 451477.845 , 495783.3825])"
      ]
     },
     "execution_count": 28,
     "metadata": {},
     "output_type": "execute_result"
    }
   ],
   "source": [
    "pred = model.predict(test)\n",
    "pred"
   ]
  },
  {
   "cell_type": "markdown",
   "id": "6c43c5de",
   "metadata": {},
   "source": [
    "# 7. 예측 및 결과 파일 생성"
   ]
  },
  {
   "cell_type": "code",
   "execution_count": 31,
   "id": "dd89bce9",
   "metadata": {},
   "outputs": [
    {
     "data": {
      "text/html": [
       "<div>\n",
       "<style scoped>\n",
       "    .dataframe tbody tr th:only-of-type {\n",
       "        vertical-align: middle;\n",
       "    }\n",
       "\n",
       "    .dataframe tbody tr th {\n",
       "        vertical-align: top;\n",
       "    }\n",
       "\n",
       "    .dataframe thead th {\n",
       "        text-align: right;\n",
       "    }\n",
       "</style>\n",
       "<table border=\"1\" class=\"dataframe\">\n",
       "  <thead>\n",
       "    <tr style=\"text-align: right;\">\n",
       "      <th></th>\n",
       "      <th>pred</th>\n",
       "    </tr>\n",
       "  </thead>\n",
       "  <tbody>\n",
       "    <tr>\n",
       "      <th>0</th>\n",
       "      <td>319681.5300</td>\n",
       "    </tr>\n",
       "    <tr>\n",
       "      <th>1</th>\n",
       "      <td>668193.2775</td>\n",
       "    </tr>\n",
       "    <tr>\n",
       "      <th>2</th>\n",
       "      <td>350330.0850</td>\n",
       "    </tr>\n",
       "    <tr>\n",
       "      <th>3</th>\n",
       "      <td>537739.9650</td>\n",
       "    </tr>\n",
       "    <tr>\n",
       "      <th>4</th>\n",
       "      <td>550546.9200</td>\n",
       "    </tr>\n",
       "    <tr>\n",
       "      <th>...</th>\n",
       "      <td>...</td>\n",
       "    </tr>\n",
       "    <tr>\n",
       "      <th>295</th>\n",
       "      <td>478998.1350</td>\n",
       "    </tr>\n",
       "    <tr>\n",
       "      <th>296</th>\n",
       "      <td>449116.6050</td>\n",
       "    </tr>\n",
       "    <tr>\n",
       "      <th>297</th>\n",
       "      <td>548358.3000</td>\n",
       "    </tr>\n",
       "    <tr>\n",
       "      <th>298</th>\n",
       "      <td>451477.8450</td>\n",
       "    </tr>\n",
       "    <tr>\n",
       "      <th>299</th>\n",
       "      <td>495783.3825</td>\n",
       "    </tr>\n",
       "  </tbody>\n",
       "</table>\n",
       "<p>300 rows × 1 columns</p>\n",
       "</div>"
      ],
      "text/plain": [
       "            pred\n",
       "0    319681.5300\n",
       "1    668193.2775\n",
       "2    350330.0850\n",
       "3    537739.9650\n",
       "4    550546.9200\n",
       "..           ...\n",
       "295  478998.1350\n",
       "296  449116.6050\n",
       "297  548358.3000\n",
       "298  451477.8450\n",
       "299  495783.3825\n",
       "\n",
       "[300 rows x 1 columns]"
      ]
     },
     "execution_count": 31,
     "metadata": {},
     "output_type": "execute_result"
    }
   ],
   "source": [
    "result = pd.DataFrame({\n",
    "    'pred' : pred\n",
    "})\n",
    "\n",
    "result.to_csv('result.csv',index=False)\n",
    "\n",
    "pd.read_csv('result.csv')"
   ]
  },
  {
   "cell_type": "code",
   "execution_count": null,
   "id": "469143e6",
   "metadata": {},
   "outputs": [],
   "source": []
  },
  {
   "cell_type": "code",
   "execution_count": null,
   "id": "a9282947",
   "metadata": {},
   "outputs": [],
   "source": []
  }
 ],
 "metadata": {
  "kernelspec": {
   "display_name": "Python 3 (ipykernel)",
   "language": "python",
   "name": "python3"
  },
  "language_info": {
   "codemirror_mode": {
    "name": "ipython",
    "version": 3
   },
   "file_extension": ".py",
   "mimetype": "text/x-python",
   "name": "python",
   "nbconvert_exporter": "python",
   "pygments_lexer": "ipython3",
   "version": "3.10.9"
  }
 },
 "nbformat": 4,
 "nbformat_minor": 5
}
