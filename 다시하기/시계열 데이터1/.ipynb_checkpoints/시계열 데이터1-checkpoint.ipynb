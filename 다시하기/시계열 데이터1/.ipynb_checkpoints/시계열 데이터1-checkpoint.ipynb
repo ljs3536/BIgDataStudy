{
 "cells": [
  {
   "cell_type": "code",
   "execution_count": 1,
   "id": "db96165b",
   "metadata": {},
   "outputs": [
    {
     "data": {
      "text/html": [
       "<div>\n",
       "<style scoped>\n",
       "    .dataframe tbody tr th:only-of-type {\n",
       "        vertical-align: middle;\n",
       "    }\n",
       "\n",
       "    .dataframe tbody tr th {\n",
       "        vertical-align: top;\n",
       "    }\n",
       "\n",
       "    .dataframe thead th {\n",
       "        text-align: right;\n",
       "    }\n",
       "</style>\n",
       "<table border=\"1\" class=\"dataframe\">\n",
       "  <thead>\n",
       "    <tr style=\"text-align: right;\">\n",
       "      <th></th>\n",
       "      <th>Date1</th>\n",
       "      <th>Date2</th>\n",
       "      <th>Date3</th>\n",
       "      <th>Date4</th>\n",
       "      <th>Date5</th>\n",
       "      <th>Date6</th>\n",
       "      <th>DateTime1</th>\n",
       "      <th>DateTime2</th>\n",
       "      <th>DateTime3</th>\n",
       "      <th>DateTime4</th>\n",
       "    </tr>\n",
       "  </thead>\n",
       "  <tbody>\n",
       "    <tr>\n",
       "      <th>0</th>\n",
       "      <td>2024-02-17</td>\n",
       "      <td>2024:02:17</td>\n",
       "      <td>24/02/17</td>\n",
       "      <td>02/17/2024</td>\n",
       "      <td>17-Feb-2024</td>\n",
       "      <td>2024년02월17일</td>\n",
       "      <td>24-02-17 11:45:30</td>\n",
       "      <td>2024-02-17 11-45-30</td>\n",
       "      <td>02/17/2024 11:45:30 AM</td>\n",
       "      <td>17 Feb 2024 11:45:30</td>\n",
       "    </tr>\n",
       "    <tr>\n",
       "      <th>1</th>\n",
       "      <td>2024-02-18</td>\n",
       "      <td>2024:02:18</td>\n",
       "      <td>24/02/18</td>\n",
       "      <td>02/18/2024</td>\n",
       "      <td>18-Feb-2024</td>\n",
       "      <td>2024년02월18일</td>\n",
       "      <td>24-02-18 12:55:45</td>\n",
       "      <td>2024-02-18 12-55-45</td>\n",
       "      <td>02/18/2024 12:55:45 PM</td>\n",
       "      <td>18 Feb 2024 12:55:45</td>\n",
       "    </tr>\n",
       "    <tr>\n",
       "      <th>2</th>\n",
       "      <td>2024-02-19</td>\n",
       "      <td>2024:02:19</td>\n",
       "      <td>24/02/19</td>\n",
       "      <td>02/19/2024</td>\n",
       "      <td>19-Feb-2024</td>\n",
       "      <td>2024년02월19일</td>\n",
       "      <td>24-02-19 13:30:15</td>\n",
       "      <td>2024-02-19 13-30-15</td>\n",
       "      <td>02/19/2024 01:30:15 PM</td>\n",
       "      <td>19 Feb 2024 13:30:15</td>\n",
       "    </tr>\n",
       "  </tbody>\n",
       "</table>\n",
       "</div>"
      ],
      "text/plain": [
       "        Date1       Date2     Date3       Date4        Date5        Date6  \\\n",
       "0  2024-02-17  2024:02:17  24/02/17  02/17/2024  17-Feb-2024  2024년02월17일   \n",
       "1  2024-02-18  2024:02:18  24/02/18  02/18/2024  18-Feb-2024  2024년02월18일   \n",
       "2  2024-02-19  2024:02:19  24/02/19  02/19/2024  19-Feb-2024  2024년02월19일   \n",
       "\n",
       "           DateTime1            DateTime2               DateTime3  \\\n",
       "0  24-02-17 11:45:30  2024-02-17 11-45-30  02/17/2024 11:45:30 AM   \n",
       "1  24-02-18 12:55:45  2024-02-18 12-55-45  02/18/2024 12:55:45 PM   \n",
       "2  24-02-19 13:30:15  2024-02-19 13-30-15  02/19/2024 01:30:15 PM   \n",
       "\n",
       "              DateTime4  \n",
       "0  17 Feb 2024 11:45:30  \n",
       "1  18 Feb 2024 12:55:45  \n",
       "2  19 Feb 2024 13:30:15  "
      ]
     },
     "execution_count": 1,
     "metadata": {},
     "output_type": "execute_result"
    }
   ],
   "source": [
    "# 데이터 생성(실습 전 실행)\n",
    "import pandas as pd\n",
    "data = {\n",
    "    'Date1': ['2024-02-17', '2024-02-18', '2024-02-19'],\n",
    "    'Date2': ['2024:02:17', '2024:02:18', '2024:02:19'],\n",
    "    'Date3': ['24/02/17', '24/02/18', '24/02/19'],\n",
    "    'Date4': ['02/17/2024', '02/18/2024', '02/19/2024'],\n",
    "    'Date5': ['17-Feb-2024', '18-Feb-2024', '19-Feb-2024'],\n",
    "    'Date6': ['2024년02월17일', '2024년02월18일', '2024년02월19일'],\n",
    "    'DateTime1': ['24-02-17 11:45:30', '24-02-18 12:55:45', '24-02-19 13:30:15'],\n",
    "    'DateTime2': ['2024-02-17 11-45-30', '2024-02-18 12-55-45', '2024-02-19 13-30-15'],\n",
    "    'DateTime3': ['02/17/2024 11:45:30 AM', '02/18/2024 12:55:45 PM', '02/19/2024 01:30:15 PM'],\n",
    "    'DateTime4': ['17 Feb 2024 11:45:30', '18 Feb 2024 12:55:45', '19 Feb 2024 13:30:15']\n",
    "}\n",
    "\n",
    "df = pd.DataFrame(data)\n",
    "df.to_csv(\"date.csv\", index=False)\n",
    "df"
   ]
  },
  {
   "cell_type": "code",
   "execution_count": 5,
   "id": "8f16f0a9",
   "metadata": {},
   "outputs": [
    {
     "data": {
      "text/html": [
       "<div>\n",
       "<style scoped>\n",
       "    .dataframe tbody tr th:only-of-type {\n",
       "        vertical-align: middle;\n",
       "    }\n",
       "\n",
       "    .dataframe tbody tr th {\n",
       "        vertical-align: top;\n",
       "    }\n",
       "\n",
       "    .dataframe thead th {\n",
       "        text-align: right;\n",
       "    }\n",
       "</style>\n",
       "<table border=\"1\" class=\"dataframe\">\n",
       "  <thead>\n",
       "    <tr style=\"text-align: right;\">\n",
       "      <th></th>\n",
       "      <th>Date1</th>\n",
       "      <th>Date2</th>\n",
       "      <th>Date3</th>\n",
       "      <th>Date4</th>\n",
       "      <th>Date5</th>\n",
       "      <th>Date6</th>\n",
       "      <th>DateTime1</th>\n",
       "      <th>DateTime2</th>\n",
       "      <th>DateTime3</th>\n",
       "      <th>DateTime4</th>\n",
       "    </tr>\n",
       "  </thead>\n",
       "  <tbody>\n",
       "    <tr>\n",
       "      <th>0</th>\n",
       "      <td>2024-02-17</td>\n",
       "      <td>2024:02:17</td>\n",
       "      <td>24/02/17</td>\n",
       "      <td>02/17/2024</td>\n",
       "      <td>17-Feb-2024</td>\n",
       "      <td>2024년02월17일</td>\n",
       "      <td>24-02-17 11:45:30</td>\n",
       "      <td>2024-02-17 11-45-30</td>\n",
       "      <td>02/17/2024 11:45:30 AM</td>\n",
       "      <td>17 Feb 2024 11:45:30</td>\n",
       "    </tr>\n",
       "    <tr>\n",
       "      <th>1</th>\n",
       "      <td>2024-02-18</td>\n",
       "      <td>2024:02:18</td>\n",
       "      <td>24/02/18</td>\n",
       "      <td>02/18/2024</td>\n",
       "      <td>18-Feb-2024</td>\n",
       "      <td>2024년02월18일</td>\n",
       "      <td>24-02-18 12:55:45</td>\n",
       "      <td>2024-02-18 12-55-45</td>\n",
       "      <td>02/18/2024 12:55:45 PM</td>\n",
       "      <td>18 Feb 2024 12:55:45</td>\n",
       "    </tr>\n",
       "    <tr>\n",
       "      <th>2</th>\n",
       "      <td>2024-02-19</td>\n",
       "      <td>2024:02:19</td>\n",
       "      <td>24/02/19</td>\n",
       "      <td>02/19/2024</td>\n",
       "      <td>19-Feb-2024</td>\n",
       "      <td>2024년02월19일</td>\n",
       "      <td>24-02-19 13:30:15</td>\n",
       "      <td>2024-02-19 13-30-15</td>\n",
       "      <td>02/19/2024 01:30:15 PM</td>\n",
       "      <td>19 Feb 2024 13:30:15</td>\n",
       "    </tr>\n",
       "  </tbody>\n",
       "</table>\n",
       "</div>"
      ],
      "text/plain": [
       "        Date1       Date2     Date3       Date4        Date5        Date6  \\\n",
       "0  2024-02-17  2024:02:17  24/02/17  02/17/2024  17-Feb-2024  2024년02월17일   \n",
       "1  2024-02-18  2024:02:18  24/02/18  02/18/2024  18-Feb-2024  2024년02월18일   \n",
       "2  2024-02-19  2024:02:19  24/02/19  02/19/2024  19-Feb-2024  2024년02월19일   \n",
       "\n",
       "           DateTime1            DateTime2               DateTime3  \\\n",
       "0  24-02-17 11:45:30  2024-02-17 11-45-30  02/17/2024 11:45:30 AM   \n",
       "1  24-02-18 12:55:45  2024-02-18 12-55-45  02/18/2024 12:55:45 PM   \n",
       "2  24-02-19 13:30:15  2024-02-19 13-30-15  02/19/2024 01:30:15 PM   \n",
       "\n",
       "              DateTime4  \n",
       "0  17 Feb 2024 11:45:30  \n",
       "1  18 Feb 2024 12:55:45  \n",
       "2  19 Feb 2024 13:30:15  "
      ]
     },
     "execution_count": 5,
     "metadata": {},
     "output_type": "execute_result"
    }
   ],
   "source": [
    "# 데이터 불러오기\n",
    "df = pd.read_csv('date.csv')\n",
    "df"
   ]
  },
  {
   "cell_type": "code",
   "execution_count": 7,
   "id": "269c3a8d",
   "metadata": {},
   "outputs": [
    {
     "name": "stdout",
     "output_type": "stream",
     "text": [
      "0    2024-02-17\n",
      "1    2024-02-18\n",
      "2    2024-02-19\n",
      "Name: Date1, dtype: object\n",
      "0   2024-02-17\n",
      "1   2024-02-18\n",
      "2   2024-02-19\n",
      "Name: Date1, dtype: datetime64[ns]\n"
     ]
    }
   ],
   "source": [
    "# Date1\n",
    "print(df['Date1'])\n",
    "df['Date1'] = pd.to_datetime(df['Date1'])\n",
    "print(df['Date1'])"
   ]
  },
  {
   "cell_type": "code",
   "execution_count": 8,
   "id": "69106892",
   "metadata": {},
   "outputs": [
    {
     "name": "stdout",
     "output_type": "stream",
     "text": [
      "0    2024:02:17\n",
      "1    2024:02:18\n",
      "2    2024:02:19\n",
      "Name: Date2, dtype: object\n",
      "0   2024-02-17\n",
      "1   2024-02-18\n",
      "2   2024-02-19\n",
      "Name: Date2, dtype: datetime64[ns]\n"
     ]
    }
   ],
   "source": [
    "# Date2 (year 4자리 : %Y)\n",
    "df = pd.read_csv('date.csv')\n",
    "print(df['Date2'])\n",
    "df['Date2'] = pd.to_datetime(df['Date2'],format=\"%Y:%m:%d\")\n",
    "print(df['Date2'])"
   ]
  },
  {
   "cell_type": "code",
   "execution_count": 9,
   "id": "2230b81c",
   "metadata": {},
   "outputs": [
    {
     "name": "stdout",
     "output_type": "stream",
     "text": [
      "0    24/02/17\n",
      "1    24/02/18\n",
      "2    24/02/19\n",
      "Name: Date3, dtype: object\n",
      "0   2024-02-17\n",
      "1   2024-02-18\n",
      "2   2024-02-19\n",
      "Name: Date3, dtype: datetime64[ns]\n"
     ]
    }
   ],
   "source": [
    "# Date3 (year 2자리 : %y)\n",
    "df = pd.read_csv('date.csv')\n",
    "print(df['Date3'])\n",
    "df['Date3'] = pd.to_datetime(df['Date3'],format=\"%y/%m/%d\")\n",
    "print(df['Date3'])"
   ]
  },
  {
   "cell_type": "code",
   "execution_count": 11,
   "id": "0c2b8aa5",
   "metadata": {},
   "outputs": [
    {
     "name": "stdout",
     "output_type": "stream",
     "text": [
      "0    02/17/2024\n",
      "1    02/18/2024\n",
      "2    02/19/2024\n",
      "Name: Date4, dtype: object\n",
      "0   2024-02-17\n",
      "1   2024-02-18\n",
      "2   2024-02-19\n",
      "Name: Date4, dtype: datetime64[ns]\n"
     ]
    }
   ],
   "source": [
    "# Date4\n",
    "df = pd.read_csv('date.csv')\n",
    "print(df['Date4'])\n",
    "df['Date4'] = pd.to_datetime(df['Date4'])\n",
    "print(df['Date4'])"
   ]
  },
  {
   "cell_type": "code",
   "execution_count": 12,
   "id": "d05b0164",
   "metadata": {},
   "outputs": [
    {
     "name": "stdout",
     "output_type": "stream",
     "text": [
      "0    17-Feb-2024\n",
      "1    18-Feb-2024\n",
      "2    19-Feb-2024\n",
      "Name: Date5, dtype: object\n",
      "0   2024-02-17\n",
      "1   2024-02-18\n",
      "2   2024-02-19\n",
      "Name: Date5, dtype: datetime64[ns]\n"
     ]
    }
   ],
   "source": [
    "# Date5\n",
    "df = pd.read_csv('date.csv')\n",
    "print(df['Date5'])\n",
    "df['Date5'] = pd.to_datetime(df['Date5'])\n",
    "print(df['Date5'])"
   ]
  },
  {
   "cell_type": "code",
   "execution_count": 13,
   "id": "0616672e",
   "metadata": {},
   "outputs": [
    {
     "name": "stdout",
     "output_type": "stream",
     "text": [
      "0    2024년02월17일\n",
      "1    2024년02월18일\n",
      "2    2024년02월19일\n",
      "Name: Date6, dtype: object\n",
      "0   2024-02-17\n",
      "1   2024-02-18\n",
      "2   2024-02-19\n",
      "Name: Date6, dtype: datetime64[ns]\n"
     ]
    }
   ],
   "source": [
    "# Date6\n",
    "df = pd.read_csv('date.csv')\n",
    "print(df['Date6'])\n",
    "df['Date6'] = pd.to_datetime(df['Date6'], format=\"%Y년%m월%d일\")\n",
    "print(df['Date6'])"
   ]
  },
  {
   "cell_type": "code",
   "execution_count": 17,
   "id": "c60f3974",
   "metadata": {},
   "outputs": [
    {
     "name": "stdout",
     "output_type": "stream",
     "text": [
      "0    24-02-17 11:45:30\n",
      "1    24-02-18 12:55:45\n",
      "2    24-02-19 13:30:15\n",
      "Name: DateTime1, dtype: object\n",
      "0   2024-02-17 11:45:30\n",
      "1   2024-02-18 12:55:45\n",
      "2   2024-02-19 13:30:15\n",
      "Name: DateTime1, dtype: datetime64[ns]\n"
     ]
    }
   ],
   "source": [
    "# DateTime1\n",
    "df = pd.read_csv('date.csv')\n",
    "print(df['DateTime1'])\n",
    "df['DateTime1'] = pd.to_datetime(df['DateTime1'], format='%y-%m-%d %H:%M:%S')\n",
    "print(df['DateTime1'])"
   ]
  },
  {
   "cell_type": "code",
   "execution_count": 22,
   "id": "87c1d6d0",
   "metadata": {},
   "outputs": [
    {
     "name": "stdout",
     "output_type": "stream",
     "text": [
      "0    2024-02-17 11-45-30\n",
      "1    2024-02-18 12-55-45\n",
      "2    2024-02-19 13-30-15\n",
      "Name: DateTime2, dtype: object\n",
      "0   2024-02-17 11:45:30\n",
      "1   2024-02-18 12:55:45\n",
      "2   2024-02-19 13:30:15\n",
      "Name: DateTime2, dtype: datetime64[ns]\n"
     ]
    }
   ],
   "source": [
    "# DateTime2\n",
    "df = pd.read_csv('date.csv')\n",
    "print(df['DateTime2'])\n",
    "df['DateTime2'] = pd.to_datetime(df['DateTime2'],format='%Y-%m-%d %H-%M-%S')\n",
    "print(df['DateTime2'])"
   ]
  },
  {
   "cell_type": "code",
   "execution_count": 23,
   "id": "d73871c0",
   "metadata": {},
   "outputs": [
    {
     "name": "stdout",
     "output_type": "stream",
     "text": [
      "0    02/17/2024 11:45:30 AM\n",
      "1    02/18/2024 12:55:45 PM\n",
      "2    02/19/2024 01:30:15 PM\n",
      "Name: DateTime3, dtype: object\n",
      "0   2024-02-17 11:45:30\n",
      "1   2024-02-18 12:55:45\n",
      "2   2024-02-19 13:30:15\n",
      "Name: DateTime3, dtype: datetime64[ns]\n"
     ]
    }
   ],
   "source": [
    "# DateTime3\n",
    "df = pd.read_csv('date.csv')\n",
    "print(df['DateTime3'])\n",
    "df['DateTime3'] = pd.to_datetime(df['DateTime3'])\n",
    "print(df['DateTime3'])"
   ]
  },
  {
   "cell_type": "code",
   "execution_count": 24,
   "id": "e932906f",
   "metadata": {},
   "outputs": [
    {
     "name": "stdout",
     "output_type": "stream",
     "text": [
      "0    17 Feb 2024 11:45:30\n",
      "1    18 Feb 2024 12:55:45\n",
      "2    19 Feb 2024 13:30:15\n",
      "Name: DateTime4, dtype: object\n",
      "0   2024-02-17 11:45:30\n",
      "1   2024-02-18 12:55:45\n",
      "2   2024-02-19 13:30:15\n",
      "Name: DateTime4, dtype: datetime64[ns]\n"
     ]
    }
   ],
   "source": [
    "# DateTime4\n",
    "df = pd.read_csv('date.csv')\n",
    "print(df['DateTime4'])\n",
    "df['DateTime4'] = pd.to_datetime(df['DateTime4'])\n",
    "print(df['DateTime4'])"
   ]
  },
  {
   "cell_type": "code",
   "execution_count": 29,
   "id": "665f9165",
   "metadata": {},
   "outputs": [
    {
     "name": "stdout",
     "output_type": "stream",
     "text": [
      "<class 'pandas.core.frame.DataFrame'>\n",
      "RangeIndex: 3 entries, 0 to 2\n",
      "Data columns (total 10 columns):\n",
      " #   Column     Non-Null Count  Dtype         \n",
      "---  ------     --------------  -----         \n",
      " 0   Date1      3 non-null      object        \n",
      " 1   Date2      3 non-null      object        \n",
      " 2   Date3      3 non-null      object        \n",
      " 3   Date4      3 non-null      object        \n",
      " 4   Date5      3 non-null      object        \n",
      " 5   Date6      3 non-null      object        \n",
      " 6   DateTime1  3 non-null      object        \n",
      " 7   DateTime2  3 non-null      object        \n",
      " 8   DateTime3  3 non-null      object        \n",
      " 9   DateTime4  3 non-null      datetime64[ns]\n",
      "dtypes: datetime64[ns](1), object(9)\n",
      "memory usage: 368.0+ bytes\n"
     ]
    }
   ],
   "source": [
    "# 자료형 확인\n",
    "df.info()"
   ]
  },
  {
   "cell_type": "code",
   "execution_count": 31,
   "id": "18f17d7a",
   "metadata": {},
   "outputs": [
    {
     "data": {
      "text/html": [
       "<div>\n",
       "<style scoped>\n",
       "    .dataframe tbody tr th:only-of-type {\n",
       "        vertical-align: middle;\n",
       "    }\n",
       "\n",
       "    .dataframe tbody tr th {\n",
       "        vertical-align: top;\n",
       "    }\n",
       "\n",
       "    .dataframe thead th {\n",
       "        text-align: right;\n",
       "    }\n",
       "</style>\n",
       "<table border=\"1\" class=\"dataframe\">\n",
       "  <thead>\n",
       "    <tr style=\"text-align: right;\">\n",
       "      <th></th>\n",
       "      <th>Date1</th>\n",
       "      <th>Date2</th>\n",
       "      <th>Date3</th>\n",
       "      <th>Date4</th>\n",
       "      <th>Date5</th>\n",
       "      <th>Date6</th>\n",
       "      <th>DateTime1</th>\n",
       "      <th>DateTime2</th>\n",
       "      <th>DateTime3</th>\n",
       "      <th>DateTime4</th>\n",
       "      <th>year</th>\n",
       "      <th>month</th>\n",
       "      <th>day</th>\n",
       "      <th>hour</th>\n",
       "      <th>minute</th>\n",
       "      <th>second</th>\n",
       "    </tr>\n",
       "  </thead>\n",
       "  <tbody>\n",
       "    <tr>\n",
       "      <th>0</th>\n",
       "      <td>2024-02-17</td>\n",
       "      <td>2024:02:17</td>\n",
       "      <td>24/02/17</td>\n",
       "      <td>02/17/2024</td>\n",
       "      <td>17-Feb-2024</td>\n",
       "      <td>2024년02월17일</td>\n",
       "      <td>24-02-17 11:45:30</td>\n",
       "      <td>2024-02-17 11-45-30</td>\n",
       "      <td>02/17/2024 11:45:30 AM</td>\n",
       "      <td>2024-02-17 11:45:30</td>\n",
       "      <td>2024</td>\n",
       "      <td>2</td>\n",
       "      <td>17</td>\n",
       "      <td>11</td>\n",
       "      <td>45</td>\n",
       "      <td>30</td>\n",
       "    </tr>\n",
       "    <tr>\n",
       "      <th>1</th>\n",
       "      <td>2024-02-18</td>\n",
       "      <td>2024:02:18</td>\n",
       "      <td>24/02/18</td>\n",
       "      <td>02/18/2024</td>\n",
       "      <td>18-Feb-2024</td>\n",
       "      <td>2024년02월18일</td>\n",
       "      <td>24-02-18 12:55:45</td>\n",
       "      <td>2024-02-18 12-55-45</td>\n",
       "      <td>02/18/2024 12:55:45 PM</td>\n",
       "      <td>2024-02-18 12:55:45</td>\n",
       "      <td>2024</td>\n",
       "      <td>2</td>\n",
       "      <td>18</td>\n",
       "      <td>12</td>\n",
       "      <td>55</td>\n",
       "      <td>45</td>\n",
       "    </tr>\n",
       "    <tr>\n",
       "      <th>2</th>\n",
       "      <td>2024-02-19</td>\n",
       "      <td>2024:02:19</td>\n",
       "      <td>24/02/19</td>\n",
       "      <td>02/19/2024</td>\n",
       "      <td>19-Feb-2024</td>\n",
       "      <td>2024년02월19일</td>\n",
       "      <td>24-02-19 13:30:15</td>\n",
       "      <td>2024-02-19 13-30-15</td>\n",
       "      <td>02/19/2024 01:30:15 PM</td>\n",
       "      <td>2024-02-19 13:30:15</td>\n",
       "      <td>2024</td>\n",
       "      <td>2</td>\n",
       "      <td>19</td>\n",
       "      <td>13</td>\n",
       "      <td>30</td>\n",
       "      <td>15</td>\n",
       "    </tr>\n",
       "  </tbody>\n",
       "</table>\n",
       "</div>"
      ],
      "text/plain": [
       "        Date1       Date2     Date3       Date4        Date5        Date6  \\\n",
       "0  2024-02-17  2024:02:17  24/02/17  02/17/2024  17-Feb-2024  2024년02월17일   \n",
       "1  2024-02-18  2024:02:18  24/02/18  02/18/2024  18-Feb-2024  2024년02월18일   \n",
       "2  2024-02-19  2024:02:19  24/02/19  02/19/2024  19-Feb-2024  2024년02월19일   \n",
       "\n",
       "           DateTime1            DateTime2               DateTime3  \\\n",
       "0  24-02-17 11:45:30  2024-02-17 11-45-30  02/17/2024 11:45:30 AM   \n",
       "1  24-02-18 12:55:45  2024-02-18 12-55-45  02/18/2024 12:55:45 PM   \n",
       "2  24-02-19 13:30:15  2024-02-19 13-30-15  02/19/2024 01:30:15 PM   \n",
       "\n",
       "            DateTime4  year  month  day  hour  minute  second  \n",
       "0 2024-02-17 11:45:30  2024      2   17    11      45      30  \n",
       "1 2024-02-18 12:55:45  2024      2   18    12      55      45  \n",
       "2 2024-02-19 13:30:15  2024      2   19    13      30      15  "
      ]
     },
     "execution_count": 31,
     "metadata": {},
     "output_type": "execute_result"
    }
   ],
   "source": [
    "# 년, 월, 일, 시간, 분, 초 추출\n",
    "df['year'] = df['DateTime4'].dt.year\n",
    "df['month'] = df['DateTime4'].dt.month\n",
    "df['day'] = df['DateTime4'].dt.day\n",
    "df['hour'] = df['DateTime4'].dt.hour\n",
    "df['minute'] = df['DateTime4'].dt.minute\n",
    "df['second'] = df['DateTime4'].dt.second\n",
    "df"
   ]
  },
  {
   "cell_type": "code",
   "execution_count": 32,
   "id": "3d2ae308",
   "metadata": {},
   "outputs": [
    {
     "data": {
      "text/plain": [
       "0    5\n",
       "1    6\n",
       "2    0\n",
       "Name: DateTime4, dtype: int64"
      ]
     },
     "execution_count": 32,
     "metadata": {},
     "output_type": "execute_result"
    }
   ],
   "source": [
    "# 요일 dayofweek 0:월 ~ 6:일\n",
    "df['DateTime4'].dt.dayofweek"
   ]
  },
  {
   "cell_type": "code",
   "execution_count": 34,
   "id": "b5a7235d",
   "metadata": {},
   "outputs": [
    {
     "data": {
      "text/html": [
       "<div>\n",
       "<style scoped>\n",
       "    .dataframe tbody tr th:only-of-type {\n",
       "        vertical-align: middle;\n",
       "    }\n",
       "\n",
       "    .dataframe tbody tr th {\n",
       "        vertical-align: top;\n",
       "    }\n",
       "\n",
       "    .dataframe thead th {\n",
       "        text-align: right;\n",
       "    }\n",
       "</style>\n",
       "<table border=\"1\" class=\"dataframe\">\n",
       "  <thead>\n",
       "    <tr style=\"text-align: right;\">\n",
       "      <th></th>\n",
       "      <th>Date1</th>\n",
       "      <th>Date2</th>\n",
       "      <th>Date3</th>\n",
       "      <th>Date4</th>\n",
       "      <th>Date5</th>\n",
       "      <th>Date6</th>\n",
       "      <th>DateTime1</th>\n",
       "      <th>DateTime2</th>\n",
       "      <th>DateTime3</th>\n",
       "      <th>DateTime4</th>\n",
       "      <th>year</th>\n",
       "      <th>month</th>\n",
       "      <th>day</th>\n",
       "      <th>hour</th>\n",
       "      <th>minute</th>\n",
       "      <th>second</th>\n",
       "      <th>is주말</th>\n",
       "    </tr>\n",
       "  </thead>\n",
       "  <tbody>\n",
       "    <tr>\n",
       "      <th>0</th>\n",
       "      <td>2024-02-17</td>\n",
       "      <td>2024:02:17</td>\n",
       "      <td>24/02/17</td>\n",
       "      <td>02/17/2024</td>\n",
       "      <td>17-Feb-2024</td>\n",
       "      <td>2024년02월17일</td>\n",
       "      <td>24-02-17 11:45:30</td>\n",
       "      <td>2024-02-17 11-45-30</td>\n",
       "      <td>02/17/2024 11:45:30 AM</td>\n",
       "      <td>2024-02-17 11:45:30</td>\n",
       "      <td>2024</td>\n",
       "      <td>2</td>\n",
       "      <td>17</td>\n",
       "      <td>11</td>\n",
       "      <td>45</td>\n",
       "      <td>30</td>\n",
       "      <td>True</td>\n",
       "    </tr>\n",
       "    <tr>\n",
       "      <th>1</th>\n",
       "      <td>2024-02-18</td>\n",
       "      <td>2024:02:18</td>\n",
       "      <td>24/02/18</td>\n",
       "      <td>02/18/2024</td>\n",
       "      <td>18-Feb-2024</td>\n",
       "      <td>2024년02월18일</td>\n",
       "      <td>24-02-18 12:55:45</td>\n",
       "      <td>2024-02-18 12-55-45</td>\n",
       "      <td>02/18/2024 12:55:45 PM</td>\n",
       "      <td>2024-02-18 12:55:45</td>\n",
       "      <td>2024</td>\n",
       "      <td>2</td>\n",
       "      <td>18</td>\n",
       "      <td>12</td>\n",
       "      <td>55</td>\n",
       "      <td>45</td>\n",
       "      <td>True</td>\n",
       "    </tr>\n",
       "    <tr>\n",
       "      <th>2</th>\n",
       "      <td>2024-02-19</td>\n",
       "      <td>2024:02:19</td>\n",
       "      <td>24/02/19</td>\n",
       "      <td>02/19/2024</td>\n",
       "      <td>19-Feb-2024</td>\n",
       "      <td>2024년02월19일</td>\n",
       "      <td>24-02-19 13:30:15</td>\n",
       "      <td>2024-02-19 13-30-15</td>\n",
       "      <td>02/19/2024 01:30:15 PM</td>\n",
       "      <td>2024-02-19 13:30:15</td>\n",
       "      <td>2024</td>\n",
       "      <td>2</td>\n",
       "      <td>19</td>\n",
       "      <td>13</td>\n",
       "      <td>30</td>\n",
       "      <td>15</td>\n",
       "      <td>False</td>\n",
       "    </tr>\n",
       "  </tbody>\n",
       "</table>\n",
       "</div>"
      ],
      "text/plain": [
       "        Date1       Date2     Date3       Date4        Date5        Date6  \\\n",
       "0  2024-02-17  2024:02:17  24/02/17  02/17/2024  17-Feb-2024  2024년02월17일   \n",
       "1  2024-02-18  2024:02:18  24/02/18  02/18/2024  18-Feb-2024  2024년02월18일   \n",
       "2  2024-02-19  2024:02:19  24/02/19  02/19/2024  19-Feb-2024  2024년02월19일   \n",
       "\n",
       "           DateTime1            DateTime2               DateTime3  \\\n",
       "0  24-02-17 11:45:30  2024-02-17 11-45-30  02/17/2024 11:45:30 AM   \n",
       "1  24-02-18 12:55:45  2024-02-18 12-55-45  02/18/2024 12:55:45 PM   \n",
       "2  24-02-19 13:30:15  2024-02-19 13-30-15  02/19/2024 01:30:15 PM   \n",
       "\n",
       "            DateTime4  year  month  day  hour  minute  second   is주말  \n",
       "0 2024-02-17 11:45:30  2024      2   17    11      45      30   True  \n",
       "1 2024-02-18 12:55:45  2024      2   18    12      55      45   True  \n",
       "2 2024-02-19 13:30:15  2024      2   19    13      30      15  False  "
      ]
     },
     "execution_count": 34,
     "metadata": {},
     "output_type": "execute_result"
    }
   ],
   "source": [
    "# 주말\n",
    "df['is주말'] = df['DateTime4'].dt.dayofweek >= 5\n",
    "df"
   ]
  },
  {
   "cell_type": "code",
   "execution_count": 35,
   "id": "bfb32dcb",
   "metadata": {},
   "outputs": [
    {
     "name": "stdout",
     "output_type": "stream",
     "text": [
      "0    2024\n",
      "1    2024\n",
      "2    2024\n",
      "Name: DateTime4, dtype: period[A-DEC]\n",
      "0    2024Q1\n",
      "1    2024Q1\n",
      "2    2024Q1\n",
      "Name: DateTime4, dtype: period[Q-DEC]\n",
      "0    2024-02\n",
      "1    2024-02\n",
      "2    2024-02\n",
      "Name: DateTime4, dtype: period[M]\n",
      "0    2024-02-17\n",
      "1    2024-02-18\n",
      "2    2024-02-19\n",
      "Name: DateTime4, dtype: period[D]\n",
      "0    2024-02-17 11:00\n",
      "1    2024-02-18 12:00\n",
      "2    2024-02-19 13:00\n",
      "Name: DateTime4, dtype: period[H]\n"
     ]
    }
   ],
   "source": [
    "# [참고] 기간 to_period()\n",
    "print(df['DateTime4'].dt.to_period('Y')) # 또는 'A'\n",
    "print(df['DateTime4'].dt.to_period('Q'))\n",
    "print(df['DateTime4'].dt.to_period('M'))\n",
    "print(df['DateTime4'].dt.to_period('D'))\n",
    "print(df['DateTime4'].dt.to_period('H'))"
   ]
  },
  {
   "cell_type": "code",
   "execution_count": null,
   "id": "7b0c395f",
   "metadata": {},
   "outputs": [],
   "source": []
  },
  {
   "cell_type": "code",
   "execution_count": null,
   "id": "995e7cfa",
   "metadata": {},
   "outputs": [],
   "source": []
  },
  {
   "cell_type": "code",
   "execution_count": null,
   "id": "3da0424c",
   "metadata": {},
   "outputs": [],
   "source": []
  },
  {
   "cell_type": "code",
   "execution_count": null,
   "id": "e30dd709",
   "metadata": {},
   "outputs": [],
   "source": []
  },
  {
   "cell_type": "code",
   "execution_count": null,
   "id": "3140bb28",
   "metadata": {},
   "outputs": [],
   "source": []
  },
  {
   "cell_type": "code",
   "execution_count": null,
   "id": "89e66b8a",
   "metadata": {},
   "outputs": [],
   "source": []
  }
 ],
 "metadata": {
  "kernelspec": {
   "display_name": "Python 3 (ipykernel)",
   "language": "python",
   "name": "python3"
  },
  "language_info": {
   "codemirror_mode": {
    "name": "ipython",
    "version": 3
   },
   "file_extension": ".py",
   "mimetype": "text/x-python",
   "name": "python",
   "nbconvert_exporter": "python",
   "pygments_lexer": "ipython3",
   "version": "3.9.7"
  }
 },
 "nbformat": 4,
 "nbformat_minor": 5
}
