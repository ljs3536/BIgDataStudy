{
 "cells": [
  {
   "cell_type": "markdown",
   "id": "5d618ef1",
   "metadata": {},
   "source": [
    "# 분산분석\n",
    "분산분석(ANOVA)은 여러 집단의 평균 차이를 통계적으로 유의미한지 검정\n",
    "- 일원 분산 분석 (One-way ANOVA) : 하나의 요인에 따라 평균의 차이 검정\n",
    "- 이원 분산 분석 (Two-way ANOVA) : 두 개의 요인에 따라 평균의 차이 검정"
   ]
  },
  {
   "cell_type": "markdown",
   "id": "c8965fd8",
   "metadata": {},
   "source": [
    "# 일원 분산 분석\n",
    "- 3개 이상의 집단 간의 평균의 차이가 통계적으로 유의한지 검정\n",
    "- 하나의 요인이고, 집단의 수가 3개 이상일 때 사용"
   ]
  },
  {
   "cell_type": "markdown",
   "id": "925bafb9",
   "metadata": {},
   "source": [
    "## 기본가정\n",
    "- 독립성 : 각 집단의 관측치는 독립적이다.\n",
    "- 정규성 : 각 집단은 정규분포를 따른다. (샤피로 검정)\n",
    "- 등분산성 : 모든 집단은 동일한 분산을 가진다. (레빈 검정)"
   ]
  },
  {
   "cell_type": "markdown",
   "id": "a231c6e5",
   "metadata": {},
   "source": [
    "## 귀무가설과 대립가설\n",
    "- 귀무가설 : 모든 집단의 평균은 같다\n",
    "- 대린가설 : 적어도 한 집단은 평균이 다르다."
   ]
  },
  {
   "cell_type": "markdown",
   "id": "4bd24db4",
   "metadata": {},
   "source": [
    "## 일원 분산 분석\n",
    "### # 사이파이\n",
    "#### f_oneway(sample1, sample2, ...)\n",
    "F_onewayResult(statistic=7.2969837587007, pvalue=0.0006053225519892207)"
   ]
  },
  {
   "cell_type": "markdown",
   "id": "22c1cbab",
   "metadata": {},
   "source": [
    "### # 스테츠모델즈 (아노바 테이블)\n",
    "#### model = ols('종속변수 ~ 요인',data = df).fit()\n",
    "#### print(anova_lm(model))"
   ]
  },
  {
   "cell_type": "markdown",
   "id": "96b23aca",
   "metadata": {},
   "source": [
    "- df : 자유도\n",
    "- sum_sq : 제곱합 (그룹 평균 간의 차이를 나타내는 제곱합)\n",
    "- mean_sq : 평균 제곱 (sum_sq / 자유도)\n",
    "- F : 검정통계량\n",
    "- PR(>F) : p-value"
   ]
  },
  {
   "cell_type": "markdown",
   "id": "3d8ef6ab",
   "metadata": {},
   "source": [
    "# 이원 분산 분석\n",
    "- 3개 이상의 집단 간의 평균의 차이가 통계적으로 유의한지 검정\n",
    "- 요인의 수가 2개, 집단의 수가 3개 이상일 때 사용"
   ]
  },
  {
   "cell_type": "markdown",
   "id": "b1f4afa3",
   "metadata": {},
   "source": [
    "## 기본가정\n",
    "- 독립성 : 각 집단의 관측치는 독립적이다.\n",
    "- 정규성 : 각 집단은 정규분포를 따른다. (샤피로 검정)\n",
    "- 등분산성 : 모든 집단은 동일한 분산을 가진다. (레빈 검정)"
   ]
  },
  {
   "cell_type": "markdown",
   "id": "fe7b77d2",
   "metadata": {},
   "source": [
    "## 귀무가설과 대립가설\n",
    "주 효과와 상호 작용 효과\n",
    "- 주 효과(요인1)\n",
    "    - 귀무가설 : 모든 그룹의 첫 번째 요인의 평균은 동일하다.\n",
    "    - 대립가설 : 적어도 두 그룹은 첫 번째 요인의 평균은 다르다.\n",
    "- 주 효과(요인2)\n",
    "    - 귀무가설 : 모든 그룹의 두 번째 요인의 평균은 동일하다.\n",
    "    - 대립가설 : 적어도 두 그룹은 두 번째 요인의 평균은 다르다.\n",
    "- 상호작용효과\n",
    "    - 귀무가설 : 두 요인의 그룹 간에 상호작용은 없다.\n",
    "    - 대립가설 : 두 요인의 그룹 간에 상호작용이 있다."
   ]
  },
  {
   "cell_type": "markdown",
   "id": "975362f6",
   "metadata": {},
   "source": [
    "## 이원 분산 분석\n",
    "### # 스테츠 모델즈 (아노바 테이블)\n",
    "#### model = ols('종속변수 ~ C(요인1) * C(요인2)',data=df).fit()\n",
    "#### print(anova_lm(model))"
   ]
  },
  {
   "cell_type": "code",
   "execution_count": null,
   "id": "6e46ad18",
   "metadata": {},
   "outputs": [],
   "source": []
  },
  {
   "cell_type": "code",
   "execution_count": null,
   "id": "87f42009",
   "metadata": {},
   "outputs": [],
   "source": []
  },
  {
   "cell_type": "code",
   "execution_count": null,
   "id": "b94c678b",
   "metadata": {},
   "outputs": [],
   "source": []
  },
  {
   "cell_type": "code",
   "execution_count": null,
   "id": "ac244dd9",
   "metadata": {},
   "outputs": [],
   "source": []
  }
 ],
 "metadata": {
  "kernelspec": {
   "display_name": "Python 3 (ipykernel)",
   "language": "python",
   "name": "python3"
  },
  "language_info": {
   "codemirror_mode": {
    "name": "ipython",
    "version": 3
   },
   "file_extension": ".py",
   "mimetype": "text/x-python",
   "name": "python",
   "nbconvert_exporter": "python",
   "pygments_lexer": "ipython3",
   "version": "3.9.7"
  }
 },
 "nbformat": 4,
 "nbformat_minor": 5
}
