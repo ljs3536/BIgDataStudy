{
 "cells": [
  {
   "cell_type": "markdown",
   "id": "fea9c72e",
   "metadata": {},
   "source": [
    "# 7회 작업형3\n",
    "### 오즈비\n",
    "- 오즈비(Odds Ratio, OR)는 로지스틱 회귀분석에서 독립변수의 계수를 exp() 함수에 넣어 산출한 값\n",
    "- 오즈비는 독립변수가 한 단위 증가할 때, 종속변수(0또는1)가 1(사건 발생)이 될 확률의 변화\n",
    "- 오즈비 = exp(독립변수의 계수)\n",
    "- exp()는 exponential function의 약어로, 지수 함수를 의미"
   ]
  },
  {
   "cell_type": "code",
   "execution_count": null,
   "id": "689dd65c",
   "metadata": {},
   "outputs": [],
   "source": [
    "from statsmodels.formula.api import logit\n",
    "import numpy as np\n",
    "\n",
    "# 1) 로지스틱 회귀 모델 생성 및 학습\n",
    "model = logit(\"종속변수 ~ 독립변수\", data=데이터).fit()\n",
    "\n",
    "# 2) 오즈비 계산\n",
    "print(model.summary())\n",
    "오즈비 = exp(독립변수의 계수)"
   ]
  },
  {
   "cell_type": "markdown",
   "id": "870b616e",
   "metadata": {},
   "source": [
    "### GML\n",
    "- 일반화 선형 모델(Generalized Linear Models, GLM)의 한 종류\n",
    "- GLM은 선형 회귀 모델을 확장한 것으로, 종속변수의 분포가 정규분포 외에 다른 분포(예: 이항분포, 포아송분포 등)를 따르는 경우에도 적용할 수 있음\n",
    "- 로지스틱 회귀 -> 이항분포 (Binomial Distribution)\n",
    "- 잔차 이탈도(Residual Deviance)\n",
    "    - logit summary X\n",
    "    - glm summary O"
   ]
  },
  {
   "cell_type": "code",
   "execution_count": null,
   "id": "55deec61",
   "metadata": {},
   "outputs": [],
   "source": [
    "from statsmodels.formula.api import glm\n",
    "import statsmodels.api as sm\n",
    "\n",
    "# glm 모델 적합 (로지스틱 회귀를 위해 이항 분포 사용)\n",
    "formula = \"종속변수 ~ 독립변수\"\n",
    "model = glm(formula, data=데이터, family=sm.families.Binomial()).fit()"
   ]
  },
  {
   "cell_type": "markdown",
   "id": "d46c3f12",
   "metadata": {},
   "source": [
    "### 오류율\n",
    "- 오류율 = (잘못 분류된 샘플 수) / (전체 샘플 수)\n",
    "- 오류율 = 1 - accuracy"
   ]
  },
  {
   "cell_type": "markdown",
   "id": "e4298f7b",
   "metadata": {},
   "source": [
    "### 문제1. 주어진 조개 데이터 300개 중 앞에서부터 210개는 train 데이터로 만들고, 나머지 90개는 test데이터로 만든다. 모델을 학습(적합)할 때는 train데이터를 사용하고, 예측할 때는 test데이터를 사용한다. 모델은 로지스틱 회귀를 써서 성별(gender)을 예측하되, 패널티는 부과하지 않는다.\n",
    "- 종속변수: gender(0:암컷, 1:수컷)"
   ]
  },
  {
   "cell_type": "markdown",
   "id": "16d71579",
   "metadata": {},
   "source": [
    "### 문제1-1. weight를 독립변수로 gender를 종속변수로 사용하여 로지스틱 회귀 모형을 만들고, weight 변수가 한 단위 증가할 때 수컷일 오즈비 값은? (반올림하여 소수 넷째자리까지 계산)"
   ]
  },
  {
   "cell_type": "code",
   "execution_count": 1,
   "id": "53c08be6",
   "metadata": {},
   "outputs": [
    {
     "name": "stdout",
     "output_type": "stream",
     "text": [
      "(210, 6) (90, 6)\n"
     ]
    }
   ],
   "source": [
    "import pandas as pd\n",
    "df = pd.read_csv(\"p7_type3/clam.csv\")\n",
    "\n",
    "# 데이터셋 분할\n",
    "train = df.iloc[:210]\n",
    "test = df.iloc[210:]\n",
    "print(train.shape, test.shape)"
   ]
  },
  {
   "cell_type": "code",
   "execution_count": 11,
   "id": "8307f0c0",
   "metadata": {},
   "outputs": [
    {
     "name": "stdout",
     "output_type": "stream",
     "text": [
      "Optimization terminated successfully.\n",
      "         Current function value: 0.690045\n",
      "         Iterations 4\n",
      "                           Logit Regression Results                           \n",
      "==============================================================================\n",
      "Dep. Variable:                 gender   No. Observations:                  210\n",
      "Model:                          Logit   Df Residuals:                      208\n",
      "Method:                           MLE   Df Model:                            1\n",
      "Date:                Wed, 29 May 2024   Pseudo R-squ.:                0.003431\n",
      "Time:                        12:44:33   Log-Likelihood:                -144.91\n",
      "converged:                       True   LL-Null:                       -145.41\n",
      "Covariance Type:            nonrobust   LLR p-value:                    0.3178\n",
      "==============================================================================\n",
      "                 coef    std err          z      P>|z|      [0.025      0.975]\n",
      "------------------------------------------------------------------------------\n",
      "Intercept     -0.3140      0.276     -1.137      0.256      -0.855       0.227\n",
      "weight         0.0047      0.005      0.997      0.319      -0.005       0.014\n",
      "==============================================================================\n",
      "1.0047110623241844\n",
      "1.0047172874702013\n",
      "1.0047\n"
     ]
    }
   ],
   "source": [
    "from statsmodels.formula.api import logit\n",
    "import numpy as np\n",
    "\n",
    "# 1) 로지스틱 회귀 몰델 생성 및 학습\n",
    "model = logit(\"gender ~ weight\", data = train).fit()\n",
    "print(model.summary())\n",
    "\n",
    "# 2) 오즈비 계산\n",
    "print(np.exp(0.0047))\n",
    "\n",
    "print(np.exp(model.params['weight']))\n",
    "\n",
    "print(round(np.exp(model.params['weight']),4))"
   ]
  },
  {
   "cell_type": "markdown",
   "id": "94d9756f",
   "metadata": {},
   "source": [
    "### 문제1-2. gender를 종속변수로 하고 나머지 변수들(age, length, diameter, height, weight)을 독립변수로 사용하는 로지스틱 회귀 모델을 적합시킨 후, 잔차 이탈도(Residual Deviance)를 계산하시오. (반올림하여 소수 둘째자리까지 계산)"
   ]
  },
  {
   "cell_type": "code",
   "execution_count": 15,
   "id": "bbeec4df",
   "metadata": {},
   "outputs": [
    {
     "name": "stdout",
     "output_type": "stream",
     "text": [
      "                 Generalized Linear Model Regression Results                  \n",
      "==============================================================================\n",
      "Dep. Variable:                 gender   No. Observations:                  210\n",
      "Model:                            GLM   Df Residuals:                      204\n",
      "Model Family:                Binomial   Df Model:                            5\n",
      "Link Function:                  logit   Scale:                          1.0000\n",
      "Method:                          IRLS   Log-Likelihood:                -143.47\n",
      "Date:                Wed, 29 May 2024   Deviance:                       286.93\n",
      "Time:                        12:49:26   Pearson chi2:                     210.\n",
      "No. Iterations:                     4                                         \n",
      "Covariance Type:            nonrobust                                         \n",
      "==============================================================================\n",
      "                 coef    std err          z      P>|z|      [0.025      0.975]\n",
      "------------------------------------------------------------------------------\n",
      "Intercept      0.6701      0.651      1.030      0.303      -0.605       1.946\n",
      "age           -0.0482      0.055     -0.881      0.378      -0.156       0.059\n",
      "length        -0.7832      0.998     -0.785      0.433      -2.739       1.173\n",
      "diameter      -1.1573      1.389     -0.833      0.405      -3.880       1.565\n",
      "height        -2.2977      2.640     -0.870      0.384      -7.472       2.877\n",
      "weight         0.0054      0.005      1.098      0.272      -0.004       0.015\n",
      "==============================================================================\n",
      "286.93\n"
     ]
    }
   ],
   "source": [
    "from statsmodels.formula.api import glm\n",
    "import statsmodels.api as sm\n",
    "\n",
    "# 1) glm 모델 적합 (로지스틱 회귀를 위해 이항 분포 사용)\n",
    "formula = \"gender ~ age + length + diameter + height + weight\"\n",
    "model = glm(formula, data=train, family=sm.families.Binomial()).fit()\n",
    "\n",
    "# 2) 전차이탈도 계산\n",
    "print(model.summary())\n",
    "\n",
    "print(round(model.deviance,2))"
   ]
  },
  {
   "cell_type": "markdown",
   "id": "ebe85d43",
   "metadata": {},
   "source": [
    "### 문제1-3. 독립변수 weight 만 사용해 학습한 로지스틱 회귀모델에서 test데이터의 gender를 예측하고, error rate(오류율)를 구하시오. (반올림하여 소수 셋째자리까지 계산)"
   ]
  },
  {
   "cell_type": "code",
   "execution_count": 23,
   "id": "6c71d367",
   "metadata": {},
   "outputs": [
    {
     "name": "stdout",
     "output_type": "stream",
     "text": [
      "Optimization terminated successfully.\n",
      "         Current function value: 0.690045\n",
      "         Iterations 4\n",
      "0.478\n"
     ]
    }
   ],
   "source": [
    "from sklearn.metrics import accuracy_score\n",
    "from statsmodels.formula.api import logit\n",
    "\n",
    "import pandas as pd\n",
    "df = pd.read_csv(\"p7_type3/clam.csv\")\n",
    "\n",
    "# 데이터셋 분할\n",
    "train = df.iloc[:210]\n",
    "test = df.iloc[210:]\n",
    "\n",
    "# 1) 학습, test데이터를 사용해 예측 ( 0.5 미만 : 0, 0.5이상 : 1)\n",
    "model = logit(\"gender ~ weight\",data=train).fit()\n",
    "target = test.pop(\"gender\")\n",
    "pred = model.predict(test) > 0.5\n",
    "\n",
    "# 2) 실제 값과 예측값을 사용하여 정확도 계산\n",
    "\n",
    "acc = accuracy_score(target, pred)\n",
    "\n",
    "# 3) 오류율 계산\n",
    "print(round(1-acc,3))"
   ]
  },
  {
   "cell_type": "code",
   "execution_count": null,
   "id": "4693da97",
   "metadata": {},
   "outputs": [],
   "source": []
  },
  {
   "cell_type": "code",
   "execution_count": null,
   "id": "8280dfdd",
   "metadata": {},
   "outputs": [],
   "source": []
  },
  {
   "cell_type": "code",
   "execution_count": null,
   "id": "2c1a5691",
   "metadata": {},
   "outputs": [],
   "source": []
  },
  {
   "cell_type": "code",
   "execution_count": null,
   "id": "022b6ab4",
   "metadata": {},
   "outputs": [],
   "source": []
  },
  {
   "cell_type": "code",
   "execution_count": null,
   "id": "15206266",
   "metadata": {},
   "outputs": [],
   "source": []
  },
  {
   "cell_type": "code",
   "execution_count": null,
   "id": "0c7e5895",
   "metadata": {},
   "outputs": [],
   "source": []
  },
  {
   "cell_type": "code",
   "execution_count": null,
   "id": "1ac53fab",
   "metadata": {},
   "outputs": [],
   "source": []
  },
  {
   "cell_type": "code",
   "execution_count": null,
   "id": "d93170cb",
   "metadata": {},
   "outputs": [],
   "source": []
  },
  {
   "cell_type": "code",
   "execution_count": null,
   "id": "739be922",
   "metadata": {},
   "outputs": [],
   "source": []
  }
 ],
 "metadata": {
  "kernelspec": {
   "display_name": "Python 3 (ipykernel)",
   "language": "python",
   "name": "python3"
  },
  "language_info": {
   "codemirror_mode": {
    "name": "ipython",
    "version": 3
   },
   "file_extension": ".py",
   "mimetype": "text/x-python",
   "name": "python",
   "nbconvert_exporter": "python",
   "pygments_lexer": "ipython3",
   "version": "3.9.7"
  }
 },
 "nbformat": 4,
 "nbformat_minor": 5
}
