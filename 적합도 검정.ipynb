{
 "cells": [
  {
   "cell_type": "markdown",
   "id": "fff0d807",
   "metadata": {},
   "source": [
    "# 1. 적합도 검정"
   ]
  },
  {
   "cell_type": "markdown",
   "id": "d0626a03",
   "metadata": {},
   "source": [
    "[문제] 지난 3년간 빅데이터 분석기사 점수 분포가 60점 미만: 50%, 60-70점 35%, 80점이상 15%로였다.\n",
    "이번 회차부터 단답형을 제외하고, 작업형3을 추가하여 300명을 대상으로 적용한 결과 60점 미만: 150명, 60-70점: 120명, 80점이상: 30명이었다. 유의수준 0.05일 때, 새로운 시험문제 유형과 기존 시험문제 유형은 점수에 차이가 없는지 검정하시오.\n",
    "-\t귀무가설(H0): 새로운 시험문제는 기존 시험문제 점수와 동일하다.\n",
    "-\t대립가설(H1): 새로운 시험문제는 기존 시험문제 점수와 다르다.\n"
   ]
  },
  {
   "cell_type": "code",
   "execution_count": 3,
   "id": "9317d0ac",
   "metadata": {},
   "outputs": [
    {
     "data": {
      "text/plain": [
       "Power_divergenceResult(statistic=7.142857142857142, pvalue=0.028115659748972056)"
      ]
     },
     "execution_count": 3,
     "metadata": {},
     "output_type": "execute_result"
    }
   ],
   "source": [
    "# 어떤데이터가 관찰값, 어떤 데이터가 기대값 \n",
    "# 관찰\n",
    "ob = [150, 120, 30]\n",
    "# 기대값\n",
    "ex = [0.5 * 300, 0.35 * 300, 0.15 * 300]\n",
    "\n",
    "from scipy import stats\n",
    "stats.chisquare(ob, ex)"
   ]
  },
  {
   "cell_type": "code",
   "execution_count": null,
   "id": "73193046",
   "metadata": {},
   "outputs": [],
   "source": []
  },
  {
   "cell_type": "code",
   "execution_count": null,
   "id": "6e280907",
   "metadata": {},
   "outputs": [],
   "source": []
  }
 ],
 "metadata": {
  "kernelspec": {
   "display_name": "Python 3 (ipykernel)",
   "language": "python",
   "name": "python3"
  },
  "language_info": {
   "codemirror_mode": {
    "name": "ipython",
    "version": 3
   },
   "file_extension": ".py",
   "mimetype": "text/x-python",
   "name": "python",
   "nbconvert_exporter": "python",
   "pygments_lexer": "ipython3",
   "version": "3.9.7"
  }
 },
 "nbformat": 4,
 "nbformat_minor": 5
}
