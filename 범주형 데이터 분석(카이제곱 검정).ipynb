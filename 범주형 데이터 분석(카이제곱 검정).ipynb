{
 "cells": [
  {
   "cell_type": "markdown",
   "id": "d6d892a2",
   "metadata": {},
   "source": [
    "# 범주형 데이터 분석 (카이제곱 검정)\n",
    "## 적합도 검정\n",
    "- 관찰도수와 기대도수의 차이\n",
    "- 빈도(count)로 변경 (관찰값, 기대값)\n",
    "- scipy.stats.chisquare(observed, expected)\n",
    "    - observed : 관찰된 빈도 리스트\n",
    "    - expected : 기대 빈로 리스트"
   ]
  },
  {
   "cell_type": "markdown",
   "id": "25f14a09",
   "metadata": {},
   "source": [
    "## 적합도 검정\n",
    "- 두 변수가 서로 독립적인지(연관성이 있는지) 확인\n",
    "- 교차표 테이블로 만들기\n",
    "    - 문제에서 표로 주어졌을 때\n",
    "    - 로우(원) 데이터가 주어졌을 때\n",
    "- scipy.stats.chi2_contingency(table, correction=True)\n",
    "    - table : 교차표\n",
    "    - correction : 연속성 보정 (기본값 True)"
   ]
  },
  {
   "cell_type": "markdown",
   "id": "1825fb48",
   "metadata": {},
   "source": [
    "## 동질성 검정\n",
    "- 두 개 이상의 집단에서 동질성을 갖는지 확인\n",
    "- 검정 절차는 독립성과 같음\n"
   ]
  },
  {
   "cell_type": "code",
   "execution_count": null,
   "id": "db6c9c4a",
   "metadata": {},
   "outputs": [],
   "source": []
  },
  {
   "cell_type": "code",
   "execution_count": null,
   "id": "0be12ec7",
   "metadata": {},
   "outputs": [],
   "source": []
  }
 ],
 "metadata": {
  "kernelspec": {
   "display_name": "Python 3 (ipykernel)",
   "language": "python",
   "name": "python3"
  },
  "language_info": {
   "codemirror_mode": {
    "name": "ipython",
    "version": 3
   },
   "file_extension": ".py",
   "mimetype": "text/x-python",
   "name": "python",
   "nbconvert_exporter": "python",
   "pygments_lexer": "ipython3",
   "version": "3.9.7"
  }
 },
 "nbformat": 4,
 "nbformat_minor": 5
}
