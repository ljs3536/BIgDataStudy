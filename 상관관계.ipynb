{
 "cells": [
  {
   "cell_type": "markdown",
   "id": "a2c8f014",
   "metadata": {},
   "source": [
    "# 1.상관관계"
   ]
  },
  {
   "cell_type": "code",
   "execution_count": 1,
   "id": "7c01db47",
   "metadata": {},
   "outputs": [],
   "source": [
    "# 데이터\n",
    "import pandas as pd\n",
    "df = pd.DataFrame({\n",
    "    '키': [150, 160, 170, 175, 165],\n",
    "    '몸무게': [42, 52, 75, 67, 56]\n",
    "})"
   ]
  },
  {
   "cell_type": "code",
   "execution_count": 2,
   "id": "47f3ecd7",
   "metadata": {},
   "outputs": [
    {
     "data": {
      "text/html": [
       "<div>\n",
       "<style scoped>\n",
       "    .dataframe tbody tr th:only-of-type {\n",
       "        vertical-align: middle;\n",
       "    }\n",
       "\n",
       "    .dataframe tbody tr th {\n",
       "        vertical-align: top;\n",
       "    }\n",
       "\n",
       "    .dataframe thead th {\n",
       "        text-align: right;\n",
       "    }\n",
       "</style>\n",
       "<table border=\"1\" class=\"dataframe\">\n",
       "  <thead>\n",
       "    <tr style=\"text-align: right;\">\n",
       "      <th></th>\n",
       "      <th>키</th>\n",
       "      <th>몸무게</th>\n",
       "    </tr>\n",
       "  </thead>\n",
       "  <tbody>\n",
       "    <tr>\n",
       "      <th>키</th>\n",
       "      <td>1.000000</td>\n",
       "      <td>0.901012</td>\n",
       "    </tr>\n",
       "    <tr>\n",
       "      <th>몸무게</th>\n",
       "      <td>0.901012</td>\n",
       "      <td>1.000000</td>\n",
       "    </tr>\n",
       "  </tbody>\n",
       "</table>\n",
       "</div>"
      ],
      "text/plain": [
       "            키       몸무게\n",
       "키    1.000000  0.901012\n",
       "몸무게  0.901012  1.000000"
      ]
     },
     "execution_count": 2,
     "metadata": {},
     "output_type": "execute_result"
    }
   ],
   "source": [
    "# 상관계수\n",
    "df.corr()"
   ]
  },
  {
   "cell_type": "code",
   "execution_count": 3,
   "id": "5bb4e274",
   "metadata": {},
   "outputs": [
    {
     "data": {
      "text/plain": [
       "0.901011928876437"
      ]
     },
     "execution_count": 3,
     "metadata": {},
     "output_type": "execute_result"
    }
   ],
   "source": [
    "df['키'].corr(df['몸무게'])"
   ]
  },
  {
   "cell_type": "code",
   "execution_count": 5,
   "id": "cd1fe115",
   "metadata": {},
   "outputs": [
    {
     "name": "stdout",
     "output_type": "stream",
     "text": [
      "            키       몸무게\n",
      "키    1.000000  0.901012\n",
      "몸무게  0.901012  1.000000\n",
      "       키  몸무게\n",
      "키    1.0  0.9\n",
      "몸무게  0.9  1.0\n",
      "       키  몸무게\n",
      "키    1.0  0.8\n",
      "몸무게  0.8  1.0\n"
     ]
    }
   ],
   "source": [
    "# 피어슨\n",
    "print(df.corr())\n",
    "# 스피어맨\n",
    "print(df.corr(method='spearman'))\n",
    "# 켄달타우\n",
    "print(df.corr(method='kendall'))"
   ]
  },
  {
   "cell_type": "code",
   "execution_count": 9,
   "id": "257fbe1c",
   "metadata": {},
   "outputs": [
    {
     "name": "stdout",
     "output_type": "stream",
     "text": [
      "(0.9010119288764369, 0.036825809450878946)\n",
      "SpearmanrResult(correlation=0.8999999999999998, pvalue=0.03738607346849874)\n",
      "KendalltauResult(correlation=0.7999999999999999, pvalue=0.08333333333333333)\n"
     ]
    }
   ],
   "source": [
    "# t검정\n",
    "from scipy import stats\n",
    "# 피어슨\n",
    "print(stats.pearsonr(df['몸무게'],df['키']))\n",
    "\n",
    "# 스피어맨\n",
    "print(stats.spearmanr(df['몸무게'],df['키']))\n",
    "\n",
    "# 켄달타우\n",
    "print(stats.kendalltau(df['몸무게'],df['키']))"
   ]
  },
  {
   "cell_type": "code",
   "execution_count": null,
   "id": "27639a55",
   "metadata": {},
   "outputs": [],
   "source": []
  },
  {
   "cell_type": "code",
   "execution_count": null,
   "id": "95140189",
   "metadata": {},
   "outputs": [],
   "source": []
  },
  {
   "cell_type": "code",
   "execution_count": null,
   "id": "c8258b63",
   "metadata": {},
   "outputs": [],
   "source": []
  },
  {
   "cell_type": "code",
   "execution_count": null,
   "id": "1864c09a",
   "metadata": {},
   "outputs": [],
   "source": []
  },
  {
   "cell_type": "code",
   "execution_count": null,
   "id": "93521311",
   "metadata": {},
   "outputs": [],
   "source": []
  }
 ],
 "metadata": {
  "kernelspec": {
   "display_name": "Python 3 (ipykernel)",
   "language": "python",
   "name": "python3"
  },
  "language_info": {
   "codemirror_mode": {
    "name": "ipython",
    "version": 3
   },
   "file_extension": ".py",
   "mimetype": "text/x-python",
   "name": "python",
   "nbconvert_exporter": "python",
   "pygments_lexer": "ipython3",
   "version": "3.9.7"
  }
 },
 "nbformat": 4,
 "nbformat_minor": 5
}
