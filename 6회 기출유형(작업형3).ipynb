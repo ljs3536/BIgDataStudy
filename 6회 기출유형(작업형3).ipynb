{
 "cells": [
  {
   "cell_type": "markdown",
   "id": "6f5ba295",
   "metadata": {},
   "source": [
    "### Q1. 항암약 위약을 투여 받은 환자의 부작용은 감기약 위약을 투여 받은 환자의 부작용 분포와 차이가 있는가?"
   ]
  },
  {
   "cell_type": "markdown",
   "id": "7d3e92b3",
   "metadata": {},
   "source": [
    "항암약(위약)을 투여 받은 환자 그룹의 관찰된 부작용"
   ]
  },
  {
   "cell_type": "code",
   "execution_count": 2,
   "id": "50d72f50",
   "metadata": {},
   "outputs": [],
   "source": [
    "import pandas as pd\n",
    "df = pd.DataFrame({ \"항암약\":[4,4,3,4,1,4,1,4,1,4,4,2,1,4,2,3,2,4,4,4] })\n",
    "# 1: '아픔', 2: '조금 아픔', 3: '속쓰림', 4: '무증상'"
   ]
  },
  {
   "cell_type": "markdown",
   "id": "2c69f1e1",
   "metadata": {},
   "source": [
    "감기약(위약)을 투여받은 환자들 중의 알려진 부작용 발생 비율"
   ]
  },
  {
   "cell_type": "code",
   "execution_count": null,
   "id": "b3482ab4",
   "metadata": {},
   "outputs": [],
   "source": [
    "# 1. 아픔: 10%\n",
    "# 2. 조금 아픔 5%\n",
    "# 3. 속 쓰림 15%\n",
    "# 4. 무증상: 70%"
   ]
  },
  {
   "cell_type": "markdown",
   "id": "030aa17b",
   "metadata": {},
   "source": [
    "-\t귀무가설(H0): 감기약(위약)의 부작용과 항암약(위약)의 부작용은 동일하다.\n",
    "- \t대립가설(H1): 감기약(위약)의 부작용과 항암약(위약)의 부작용은 다르다."
   ]
  },
  {
   "cell_type": "markdown",
   "id": "99ab94c5",
   "metadata": {},
   "source": [
    " ### 1-1. 항암약을 투여 받은 환자 중 '무증상'의 비율을 0과 1사이로 구하시오."
   ]
  },
  {
   "cell_type": "code",
   "execution_count": 7,
   "id": "38941608",
   "metadata": {},
   "outputs": [
    {
     "data": {
      "text/plain": [
       "0.55"
      ]
     },
     "execution_count": 7,
     "metadata": {},
     "output_type": "execute_result"
    }
   ],
   "source": [
    "cond = df['항암약'] == 4\n",
    "sum(cond)/len(df['항암약'])"
   ]
  },
  {
   "cell_type": "code",
   "execution_count": 9,
   "id": "93acc00d",
   "metadata": {},
   "outputs": [
    {
     "data": {
      "text/plain": [
       "4    0.55\n",
       "1    0.20\n",
       "2    0.15\n",
       "3    0.10\n",
       "Name: 항암약, dtype: float64"
      ]
     },
     "execution_count": 9,
     "metadata": {},
     "output_type": "execute_result"
    }
   ],
   "source": [
    "df['항암약'].value_counts(normalize=True)"
   ]
  },
  {
   "cell_type": "markdown",
   "id": "9536ba7c",
   "metadata": {},
   "source": [
    "### 1-2. 감기약의 예상 부작용 비율과 항암약의 부작용 관찰값이 통계적으로 유의미하게 차이가 있는지 확인하려 한다. 카이 제곱 검정을 사용하여 검정 통계량을 구하시오."
   ]
  },
  {
   "cell_type": "code",
   "execution_count": 14,
   "id": "2d3bc73c",
   "metadata": {},
   "outputs": [
    {
     "data": {
      "text/plain": [
       "Power_divergenceResult(statistic=6.976190476190476, pvalue=0.07266054733847573)"
      ]
     },
     "execution_count": 14,
     "metadata": {},
     "output_type": "execute_result"
    }
   ],
   "source": [
    "#빈도로 계산을 해준다.(count)\n",
    "#관찳빈도수\n",
    "ob = df['항암약'].value_counts().sort_index().to_list()\n",
    "#ob = [4, 3, 2, 11]\n",
    "# 기대빈도수\n",
    "ex = [0.1 * 20, 0.05 * 20, 0.15 * 20, 0.7 * 20]\n",
    "from scipy import stats\n",
    "stats.chisquare(ob, ex)"
   ]
  },
  {
   "cell_type": "markdown",
   "id": "68cf8dd9",
   "metadata": {},
   "source": [
    "### 1-3. 위의 p-값을 구하시오"
   ]
  },
  {
   "cell_type": "code",
   "execution_count": null,
   "id": "5e208ece",
   "metadata": {},
   "outputs": [],
   "source": []
  },
  {
   "cell_type": "markdown",
   "id": "8b57265f",
   "metadata": {},
   "source": [
    "### Q2. 다중 선형 회귀 문제"
   ]
  },
  {
   "cell_type": "code",
   "execution_count": 15,
   "id": "7b5a4318",
   "metadata": {},
   "outputs": [
    {
     "data": {
      "text/html": [
       "<div>\n",
       "<style scoped>\n",
       "    .dataframe tbody tr th:only-of-type {\n",
       "        vertical-align: middle;\n",
       "    }\n",
       "\n",
       "    .dataframe tbody tr th {\n",
       "        vertical-align: top;\n",
       "    }\n",
       "\n",
       "    .dataframe thead th {\n",
       "        text-align: right;\n",
       "    }\n",
       "</style>\n",
       "<table border=\"1\" class=\"dataframe\">\n",
       "  <thead>\n",
       "    <tr style=\"text-align: right;\">\n",
       "      <th></th>\n",
       "      <th>solar</th>\n",
       "      <th>wind</th>\n",
       "      <th>o3</th>\n",
       "      <th>temperature</th>\n",
       "    </tr>\n",
       "  </thead>\n",
       "  <tbody>\n",
       "    <tr>\n",
       "      <th>0</th>\n",
       "      <td>89.14</td>\n",
       "      <td>6.28</td>\n",
       "      <td>33.52</td>\n",
       "      <td>23.0</td>\n",
       "    </tr>\n",
       "    <tr>\n",
       "      <th>1</th>\n",
       "      <td>109.97</td>\n",
       "      <td>1.04</td>\n",
       "      <td>27.01</td>\n",
       "      <td>20.7</td>\n",
       "    </tr>\n",
       "  </tbody>\n",
       "</table>\n",
       "</div>"
      ],
      "text/plain": [
       "    solar  wind     o3  temperature\n",
       "0   89.14  6.28  33.52         23.0\n",
       "1  109.97  1.04  27.01         20.7"
      ]
     },
     "execution_count": 15,
     "metadata": {},
     "output_type": "execute_result"
    }
   ],
   "source": [
    "import pandas as pd\n",
    "df = pd.read_csv(\"6회 작업형3/data6-3-2.csv\")\n",
    "df.head(2)"
   ]
  },
  {
   "cell_type": "markdown",
   "id": "fcfbf561",
   "metadata": {},
   "source": [
    "1. 다중 선형 회귀 모델을 구축하고, 독립변수 o3의 회귀계수를 구하시오.\n",
    "- 독립변수: solar(태양 에너지), wind(바람의 세기), o3(오존 농도)\n",
    "- 종속변수: temperature(온도)\n"
   ]
  },
  {
   "cell_type": "code",
   "execution_count": 16,
   "id": "3ada4b6c",
   "metadata": {},
   "outputs": [
    {
     "name": "stdout",
     "output_type": "stream",
     "text": [
      "                            OLS Regression Results                            \n",
      "==============================================================================\n",
      "Dep. Variable:            temperature   R-squared:                       0.044\n",
      "Model:                            OLS   Adj. R-squared:                  0.014\n",
      "Method:                 Least Squares   F-statistic:                     1.464\n",
      "Date:                Sun, 26 May 2024   Prob (F-statistic):              0.229\n",
      "Time:                        23:46:11   Log-Likelihood:                -195.45\n",
      "No. Observations:                 100   AIC:                             398.9\n",
      "Df Residuals:                      96   BIC:                             409.3\n",
      "Df Model:                           3                                         \n",
      "Covariance Type:            nonrobust                                         \n",
      "==============================================================================\n",
      "                 coef    std err          t      P>|t|      [0.025      0.975]\n",
      "------------------------------------------------------------------------------\n",
      "Intercept     19.0507      1.994      9.555      0.000      15.093      23.008\n",
      "solar          0.0039      0.015      0.251      0.802      -0.027       0.035\n",
      "wind          -0.0252      0.090     -0.280      0.780      -0.204       0.153\n",
      "o3             0.0749      0.036      2.079      0.040       0.003       0.146\n",
      "==============================================================================\n",
      "Omnibus:                        0.654   Durbin-Watson:                   2.328\n",
      "Prob(Omnibus):                  0.721   Jarque-Bera (JB):                0.672\n",
      "Skew:                           0.187   Prob(JB):                        0.715\n",
      "Kurtosis:                       2.855   Cond. No.                     1.20e+03\n",
      "==============================================================================\n",
      "\n",
      "Notes:\n",
      "[1] Standard Errors assume that the covariance matrix of the errors is correctly specified.\n",
      "[2] The condition number is large, 1.2e+03. This might indicate that there are\n",
      "strong multicollinearity or other numerical problems.\n"
     ]
    }
   ],
   "source": [
    "from statsmodels.formula.api import ols\n",
    "formula = \"temperature ~ solar + wind + o3\"\n",
    "model = ols(formula, data=df).fit()\n",
    "print(model.summary())"
   ]
  },
  {
   "cell_type": "code",
   "execution_count": null,
   "id": "18958490",
   "metadata": {},
   "outputs": [],
   "source": [
    "# o3 회귀계수 = 0.0749 "
   ]
  },
  {
   "cell_type": "code",
   "execution_count": 18,
   "id": "84e4f6ec",
   "metadata": {},
   "outputs": [
    {
     "data": {
      "text/plain": [
       "0.07493854378136536"
      ]
     },
     "execution_count": 18,
     "metadata": {},
     "output_type": "execute_result"
    }
   ],
   "source": [
    "model.params['o3']"
   ]
  },
  {
   "cell_type": "markdown",
   "id": "23110174",
   "metadata": {},
   "source": [
    "2. 데이터에서 'solar'와 'o3' 값을 고정한 상태에서, 'wind'의 세기가 증가함에 따라 'temperature'가 감소하는지를 검증하기 위해 다중 선형 회귀 분석을 수행하고, 이 때'wind'의 회귀 계수에 대한 p-value 값을 구하시오. (유의수준: 0.05)"
   ]
  },
  {
   "cell_type": "code",
   "execution_count": null,
   "id": "e98e7d6e",
   "metadata": {},
   "outputs": [],
   "source": [
    "# wind의 p-value 0.78"
   ]
  },
  {
   "cell_type": "code",
   "execution_count": 17,
   "id": "513e3ba7",
   "metadata": {},
   "outputs": [
    {
     "data": {
      "text/plain": [
       "0.779717720207165"
      ]
     },
     "execution_count": 17,
     "metadata": {},
     "output_type": "execute_result"
    }
   ],
   "source": [
    "model.pvalues['wind']"
   ]
  },
  {
   "cell_type": "markdown",
   "id": "9b87254f",
   "metadata": {},
   "source": [
    "3. solar:100, wind:5, o3:30일 때 예측값과 그에 대한 95% 신뢰구간을 구하시오."
   ]
  },
  {
   "cell_type": "code",
   "execution_count": 21,
   "id": "b0f8ad77",
   "metadata": {},
   "outputs": [
    {
     "name": "stdout",
     "output_type": "stream",
     "text": [
      "       mean   mean_se  mean_ci_lower  mean_ci_upper  obs_ci_lower  \\\n",
      "0  21.56163  0.175263      21.213737      21.909524     18.082985   \n",
      "\n",
      "   obs_ci_upper  \n",
      "0     25.040276  \n"
     ]
    }
   ],
   "source": [
    "new_data = pd.DataFrame({\n",
    "    \"solar\": [100],\n",
    "    \"wind\" : [5],\n",
    "    \"o3\" : [30]\n",
    "})\n",
    "pred = model.get_prediction(new_data)\n",
    "print(pred.summary_frame(alpha=0.05))"
   ]
  },
  {
   "cell_type": "code",
   "execution_count": null,
   "id": "a326e802",
   "metadata": {},
   "outputs": [],
   "source": [
    "# 예측값 : 21.56163\n",
    "# 95% 신뢰구간 : 21.213737      21.909524"
   ]
  },
  {
   "cell_type": "code",
   "execution_count": null,
   "id": "0f0b7aa0",
   "metadata": {},
   "outputs": [],
   "source": []
  }
 ],
 "metadata": {
  "kernelspec": {
   "display_name": "Python 3 (ipykernel)",
   "language": "python",
   "name": "python3"
  },
  "language_info": {
   "codemirror_mode": {
    "name": "ipython",
    "version": 3
   },
   "file_extension": ".py",
   "mimetype": "text/x-python",
   "name": "python",
   "nbconvert_exporter": "python",
   "pygments_lexer": "ipython3",
   "version": "3.10.9"
  }
 },
 "nbformat": 4,
 "nbformat_minor": 5
}
