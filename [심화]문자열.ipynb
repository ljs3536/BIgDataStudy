{
 "cells": [
  {
   "cell_type": "code",
   "execution_count": 1,
   "id": "6457a35b",
   "metadata": {},
   "outputs": [
    {
     "data": {
      "text/html": [
       "<div>\n",
       "<style scoped>\n",
       "    .dataframe tbody tr th:only-of-type {\n",
       "        vertical-align: middle;\n",
       "    }\n",
       "\n",
       "    .dataframe tbody tr th {\n",
       "        vertical-align: top;\n",
       "    }\n",
       "\n",
       "    .dataframe thead th {\n",
       "        text-align: right;\n",
       "    }\n",
       "</style>\n",
       "<table border=\"1\" class=\"dataframe\">\n",
       "  <thead>\n",
       "    <tr style=\"text-align: right;\">\n",
       "      <th></th>\n",
       "      <th>A</th>\n",
       "      <th>B</th>\n",
       "      <th>C</th>\n",
       "      <th>D</th>\n",
       "    </tr>\n",
       "  </thead>\n",
       "  <tbody>\n",
       "    <tr>\n",
       "      <th>0</th>\n",
       "      <td>블루베리 스무디</td>\n",
       "      <td>10</td>\n",
       "      <td>추천/신메뉴</td>\n",
       "      <td>ab cd</td>\n",
       "    </tr>\n",
       "    <tr>\n",
       "      <th>1</th>\n",
       "      <td>딸기 스무디</td>\n",
       "      <td>20</td>\n",
       "      <td>신메뉴/할인</td>\n",
       "      <td>AB CD</td>\n",
       "    </tr>\n",
       "    <tr>\n",
       "      <th>2</th>\n",
       "      <td>딸기 바나나 스무디</td>\n",
       "      <td>30</td>\n",
       "      <td>사이즈업/추천</td>\n",
       "      <td>ab cd</td>\n",
       "    </tr>\n",
       "  </tbody>\n",
       "</table>\n",
       "</div>"
      ],
      "text/plain": [
       "            A   B        C      D\n",
       "0    블루베리 스무디  10   추천/신메뉴  ab cd\n",
       "1      딸기 스무디  20   신메뉴/할인  AB CD\n",
       "2  딸기 바나나 스무디  30  사이즈업/추천  ab cd"
      ]
     },
     "execution_count": 1,
     "metadata": {},
     "output_type": "execute_result"
    }
   ],
   "source": [
    "import pandas as pd\n",
    "df = pd.DataFrame({'A': ['블루베리 스무디', '딸기 스무디', '딸기 바나나 스무디'],\n",
    "                   'B': [10, 20, 30],\n",
    "                   'C': ['추천/신메뉴', '신메뉴/할인', '사이즈업/추천'],\n",
    "                   'D': ['ab cd', 'AB CD', 'ab cd']\n",
    "                   })\n",
    "df"
   ]
  },
  {
   "cell_type": "code",
   "execution_count": 2,
   "id": "0509336e",
   "metadata": {},
   "outputs": [
    {
     "data": {
      "text/html": [
       "<div>\n",
       "<style scoped>\n",
       "    .dataframe tbody tr th:only-of-type {\n",
       "        vertical-align: middle;\n",
       "    }\n",
       "\n",
       "    .dataframe tbody tr th {\n",
       "        vertical-align: top;\n",
       "    }\n",
       "\n",
       "    .dataframe thead th {\n",
       "        text-align: right;\n",
       "    }\n",
       "</style>\n",
       "<table border=\"1\" class=\"dataframe\">\n",
       "  <thead>\n",
       "    <tr style=\"text-align: right;\">\n",
       "      <th></th>\n",
       "      <th>A</th>\n",
       "      <th>B</th>\n",
       "      <th>C</th>\n",
       "      <th>D</th>\n",
       "    </tr>\n",
       "  </thead>\n",
       "  <tbody>\n",
       "    <tr>\n",
       "      <th>0</th>\n",
       "      <td>블루베리 스무디</td>\n",
       "      <td>10</td>\n",
       "      <td>추천/신메뉴</td>\n",
       "      <td>ab cd</td>\n",
       "    </tr>\n",
       "    <tr>\n",
       "      <th>1</th>\n",
       "      <td>딸기 스무디</td>\n",
       "      <td>20</td>\n",
       "      <td>신메뉴/할인</td>\n",
       "      <td>AB CD</td>\n",
       "    </tr>\n",
       "    <tr>\n",
       "      <th>2</th>\n",
       "      <td>딸기 바나나 스무디</td>\n",
       "      <td>30</td>\n",
       "      <td>사이즈업/추천</td>\n",
       "      <td>ab cd</td>\n",
       "    </tr>\n",
       "  </tbody>\n",
       "</table>\n",
       "</div>"
      ],
      "text/plain": [
       "            A   B        C      D\n",
       "0    블루베리 스무디  10   추천/신메뉴  ab cd\n",
       "1      딸기 스무디  20   신메뉴/할인  AB CD\n",
       "2  딸기 바나나 스무디  30  사이즈업/추천  ab cd"
      ]
     },
     "execution_count": 2,
     "metadata": {},
     "output_type": "execute_result"
    }
   ],
   "source": [
    "# replaca, 전체 문자가 일치해야 변경\n",
    "df['A'] = df['A'].replace('스무디','에이드')\n",
    "df"
   ]
  },
  {
   "cell_type": "code",
   "execution_count": 3,
   "id": "3e8d6ee9",
   "metadata": {},
   "outputs": [
    {
     "data": {
      "text/html": [
       "<div>\n",
       "<style scoped>\n",
       "    .dataframe tbody tr th:only-of-type {\n",
       "        vertical-align: middle;\n",
       "    }\n",
       "\n",
       "    .dataframe tbody tr th {\n",
       "        vertical-align: top;\n",
       "    }\n",
       "\n",
       "    .dataframe thead th {\n",
       "        text-align: right;\n",
       "    }\n",
       "</style>\n",
       "<table border=\"1\" class=\"dataframe\">\n",
       "  <thead>\n",
       "    <tr style=\"text-align: right;\">\n",
       "      <th></th>\n",
       "      <th>A</th>\n",
       "      <th>B</th>\n",
       "      <th>C</th>\n",
       "      <th>D</th>\n",
       "    </tr>\n",
       "  </thead>\n",
       "  <tbody>\n",
       "    <tr>\n",
       "      <th>0</th>\n",
       "      <td>블루베리 에이드</td>\n",
       "      <td>10</td>\n",
       "      <td>추천/신메뉴</td>\n",
       "      <td>ab cd</td>\n",
       "    </tr>\n",
       "    <tr>\n",
       "      <th>1</th>\n",
       "      <td>딸기 에이드</td>\n",
       "      <td>20</td>\n",
       "      <td>신메뉴/할인</td>\n",
       "      <td>AB CD</td>\n",
       "    </tr>\n",
       "    <tr>\n",
       "      <th>2</th>\n",
       "      <td>딸기 바나나 에이드</td>\n",
       "      <td>30</td>\n",
       "      <td>사이즈업/추천</td>\n",
       "      <td>ab cd</td>\n",
       "    </tr>\n",
       "  </tbody>\n",
       "</table>\n",
       "</div>"
      ],
      "text/plain": [
       "            A   B        C      D\n",
       "0    블루베리 에이드  10   추천/신메뉴  ab cd\n",
       "1      딸기 에이드  20   신메뉴/할인  AB CD\n",
       "2  딸기 바나나 에이드  30  사이즈업/추천  ab cd"
      ]
     },
     "execution_count": 3,
     "metadata": {},
     "output_type": "execute_result"
    }
   ],
   "source": [
    "# str.replace, 일부 일치하는 문자 변경  데이터프레임에서는 사용불가, Series에서 사용가능\n",
    "df['A'] = df['A'].str.replace('스무디','에이드')\n",
    "df"
   ]
  },
  {
   "cell_type": "code",
   "execution_count": 4,
   "id": "9e277655",
   "metadata": {},
   "outputs": [
    {
     "data": {
      "text/html": [
       "<div>\n",
       "<style scoped>\n",
       "    .dataframe tbody tr th:only-of-type {\n",
       "        vertical-align: middle;\n",
       "    }\n",
       "\n",
       "    .dataframe tbody tr th {\n",
       "        vertical-align: top;\n",
       "    }\n",
       "\n",
       "    .dataframe thead th {\n",
       "        text-align: right;\n",
       "    }\n",
       "</style>\n",
       "<table border=\"1\" class=\"dataframe\">\n",
       "  <thead>\n",
       "    <tr style=\"text-align: right;\">\n",
       "      <th></th>\n",
       "      <th>A</th>\n",
       "      <th>B</th>\n",
       "      <th>C</th>\n",
       "      <th>D</th>\n",
       "    </tr>\n",
       "  </thead>\n",
       "  <tbody>\n",
       "    <tr>\n",
       "      <th>0</th>\n",
       "      <td>청포도 에이드</td>\n",
       "      <td>10</td>\n",
       "      <td>추천/신메뉴</td>\n",
       "      <td>ab cd</td>\n",
       "    </tr>\n",
       "    <tr>\n",
       "      <th>1</th>\n",
       "      <td>딸기 에이드</td>\n",
       "      <td>20</td>\n",
       "      <td>신메뉴/할인</td>\n",
       "      <td>AB CD</td>\n",
       "    </tr>\n",
       "    <tr>\n",
       "      <th>2</th>\n",
       "      <td>딸기 바나나 에이드</td>\n",
       "      <td>30</td>\n",
       "      <td>사이즈업/추천</td>\n",
       "      <td>ab cd</td>\n",
       "    </tr>\n",
       "  </tbody>\n",
       "</table>\n",
       "</div>"
      ],
      "text/plain": [
       "            A   B        C      D\n",
       "0     청포도 에이드  10   추천/신메뉴  ab cd\n",
       "1      딸기 에이드  20   신메뉴/할인  AB CD\n",
       "2  딸기 바나나 에이드  30  사이즈업/추천  ab cd"
      ]
     },
     "execution_count": 4,
     "metadata": {},
     "output_type": "execute_result"
    }
   ],
   "source": [
    "# replace 데이터 프레임\n",
    "df.replace('블루베리 에이드', '청포도 에이드')"
   ]
  },
  {
   "cell_type": "code",
   "execution_count": 5,
   "id": "00af0c42",
   "metadata": {},
   "outputs": [
    {
     "data": {
      "text/html": [
       "<div>\n",
       "<style scoped>\n",
       "    .dataframe tbody tr th:only-of-type {\n",
       "        vertical-align: middle;\n",
       "    }\n",
       "\n",
       "    .dataframe tbody tr th {\n",
       "        vertical-align: top;\n",
       "    }\n",
       "\n",
       "    .dataframe thead th {\n",
       "        text-align: right;\n",
       "    }\n",
       "</style>\n",
       "<table border=\"1\" class=\"dataframe\">\n",
       "  <thead>\n",
       "    <tr style=\"text-align: right;\">\n",
       "      <th></th>\n",
       "      <th>A</th>\n",
       "      <th>B</th>\n",
       "      <th>C</th>\n",
       "      <th>D</th>\n",
       "    </tr>\n",
       "  </thead>\n",
       "  <tbody>\n",
       "    <tr>\n",
       "      <th>0</th>\n",
       "      <td>블루베리 에이드</td>\n",
       "      <td>100</td>\n",
       "      <td>추천/신메뉴</td>\n",
       "      <td>ab cd</td>\n",
       "    </tr>\n",
       "    <tr>\n",
       "      <th>1</th>\n",
       "      <td>딸기 에이드</td>\n",
       "      <td>20</td>\n",
       "      <td>신메뉴/할인</td>\n",
       "      <td>AB CD</td>\n",
       "    </tr>\n",
       "    <tr>\n",
       "      <th>2</th>\n",
       "      <td>딸기 바나나 에이드</td>\n",
       "      <td>30</td>\n",
       "      <td>사이즈업/추천</td>\n",
       "      <td>ab cd</td>\n",
       "    </tr>\n",
       "  </tbody>\n",
       "</table>\n",
       "</div>"
      ],
      "text/plain": [
       "            A    B        C      D\n",
       "0    블루베리 에이드  100   추천/신메뉴  ab cd\n",
       "1      딸기 에이드   20   신메뉴/할인  AB CD\n",
       "2  딸기 바나나 에이드   30  사이즈업/추천  ab cd"
      ]
     },
     "execution_count": 5,
     "metadata": {},
     "output_type": "execute_result"
    }
   ],
   "source": [
    "# 숫자 변경\n",
    "df['B'] = df['B'].replace(10, 100)\n",
    "df"
   ]
  },
  {
   "cell_type": "code",
   "execution_count": 6,
   "id": "364323ea",
   "metadata": {},
   "outputs": [],
   "source": [
    "# 숫자 변경(str.replace)\n",
    "# df['B'] = df['B'].str.replace(10, 100)\n",
    "# df"
   ]
  },
  {
   "cell_type": "code",
   "execution_count": 7,
   "id": "a0a4e3f4",
   "metadata": {},
   "outputs": [
    {
     "data": {
      "text/plain": [
       "0       [블루베리, 에이드]\n",
       "1         [딸기, 에이드]\n",
       "2    [딸기, 바나나, 에이드]\n",
       "Name: A, dtype: object"
      ]
     },
     "execution_count": 7,
     "metadata": {},
     "output_type": "execute_result"
    }
   ],
   "source": [
    "# 어절 나누기\n",
    "df['A'].str.split()"
   ]
  },
  {
   "cell_type": "code",
   "execution_count": 8,
   "id": "d405d5cf",
   "metadata": {},
   "outputs": [
    {
     "data": {
      "text/plain": [
       "0    블루베리\n",
       "1      딸기\n",
       "2      딸기\n",
       "Name: A, dtype: object"
      ]
     },
     "execution_count": 8,
     "metadata": {},
     "output_type": "execute_result"
    }
   ],
   "source": [
    "# 어절 나눈 후 첫번째 값\n",
    "df['A'].str.split().str[0]"
   ]
  },
  {
   "cell_type": "code",
   "execution_count": 9,
   "id": "61ce6690",
   "metadata": {},
   "outputs": [
    {
     "data": {
      "text/html": [
       "<div>\n",
       "<style scoped>\n",
       "    .dataframe tbody tr th:only-of-type {\n",
       "        vertical-align: middle;\n",
       "    }\n",
       "\n",
       "    .dataframe tbody tr th {\n",
       "        vertical-align: top;\n",
       "    }\n",
       "\n",
       "    .dataframe thead th {\n",
       "        text-align: right;\n",
       "    }\n",
       "</style>\n",
       "<table border=\"1\" class=\"dataframe\">\n",
       "  <thead>\n",
       "    <tr style=\"text-align: right;\">\n",
       "      <th></th>\n",
       "      <th>A</th>\n",
       "      <th>B</th>\n",
       "      <th>C</th>\n",
       "      <th>D</th>\n",
       "      <th>E</th>\n",
       "    </tr>\n",
       "  </thead>\n",
       "  <tbody>\n",
       "    <tr>\n",
       "      <th>0</th>\n",
       "      <td>블루베리 에이드</td>\n",
       "      <td>100</td>\n",
       "      <td>추천/신메뉴</td>\n",
       "      <td>ab cd</td>\n",
       "      <td>블루베리</td>\n",
       "    </tr>\n",
       "    <tr>\n",
       "      <th>1</th>\n",
       "      <td>딸기 에이드</td>\n",
       "      <td>20</td>\n",
       "      <td>신메뉴/할인</td>\n",
       "      <td>AB CD</td>\n",
       "      <td>딸기</td>\n",
       "    </tr>\n",
       "    <tr>\n",
       "      <th>2</th>\n",
       "      <td>딸기 바나나 에이드</td>\n",
       "      <td>30</td>\n",
       "      <td>사이즈업/추천</td>\n",
       "      <td>ab cd</td>\n",
       "      <td>딸기</td>\n",
       "    </tr>\n",
       "  </tbody>\n",
       "</table>\n",
       "</div>"
      ],
      "text/plain": [
       "            A    B        C      D     E\n",
       "0    블루베리 에이드  100   추천/신메뉴  ab cd  블루베리\n",
       "1      딸기 에이드   20   신메뉴/할인  AB CD    딸기\n",
       "2  딸기 바나나 에이드   30  사이즈업/추천  ab cd    딸기"
      ]
     },
     "execution_count": 9,
     "metadata": {},
     "output_type": "execute_result"
    }
   ],
   "source": [
    "# 어절 나눈 후 첫번째 값을 새로운 컬럼으로 대입\n",
    "df['E']=df['A'].str.split().str[0]\n",
    "df"
   ]
  },
  {
   "cell_type": "code",
   "execution_count": 11,
   "id": "66ac9ac0",
   "metadata": {},
   "outputs": [
    {
     "data": {
      "text/plain": [
       "0     [추천, 신메뉴]\n",
       "1     [신메뉴, 할인]\n",
       "2    [사이즈업, 추천]\n",
       "Name: C, dtype: object"
      ]
     },
     "execution_count": 11,
     "metadata": {},
     "output_type": "execute_result"
    }
   ],
   "source": [
    "# 어절 나누기(/)\n",
    "df['C'].str.split('/')"
   ]
  },
  {
   "cell_type": "code",
   "execution_count": 12,
   "id": "bd26afeb",
   "metadata": {},
   "outputs": [
    {
     "data": {
      "text/plain": [
       "0    False\n",
       "1     True\n",
       "2     True\n",
       "Name: A, dtype: bool"
      ]
     },
     "execution_count": 12,
     "metadata": {},
     "output_type": "execute_result"
    }
   ],
   "source": [
    "# 특정 문자 찾기(contains)\n",
    "df['A'].str.contains('딸기')"
   ]
  },
  {
   "cell_type": "code",
   "execution_count": 14,
   "id": "a23442f5",
   "metadata": {},
   "outputs": [
    {
     "data": {
      "text/html": [
       "<div>\n",
       "<style scoped>\n",
       "    .dataframe tbody tr th:only-of-type {\n",
       "        vertical-align: middle;\n",
       "    }\n",
       "\n",
       "    .dataframe tbody tr th {\n",
       "        vertical-align: top;\n",
       "    }\n",
       "\n",
       "    .dataframe thead th {\n",
       "        text-align: right;\n",
       "    }\n",
       "</style>\n",
       "<table border=\"1\" class=\"dataframe\">\n",
       "  <thead>\n",
       "    <tr style=\"text-align: right;\">\n",
       "      <th></th>\n",
       "      <th>A</th>\n",
       "      <th>B</th>\n",
       "      <th>C</th>\n",
       "      <th>D</th>\n",
       "      <th>E</th>\n",
       "      <th>is딸기</th>\n",
       "    </tr>\n",
       "  </thead>\n",
       "  <tbody>\n",
       "    <tr>\n",
       "      <th>0</th>\n",
       "      <td>블루베리 에이드</td>\n",
       "      <td>100</td>\n",
       "      <td>추천/신메뉴</td>\n",
       "      <td>ab cd</td>\n",
       "      <td>블루베리</td>\n",
       "      <td>False</td>\n",
       "    </tr>\n",
       "    <tr>\n",
       "      <th>1</th>\n",
       "      <td>딸기 에이드</td>\n",
       "      <td>20</td>\n",
       "      <td>신메뉴/할인</td>\n",
       "      <td>AB CD</td>\n",
       "      <td>딸기</td>\n",
       "      <td>True</td>\n",
       "    </tr>\n",
       "    <tr>\n",
       "      <th>2</th>\n",
       "      <td>딸기 바나나 에이드</td>\n",
       "      <td>30</td>\n",
       "      <td>사이즈업/추천</td>\n",
       "      <td>ab cd</td>\n",
       "      <td>딸기</td>\n",
       "      <td>True</td>\n",
       "    </tr>\n",
       "  </tbody>\n",
       "</table>\n",
       "</div>"
      ],
      "text/plain": [
       "            A    B        C      D     E   is딸기\n",
       "0    블루베리 에이드  100   추천/신메뉴  ab cd  블루베리  False\n",
       "1      딸기 에이드   20   신메뉴/할인  AB CD    딸기   True\n",
       "2  딸기 바나나 에이드   30  사이즈업/추천  ab cd    딸기   True"
      ]
     },
     "execution_count": 14,
     "metadata": {},
     "output_type": "execute_result"
    }
   ],
   "source": [
    "# 특정 문자 찾은 후 새 커럶에 대입 (contains)\n",
    "df['is딸기'] = df['A'].str.contains('딸기')\n",
    "df"
   ]
  },
  {
   "cell_type": "code",
   "execution_count": 15,
   "id": "29926f1d",
   "metadata": {},
   "outputs": [],
   "source": [
    "# 데이터\n",
    "menu = pd.Series(['맛난버거 세트', '매운 치킨버거', '더블 치즈버거'])"
   ]
  },
  {
   "cell_type": "code",
   "execution_count": 16,
   "id": "5c728717",
   "metadata": {},
   "outputs": [
    {
     "data": {
      "text/plain": [
       "0     True\n",
       "1    False\n",
       "2     True\n",
       "dtype: bool"
      ]
     },
     "execution_count": 16,
     "metadata": {},
     "output_type": "execute_result"
    }
   ],
   "source": [
    "# 특정 값이 있는지 확인하기(isin)\n",
    "menu.isin(['맛난버거 세트', '더블 치즈버거'])"
   ]
  },
  {
   "cell_type": "code",
   "execution_count": 17,
   "id": "383b53e3",
   "metadata": {},
   "outputs": [
    {
     "data": {
      "text/plain": [
       "0    False\n",
       "1    False\n",
       "2    False\n",
       "dtype: bool"
      ]
     },
     "execution_count": 17,
     "metadata": {},
     "output_type": "execute_result"
    }
   ],
   "source": [
    "# 특정 단어가 있는지 확인하기(inin)\n",
    "menu.isin(['세트'])"
   ]
  },
  {
   "cell_type": "code",
   "execution_count": 18,
   "id": "95445e76",
   "metadata": {},
   "outputs": [
    {
     "data": {
      "text/plain": [
       "0     True\n",
       "1    False\n",
       "2    False\n",
       "dtype: bool"
      ]
     },
     "execution_count": 18,
     "metadata": {},
     "output_type": "execute_result"
    }
   ],
   "source": [
    "# 특정 단어 있는지 확인하기 (contains)\n",
    "menu.str.contains('세트')"
   ]
  },
  {
   "cell_type": "code",
   "execution_count": 19,
   "id": "15a7a02a",
   "metadata": {},
   "outputs": [
    {
     "data": {
      "text/plain": [
       "0     8\n",
       "1     6\n",
       "2    10\n",
       "Name: A, dtype: int64"
      ]
     },
     "execution_count": 19,
     "metadata": {},
     "output_type": "execute_result"
    }
   ],
   "source": [
    "# 문자 길이\n",
    "df['A'].str.len()"
   ]
  },
  {
   "cell_type": "code",
   "execution_count": 20,
   "id": "2884050e",
   "metadata": {},
   "outputs": [
    {
     "data": {
      "text/plain": [
       "False"
      ]
     },
     "execution_count": 20,
     "metadata": {},
     "output_type": "execute_result"
    }
   ],
   "source": [
    "# 대소문자 구분\n",
    "'AB cd' == 'ab CD'"
   ]
  },
  {
   "cell_type": "code",
   "execution_count": 21,
   "id": "5266737f",
   "metadata": {},
   "outputs": [
    {
     "data": {
      "text/plain": [
       "0    ab cd\n",
       "1    ab cd\n",
       "2    ab cd\n",
       "Name: D, dtype: object"
      ]
     },
     "execution_count": 21,
     "metadata": {},
     "output_type": "execute_result"
    }
   ],
   "source": [
    "# 소문자로 변경\n",
    "df['D'].str.lower()"
   ]
  },
  {
   "cell_type": "code",
   "execution_count": 23,
   "id": "f2b09756",
   "metadata": {},
   "outputs": [
    {
     "data": {
      "text/plain": [
       "0    AB CD\n",
       "1    AB CD\n",
       "2    AB CD\n",
       "Name: D, dtype: object"
      ]
     },
     "execution_count": 23,
     "metadata": {},
     "output_type": "execute_result"
    }
   ],
   "source": [
    "# 대문자로 변경\n",
    "df['D'].str.upper()"
   ]
  },
  {
   "cell_type": "code",
   "execution_count": 29,
   "id": "86eacf12",
   "metadata": {},
   "outputs": [],
   "source": [
    "df2 = pd.DataFrame({'A': ['블루베리 스무디', '딸기 스무디', '딸기 바나나 스무디'],\n",
    "                   'B': [10, 20, 30],\n",
    "                   'C': ['추천/신메뉴', '신메뉴/할인', '사이즈업/추천'],\n",
    "                   'D': ['ab cd', 'AB CD', 'ab cd ']\n",
    "                   })"
   ]
  },
  {
   "cell_type": "code",
   "execution_count": 30,
   "id": "b57337e1",
   "metadata": {},
   "outputs": [
    {
     "data": {
      "text/plain": [
       "0     True\n",
       "1     True\n",
       "2    False\n",
       "Name: D, dtype: bool"
      ]
     },
     "execution_count": 30,
     "metadata": {},
     "output_type": "execute_result"
    }
   ],
   "source": [
    "df2['D'] = df2['D'].str.upper()\n",
    "df2['D'] == 'AB CD'"
   ]
  },
  {
   "cell_type": "code",
   "execution_count": 32,
   "id": "4fca2bbc",
   "metadata": {},
   "outputs": [
    {
     "data": {
      "text/html": [
       "<div>\n",
       "<style scoped>\n",
       "    .dataframe tbody tr th:only-of-type {\n",
       "        vertical-align: middle;\n",
       "    }\n",
       "\n",
       "    .dataframe tbody tr th {\n",
       "        vertical-align: top;\n",
       "    }\n",
       "\n",
       "    .dataframe thead th {\n",
       "        text-align: right;\n",
       "    }\n",
       "</style>\n",
       "<table border=\"1\" class=\"dataframe\">\n",
       "  <thead>\n",
       "    <tr style=\"text-align: right;\">\n",
       "      <th></th>\n",
       "      <th>A</th>\n",
       "      <th>B</th>\n",
       "      <th>C</th>\n",
       "      <th>D</th>\n",
       "    </tr>\n",
       "  </thead>\n",
       "  <tbody>\n",
       "    <tr>\n",
       "      <th>0</th>\n",
       "      <td>블루베리 스무디</td>\n",
       "      <td>10</td>\n",
       "      <td>추천/신메뉴</td>\n",
       "      <td>ABCD</td>\n",
       "    </tr>\n",
       "    <tr>\n",
       "      <th>1</th>\n",
       "      <td>딸기 스무디</td>\n",
       "      <td>20</td>\n",
       "      <td>신메뉴/할인</td>\n",
       "      <td>ABCD</td>\n",
       "    </tr>\n",
       "    <tr>\n",
       "      <th>2</th>\n",
       "      <td>딸기 바나나 스무디</td>\n",
       "      <td>30</td>\n",
       "      <td>사이즈업/추천</td>\n",
       "      <td>ABCD</td>\n",
       "    </tr>\n",
       "  </tbody>\n",
       "</table>\n",
       "</div>"
      ],
      "text/plain": [
       "            A   B        C     D\n",
       "0    블루베리 스무디  10   추천/신메뉴  ABCD\n",
       "1      딸기 스무디  20   신메뉴/할인  ABCD\n",
       "2  딸기 바나나 스무디  30  사이즈업/추천  ABCD"
      ]
     },
     "execution_count": 32,
     "metadata": {},
     "output_type": "execute_result"
    }
   ],
   "source": [
    "# 공백 제거\n",
    "df2['D'] = df2['D'].str.replace(\" \",\"\")\n",
    "df2"
   ]
  },
  {
   "cell_type": "code",
   "execution_count": 33,
   "id": "dcbc4771",
   "metadata": {},
   "outputs": [
    {
     "data": {
      "text/plain": [
       "0    AB\n",
       "1    AB\n",
       "2    AB\n",
       "Name: D, dtype: object"
      ]
     },
     "execution_count": 33,
     "metadata": {},
     "output_type": "execute_result"
    }
   ],
   "source": [
    "# 슬라이싱(str)\n",
    "df2['D'].str[:2]"
   ]
  },
  {
   "cell_type": "code",
   "execution_count": 34,
   "id": "4f82cc25",
   "metadata": {},
   "outputs": [
    {
     "data": {
      "text/plain": [
       "0    ABCD\n",
       "1    ABCD\n",
       "Name: D, dtype: object"
      ]
     },
     "execution_count": 34,
     "metadata": {},
     "output_type": "execute_result"
    }
   ],
   "source": [
    "# 슬라이싱\n",
    "df2['D'][:2]"
   ]
  },
  {
   "cell_type": "code",
   "execution_count": 35,
   "id": "99eeae5e",
   "metadata": {},
   "outputs": [],
   "source": [
    "# 데이터\n",
    "df = pd.DataFrame({'date':['2024년 3월', '2024년 4월', '2025년 5월']})"
   ]
  },
  {
   "cell_type": "code",
   "execution_count": 37,
   "id": "d520fa4f",
   "metadata": {},
   "outputs": [
    {
     "data": {
      "text/plain": [
       "0    2024\n",
       "1    2024\n",
       "2    2025\n",
       "Name: date, dtype: object"
      ]
     },
     "execution_count": 37,
     "metadata": {},
     "output_type": "execute_result"
    }
   ],
   "source": [
    "# 년도\n",
    "df['date'].str[:4]"
   ]
  },
  {
   "cell_type": "code",
   "execution_count": 38,
   "id": "5d57d1e8",
   "metadata": {},
   "outputs": [
    {
     "data": {
      "text/plain": [
       "0    3\n",
       "1    4\n",
       "2    5\n",
       "Name: date, dtype: object"
      ]
     },
     "execution_count": 38,
     "metadata": {},
     "output_type": "execute_result"
    }
   ],
   "source": [
    "# 월\n",
    "df['date'].str[6:7]"
   ]
  },
  {
   "cell_type": "code",
   "execution_count": null,
   "id": "f4ecfd39",
   "metadata": {},
   "outputs": [],
   "source": []
  },
  {
   "cell_type": "code",
   "execution_count": null,
   "id": "bf9263ed",
   "metadata": {},
   "outputs": [],
   "source": []
  },
  {
   "cell_type": "code",
   "execution_count": null,
   "id": "71ac84ee",
   "metadata": {},
   "outputs": [],
   "source": []
  },
  {
   "cell_type": "code",
   "execution_count": null,
   "id": "54e3603c",
   "metadata": {},
   "outputs": [],
   "source": []
  }
 ],
 "metadata": {
  "kernelspec": {
   "display_name": "Python 3 (ipykernel)",
   "language": "python",
   "name": "python3"
  },
  "language_info": {
   "codemirror_mode": {
    "name": "ipython",
    "version": 3
   },
   "file_extension": ".py",
   "mimetype": "text/x-python",
   "name": "python",
   "nbconvert_exporter": "python",
   "pygments_lexer": "ipython3",
   "version": "3.9.7"
  }
 },
 "nbformat": 4,
 "nbformat_minor": 5
}
