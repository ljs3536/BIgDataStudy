{
 "cells": [
  {
   "cell_type": "markdown",
   "id": "8ba3e721",
   "metadata": {},
   "source": [
    "# 작업형1 예시문제\n",
    "자동차 데이터 셋에서 qsec 컬럼을 Min-Max Scale로 변환 후 0.5보다 큰 값을 가지는 레코드(row) tnsms?"
   ]
  },
  {
   "cell_type": "markdown",
   "id": "00f9b4a1",
   "metadata": {},
   "source": [
    "문제 분석\n",
    "- 문제에서 qsec 컬럼만 묻고 있음 (다른 컬럼은 신경 쓸 필요 없음)\n",
    "- MinMax Scale 변환\n",
    "- 조건 0.5보다 큰 값"
   ]
  },
  {
   "cell_type": "markdown",
   "id": "a59bb223",
   "metadata": {},
   "source": [
    "## 데이터 불러오기"
   ]
  },
  {
   "cell_type": "code",
   "execution_count": 1,
   "id": "97385143",
   "metadata": {},
   "outputs": [
    {
     "data": {
      "text/html": [
       "<div>\n",
       "<style scoped>\n",
       "    .dataframe tbody tr th:only-of-type {\n",
       "        vertical-align: middle;\n",
       "    }\n",
       "\n",
       "    .dataframe tbody tr th {\n",
       "        vertical-align: top;\n",
       "    }\n",
       "\n",
       "    .dataframe thead th {\n",
       "        text-align: right;\n",
       "    }\n",
       "</style>\n",
       "<table border=\"1\" class=\"dataframe\">\n",
       "  <thead>\n",
       "    <tr style=\"text-align: right;\">\n",
       "      <th></th>\n",
       "      <th>Unnamed: 0</th>\n",
       "      <th>mpg</th>\n",
       "      <th>cyl</th>\n",
       "      <th>disp</th>\n",
       "      <th>hp</th>\n",
       "      <th>drat</th>\n",
       "      <th>wt</th>\n",
       "      <th>qsec</th>\n",
       "      <th>vs</th>\n",
       "      <th>am</th>\n",
       "      <th>gear</th>\n",
       "      <th>carb</th>\n",
       "    </tr>\n",
       "  </thead>\n",
       "  <tbody>\n",
       "    <tr>\n",
       "      <th>0</th>\n",
       "      <td>Mazda RX4</td>\n",
       "      <td>21.0</td>\n",
       "      <td>6</td>\n",
       "      <td>160.0</td>\n",
       "      <td>110</td>\n",
       "      <td>3.90</td>\n",
       "      <td>2.620</td>\n",
       "      <td>16.46</td>\n",
       "      <td>0</td>\n",
       "      <td>1</td>\n",
       "      <td>4</td>\n",
       "      <td>4</td>\n",
       "    </tr>\n",
       "    <tr>\n",
       "      <th>1</th>\n",
       "      <td>Mazda RX4 Wag</td>\n",
       "      <td>21.0</td>\n",
       "      <td>6</td>\n",
       "      <td>160.0</td>\n",
       "      <td>110</td>\n",
       "      <td>3.90</td>\n",
       "      <td>2.875</td>\n",
       "      <td>17.02</td>\n",
       "      <td>0</td>\n",
       "      <td>1</td>\n",
       "      <td>4</td>\n",
       "      <td>4</td>\n",
       "    </tr>\n",
       "    <tr>\n",
       "      <th>2</th>\n",
       "      <td>Datsun 710</td>\n",
       "      <td>22.8</td>\n",
       "      <td>4</td>\n",
       "      <td>108.0</td>\n",
       "      <td>93</td>\n",
       "      <td>3.85</td>\n",
       "      <td>2.320</td>\n",
       "      <td>18.61</td>\n",
       "      <td>1</td>\n",
       "      <td>1</td>\n",
       "      <td>4</td>\n",
       "      <td>1</td>\n",
       "    </tr>\n",
       "    <tr>\n",
       "      <th>3</th>\n",
       "      <td>Hornet 4 Drive</td>\n",
       "      <td>21.4</td>\n",
       "      <td>6</td>\n",
       "      <td>258.0</td>\n",
       "      <td>110</td>\n",
       "      <td>3.08</td>\n",
       "      <td>3.215</td>\n",
       "      <td>19.44</td>\n",
       "      <td>1</td>\n",
       "      <td>0</td>\n",
       "      <td>3</td>\n",
       "      <td>1</td>\n",
       "    </tr>\n",
       "    <tr>\n",
       "      <th>4</th>\n",
       "      <td>Hornet Sportabout</td>\n",
       "      <td>18.7</td>\n",
       "      <td>8</td>\n",
       "      <td>360.0</td>\n",
       "      <td>175</td>\n",
       "      <td>3.15</td>\n",
       "      <td>3.440</td>\n",
       "      <td>17.02</td>\n",
       "      <td>0</td>\n",
       "      <td>0</td>\n",
       "      <td>3</td>\n",
       "      <td>2</td>\n",
       "    </tr>\n",
       "  </tbody>\n",
       "</table>\n",
       "</div>"
      ],
      "text/plain": [
       "          Unnamed: 0   mpg  cyl   disp   hp  drat     wt   qsec  vs  am  gear  \\\n",
       "0          Mazda RX4  21.0    6  160.0  110  3.90  2.620  16.46   0   1     4   \n",
       "1      Mazda RX4 Wag  21.0    6  160.0  110  3.90  2.875  17.02   0   1     4   \n",
       "2         Datsun 710  22.8    4  108.0   93  3.85  2.320  18.61   1   1     4   \n",
       "3     Hornet 4 Drive  21.4    6  258.0  110  3.08  3.215  19.44   1   0     3   \n",
       "4  Hornet Sportabout  18.7    8  360.0  175  3.15  3.440  17.02   0   0     3   \n",
       "\n",
       "   carb  \n",
       "0     4  \n",
       "1     4  \n",
       "2     1  \n",
       "3     1  \n",
       "4     2  "
      ]
     },
     "execution_count": 1,
     "metadata": {},
     "output_type": "execute_result"
    }
   ],
   "source": [
    "# 데이터 불러오기\n",
    "import pandas as pd\n",
    "# a = pd.read_csv('mtcars.csv') # 샘플\n",
    "\n",
    "def load_data():\n",
    "    return pd.read_csv('mtcars.csv')\n",
    "\n",
    "data = load_data()\n",
    "data.head()"
   ]
  },
  {
   "cell_type": "markdown",
   "id": "8c1a600d",
   "metadata": {},
   "source": [
    "## 스케일링"
   ]
  },
  {
   "cell_type": "code",
   "execution_count": 4,
   "id": "0220e299",
   "metadata": {},
   "outputs": [
    {
     "name": "stdout",
     "output_type": "stream",
     "text": [
      "0    16.46\n",
      "1    17.02\n",
      "2    18.61\n",
      "3    19.44\n",
      "4    17.02\n",
      "Name: qsec, dtype: float64\n",
      "0    0.233333\n",
      "1    0.300000\n",
      "2    0.489286\n",
      "3    0.588095\n",
      "4    0.300000\n",
      "Name: qsec, dtype: float64\n"
     ]
    }
   ],
   "source": [
    "# MinAxScaler 활용\n",
    "from sklearn.preprocessing import MinMaxScaler\n",
    "data = load_data()\n",
    "scaler = MinMaxScaler()\n",
    "print(data['qsec'].head())\n",
    "data['qsec'] = scaler.fit_transform(data[['qsec']])\n",
    "print(data['qsec'].head())"
   ]
  },
  {
   "cell_type": "code",
   "execution_count": 5,
   "id": "75a5a392",
   "metadata": {},
   "outputs": [
    {
     "name": "stdout",
     "output_type": "stream",
     "text": [
      "0    16.46\n",
      "1    17.02\n",
      "2    18.61\n",
      "3    19.44\n",
      "4    17.02\n",
      "Name: qsec, dtype: float64\n",
      "0    0.233333\n",
      "1    0.300000\n",
      "2    0.489286\n",
      "3    0.588095\n",
      "4    0.300000\n",
      "Name: qsec, dtype: float64\n"
     ]
    }
   ],
   "source": [
    "# minmax_scale 활용\n",
    "from sklearn.preprocessing import minmax_scale\n",
    "\n",
    "data = load_data()\n",
    "\n",
    "print(data['qsec'].head())\n",
    "data['qsec'] = minmax_scale(data['qsec'])\n",
    "print(data['qsec'].head())"
   ]
  },
  {
   "cell_type": "code",
   "execution_count": 6,
   "id": "8d8de8d4",
   "metadata": {},
   "outputs": [
    {
     "name": "stdout",
     "output_type": "stream",
     "text": [
      "0    0.233333\n",
      "1    0.300000\n",
      "2    0.489286\n",
      "3    0.588095\n",
      "4    0.300000\n",
      "Name: qsec, dtype: float64\n",
      "0    0.233333\n",
      "1    0.300000\n",
      "2    0.489286\n",
      "3    0.588095\n",
      "4    0.300000\n",
      "Name: qsec, dtype: float64\n"
     ]
    }
   ],
   "source": [
    "# min-max함수\n",
    "def my_minmax(data):\n",
    "    data = (data - min(data))/ (max(data) - min(data))\n",
    "    return data\n",
    "\n",
    "print(data['qsec'].head())\n",
    "data['qsec'] = my_minmax(data['qsec'])\n",
    "print(data['qsec'].head())"
   ]
  },
  {
   "cell_type": "markdown",
   "id": "727b1c2e",
   "metadata": {},
   "source": [
    "## 조건 (0.5보다 큰 값)"
   ]
  },
  {
   "cell_type": "code",
   "execution_count": 7,
   "id": "fb76dd22",
   "metadata": {},
   "outputs": [
    {
     "name": "stdout",
     "output_type": "stream",
     "text": [
      "9\n"
     ]
    }
   ],
   "source": [
    "# True(1)를 더 함\n",
    "cond = data['qsec'] > 0.5\n",
    "print(sum(cond))"
   ]
  },
  {
   "cell_type": "code",
   "execution_count": 8,
   "id": "6a74c53f",
   "metadata": {},
   "outputs": [
    {
     "data": {
      "text/plain": [
       "0     False\n",
       "1     False\n",
       "2     False\n",
       "3      True\n",
       "4     False\n",
       "5      True\n",
       "6     False\n",
       "7      True\n",
       "8      True\n",
       "9     False\n",
       "10     True\n",
       "11    False\n",
       "12    False\n",
       "13    False\n",
       "14    False\n",
       "15    False\n",
       "16    False\n",
       "17     True\n",
       "18    False\n",
       "19     True\n",
       "20     True\n",
       "21    False\n",
       "22    False\n",
       "23    False\n",
       "24    False\n",
       "25     True\n",
       "26    False\n",
       "27    False\n",
       "28    False\n",
       "29    False\n",
       "30    False\n",
       "31    False\n",
       "Name: qsec, dtype: bool"
      ]
     },
     "execution_count": 8,
     "metadata": {},
     "output_type": "execute_result"
    }
   ],
   "source": [
    "data['qsec'] > 0.5"
   ]
  },
  {
   "cell_type": "code",
   "execution_count": 9,
   "id": "49e94c2a",
   "metadata": {},
   "outputs": [
    {
     "name": "stdout",
     "output_type": "stream",
     "text": [
      "9\n"
     ]
    }
   ],
   "source": [
    "# len 활용\n",
    "cond = data['qsec'] > 0.5\n",
    "print(len(data[cond]))"
   ]
  },
  {
   "cell_type": "code",
   "execution_count": 10,
   "id": "3f1b54b0",
   "metadata": {},
   "outputs": [
    {
     "name": "stdout",
     "output_type": "stream",
     "text": [
      "9\n"
     ]
    }
   ],
   "source": [
    "# count 활용\n",
    "cond = data['qsec'] > 0.5\n",
    "print(data[cond]['qsec'].count())"
   ]
  },
  {
   "cell_type": "markdown",
   "id": "65577878",
   "metadata": {},
   "source": [
    "## 심화학습\n",
    "- 결측치 값이 처리되지 않았을 때 결과"
   ]
  },
  {
   "cell_type": "code",
   "execution_count": 11,
   "id": "56fcd9aa",
   "metadata": {},
   "outputs": [
    {
     "data": {
      "text/html": [
       "<div>\n",
       "<style scoped>\n",
       "    .dataframe tbody tr th:only-of-type {\n",
       "        vertical-align: middle;\n",
       "    }\n",
       "\n",
       "    .dataframe tbody tr th {\n",
       "        vertical-align: top;\n",
       "    }\n",
       "\n",
       "    .dataframe thead th {\n",
       "        text-align: right;\n",
       "    }\n",
       "</style>\n",
       "<table border=\"1\" class=\"dataframe\">\n",
       "  <thead>\n",
       "    <tr style=\"text-align: right;\">\n",
       "      <th></th>\n",
       "      <th>a</th>\n",
       "      <th>b</th>\n",
       "    </tr>\n",
       "  </thead>\n",
       "  <tbody>\n",
       "    <tr>\n",
       "      <th>0</th>\n",
       "      <td>1</td>\n",
       "      <td>1.3</td>\n",
       "    </tr>\n",
       "    <tr>\n",
       "      <th>1</th>\n",
       "      <td>2</td>\n",
       "      <td>2.2</td>\n",
       "    </tr>\n",
       "    <tr>\n",
       "      <th>2</th>\n",
       "      <td>3</td>\n",
       "      <td>3.3</td>\n",
       "    </tr>\n",
       "    <tr>\n",
       "      <th>3</th>\n",
       "      <td>4</td>\n",
       "      <td>NaN</td>\n",
       "    </tr>\n",
       "    <tr>\n",
       "      <th>4</th>\n",
       "      <td>5</td>\n",
       "      <td>5.8</td>\n",
       "    </tr>\n",
       "    <tr>\n",
       "      <th>5</th>\n",
       "      <td>6</td>\n",
       "      <td>6.9</td>\n",
       "    </tr>\n",
       "    <tr>\n",
       "      <th>6</th>\n",
       "      <td>7</td>\n",
       "      <td>NaN</td>\n",
       "    </tr>\n",
       "    <tr>\n",
       "      <th>7</th>\n",
       "      <td>8</td>\n",
       "      <td>8.2</td>\n",
       "    </tr>\n",
       "    <tr>\n",
       "      <th>8</th>\n",
       "      <td>9</td>\n",
       "      <td>9.0</td>\n",
       "    </tr>\n",
       "  </tbody>\n",
       "</table>\n",
       "</div>"
      ],
      "text/plain": [
       "   a    b\n",
       "0  1  1.3\n",
       "1  2  2.2\n",
       "2  3  3.3\n",
       "3  4  NaN\n",
       "4  5  5.8\n",
       "5  6  6.9\n",
       "6  7  NaN\n",
       "7  8  8.2\n",
       "8  9  9.0"
      ]
     },
     "execution_count": 11,
     "metadata": {},
     "output_type": "execute_result"
    }
   ],
   "source": [
    "# 결측치가 있는 데이터 생성\n",
    "import numpy as np\n",
    "df = pd.DataFrame(\n",
    "    {\n",
    "        'a':[1,2,3,4,5,6,7,8,9],\n",
    "        'b':[1.3,2.2,3.3,np.nan,5.8,6.9,np.nan,8.2,9.0]\n",
    "    }\n",
    ")\n",
    "df"
   ]
  },
  {
   "cell_type": "code",
   "execution_count": 12,
   "id": "acfb58a5",
   "metadata": {},
   "outputs": [
    {
     "name": "stdout",
     "output_type": "stream",
     "text": [
      "9\n"
     ]
    }
   ],
   "source": [
    "# len(데이터프레임)\n",
    "print(len(df))"
   ]
  },
  {
   "cell_type": "code",
   "execution_count": 13,
   "id": "477997e7",
   "metadata": {},
   "outputs": [
    {
     "data": {
      "text/plain": [
       "9"
      ]
     },
     "execution_count": 13,
     "metadata": {},
     "output_type": "execute_result"
    }
   ],
   "source": [
    "# len(시리즈)\n",
    "len(df['b'])"
   ]
  },
  {
   "cell_type": "code",
   "execution_count": 14,
   "id": "35f685d4",
   "metadata": {},
   "outputs": [
    {
     "data": {
      "text/plain": [
       "a    9\n",
       "b    7\n",
       "dtype: int64"
      ]
     },
     "execution_count": 14,
     "metadata": {},
     "output_type": "execute_result"
    }
   ],
   "source": [
    "# 데이터프레임.count() 결측치를 제외한 값을 얻게 됨\n",
    "df.count()"
   ]
  },
  {
   "cell_type": "code",
   "execution_count": 15,
   "id": "a6b5f69a",
   "metadata": {},
   "outputs": [
    {
     "data": {
      "text/plain": [
       "7"
      ]
     },
     "execution_count": 15,
     "metadata": {},
     "output_type": "execute_result"
    }
   ],
   "source": [
    "# 시리즈.count()\n",
    "df['b'].count()"
   ]
  },
  {
   "cell_type": "markdown",
   "id": "bc3f0e32",
   "metadata": {},
   "source": [
    "### len: 행의 수\n",
    "### count : Nan이 아닌 (컬럼별) 행의 수\n",
    "### sum : True(1)값을 더했기 때문에 조건문에 따라 달라짐"
   ]
  },
  {
   "cell_type": "code",
   "execution_count": 16,
   "id": "234788e2",
   "metadata": {},
   "outputs": [
    {
     "data": {
      "text/plain": [
       "0    False\n",
       "1    False\n",
       "2     True\n",
       "3    False\n",
       "4     True\n",
       "5     True\n",
       "6    False\n",
       "7     True\n",
       "8     True\n",
       "Name: b, dtype: bool"
      ]
     },
     "execution_count": 16,
     "metadata": {},
     "output_type": "execute_result"
    }
   ],
   "source": [
    "df['b'] > 3"
   ]
  },
  {
   "cell_type": "code",
   "execution_count": 17,
   "id": "0b3d1549",
   "metadata": {},
   "outputs": [
    {
     "name": "stdout",
     "output_type": "stream",
     "text": [
      "5\n"
     ]
    }
   ],
   "source": [
    "cond = df['b'] > 3\n",
    "print(sum(cond))"
   ]
  },
  {
   "cell_type": "code",
   "execution_count": null,
   "id": "1d558fa3",
   "metadata": {},
   "outputs": [],
   "source": []
  }
 ],
 "metadata": {
  "kernelspec": {
   "display_name": "Python 3 (ipykernel)",
   "language": "python",
   "name": "python3"
  },
  "language_info": {
   "codemirror_mode": {
    "name": "ipython",
    "version": 3
   },
   "file_extension": ".py",
   "mimetype": "text/x-python",
   "name": "python",
   "nbconvert_exporter": "python",
   "pygments_lexer": "ipython3",
   "version": "3.9.7"
  }
 },
 "nbformat": 4,
 "nbformat_minor": 5
}
