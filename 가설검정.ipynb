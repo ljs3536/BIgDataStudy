{
 "cells": [
  {
   "cell_type": "markdown",
   "id": "793bf2b9",
   "metadata": {},
   "source": [
    "# 가설검정\n",
    "## 모집단과 표본\n",
    "- 모집단 : 연구 대상이 되는 전체 집단\n",
    "- 표본 : 모집단의 일부"
   ]
  },
  {
   "cell_type": "markdown",
   "id": "5db8c0be",
   "metadata": {},
   "source": [
    "## 귀무가설과 대립가설\n",
    "- 귀무가설 : 기존에 알려진 사실, 효과나 차이가 없음\n",
    "    - ex) A강의 수강생과 B강의 수강생의 합격률 차이가 없다\n",
    "- 대립가설 : 연구자가 입증하려는 사실, 효과나 차이가 있음\n",
    "    - ex) A강의 수강생은 B강의 수강생보다 합격률이 높다"
   ]
  },
  {
   "cell_type": "markdown",
   "id": "6ffa448a",
   "metadata": {},
   "source": [
    "## 검정결과\n",
    "- 검정통계량 : 주어진 데이터와 귀무가설 간의 차이를 통계적으로 나타내는 값\n",
    "- p-value(유의수준 0.05)\n",
    "    - 유의수준보다 작으면 귀무가설을 기각하고, 대립가설을 채택한다.\n",
    "    - 유의수준보다 크면 귀무가설을 기각하지 못한다.(귀무가설 채택)"
   ]
  },
  {
   "cell_type": "markdown",
   "id": "eef8c500",
   "metadata": {},
   "source": [
    "## 가설검정 프로세스\n",
    "- 통계적 가설 설정 : 귀무가설과 대립가설\n",
    "- 유의수준 결정 : 예) 0.05\n",
    "- 검정 통계량 및 p-value(유의확률) 계산\n",
    "- 결과 도출"
   ]
  },
  {
   "cell_type": "markdown",
   "id": "b48c920d",
   "metadata": {},
   "source": [
    "## t-test(t-검정)\n",
    "- 단일표본검정 : 모집단 1개 / 한 그룹 / 예) 과자의 무게는 100g과 다른지 검정\n",
    "- 대응(쌍체)표본검정 : 모집단 2개(같은집단) / 같은 그룹 / 예) 신약 효과 (전후) 검정\n",
    "- 독립표본검정 : 모집단 2개 / 서로 다른 그룹 / 예) 1반과 2빈의 성적 차이 검정"
   ]
  },
  {
   "cell_type": "markdown",
   "id": "24011951",
   "metadata": {},
   "source": [
    "### 단일 표본 검정\n",
    "\n",
    "#### 관심 모집단 1개\n",
    "#### -> 정규성 검정 -(yes)-> 단일 표본 검정\n",
    "####                       -(no)-> Wilcoxon의 부호 순위 검정"
   ]
  },
  {
   "cell_type": "markdown",
   "id": "6a34b84f",
   "metadata": {},
   "source": [
    "### 대응표본검정\n",
    "#### 관심 모집단 2개 (대응표본)\n",
    "#### -> 정규성 검정 -(yes)-> 대응(쌍체) 표본 검정\n",
    "####                       -(no)-> Wilcoxon의 부호 순위 검정"
   ]
  },
  {
   "cell_type": "markdown",
   "id": "2dcfbe8c",
   "metadata": {},
   "source": [
    "### 독립표본검정\n",
    "#### 관심 모집단 2개\n",
    "#### -> 정규성 검정 -(yes)-> 등분산 검정 -(yes)-> 독립 표본 검정\n",
    "####                                                       -(no)-> 독립표본검정(Welch의 t-검정)\n",
    "####                       -(no)-> Mann-Whitney U 검정"
   ]
  },
  {
   "cell_type": "code",
   "execution_count": null,
   "id": "6d0f59a5",
   "metadata": {},
   "outputs": [],
   "source": []
  },
  {
   "cell_type": "code",
   "execution_count": null,
   "id": "60130d4b",
   "metadata": {},
   "outputs": [],
   "source": []
  },
  {
   "cell_type": "code",
   "execution_count": null,
   "id": "c4612d9b",
   "metadata": {},
   "outputs": [],
   "source": []
  },
  {
   "cell_type": "code",
   "execution_count": null,
   "id": "3a9531d4",
   "metadata": {},
   "outputs": [],
   "source": []
  }
 ],
 "metadata": {
  "kernelspec": {
   "display_name": "Python 3 (ipykernel)",
   "language": "python",
   "name": "python3"
  },
  "language_info": {
   "codemirror_mode": {
    "name": "ipython",
    "version": 3
   },
   "file_extension": ".py",
   "mimetype": "text/x-python",
   "name": "python",
   "nbconvert_exporter": "python",
   "pygments_lexer": "ipython3",
   "version": "3.9.7"
  }
 },
 "nbformat": 4,
 "nbformat_minor": 5
}
