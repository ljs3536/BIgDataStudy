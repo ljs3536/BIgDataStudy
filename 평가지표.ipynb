{
 "cells": [
  {
   "cell_type": "code",
   "execution_count": 1,
   "id": "83f283d5",
   "metadata": {},
   "outputs": [
    {
     "name": "stdout",
     "output_type": "stream",
     "text": [
      "['B' 'A' 'A']\n"
     ]
    }
   ],
   "source": [
    "# 이진분류 평가지표\n",
    "import pandas as pd\n",
    "from sklearn.ensemble import RandomForestClassifier\n",
    "\n",
    "# train\n",
    "train = pd.DataFrame({\n",
    "    'f1': [2, 3, 5, 7, 11, 13, 17, 19, 23, 29],\n",
    "    'f2': [30, 28, 26, 24, 22, 20, 18, 16, 14, 12],\n",
    "    'target': ['A', 'A', 'A', 'B', 'B', 'A', 'A', 'A', 'A', 'B']\n",
    "})\n",
    "\n",
    "# test\n",
    "test = pd.DataFrame({\n",
    "    'f1': [7, 9, 15],\n",
    "    'f2': [23, 18, 26]\n",
    "})\n",
    "\n",
    "# target 데이터 분리\n",
    "target = train.pop('target')\n",
    "\n",
    "# 머신러닝 학습 및 예측\n",
    "clf = RandomForestClassifier(random_state=0)\n",
    "clf.fit(train, target)\n",
    "pred = clf.predict(test)\n",
    "print(pred)"
   ]
  },
  {
   "cell_type": "code",
   "execution_count": 2,
   "id": "fad696f4",
   "metadata": {},
   "outputs": [
    {
     "name": "stdout",
     "output_type": "stream",
     "text": [
      "val :  ['A' 'A' 'A']\n",
      "정확도 :  0.6666666666666666\n",
      "test :  ['B' 'A' 'A']\n"
     ]
    }
   ],
   "source": [
    "# 머신러닝 예시 코드 (predict)\n",
    "import pandas as pd\n",
    "from sklearn.model_selection import train_test_split\n",
    "from sklearn.ensemble import RandomForestClassifier\n",
    "from sklearn.metrics import accuracy_score\n",
    "\n",
    "train = pd.DataFrame({\n",
    "    'f1': [2, 3, 5, 7, 11, 13, 17, 19, 23, 29],\n",
    "    'f2': [30, 28, 26, 24, 22, 20, 18, 16, 14, 12],\n",
    "    'target': ['A', 'A', 'A', 'B', 'B', 'A', 'A', 'A', 'A', 'B']\n",
    "})\n",
    "\n",
    "# 검증 데이터 분리\n",
    "target = train.pop('target')\n",
    "X_train, X_val, y_train, y_val = train_test_split(train, target, test_size=0.3, random_state = 0)\n",
    "\n",
    "# 머신러닝 학습 및 예측\n",
    "clf = RandomForestClassifier(random_state = 0)\n",
    "clf.fit(X_train, y_train)\n",
    "y_pred = clf.predict(X_val)\n",
    "\n",
    "print(\"val : \", y_pred) #예측값\n",
    "print(\"정확도 : \", accuracy_score(y_val, y_pred)) #정확도 평가\n",
    "\n",
    "#test\n",
    "test = pd.DataFrame({\n",
    "    'f1': [7, 9, 15],\n",
    "    'f2': [23, 18, 26]\n",
    "})\n",
    "\n",
    "pred = clf.predict(test)\n",
    "print(\"test : \",pred)"
   ]
  },
  {
   "cell_type": "code",
   "execution_count": 10,
   "id": "d69fc095",
   "metadata": {},
   "outputs": [],
   "source": [
    "# 이진분류 데이터\n",
    "import pandas as pd\n",
    "y_true = pd.DataFrame([0, 1, 1, 0, 0, 1, 1, 1, 1, 0]) #실제값\n",
    "y_pred = pd.DataFrame([0, 0, 1, 1, 0, 0, 0, 1, 1, 0]) #예측값\n",
    "\n",
    "y_true_str = pd.DataFrame(['B', 'A', 'A', 'B', 'B', 'A', 'A', 'A', 'A', 'B']) #실제값\n",
    "y_pred_str = pd.DataFrame(['B', 'B', 'A', 'A', 'B', 'B', 'B', 'A', 'A', 'B']) #예측값"
   ]
  },
  {
   "cell_type": "code",
   "execution_count": 12,
   "id": "f67b7d9f",
   "metadata": {},
   "outputs": [
    {
     "name": "stdout",
     "output_type": "stream",
     "text": [
      "정확도 :  0.6\n",
      "정확도 :  0.6\n"
     ]
    }
   ],
   "source": [
    "# 정확도(Accuracy)\n",
    "from sklearn.metrics import accuracy_score\n",
    "accuracy = accuracy_score(y_true, y_pred)\n",
    "print(\"정확도 : \", accuracy)\n",
    "\n",
    "accuracy = accuracy_score(y_true_str, y_pred_str)\n",
    "print(\"정확도 : \", accuracy)"
   ]
  },
  {
   "cell_type": "code",
   "execution_count": 14,
   "id": "4e49bd28",
   "metadata": {},
   "outputs": [
    {
     "name": "stdout",
     "output_type": "stream",
     "text": [
      "F1 스코어: 0.6\n",
      "F1 스코어: 0.6\n"
     ]
    }
   ],
   "source": [
    "# F1 스코어(F1 Score)\n",
    "from sklearn.metrics import f1_score\n",
    "f1 = f1_score(y_true, y_pred)\n",
    "print(\"F1 스코어:\", f1)\n",
    "\n",
    "f1 = f1_score(y_true_str, y_pred_str,pos_label='A')\n",
    "print(\"F1 스코어:\", f1)"
   ]
  },
  {
   "cell_type": "code",
   "execution_count": 15,
   "id": "34d603c3",
   "metadata": {},
   "outputs": [
    {
     "name": "stdout",
     "output_type": "stream",
     "text": [
      "[[0.32 0.68]\n",
      " [1.   0.  ]\n",
      " [0.75 0.25]\n",
      " [1.   0.  ]\n",
      " [0.74 0.26]]\n"
     ]
    },
    {
     "data": {
      "text/plain": [
       "0.25"
      ]
     },
     "execution_count": 15,
     "metadata": {},
     "output_type": "execute_result"
    }
   ],
   "source": [
    " #머신러닝 예시 코드(predirc_proba)\n",
    "import pandas as pd\n",
    "from sklearn.model_selection import train_test_split\n",
    "from sklearn.ensemble import RandomForestClassifier\n",
    "from sklearn.metrics import roc_auc_score\n",
    "\n",
    "df = pd.DataFrame({\n",
    "    'f1': [2, 3, 5, 7, 11, 13, 17, 19, 23, 29],\n",
    "    'f2': [30, 28, 26, 24, 22, 20, 18, 16, 14, 12],\n",
    "    'target': ['A', 'A', 'A', 'B', 'B', 'A', 'A', 'A', 'A', 'B']\n",
    "})\n",
    "\n",
    "target = df.pop('target')\n",
    "X_train, X_val, y_train, y_val = train_test_split(df, target, test_size = 0.5, random_state = 0)\n",
    "\n",
    "clf = RandomForestClassifier(random_state=42)\n",
    "clf.fit(X_train, y_train)\n",
    "y_pred = clf.predict_proba(X_val)\n",
    "\n",
    "print(y_pred)\n",
    "roc_auc_score(y_val, y_pred[:,1]) # 정확도 평가"
   ]
  },
  {
   "cell_type": "code",
   "execution_count": 17,
   "id": "267b0562",
   "metadata": {},
   "outputs": [
    {
     "name": "stdout",
     "output_type": "stream",
     "text": [
      "ROC-AUC :  0.92\n"
     ]
    }
   ],
   "source": [
    "# ROC-AUC\n",
    "from sklearn.metrics import roc_auc_score\n",
    "import numpy as np\n",
    "\n",
    "# 실제값 (0: 음성, 1: 양성)\n",
    "y_true = pd.DataFrame([0, 1, 0, 1, 1, 0, 0, 0, 1, 1])\n",
    "# 예측값 중 양성(1) 확률\n",
    "y_pred_proba = np.array([\n",
    "    [0.8, 0.2],\n",
    "    [0.1, 0.9],\n",
    "    [0.77, 0.23],\n",
    "    [0.6, 0.4],\n",
    "    [0.2, 0.8],\n",
    "    [0.4, 0.6],\n",
    "    [0.6, 0.4],\n",
    "    [0.8, 0.2],\n",
    "    [0.3, 0.7],\n",
    "    [0.4, 0.6]\n",
    "])\n",
    "\n",
    "roc_auc = roc_auc_score(y_true, y_pred_proba[:,1])\n",
    "print(\"ROC-AUC : \",roc_auc)"
   ]
  },
  {
   "cell_type": "code",
   "execution_count": 18,
   "id": "5b167ef6",
   "metadata": {},
   "outputs": [
    {
     "name": "stdout",
     "output_type": "stream",
     "text": [
      "ROC-AUC: 0.92\n"
     ]
    }
   ],
   "source": [
    "y_true_str = pd.DataFrame(['B', 'A', 'A', 'B', 'B', 'A', 'A', 'A', 'A', 'B']) #실제값\n",
    "y_pred_proba_str = np.array([\n",
    "    [0.8, 0.2],\n",
    "    [0.1, 0.9],\n",
    "    [0.77, 0.23],\n",
    "    [0.6, 0.4],\n",
    "    [0.2, 0.8],\n",
    "    [0.4, 0.6],\n",
    "    [0.6, 0.4],\n",
    "    [0.8, 0.2],\n",
    "    [0.3, 0.7],\n",
    "    [0.4, 0.6]\n",
    "]) # 예측값\n",
    "roc_auc = roc_auc_score(y_true, y_pred_proba_str[:,1])\n",
    "print(\"ROC-AUC:\", roc_auc)"
   ]
  },
  {
   "cell_type": "code",
   "execution_count": null,
   "id": "31364649",
   "metadata": {},
   "outputs": [],
   "source": []
  },
  {
   "cell_type": "code",
   "execution_count": null,
   "id": "cc8e7235",
   "metadata": {},
   "outputs": [],
   "source": []
  },
  {
   "cell_type": "code",
   "execution_count": null,
   "id": "acef466e",
   "metadata": {},
   "outputs": [],
   "source": []
  },
  {
   "cell_type": "code",
   "execution_count": null,
   "id": "0f9faa89",
   "metadata": {},
   "outputs": [],
   "source": []
  },
  {
   "cell_type": "code",
   "execution_count": null,
   "id": "bb5c1618",
   "metadata": {},
   "outputs": [],
   "source": []
  },
  {
   "cell_type": "code",
   "execution_count": null,
   "id": "a47a50a8",
   "metadata": {},
   "outputs": [],
   "source": []
  },
  {
   "cell_type": "code",
   "execution_count": null,
   "id": "89e0cd5c",
   "metadata": {},
   "outputs": [],
   "source": []
  }
 ],
 "metadata": {
  "kernelspec": {
   "display_name": "Python 3 (ipykernel)",
   "language": "python",
   "name": "python3"
  },
  "language_info": {
   "codemirror_mode": {
    "name": "ipython",
    "version": 3
   },
   "file_extension": ".py",
   "mimetype": "text/x-python",
   "name": "python",
   "nbconvert_exporter": "python",
   "pygments_lexer": "ipython3",
   "version": "3.10.9"
  }
 },
 "nbformat": 4,
 "nbformat_minor": 5
}
