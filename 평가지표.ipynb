{
 "cells": [
  {
   "cell_type": "code",
   "execution_count": 1,
   "id": "83f283d5",
   "metadata": {},
   "outputs": [
    {
     "name": "stdout",
     "output_type": "stream",
     "text": [
      "['B' 'A' 'A']\n"
     ]
    }
   ],
   "source": [
    "# 이진분류 평가지표\n",
    "import pandas as pd\n",
    "from sklearn.ensemble import RandomForestClassifier\n",
    "\n",
    "# train\n",
    "train = pd.DataFrame({\n",
    "    'f1': [2, 3, 5, 7, 11, 13, 17, 19, 23, 29],\n",
    "    'f2': [30, 28, 26, 24, 22, 20, 18, 16, 14, 12],\n",
    "    'target': ['A', 'A', 'A', 'B', 'B', 'A', 'A', 'A', 'A', 'B']\n",
    "})\n",
    "\n",
    "# test\n",
    "test = pd.DataFrame({\n",
    "    'f1': [7, 9, 15],\n",
    "    'f2': [23, 18, 26]\n",
    "})\n",
    "\n",
    "# target 데이터 분리\n",
    "target = train.pop('target')\n",
    "\n",
    "# 머신러닝 학습 및 예측\n",
    "clf = RandomForestClassifier(random_state=0)\n",
    "clf.fit(train, target)\n",
    "pred = clf.predict(test)\n",
    "print(pred)"
   ]
  },
  {
   "cell_type": "code",
   "execution_count": 2,
   "id": "fad696f4",
   "metadata": {},
   "outputs": [
    {
     "name": "stdout",
     "output_type": "stream",
     "text": [
      "val :  ['A' 'A' 'A']\n",
      "정확도 :  0.6666666666666666\n",
      "test :  ['B' 'A' 'A']\n"
     ]
    }
   ],
   "source": [
    "# 머신러닝 예시 코드 (predict)\n",
    "import pandas as pd\n",
    "from sklearn.model_selection import train_test_split\n",
    "from sklearn.ensemble import RandomForestClassifier\n",
    "from sklearn.metrics import accuracy_score\n",
    "\n",
    "train = pd.DataFrame({\n",
    "    'f1': [2, 3, 5, 7, 11, 13, 17, 19, 23, 29],\n",
    "    'f2': [30, 28, 26, 24, 22, 20, 18, 16, 14, 12],\n",
    "    'target': ['A', 'A', 'A', 'B', 'B', 'A', 'A', 'A', 'A', 'B']\n",
    "})\n",
    "\n",
    "# 검증 데이터 분리\n",
    "target = train.pop('target')\n",
    "X_train, X_val, y_train, y_val = train_test_split(train, target, test_size=0.3, random_state = 0)\n",
    "\n",
    "# 머신러닝 학습 및 예측\n",
    "clf = RandomForestClassifier(random_state = 0)\n",
    "clf.fit(X_train, y_train)\n",
    "y_pred = clf.predict(X_val)\n",
    "\n",
    "print(\"val : \", y_pred) #예측값\n",
    "print(\"정확도 : \", accuracy_score(y_val, y_pred)) #정확도 평가\n",
    "\n",
    "#test\n",
    "test = pd.DataFrame({\n",
    "    'f1': [7, 9, 15],\n",
    "    'f2': [23, 18, 26]\n",
    "})\n",
    "\n",
    "pred = clf.predict(test)\n",
    "print(\"test : \",pred)"
   ]
  },
  {
   "cell_type": "code",
   "execution_count": 3,
   "id": "d69fc095",
   "metadata": {},
   "outputs": [],
   "source": [
    "# 이진분류 데이터\n",
    "import pandas as pd\n",
    "y_true = pd.DataFrame([0, 1, 1, 0, 0, 1, 1, 1, 1, 0]) #실제값\n",
    "y_pred = pd.DataFrame([0, 0, 1, 1, 0, 0, 0, 1, 1, 0]) #예측값\n",
    "\n",
    "y_true_str = pd.DataFrame(['B', 'A', 'A', 'B', 'B', 'A', 'A', 'A', 'A', 'B']) #실제값\n",
    "y_pred_str = pd.DataFrame(['B', 'B', 'A', 'A', 'B', 'B', 'B', 'A', 'A', 'B']) #예측값"
   ]
  },
  {
   "cell_type": "code",
   "execution_count": 4,
   "id": "f67b7d9f",
   "metadata": {},
   "outputs": [
    {
     "name": "stdout",
     "output_type": "stream",
     "text": [
      "정확도 :  0.6\n",
      "정확도 :  0.6\n"
     ]
    }
   ],
   "source": [
    "# 정확도(Accuracy)\n",
    "from sklearn.metrics import accuracy_score\n",
    "accuracy = accuracy_score(y_true, y_pred)\n",
    "print(\"정확도 : \", accuracy)\n",
    "\n",
    "accuracy = accuracy_score(y_true_str, y_pred_str)\n",
    "print(\"정확도 : \", accuracy)"
   ]
  },
  {
   "cell_type": "code",
   "execution_count": 5,
   "id": "4e49bd28",
   "metadata": {},
   "outputs": [
    {
     "name": "stdout",
     "output_type": "stream",
     "text": [
      "F1 스코어: 0.6\n",
      "F1 스코어: 0.6\n"
     ]
    }
   ],
   "source": [
    "# F1 스코어(F1 Score)\n",
    "from sklearn.metrics import f1_score\n",
    "f1 = f1_score(y_true, y_pred)\n",
    "print(\"F1 스코어:\", f1)\n",
    "\n",
    "f1 = f1_score(y_true_str, y_pred_str,pos_label='A')\n",
    "print(\"F1 스코어:\", f1)"
   ]
  },
  {
   "cell_type": "code",
   "execution_count": 6,
   "id": "34d603c3",
   "metadata": {},
   "outputs": [
    {
     "name": "stdout",
     "output_type": "stream",
     "text": [
      "[[0.32 0.68]\n",
      " [1.   0.  ]\n",
      " [0.75 0.25]\n",
      " [1.   0.  ]\n",
      " [0.74 0.26]]\n"
     ]
    },
    {
     "data": {
      "text/plain": [
       "0.25"
      ]
     },
     "execution_count": 6,
     "metadata": {},
     "output_type": "execute_result"
    }
   ],
   "source": [
    " #머신러닝 예시 코드(predirc_proba)\n",
    "import pandas as pd\n",
    "from sklearn.model_selection import train_test_split\n",
    "from sklearn.ensemble import RandomForestClassifier\n",
    "from sklearn.metrics import roc_auc_score\n",
    "\n",
    "df = pd.DataFrame({\n",
    "    'f1': [2, 3, 5, 7, 11, 13, 17, 19, 23, 29],\n",
    "    'f2': [30, 28, 26, 24, 22, 20, 18, 16, 14, 12],\n",
    "    'target': ['A', 'A', 'A', 'B', 'B', 'A', 'A', 'A', 'A', 'B']\n",
    "})\n",
    "\n",
    "target = df.pop('target')\n",
    "X_train, X_val, y_train, y_val = train_test_split(df, target, test_size = 0.5, random_state = 0)\n",
    "\n",
    "clf = RandomForestClassifier(random_state=42)\n",
    "clf.fit(X_train, y_train)\n",
    "y_pred = clf.predict_proba(X_val)\n",
    "\n",
    "print(y_pred)\n",
    "roc_auc_score(y_val, y_pred[:,1]) # 정확도 평가"
   ]
  },
  {
   "cell_type": "code",
   "execution_count": 7,
   "id": "267b0562",
   "metadata": {},
   "outputs": [
    {
     "name": "stdout",
     "output_type": "stream",
     "text": [
      "ROC-AUC :  0.92\n"
     ]
    }
   ],
   "source": [
    "# ROC-AUC\n",
    "from sklearn.metrics import roc_auc_score\n",
    "import numpy as np\n",
    "\n",
    "# 실제값 (0: 음성, 1: 양성)\n",
    "y_true = pd.DataFrame([0, 1, 0, 1, 1, 0, 0, 0, 1, 1])\n",
    "# 예측값 중 양성(1) 확률\n",
    "y_pred_proba = np.array([\n",
    "    [0.8, 0.2],\n",
    "    [0.1, 0.9],\n",
    "    [0.77, 0.23],\n",
    "    [0.6, 0.4],\n",
    "    [0.2, 0.8],\n",
    "    [0.4, 0.6],\n",
    "    [0.6, 0.4],\n",
    "    [0.8, 0.2],\n",
    "    [0.3, 0.7],\n",
    "    [0.4, 0.6]\n",
    "])\n",
    "\n",
    "roc_auc = roc_auc_score(y_true, y_pred_proba[:,1])\n",
    "print(\"ROC-AUC : \",roc_auc)"
   ]
  },
  {
   "cell_type": "code",
   "execution_count": 8,
   "id": "5b167ef6",
   "metadata": {},
   "outputs": [
    {
     "name": "stdout",
     "output_type": "stream",
     "text": [
      "ROC-AUC: 0.92\n"
     ]
    }
   ],
   "source": [
    "y_true_str = pd.DataFrame(['B', 'A', 'A', 'B', 'B', 'A', 'A', 'A', 'A', 'B']) #실제값\n",
    "y_pred_proba_str = np.array([\n",
    "    [0.8, 0.2],\n",
    "    [0.1, 0.9],\n",
    "    [0.77, 0.23],\n",
    "    [0.6, 0.4],\n",
    "    [0.2, 0.8],\n",
    "    [0.4, 0.6],\n",
    "    [0.6, 0.4],\n",
    "    [0.8, 0.2],\n",
    "    [0.3, 0.7],\n",
    "    [0.4, 0.6]\n",
    "]) # 예측값\n",
    "roc_auc = roc_auc_score(y_true, y_pred_proba_str[:,1])\n",
    "print(\"ROC-AUC:\", roc_auc)"
   ]
  },
  {
   "cell_type": "markdown",
   "id": "41addaa5",
   "metadata": {},
   "source": [
    "# 다중분류 평가지표"
   ]
  },
  {
   "cell_type": "code",
   "execution_count": 9,
   "id": "cc8e7235",
   "metadata": {},
   "outputs": [],
   "source": [
    "# 다중분류 데이터\n",
    "y_true = pd.DataFrame([2, 2, 3, 3, 2, 1, 3, 3, 2, 1]) # 실제값\n",
    "y_pred = pd.DataFrame([2, 2, 1, 3, 2, 1, 1, 2, 2, 1]) # 예측값\n",
    "\n",
    "y_true_str = pd.DataFrame(['B', 'B', 'C', 'C', 'B', 'A', 'C', 'C', 'B', 'A']) # 실제값\n",
    "y_pred_str = pd.DataFrame(['B', 'B', 'A', 'C', 'B', 'A', 'A', 'B', 'B', 'A']) # 예측값"
   ]
  },
  {
   "cell_type": "code",
   "execution_count": 10,
   "id": "d53fdbed",
   "metadata": {},
   "outputs": [
    {
     "name": "stdout",
     "output_type": "stream",
     "text": [
      "정확도: 0.7\n",
      "정확도: 0.7\n"
     ]
    }
   ],
   "source": [
    "# 정확도(Accuracy)\n",
    "from sklearn.metrics import accuracy_score\n",
    "accuracy = accuracy_score(y_true, y_pred)\n",
    "print(\"정확도:\", accuracy)\n",
    "\n",
    "accuracy = accuracy_score(y_true_str, y_pred_str)\n",
    "print(\"정확도:\", accuracy)"
   ]
  },
  {
   "cell_type": "code",
   "execution_count": 11,
   "id": "2ee25f9e",
   "metadata": {},
   "outputs": [
    {
     "name": "stdout",
     "output_type": "stream",
     "text": [
      "F1 스코어: 0.6518518518518519\n",
      "F1 스코어: 0.6518518518518519\n"
     ]
    }
   ],
   "source": [
    "# F1 스코어(F1 score)\n",
    "from sklearn.metrics import f1_score\n",
    "f1 = f1_score(y_true, y_pred, average='macro')  # average= micro, macro, weighted\n",
    "print(\"F1 스코어:\", f1)\n",
    "\n",
    "f1 = f1_score(y_true_str, y_pred_str, average='macro')\n",
    "print(\"F1 스코어:\", f1)"
   ]
  },
  {
   "cell_type": "code",
   "execution_count": 12,
   "id": "de185514",
   "metadata": {},
   "outputs": [],
   "source": [
    "# 다중분류 데이터(확률값)\n",
    "y_true = pd.DataFrame([0, 1, 2, 0, 1]) # 실제값\n",
    "y_pred_proba = pd.DataFrame([[0.2, 0.5, 0.3], [0.7, 0.2, 0.1], [0.4, 0.3, 0.3], [0.4, 0.1, 0.5], [0.1, 0.8, 0.1]], columns=[0, 1, 2]) # 예측값(각 클래스 확률)"
   ]
  },
  {
   "cell_type": "code",
   "execution_count": 13,
   "id": "aece3d37",
   "metadata": {},
   "outputs": [
    {
     "data": {
      "text/html": [
       "<div>\n",
       "<style scoped>\n",
       "    .dataframe tbody tr th:only-of-type {\n",
       "        vertical-align: middle;\n",
       "    }\n",
       "\n",
       "    .dataframe tbody tr th {\n",
       "        vertical-align: top;\n",
       "    }\n",
       "\n",
       "    .dataframe thead th {\n",
       "        text-align: right;\n",
       "    }\n",
       "</style>\n",
       "<table border=\"1\" class=\"dataframe\">\n",
       "  <thead>\n",
       "    <tr style=\"text-align: right;\">\n",
       "      <th></th>\n",
       "      <th>0</th>\n",
       "      <th>1</th>\n",
       "      <th>2</th>\n",
       "    </tr>\n",
       "  </thead>\n",
       "  <tbody>\n",
       "    <tr>\n",
       "      <th>0</th>\n",
       "      <td>0.2</td>\n",
       "      <td>0.5</td>\n",
       "      <td>0.3</td>\n",
       "    </tr>\n",
       "    <tr>\n",
       "      <th>1</th>\n",
       "      <td>0.7</td>\n",
       "      <td>0.2</td>\n",
       "      <td>0.1</td>\n",
       "    </tr>\n",
       "    <tr>\n",
       "      <th>2</th>\n",
       "      <td>0.4</td>\n",
       "      <td>0.3</td>\n",
       "      <td>0.3</td>\n",
       "    </tr>\n",
       "    <tr>\n",
       "      <th>3</th>\n",
       "      <td>0.4</td>\n",
       "      <td>0.1</td>\n",
       "      <td>0.5</td>\n",
       "    </tr>\n",
       "    <tr>\n",
       "      <th>4</th>\n",
       "      <td>0.1</td>\n",
       "      <td>0.8</td>\n",
       "      <td>0.1</td>\n",
       "    </tr>\n",
       "  </tbody>\n",
       "</table>\n",
       "</div>"
      ],
      "text/plain": [
       "     0    1    2\n",
       "0  0.2  0.5  0.3\n",
       "1  0.7  0.2  0.1\n",
       "2  0.4  0.3  0.3\n",
       "3  0.4  0.1  0.5\n",
       "4  0.1  0.8  0.1"
      ]
     },
     "execution_count": 13,
     "metadata": {},
     "output_type": "execute_result"
    }
   ],
   "source": [
    "y_pred_proba"
   ]
  },
  {
   "cell_type": "code",
   "execution_count": 14,
   "id": "ebbf049e",
   "metadata": {},
   "outputs": [
    {
     "data": {
      "text/html": [
       "<div>\n",
       "<style scoped>\n",
       "    .dataframe tbody tr th:only-of-type {\n",
       "        vertical-align: middle;\n",
       "    }\n",
       "\n",
       "    .dataframe tbody tr th {\n",
       "        vertical-align: top;\n",
       "    }\n",
       "\n",
       "    .dataframe thead th {\n",
       "        text-align: right;\n",
       "    }\n",
       "</style>\n",
       "<table border=\"1\" class=\"dataframe\">\n",
       "  <thead>\n",
       "    <tr style=\"text-align: right;\">\n",
       "      <th></th>\n",
       "      <th>0</th>\n",
       "      <th>1</th>\n",
       "      <th>2</th>\n",
       "    </tr>\n",
       "  </thead>\n",
       "  <tbody>\n",
       "    <tr>\n",
       "      <th>0</th>\n",
       "      <td>1</td>\n",
       "      <td>0</td>\n",
       "      <td>0</td>\n",
       "    </tr>\n",
       "    <tr>\n",
       "      <th>1</th>\n",
       "      <td>0</td>\n",
       "      <td>1</td>\n",
       "      <td>0</td>\n",
       "    </tr>\n",
       "    <tr>\n",
       "      <th>2</th>\n",
       "      <td>0</td>\n",
       "      <td>0</td>\n",
       "      <td>1</td>\n",
       "    </tr>\n",
       "    <tr>\n",
       "      <th>3</th>\n",
       "      <td>1</td>\n",
       "      <td>0</td>\n",
       "      <td>0</td>\n",
       "    </tr>\n",
       "    <tr>\n",
       "      <th>4</th>\n",
       "      <td>0</td>\n",
       "      <td>1</td>\n",
       "      <td>0</td>\n",
       "    </tr>\n",
       "  </tbody>\n",
       "</table>\n",
       "</div>"
      ],
      "text/plain": [
       "   0  1  2\n",
       "0  1  0  0\n",
       "1  0  1  0\n",
       "2  0  0  1\n",
       "3  1  0  0\n",
       "4  0  1  0"
      ]
     },
     "execution_count": 14,
     "metadata": {},
     "output_type": "execute_result"
    }
   ],
   "source": [
    "pd.get_dummies(y_true[0])"
   ]
  },
  {
   "cell_type": "code",
   "execution_count": 15,
   "id": "9755c12e",
   "metadata": {},
   "outputs": [
    {
     "name": "stdout",
     "output_type": "stream",
     "text": [
      "y_true의 원-핫 인코딩된 컬럼 순서: Int64Index([0, 1, 2], dtype='int64')\n",
      "y_pred_proba의 컬럼 순서: Int64Index([0, 1, 2], dtype='int64')\n",
      "ROC AUC (OvO): 0.5694444444444445\n",
      "ROC AUC (OvR): 0.5694444444444445\n"
     ]
    }
   ],
   "source": [
    "from sklearn.metrics import roc_auc_score\n",
    "\n",
    "#수치형일 때는 자동으로 원핫인코딩에서 제외함. 컬럼지정 필요\n",
    "y_true_onehot = pd.get_dummies(y_true[0])\n",
    "\n",
    "#인코딩된 순서와 확률 컬럼 순서가 같은지 확인\n",
    "print(\"y_true의 원-핫 인코딩된 컬럼 순서:\", y_true_onehot.columns)\n",
    "print(\"y_pred_proba의 컬럼 순서:\", y_pred_proba.columns)\n",
    "\n",
    "# 'ovo' 방식\n",
    "roc_score_ovo = roc_auc_score(y_true_onehot, y_pred_proba, multi_class='ovo')\n",
    "print(\"ROC AUC (OvO):\", roc_score_ovo)\n",
    "# 'ovr' 방식\n",
    "roc_score_ovr = roc_auc_score(y_true_onehot, y_pred_proba, multi_class='ovr')\n",
    "print(\"ROC AUC (OvR):\", roc_score_ovr)"
   ]
  },
  {
   "cell_type": "code",
   "execution_count": 16,
   "id": "a2c06add",
   "metadata": {},
   "outputs": [
    {
     "name": "stdout",
     "output_type": "stream",
     "text": [
      "y_true의 원-핫 인코딩된 컬럼 순서: Index(['0_A', '0_B', '0_C'], dtype='object')\n",
      "y_pred_proba의 컬럼 순서: Index(['A', 'B', 'C'], dtype='object')\n",
      "ROC AUC (OvO): 0.5694444444444445\n",
      "ROC AUC (OvR): 0.5694444444444445\n"
     ]
    }
   ],
   "source": [
    "# 다중분류 데이터(확률값)\n",
    "y_true_str = pd.DataFrame(['A', 'B', 'C', 'A', 'B']) # 실제값\n",
    "y_pred_proba = pd.DataFrame([[0.2, 0.5, 0.3], [0.7, 0.2, 0.1], [0.4, 0.3, 0.3], [0.4, 0.1, 0.5], [0.1, 0.8, 0.1]], columns=['A', 'B', 'C']) # 예측값(각 클래스 확률)\n",
    "\n",
    "from sklearn.metrics import roc_auc_score\n",
    "\n",
    "# 원핫인코딩\n",
    "y_true_onehot = pd.get_dummies(y_true_str)\n",
    "\n",
    "# 인코딩된 순서와 확률 컬럼 순서가 같은지 확인\n",
    "print(\"y_true의 원-핫 인코딩된 컬럼 순서:\", y_true_onehot.columns)\n",
    "print(\"y_pred_proba의 컬럼 순서:\", y_pred_proba.columns)\n",
    "\n",
    "# 'ovo' 방식\n",
    "roc_score_ovo = roc_auc_score(y_true_onehot, y_pred_proba, multi_class='ovo')\n",
    "print(\"ROC AUC (OvO):\", roc_score_ovo)\n",
    "\n",
    "# 'ovr' 방식\n",
    "roc_score_ovr = roc_auc_score(y_true_onehot, y_pred_proba, multi_class='ovr')\n",
    "print(\"ROC AUC (OvR):\", roc_score_ovr)"
   ]
  },
  {
   "cell_type": "markdown",
   "id": "41c921e1",
   "metadata": {},
   "source": [
    "# 회귀 평가지표"
   ]
  },
  {
   "cell_type": "code",
   "execution_count": 17,
   "id": "3244f945",
   "metadata": {},
   "outputs": [],
   "source": [
    "# 회귀 데이터\n",
    "import pandas as pd\n",
    "y_true = pd.DataFrame([0, 2, 5, 2, 4, 4, 7, 10]) # 실제값\n",
    "y_pred = pd.DataFrame([1.14, 2.53, 4.87, 3.08, 4.21, 5.53, 7.51, 10.32]) # 예측값"
   ]
  },
  {
   "cell_type": "code",
   "execution_count": 18,
   "id": "880af7e5",
   "metadata": {},
   "outputs": [
    {
     "name": "stdout",
     "output_type": "stream",
     "text": [
      "MSE: 0.6889125\n"
     ]
    }
   ],
   "source": [
    "# MSE(Mean Squared Error)\n",
    "from sklearn.metrics import mean_squared_error\n",
    "mse = mean_squared_error(y_true, y_pred)\n",
    "print(\"MSE:\", mse)"
   ]
  },
  {
   "cell_type": "code",
   "execution_count": 19,
   "id": "acef466e",
   "metadata": {},
   "outputs": [
    {
     "name": "stdout",
     "output_type": "stream",
     "text": [
      "MAE: 0.68125\n"
     ]
    }
   ],
   "source": [
    "# MAE(Mean Absolute Error)\n",
    "from sklearn.metrics import mean_absolute_error\n",
    "mae = mean_absolute_error(y_true, y_pred)\n",
    "print(\"MAE:\", mae)"
   ]
  },
  {
   "cell_type": "code",
   "execution_count": 20,
   "id": "0f9faa89",
   "metadata": {},
   "outputs": [
    {
     "name": "stdout",
     "output_type": "stream",
     "text": [
      "결정 계수: 0.9207007194244604\n"
     ]
    }
   ],
   "source": [
    "# 결정 계수(R-squared)\n",
    "from sklearn.metrics import r2_score\n",
    "r2 = r2_score(y_true, y_pred)\n",
    "print(\"결정 계수:\", r2)"
   ]
  },
  {
   "cell_type": "code",
   "execution_count": 21,
   "id": "d6886017",
   "metadata": {},
   "outputs": [
    {
     "name": "stdout",
     "output_type": "stream",
     "text": [
      "RMSE: 0.830007530086324\n"
     ]
    }
   ],
   "source": [
    "# RMSE(Root Mean Squared Error)\n",
    "from sklearn.metrics import mean_squared_error\n",
    "mse = mean_squared_error(y_true, y_pred)\n",
    "rmse = mse ** 0.5\n",
    "print(\"RMSE:\", rmse)"
   ]
  },
  {
   "cell_type": "code",
   "execution_count": null,
   "id": "721a234c",
   "metadata": {},
   "outputs": [],
   "source": []
  },
  {
   "cell_type": "code",
   "execution_count": null,
   "id": "cd135400",
   "metadata": {},
   "outputs": [],
   "source": []
  },
  {
   "cell_type": "code",
   "execution_count": null,
   "id": "bb5c1618",
   "metadata": {},
   "outputs": [],
   "source": []
  },
  {
   "cell_type": "code",
   "execution_count": null,
   "id": "a47a50a8",
   "metadata": {},
   "outputs": [],
   "source": []
  },
  {
   "cell_type": "code",
   "execution_count": null,
   "id": "89e0cd5c",
   "metadata": {},
   "outputs": [],
   "source": []
  }
 ],
 "metadata": {
  "kernelspec": {
   "display_name": "Python 3 (ipykernel)",
   "language": "python",
   "name": "python3"
  },
  "language_info": {
   "codemirror_mode": {
    "name": "ipython",
    "version": 3
   },
   "file_extension": ".py",
   "mimetype": "text/x-python",
   "name": "python",
   "nbconvert_exporter": "python",
   "pygments_lexer": "ipython3",
   "version": "3.10.9"
  }
 },
 "nbformat": 4,
 "nbformat_minor": 5
}
