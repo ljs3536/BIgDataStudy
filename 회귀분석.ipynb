{
 "cells": [
  {
   "cell_type": "markdown",
   "id": "292c7fa2",
   "metadata": {},
   "source": [
    "# 회귀분석"
   ]
  },
  {
   "cell_type": "markdown",
   "id": "bd47812c",
   "metadata": {},
   "source": [
    "## 상관관계\n",
    "- 두 변수 간의 선형적인 관계"
   ]
  },
  {
   "cell_type": "markdown",
   "id": "7b8a58b8",
   "metadata": {},
   "source": [
    "### 상관계수\n",
    "두 변수 간의 선형 관계의 강도와 방향 (-1<=r<=1)\n",
    "  - r = 1 : 강한 양의 선형관계\n",
    "  - r = 0 : 선형 관계 없음\n",
    "  - r = -1 : 강한 음의 선형관계\n",
    "- df.corr() / 피어슨 (기본값)\n",
    "- df.corr(method='spearman') / 스피어맨\n",
    "- df.corr(method='kendall') / 켄달타우"
   ]
  },
  {
   "cell_type": "markdown",
   "id": "cede8747",
   "metadata": {},
   "source": [
    "# 상관계수에 대한 t검정\n",
    " 귀무가설 : 두 변수 간에 상관관계가 없다. <br>\n",
    " 대립가설 : 두 변수 간에 상관관계가 있다."
   ]
  },
  {
   "cell_type": "markdown",
   "id": "ffa81261",
   "metadata": {},
   "source": [
    "- stats.pearsonr(x,y) / 피어슨\n",
    "- stats.spearmanr(x,y) / 스피어맨\n",
    "- stats.kendalltau(x,y) / 켄달타우"
   ]
  },
  {
   "cell_type": "markdown",
   "id": "37d52147",
   "metadata": {},
   "source": [
    "# 단순 선형 회귀 분석\n",
    "- OLS : 최소제곱법(Ordinary Least Squares)\n",
    "- ols('종속변수 ~ 독립변수', data=df).fit()\n",
    "- model.summary() 회귀 모델 통계적 요약\n",
    "- model.predict() / 예측값\n",
    "- model.get_prediction() / 예측값과 예측값에 대한 신뢰구간, 예측구간\n",
    "- df['잔차'] = df['종속변수'] - model.predict(df)"
   ]
  },
  {
   "cell_type": "markdown",
   "id": "77fb0a7c",
   "metadata": {},
   "source": [
    "# 다중 선형 회귀 분석\n",
    "- ols('종속변수 ~ 독립변수1 + 독립변수2',data=df).fit()"
   ]
  },
  {
   "cell_type": "markdown",
   "id": "3a9110fe",
   "metadata": {},
   "source": [
    "# 번주형 변수\n",
    "- 판다스의 pd.get_dummies(drop_first=True)로 원핫인코딩 처리"
   ]
  },
  {
   "cell_type": "code",
   "execution_count": null,
   "id": "8f950430",
   "metadata": {},
   "outputs": [],
   "source": []
  },
  {
   "cell_type": "code",
   "execution_count": null,
   "id": "bbf4a517",
   "metadata": {},
   "outputs": [],
   "source": []
  },
  {
   "cell_type": "code",
   "execution_count": null,
   "id": "31a7e1ab",
   "metadata": {},
   "outputs": [],
   "source": []
  },
  {
   "cell_type": "code",
   "execution_count": null,
   "id": "d590a19b",
   "metadata": {},
   "outputs": [],
   "source": []
  }
 ],
 "metadata": {
  "kernelspec": {
   "display_name": "Python 3 (ipykernel)",
   "language": "python",
   "name": "python3"
  },
  "language_info": {
   "codemirror_mode": {
    "name": "ipython",
    "version": 3
   },
   "file_extension": ".py",
   "mimetype": "text/x-python",
   "name": "python",
   "nbconvert_exporter": "python",
   "pygments_lexer": "ipython3",
   "version": "3.9.7"
  }
 },
 "nbformat": 4,
 "nbformat_minor": 5
}
