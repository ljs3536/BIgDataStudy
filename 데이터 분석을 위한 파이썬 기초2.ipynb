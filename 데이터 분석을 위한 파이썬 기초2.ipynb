{
 "cells": [
  {
   "cell_type": "markdown",
   "id": "9cd0e165",
   "metadata": {},
   "source": [
    "# 데이터 분석을 위한 파이썬 기초2"
   ]
  },
  {
   "cell_type": "markdown",
   "id": "25040539",
   "metadata": {},
   "source": [
    "## 리스트"
   ]
  },
  {
   "cell_type": "code",
   "execution_count": 2,
   "id": "bcca3dd5",
   "metadata": {},
   "outputs": [],
   "source": [
    "# 여러개의 값을 담을 때 여러개의 변수 사용?\n",
    "box1 = 4\n",
    "box2 = 2\n",
    "box3 = 10\n",
    "box4 = 6\n",
    "box5 = 8"
   ]
  },
  {
   "cell_type": "code",
   "execution_count": 4,
   "id": "2352ed65",
   "metadata": {},
   "outputs": [
    {
     "data": {
      "text/plain": [
       "[1, 2, 3, 4, 5, 6, 7, 8]"
      ]
     },
     "execution_count": 4,
     "metadata": {},
     "output_type": "execute_result"
    }
   ],
   "source": [
    "# 리스트 변수\n",
    "listbox = [1,2,3,4,5,6,7,8]\n",
    "listbox"
   ]
  },
  {
   "cell_type": "code",
   "execution_count": 5,
   "id": "a81dd907",
   "metadata": {},
   "outputs": [
    {
     "data": {
      "text/plain": [
       "list"
      ]
     },
     "execution_count": 5,
     "metadata": {},
     "output_type": "execute_result"
    }
   ],
   "source": [
    "# type\n",
    "type(listbox)"
   ]
  },
  {
   "cell_type": "code",
   "execution_count": 9,
   "id": "5e19a19e",
   "metadata": {},
   "outputs": [
    {
     "data": {
      "text/plain": [
       "['네모', '세모', '동그라미', 3, 4, 5]"
      ]
     },
     "execution_count": 9,
     "metadata": {},
     "output_type": "execute_result"
    }
   ],
   "source": [
    "#문자열\n",
    "listbox = ['네모','세모','동그라미',3,4,5]\n",
    "listbox"
   ]
  },
  {
   "cell_type": "code",
   "execution_count": 10,
   "id": "f90ae43f",
   "metadata": {},
   "outputs": [
    {
     "name": "stdout",
     "output_type": "stream",
     "text": [
      "['네모', '세모', '동그라미', 3, 4, 5, '별']\n"
     ]
    }
   ],
   "source": [
    "#추가\n",
    "listbox.append('별')\n",
    "print(listbox)"
   ]
  },
  {
   "cell_type": "code",
   "execution_count": 12,
   "id": "559fa55e",
   "metadata": {},
   "outputs": [
    {
     "data": {
      "text/plain": [
       "[1, 4, 6, 7, 10]"
      ]
     },
     "execution_count": 12,
     "metadata": {},
     "output_type": "execute_result"
    }
   ],
   "source": [
    "listbox = [4,10,1,6,7]\n",
    "listbox.sort()\n",
    "listbox"
   ]
  },
  {
   "cell_type": "code",
   "execution_count": 13,
   "id": "c6c3a050",
   "metadata": {},
   "outputs": [
    {
     "data": {
      "text/plain": [
       "['네모', '동그라미', '세모']"
      ]
     },
     "execution_count": 13,
     "metadata": {},
     "output_type": "execute_result"
    }
   ],
   "source": [
    "listbox = ['네모','세모','동그라미']\n",
    "listbox.sort()\n",
    "listbox"
   ]
  },
  {
   "cell_type": "markdown",
   "id": "72de3589",
   "metadata": {},
   "source": [
    "## 딕셔너리"
   ]
  },
  {
   "cell_type": "code",
   "execution_count": 14,
   "id": "946f1694",
   "metadata": {},
   "outputs": [
    {
     "data": {
      "text/plain": [
       "{'name': 'sam', 'level': 5}"
      ]
     },
     "execution_count": 14,
     "metadata": {},
     "output_type": "execute_result"
    }
   ],
   "source": [
    "di = {'name':'sam','level':5}\n",
    "di"
   ]
  },
  {
   "cell_type": "code",
   "execution_count": 15,
   "id": "e0155579",
   "metadata": {},
   "outputs": [
    {
     "data": {
      "text/plain": [
       "dict"
      ]
     },
     "execution_count": 15,
     "metadata": {},
     "output_type": "execute_result"
    }
   ],
   "source": [
    "#type\n",
    "type(di)"
   ]
  },
  {
   "cell_type": "code",
   "execution_count": 18,
   "id": "a405e167",
   "metadata": {},
   "outputs": [
    {
     "name": "stdout",
     "output_type": "stream",
     "text": [
      "sam\n",
      "5\n"
     ]
    }
   ],
   "source": [
    "print(di['name'])\n",
    "print(di['level'])"
   ]
  },
  {
   "cell_type": "code",
   "execution_count": 19,
   "id": "3cdfd125",
   "metadata": {},
   "outputs": [
    {
     "data": {
      "text/plain": [
       "{'name': '네모', 'level': 5}"
      ]
     },
     "execution_count": 19,
     "metadata": {},
     "output_type": "execute_result"
    }
   ],
   "source": [
    "di['name'] = '네모';\n",
    "di"
   ]
  },
  {
   "cell_type": "code",
   "execution_count": 20,
   "id": "50578f5d",
   "metadata": {},
   "outputs": [
    {
     "data": {
      "text/plain": [
       "dict_keys(['name', 'level'])"
      ]
     },
     "execution_count": 20,
     "metadata": {},
     "output_type": "execute_result"
    }
   ],
   "source": [
    "di.keys()"
   ]
  },
  {
   "cell_type": "code",
   "execution_count": 21,
   "id": "756595d5",
   "metadata": {},
   "outputs": [
    {
     "data": {
      "text/plain": [
       "dict_values(['네모', 5])"
      ]
     },
     "execution_count": 21,
     "metadata": {},
     "output_type": "execute_result"
    }
   ],
   "source": [
    "di.values()"
   ]
  },
  {
   "cell_type": "markdown",
   "id": "697214a3",
   "metadata": {},
   "source": [
    "## 인덱싱과 슬라이싱"
   ]
  },
  {
   "cell_type": "code",
   "execution_count": 23,
   "id": "6deb0271",
   "metadata": {},
   "outputs": [
    {
     "data": {
      "text/plain": [
       "4"
      ]
     },
     "execution_count": 23,
     "metadata": {},
     "output_type": "execute_result"
    }
   ],
   "source": [
    "listbox = [2,4,6,8,10]\n",
    "listbox[1]"
   ]
  },
  {
   "cell_type": "code",
   "execution_count": 25,
   "id": "3bdad512",
   "metadata": {},
   "outputs": [
    {
     "name": "stdout",
     "output_type": "stream",
     "text": [
      "10\n",
      "10\n"
     ]
    }
   ],
   "source": [
    "# index 마지막 값\n",
    "print(listbox[4])\n",
    "print(listbox[-1])"
   ]
  },
  {
   "cell_type": "code",
   "execution_count": 28,
   "id": "2d2a49ec",
   "metadata": {},
   "outputs": [
    {
     "data": {
      "text/plain": [
       "[2, 4]"
      ]
     },
     "execution_count": 28,
     "metadata": {},
     "output_type": "execute_result"
    }
   ],
   "source": [
    "# 0~1 까지\n",
    "listbox[0:2]"
   ]
  },
  {
   "cell_type": "code",
   "execution_count": 29,
   "id": "912861f7",
   "metadata": {},
   "outputs": [
    {
     "data": {
      "text/plain": [
       "[8, 10]"
      ]
     },
     "execution_count": 29,
     "metadata": {},
     "output_type": "execute_result"
    }
   ],
   "source": [
    "# 3~끝 까지\n",
    "listbox[3:]"
   ]
  },
  {
   "cell_type": "code",
   "execution_count": 30,
   "id": "ac1a431c",
   "metadata": {},
   "outputs": [
    {
     "data": {
      "text/plain": [
       "[2, 4, 6]"
      ]
     },
     "execution_count": 30,
     "metadata": {},
     "output_type": "execute_result"
    }
   ],
   "source": [
    "# 0~2 까지\n",
    "listbox[:3]"
   ]
  },
  {
   "cell_type": "code",
   "execution_count": 31,
   "id": "0d8e2ec5",
   "metadata": {},
   "outputs": [
    {
     "data": {
      "text/plain": [
       "[2, 6, 10]"
      ]
     },
     "execution_count": 31,
     "metadata": {},
     "output_type": "execute_result"
    }
   ],
   "source": [
    "# index 처음부터 끝까지, 한칸 건너띄기\n",
    "listbox[::2] # listbox[0:4:2]"
   ]
  },
  {
   "cell_type": "markdown",
   "id": "841ebed4",
   "metadata": {},
   "source": [
    "## 내장함수"
   ]
  },
  {
   "cell_type": "code",
   "execution_count": 32,
   "id": "a6b278af",
   "metadata": {},
   "outputs": [
    {
     "data": {
      "text/plain": [
       "30"
      ]
     },
     "execution_count": 32,
     "metadata": {},
     "output_type": "execute_result"
    }
   ],
   "source": [
    "# 합계\n",
    "sum(listbox)"
   ]
  },
  {
   "cell_type": "code",
   "execution_count": 33,
   "id": "d6653266",
   "metadata": {},
   "outputs": [
    {
     "data": {
      "text/plain": [
       "10"
      ]
     },
     "execution_count": 33,
     "metadata": {},
     "output_type": "execute_result"
    }
   ],
   "source": [
    "# 최대값\n",
    "max(listbox)"
   ]
  },
  {
   "cell_type": "code",
   "execution_count": 34,
   "id": "c9a7770b",
   "metadata": {},
   "outputs": [
    {
     "data": {
      "text/plain": [
       "2"
      ]
     },
     "execution_count": 34,
     "metadata": {},
     "output_type": "execute_result"
    }
   ],
   "source": [
    "# 최소값\n",
    "min(listbox)"
   ]
  },
  {
   "cell_type": "code",
   "execution_count": 35,
   "id": "eb5c7bf7",
   "metadata": {},
   "outputs": [
    {
     "data": {
      "text/plain": [
       "5"
      ]
     },
     "execution_count": 35,
     "metadata": {},
     "output_type": "execute_result"
    }
   ],
   "source": [
    "# 길이(갯수)\n",
    "len(listbox)"
   ]
  },
  {
   "cell_type": "code",
   "execution_count": 37,
   "id": "c225765d",
   "metadata": {},
   "outputs": [
    {
     "data": {
      "text/plain": [
       "1.23"
      ]
     },
     "execution_count": 37,
     "metadata": {},
     "output_type": "execute_result"
    }
   ],
   "source": [
    "# 반올림 (값, 몇째자리까지)\n",
    "round(1.2345, 2)"
   ]
  },
  {
   "cell_type": "markdown",
   "id": "bfbc37a6",
   "metadata": {},
   "source": [
    "## 문자열"
   ]
  },
  {
   "cell_type": "markdown",
   "id": "53a9ab01",
   "metadata": {},
   "source": [
    "### 문자열 변경"
   ]
  },
  {
   "cell_type": "code",
   "execution_count": 38,
   "id": "2c480b47",
   "metadata": {},
   "outputs": [
    {
     "data": {
      "text/plain": [
       "'빅데이터 분석기사 파이썬 스터디'"
      ]
     },
     "execution_count": 38,
     "metadata": {},
     "output_type": "execute_result"
    }
   ],
   "source": [
    "# 한 단어 변경\n",
    "text = \"빅데이터 분석기사 파이썬 공부\"\n",
    "text = text.replace(\"공부\",\"스터디\")\n",
    "text"
   ]
  },
  {
   "cell_type": "code",
   "execution_count": 39,
   "id": "b9ebfaad",
   "metadata": {},
   "outputs": [
    {
     "data": {
      "text/plain": [
       "'빅데이터 분석을 위한 머신러닝 스터디'"
      ]
     },
     "execution_count": 39,
     "metadata": {},
     "output_type": "execute_result"
    }
   ],
   "source": [
    "#여러 단어 변경\n",
    "text = text.replace(\"파이썬\",\"머신러닝\").replace(\"분석기사\",\"분석을 위한\")\n",
    "text"
   ]
  },
  {
   "cell_type": "markdown",
   "id": "f061df10",
   "metadata": {},
   "source": [
    "### 문자열 슬라이싱"
   ]
  },
  {
   "cell_type": "code",
   "execution_count": 40,
   "id": "69f6dc30",
   "metadata": {},
   "outputs": [],
   "source": [
    "text = \"안녕하세요 xxx입니다\""
   ]
  },
  {
   "cell_type": "code",
   "execution_count": 41,
   "id": "fa9b0c9a",
   "metadata": {},
   "outputs": [
    {
     "data": {
      "text/plain": [
       "'안녕'"
      ]
     },
     "execution_count": 41,
     "metadata": {},
     "output_type": "execute_result"
    }
   ],
   "source": [
    "#문자열 슬라이싱\n",
    "text[:2]"
   ]
  },
  {
   "cell_type": "code",
   "execution_count": 42,
   "id": "df802906",
   "metadata": {},
   "outputs": [
    {
     "data": {
      "text/plain": [
       "'01-24'"
      ]
     },
     "execution_count": 42,
     "metadata": {},
     "output_type": "execute_result"
    }
   ],
   "source": [
    "# 월-일\n",
    "date = \"2024-01-24\"\n",
    "date[5:]"
   ]
  },
  {
   "cell_type": "code",
   "execution_count": 43,
   "id": "22808b38",
   "metadata": {},
   "outputs": [
    {
     "data": {
      "text/plain": [
       "'01'"
      ]
     },
     "execution_count": 43,
     "metadata": {},
     "output_type": "execute_result"
    }
   ],
   "source": [
    "#월만 출력\n",
    "date = \"2024-01-24\"\n",
    "date[5:7]"
   ]
  },
  {
   "cell_type": "code",
   "execution_count": 44,
   "id": "a58afc04",
   "metadata": {},
   "outputs": [],
   "source": [
    "listbox = [\"사랑\",\"행복\",\"감사\",\"희망\",\"긍정\"]"
   ]
  },
  {
   "cell_type": "code",
   "execution_count": 45,
   "id": "9f663caa",
   "metadata": {},
   "outputs": [
    {
     "data": {
      "text/plain": [
       "5"
      ]
     },
     "execution_count": 45,
     "metadata": {},
     "output_type": "execute_result"
    }
   ],
   "source": [
    "#갯수\n",
    "len(listbox)"
   ]
  },
  {
   "cell_type": "code",
   "execution_count": 46,
   "id": "b83c99f0",
   "metadata": {},
   "outputs": [
    {
     "data": {
      "text/plain": [
       "'사랑'"
      ]
     },
     "execution_count": 46,
     "metadata": {},
     "output_type": "execute_result"
    }
   ],
   "source": [
    "# 첫번째 값\n",
    "listbox[0]"
   ]
  },
  {
   "cell_type": "code",
   "execution_count": 47,
   "id": "ec934143",
   "metadata": {},
   "outputs": [
    {
     "data": {
      "text/plain": [
       "'긍정'"
      ]
     },
     "execution_count": 47,
     "metadata": {},
     "output_type": "execute_result"
    }
   ],
   "source": [
    "# 마지막 값\n",
    "listbox[-1]"
   ]
  },
  {
   "cell_type": "code",
   "execution_count": 49,
   "id": "3cbc4ada",
   "metadata": {},
   "outputs": [
    {
     "data": {
      "text/plain": [
       "['사랑', '행복', '감사']"
      ]
     },
     "execution_count": 49,
     "metadata": {},
     "output_type": "execute_result"
    }
   ],
   "source": [
    "# 처음부터 세번째 값\n",
    "listbox[:3]"
   ]
  },
  {
   "cell_type": "code",
   "execution_count": null,
   "id": "1d86e3e8",
   "metadata": {},
   "outputs": [],
   "source": [
    "# ㅁ"
   ]
  },
  {
   "cell_type": "code",
   "execution_count": null,
   "id": "a1bd1680",
   "metadata": {},
   "outputs": [],
   "source": []
  },
  {
   "cell_type": "code",
   "execution_count": null,
   "id": "7b14fddd",
   "metadata": {},
   "outputs": [],
   "source": []
  },
  {
   "cell_type": "code",
   "execution_count": null,
   "id": "ac06f103",
   "metadata": {},
   "outputs": [],
   "source": []
  },
  {
   "cell_type": "code",
   "execution_count": null,
   "id": "fd71fb64",
   "metadata": {},
   "outputs": [],
   "source": []
  }
 ],
 "metadata": {
  "kernelspec": {
   "display_name": "Python 3 (ipykernel)",
   "language": "python",
   "name": "python3"
  },
  "language_info": {
   "codemirror_mode": {
    "name": "ipython",
    "version": 3
   },
   "file_extension": ".py",
   "mimetype": "text/x-python",
   "name": "python",
   "nbconvert_exporter": "python",
   "pygments_lexer": "ipython3",
   "version": "3.9.7"
  }
 },
 "nbformat": 4,
 "nbformat_minor": 5
}
