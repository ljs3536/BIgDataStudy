{
 "cells": [
  {
   "cell_type": "markdown",
   "id": "d4f8df25",
   "metadata": {},
   "source": [
    "# 데이터 분석을 위한 파이썬 기초2"
   ]
  },
  {
   "cell_type": "markdown",
   "id": "6bc22b62",
   "metadata": {},
   "source": [
    "## 리스트"
   ]
  },
  {
   "cell_type": "code",
   "execution_count": 2,
   "id": "682f757e",
   "metadata": {},
   "outputs": [],
   "source": [
    "# 여러개의 값을 담을 때 여러개의 변수 사용?\n",
    "box1 = 4\n",
    "box2 = 2\n",
    "box3 = 10\n",
    "box4 = 6\n",
    "box5 = 8"
   ]
  },
  {
   "cell_type": "code",
   "execution_count": 4,
   "id": "329d2430",
   "metadata": {},
   "outputs": [
    {
     "data": {
      "text/plain": [
       "[1, 2, 3, 4, 5, 6, 7, 8]"
      ]
     },
     "execution_count": 4,
     "metadata": {},
     "output_type": "execute_result"
    }
   ],
   "source": [
    "# 리스트 변수\n",
    "listbox = [1,2,3,4,5,6,7,8]\n",
    "listbox"
   ]
  },
  {
   "cell_type": "code",
   "execution_count": 5,
   "id": "d1c154f3",
   "metadata": {},
   "outputs": [
    {
     "data": {
      "text/plain": [
       "list"
      ]
     },
     "execution_count": 5,
     "metadata": {},
     "output_type": "execute_result"
    }
   ],
   "source": [
    "# type\n",
    "type(listbox)"
   ]
  },
  {
   "cell_type": "code",
   "execution_count": 9,
   "id": "67e708a7",
   "metadata": {},
   "outputs": [
    {
     "data": {
      "text/plain": [
       "['네모', '세모', '동그라미', 3, 4, 5]"
      ]
     },
     "execution_count": 9,
     "metadata": {},
     "output_type": "execute_result"
    }
   ],
   "source": [
    "#문자열\n",
    "listbox = ['네모','세모','동그라미',3,4,5]\n",
    "listbox"
   ]
  },
  {
   "cell_type": "code",
   "execution_count": 10,
   "id": "55ed42bf",
   "metadata": {},
   "outputs": [
    {
     "name": "stdout",
     "output_type": "stream",
     "text": [
      "['네모', '세모', '동그라미', 3, 4, 5, '별']\n"
     ]
    }
   ],
   "source": [
    "#추가\n",
    "listbox.append('별')\n",
    "print(listbox)"
   ]
  },
  {
   "cell_type": "code",
   "execution_count": 12,
   "id": "0014dcf8",
   "metadata": {},
   "outputs": [
    {
     "data": {
      "text/plain": [
       "[1, 4, 6, 7, 10]"
      ]
     },
     "execution_count": 12,
     "metadata": {},
     "output_type": "execute_result"
    }
   ],
   "source": [
    "listbox = [4,10,1,6,7]\n",
    "listbox.sort()\n",
    "listbox"
   ]
  },
  {
   "cell_type": "code",
   "execution_count": 13,
   "id": "88c553af",
   "metadata": {},
   "outputs": [
    {
     "data": {
      "text/plain": [
       "['네모', '동그라미', '세모']"
      ]
     },
     "execution_count": 13,
     "metadata": {},
     "output_type": "execute_result"
    }
   ],
   "source": [
    "listbox = ['네모','세모','동그라미']\n",
    "listbox.sort()\n",
    "listbox"
   ]
  },
  {
   "cell_type": "markdown",
   "id": "841444e2",
   "metadata": {},
   "source": [
    "## 딕셔너리"
   ]
  },
  {
   "cell_type": "code",
   "execution_count": 14,
   "id": "c621bc03",
   "metadata": {},
   "outputs": [
    {
     "data": {
      "text/plain": [
       "{'name': 'sam', 'level': 5}"
      ]
     },
     "execution_count": 14,
     "metadata": {},
     "output_type": "execute_result"
    }
   ],
   "source": [
    "di = {'name':'sam','level':5}\n",
    "di"
   ]
  },
  {
   "cell_type": "code",
   "execution_count": 15,
   "id": "ad18ac21",
   "metadata": {},
   "outputs": [
    {
     "data": {
      "text/plain": [
       "dict"
      ]
     },
     "execution_count": 15,
     "metadata": {},
     "output_type": "execute_result"
    }
   ],
   "source": [
    "#type\n",
    "type(di)"
   ]
  },
  {
   "cell_type": "code",
   "execution_count": 18,
   "id": "6a620637",
   "metadata": {},
   "outputs": [
    {
     "name": "stdout",
     "output_type": "stream",
     "text": [
      "sam\n",
      "5\n"
     ]
    }
   ],
   "source": [
    "print(di['name'])\n",
    "print(di['level'])"
   ]
  },
  {
   "cell_type": "code",
   "execution_count": 19,
   "id": "1e375b33",
   "metadata": {},
   "outputs": [
    {
     "data": {
      "text/plain": [
       "{'name': '네모', 'level': 5}"
      ]
     },
     "execution_count": 19,
     "metadata": {},
     "output_type": "execute_result"
    }
   ],
   "source": [
    "di['name'] = '네모';\n",
    "di"
   ]
  },
  {
   "cell_type": "code",
   "execution_count": 20,
   "id": "89ba8405",
   "metadata": {},
   "outputs": [
    {
     "data": {
      "text/plain": [
       "dict_keys(['name', 'level'])"
      ]
     },
     "execution_count": 20,
     "metadata": {},
     "output_type": "execute_result"
    }
   ],
   "source": [
    "di.keys()"
   ]
  },
  {
   "cell_type": "code",
   "execution_count": 21,
   "id": "97f291a9",
   "metadata": {},
   "outputs": [
    {
     "data": {
      "text/plain": [
       "dict_values(['네모', 5])"
      ]
     },
     "execution_count": 21,
     "metadata": {},
     "output_type": "execute_result"
    }
   ],
   "source": [
    "di.values()"
   ]
  },
  {
   "cell_type": "markdown",
   "id": "3b0e746c",
   "metadata": {},
   "source": [
    "## 인덱싱과 슬라이싱"
   ]
  },
  {
   "cell_type": "code",
   "execution_count": 23,
   "id": "c3c749df",
   "metadata": {},
   "outputs": [
    {
     "data": {
      "text/plain": [
       "4"
      ]
     },
     "execution_count": 23,
     "metadata": {},
     "output_type": "execute_result"
    }
   ],
   "source": [
    "listbox = [2,4,6,8,10]\n",
    "listbox[1]"
   ]
  },
  {
   "cell_type": "code",
   "execution_count": 25,
   "id": "c80f98c1",
   "metadata": {},
   "outputs": [
    {
     "name": "stdout",
     "output_type": "stream",
     "text": [
      "10\n",
      "10\n"
     ]
    }
   ],
   "source": [
    "# index 마지막 값\n",
    "print(listbox[4])\n",
    "print(listbox[-1])"
   ]
  },
  {
   "cell_type": "code",
   "execution_count": 28,
   "id": "6c80216e",
   "metadata": {},
   "outputs": [
    {
     "data": {
      "text/plain": [
       "[2, 4]"
      ]
     },
     "execution_count": 28,
     "metadata": {},
     "output_type": "execute_result"
    }
   ],
   "source": [
    "# 0~1 까지\n",
    "listbox[0:2]"
   ]
  },
  {
   "cell_type": "code",
   "execution_count": 29,
   "id": "04167a75",
   "metadata": {},
   "outputs": [
    {
     "data": {
      "text/plain": [
       "[8, 10]"
      ]
     },
     "execution_count": 29,
     "metadata": {},
     "output_type": "execute_result"
    }
   ],
   "source": [
    "# 3~끝 까지\n",
    "listbox[3:]"
   ]
  },
  {
   "cell_type": "code",
   "execution_count": 30,
   "id": "450772b4",
   "metadata": {},
   "outputs": [
    {
     "data": {
      "text/plain": [
       "[2, 4, 6]"
      ]
     },
     "execution_count": 30,
     "metadata": {},
     "output_type": "execute_result"
    }
   ],
   "source": [
    "# 0~2 까지\n",
    "listbox[:3]"
   ]
  },
  {
   "cell_type": "code",
   "execution_count": 31,
   "id": "2369c02a",
   "metadata": {},
   "outputs": [
    {
     "data": {
      "text/plain": [
       "[2, 6, 10]"
      ]
     },
     "execution_count": 31,
     "metadata": {},
     "output_type": "execute_result"
    }
   ],
   "source": [
    "# index 처음부터 끝까지, 한칸 건너띄기\n",
    "listbox[::2] # listbox[0:4:2]"
   ]
  },
  {
   "cell_type": "markdown",
   "id": "5fb129f2",
   "metadata": {},
   "source": [
    "## 내장함수"
   ]
  },
  {
   "cell_type": "code",
   "execution_count": 32,
   "id": "8b2014ac",
   "metadata": {},
   "outputs": [
    {
     "data": {
      "text/plain": [
       "30"
      ]
     },
     "execution_count": 32,
     "metadata": {},
     "output_type": "execute_result"
    }
   ],
   "source": [
    "# 합계\n",
    "sum(listbox)"
   ]
  },
  {
   "cell_type": "code",
   "execution_count": 33,
   "id": "3247ecf2",
   "metadata": {},
   "outputs": [
    {
     "data": {
      "text/plain": [
       "10"
      ]
     },
     "execution_count": 33,
     "metadata": {},
     "output_type": "execute_result"
    }
   ],
   "source": [
    "# 최대값\n",
    "max(listbox)"
   ]
  },
  {
   "cell_type": "code",
   "execution_count": 34,
   "id": "1b2d40fc",
   "metadata": {},
   "outputs": [
    {
     "data": {
      "text/plain": [
       "2"
      ]
     },
     "execution_count": 34,
     "metadata": {},
     "output_type": "execute_result"
    }
   ],
   "source": [
    "# 최소값\n",
    "min(listbox)"
   ]
  },
  {
   "cell_type": "code",
   "execution_count": 35,
   "id": "27c26c4f",
   "metadata": {},
   "outputs": [
    {
     "data": {
      "text/plain": [
       "5"
      ]
     },
     "execution_count": 35,
     "metadata": {},
     "output_type": "execute_result"
    }
   ],
   "source": [
    "# 길이(갯수)\n",
    "len(listbox)"
   ]
  },
  {
   "cell_type": "code",
   "execution_count": 37,
   "id": "e321672e",
   "metadata": {},
   "outputs": [
    {
     "data": {
      "text/plain": [
       "1.23"
      ]
     },
     "execution_count": 37,
     "metadata": {},
     "output_type": "execute_result"
    }
   ],
   "source": [
    "# 반올림 (값, 몇째자리까지)\n",
    "round(1.2345, 2)"
   ]
  },
  {
   "cell_type": "markdown",
   "id": "e4b0c3e0",
   "metadata": {},
   "source": [
    "## 문자열"
   ]
  },
  {
   "cell_type": "markdown",
   "id": "cb89109e",
   "metadata": {},
   "source": [
    "### 문자열 변경"
   ]
  },
  {
   "cell_type": "code",
   "execution_count": 38,
   "id": "42f7fc5f",
   "metadata": {},
   "outputs": [
    {
     "data": {
      "text/plain": [
       "'빅데이터 분석기사 파이썬 스터디'"
      ]
     },
     "execution_count": 38,
     "metadata": {},
     "output_type": "execute_result"
    }
   ],
   "source": [
    "# 한 단어 변경\n",
    "text = \"빅데이터 분석기사 파이썬 공부\"\n",
    "text = text.replace(\"공부\",\"스터디\")\n",
    "text"
   ]
  },
  {
   "cell_type": "code",
   "execution_count": 39,
   "id": "2c87ee32",
   "metadata": {},
   "outputs": [
    {
     "data": {
      "text/plain": [
       "'빅데이터 분석을 위한 머신러닝 스터디'"
      ]
     },
     "execution_count": 39,
     "metadata": {},
     "output_type": "execute_result"
    }
   ],
   "source": [
    "#여러 단어 변경\n",
    "text = text.replace(\"파이썬\",\"머신러닝\").replace(\"분석기사\",\"분석을 위한\")\n",
    "text"
   ]
  },
  {
   "cell_type": "markdown",
   "id": "21962896",
   "metadata": {},
   "source": [
    "### 문자열 슬라이싱"
   ]
  },
  {
   "cell_type": "code",
   "execution_count": 40,
   "id": "22dd0b8d",
   "metadata": {},
   "outputs": [],
   "source": [
    "text = \"안녕하세요 xxx입니다\""
   ]
  },
  {
   "cell_type": "code",
   "execution_count": 41,
   "id": "43c54b36",
   "metadata": {},
   "outputs": [
    {
     "data": {
      "text/plain": [
       "'안녕'"
      ]
     },
     "execution_count": 41,
     "metadata": {},
     "output_type": "execute_result"
    }
   ],
   "source": [
    "#문자열 슬라이싱\n",
    "text[:2]"
   ]
  },
  {
   "cell_type": "code",
   "execution_count": 42,
   "id": "9899b93e",
   "metadata": {},
   "outputs": [
    {
     "data": {
      "text/plain": [
       "'01-24'"
      ]
     },
     "execution_count": 42,
     "metadata": {},
     "output_type": "execute_result"
    }
   ],
   "source": [
    "# 월-일\n",
    "date = \"2024-01-24\"\n",
    "date[5:]"
   ]
  },
  {
   "cell_type": "code",
   "execution_count": 43,
   "id": "f2451b35",
   "metadata": {},
   "outputs": [
    {
     "data": {
      "text/plain": [
       "'01'"
      ]
     },
     "execution_count": 43,
     "metadata": {},
     "output_type": "execute_result"
    }
   ],
   "source": [
    "#월만 출력\n",
    "date = \"2024-01-24\"\n",
    "date[5:7]"
   ]
  },
  {
   "cell_type": "code",
   "execution_count": 44,
   "id": "9a1d622f",
   "metadata": {},
   "outputs": [],
   "source": [
    "listbox = [\"사랑\",\"행복\",\"감사\",\"희망\",\"긍정\"]"
   ]
  },
  {
   "cell_type": "code",
   "execution_count": 45,
   "id": "f5c31501",
   "metadata": {},
   "outputs": [
    {
     "data": {
      "text/plain": [
       "5"
      ]
     },
     "execution_count": 45,
     "metadata": {},
     "output_type": "execute_result"
    }
   ],
   "source": [
    "#갯수\n",
    "len(listbox)"
   ]
  },
  {
   "cell_type": "code",
   "execution_count": 46,
   "id": "ca0614ac",
   "metadata": {},
   "outputs": [
    {
     "data": {
      "text/plain": [
       "'사랑'"
      ]
     },
     "execution_count": 46,
     "metadata": {},
     "output_type": "execute_result"
    }
   ],
   "source": [
    "# 첫번째 값\n",
    "listbox[0]"
   ]
  },
  {
   "cell_type": "code",
   "execution_count": 47,
   "id": "65697323",
   "metadata": {},
   "outputs": [
    {
     "data": {
      "text/plain": [
       "'긍정'"
      ]
     },
     "execution_count": 47,
     "metadata": {},
     "output_type": "execute_result"
    }
   ],
   "source": [
    "# 마지막 값\n",
    "listbox[-1]"
   ]
  },
  {
   "cell_type": "code",
   "execution_count": 49,
   "id": "c1a9c8b8",
   "metadata": {},
   "outputs": [
    {
     "data": {
      "text/plain": [
       "['사랑', '행복', '감사']"
      ]
     },
     "execution_count": 49,
     "metadata": {},
     "output_type": "execute_result"
    }
   ],
   "source": [
    "# 처음부터 세번째 값\n",
    "listbox[:3]"
   ]
  },
  {
   "cell_type": "code",
   "execution_count": 50,
   "id": "cd31fb08",
   "metadata": {},
   "outputs": [
    {
     "data": {
      "text/plain": [
       "'희망'"
      ]
     },
     "execution_count": 50,
     "metadata": {},
     "output_type": "execute_result"
    }
   ],
   "source": [
    "# 마지막 앞 단어\n",
    "listbox[-2]"
   ]
  },
  {
   "cell_type": "code",
   "execution_count": 52,
   "id": "54476717",
   "metadata": {},
   "outputs": [
    {
     "data": {
      "text/plain": [
       "['사랑', '행복']"
      ]
     },
     "execution_count": 52,
     "metadata": {},
     "output_type": "execute_result"
    }
   ],
   "source": [
    "# 행복과 사랑만 출력\n",
    "listbox[:2]"
   ]
  },
  {
   "cell_type": "code",
   "execution_count": null,
   "id": "1c3e7424",
   "metadata": {},
   "outputs": [],
   "source": []
  },
  {
   "cell_type": "code",
   "execution_count": null,
   "id": "28d33d9c",
   "metadata": {},
   "outputs": [],
   "source": []
  },
  {
   "cell_type": "code",
   "execution_count": null,
   "id": "1c1aaf7b",
   "metadata": {},
   "outputs": [],
   "source": []
  }
 ],
 "metadata": {
  "kernelspec": {
   "display_name": "Python 3 (ipykernel)",
   "language": "python",
   "name": "python3"
  },
  "language_info": {
   "codemirror_mode": {
    "name": "ipython",
    "version": 3
   },
   "file_extension": ".py",
   "mimetype": "text/x-python",
   "name": "python",
   "nbconvert_exporter": "python",
   "pygments_lexer": "ipython3",
   "version": "3.9.7"
  }
 },
 "nbformat": 4,
 "nbformat_minor": 5
}
