{
 "cells": [
  {
   "cell_type": "code",
   "execution_count": 31,
   "id": "1aa9127d",
   "metadata": {},
   "outputs": [],
   "source": [
    "# 학습 전 실행: csv파일 (data.csv) 생성\n",
    "import pandas as pd\n",
    "import numpy as np\n",
    "data = {\n",
    "    \"메뉴\":['아메리카노','카페라떼','카페모카', '바닐라라떼', '녹차', '초코라떼', '바닐라콜드브루'],\n",
    "    \"가격\":[4100, 4600, 4600, 5100, 4100, 5000, 5100],\n",
    "    \"할인율\":[0.5, 0.1, 0.2, 0.3, 0, 0, 0],\n",
    "    \"칼로리\":[10, 180, 420, 320, 20, 500, 400],\n",
    "    \"원두\":['콜롬비아', np.NaN, '과테말라', np.NaN, '한국', '콜롬비아', np.NaN],\n",
    "    \"이벤트가\":[1900, 2300, np.NaN, 2600, np.NaN, 3000, 3200],\n",
    "}\n",
    "data = pd.DataFrame(data)\n",
    "data.to_csv('data.csv', index=False)"
   ]
  },
  {
   "cell_type": "code",
   "execution_count": 32,
   "id": "f4b60ee6",
   "metadata": {},
   "outputs": [
    {
     "data": {
      "text/html": [
       "<div>\n",
       "<style scoped>\n",
       "    .dataframe tbody tr th:only-of-type {\n",
       "        vertical-align: middle;\n",
       "    }\n",
       "\n",
       "    .dataframe tbody tr th {\n",
       "        vertical-align: top;\n",
       "    }\n",
       "\n",
       "    .dataframe thead th {\n",
       "        text-align: right;\n",
       "    }\n",
       "</style>\n",
       "<table border=\"1\" class=\"dataframe\">\n",
       "  <thead>\n",
       "    <tr style=\"text-align: right;\">\n",
       "      <th></th>\n",
       "      <th>메뉴</th>\n",
       "      <th>가격</th>\n",
       "      <th>할인율</th>\n",
       "      <th>칼로리</th>\n",
       "      <th>원두</th>\n",
       "      <th>이벤트가</th>\n",
       "    </tr>\n",
       "  </thead>\n",
       "  <tbody>\n",
       "    <tr>\n",
       "      <th>0</th>\n",
       "      <td>아메리카노</td>\n",
       "      <td>4100</td>\n",
       "      <td>0.5</td>\n",
       "      <td>10</td>\n",
       "      <td>콜롬비아</td>\n",
       "      <td>1900.0</td>\n",
       "    </tr>\n",
       "    <tr>\n",
       "      <th>1</th>\n",
       "      <td>카페라떼</td>\n",
       "      <td>4600</td>\n",
       "      <td>0.1</td>\n",
       "      <td>180</td>\n",
       "      <td>NaN</td>\n",
       "      <td>2300.0</td>\n",
       "    </tr>\n",
       "    <tr>\n",
       "      <th>2</th>\n",
       "      <td>카페모카</td>\n",
       "      <td>4600</td>\n",
       "      <td>0.2</td>\n",
       "      <td>420</td>\n",
       "      <td>과테말라</td>\n",
       "      <td>NaN</td>\n",
       "    </tr>\n",
       "    <tr>\n",
       "      <th>3</th>\n",
       "      <td>바닐라라떼</td>\n",
       "      <td>5100</td>\n",
       "      <td>0.3</td>\n",
       "      <td>320</td>\n",
       "      <td>NaN</td>\n",
       "      <td>2600.0</td>\n",
       "    </tr>\n",
       "    <tr>\n",
       "      <th>4</th>\n",
       "      <td>녹차</td>\n",
       "      <td>4100</td>\n",
       "      <td>0.0</td>\n",
       "      <td>20</td>\n",
       "      <td>한국</td>\n",
       "      <td>NaN</td>\n",
       "    </tr>\n",
       "    <tr>\n",
       "      <th>5</th>\n",
       "      <td>초코라떼</td>\n",
       "      <td>5000</td>\n",
       "      <td>0.0</td>\n",
       "      <td>500</td>\n",
       "      <td>콜롬비아</td>\n",
       "      <td>3000.0</td>\n",
       "    </tr>\n",
       "    <tr>\n",
       "      <th>6</th>\n",
       "      <td>바닐라콜드브루</td>\n",
       "      <td>5100</td>\n",
       "      <td>0.0</td>\n",
       "      <td>400</td>\n",
       "      <td>NaN</td>\n",
       "      <td>3200.0</td>\n",
       "    </tr>\n",
       "  </tbody>\n",
       "</table>\n",
       "</div>"
      ],
      "text/plain": [
       "        메뉴    가격  할인율  칼로리    원두    이벤트가\n",
       "0    아메리카노  4100  0.5   10  콜롬비아  1900.0\n",
       "1     카페라떼  4600  0.1  180   NaN  2300.0\n",
       "2     카페모카  4600  0.2  420  과테말라     NaN\n",
       "3    바닐라라떼  5100  0.3  320   NaN  2600.0\n",
       "4       녹차  4100  0.0   20    한국     NaN\n",
       "5     초코라떼  5000  0.0  500  콜롬비아  3000.0\n",
       "6  바닐라콜드브루  5100  0.0  400   NaN  3200.0"
      ]
     },
     "execution_count": 32,
     "metadata": {},
     "output_type": "execute_result"
    }
   ],
   "source": [
    "# 데이터 불러오기\n",
    "df = pd.read_csv(\"data.csv\")\n",
    "df"
   ]
  },
  {
   "cell_type": "markdown",
   "id": "77879ce3",
   "metadata": {},
   "source": [
    "# 조건 필터"
   ]
  },
  {
   "cell_type": "code",
   "execution_count": 4,
   "id": "4bb4ef8a",
   "metadata": {},
   "outputs": [
    {
     "data": {
      "text/html": [
       "<div>\n",
       "<style scoped>\n",
       "    .dataframe tbody tr th:only-of-type {\n",
       "        vertical-align: middle;\n",
       "    }\n",
       "\n",
       "    .dataframe tbody tr th {\n",
       "        vertical-align: top;\n",
       "    }\n",
       "\n",
       "    .dataframe thead th {\n",
       "        text-align: right;\n",
       "    }\n",
       "</style>\n",
       "<table border=\"1\" class=\"dataframe\">\n",
       "  <thead>\n",
       "    <tr style=\"text-align: right;\">\n",
       "      <th></th>\n",
       "      <th>메뉴</th>\n",
       "      <th>가격</th>\n",
       "      <th>할인율</th>\n",
       "      <th>칼로리</th>\n",
       "      <th>원두</th>\n",
       "      <th>이벤트가</th>\n",
       "    </tr>\n",
       "  </thead>\n",
       "  <tbody>\n",
       "    <tr>\n",
       "      <th>0</th>\n",
       "      <td>아메리카노</td>\n",
       "      <td>4100</td>\n",
       "      <td>0.5</td>\n",
       "      <td>10</td>\n",
       "      <td>콜롬비아</td>\n",
       "      <td>1900.0</td>\n",
       "    </tr>\n",
       "    <tr>\n",
       "      <th>3</th>\n",
       "      <td>바닐라라떼</td>\n",
       "      <td>5100</td>\n",
       "      <td>0.3</td>\n",
       "      <td>320</td>\n",
       "      <td>NaN</td>\n",
       "      <td>2600.0</td>\n",
       "    </tr>\n",
       "  </tbody>\n",
       "</table>\n",
       "</div>"
      ],
      "text/plain": [
       "      메뉴    가격  할인율  칼로리    원두    이벤트가\n",
       "0  아메리카노  4100  0.5   10  콜롬비아  1900.0\n",
       "3  바닐라라떼  5100  0.3  320   NaN  2600.0"
      ]
     },
     "execution_count": 4,
     "metadata": {},
     "output_type": "execute_result"
    }
   ],
   "source": [
    "# 1개 조건\n",
    "# 할인율 > 0.2\n",
    "cond = df['할인율'] > 0.2\n",
    "df[cond]\n",
    "#df[df['할인율'] > 0.2]"
   ]
  },
  {
   "cell_type": "code",
   "execution_count": 5,
   "id": "e0f02349",
   "metadata": {},
   "outputs": [
    {
     "data": {
      "text/html": [
       "<div>\n",
       "<style scoped>\n",
       "    .dataframe tbody tr th:only-of-type {\n",
       "        vertical-align: middle;\n",
       "    }\n",
       "\n",
       "    .dataframe tbody tr th {\n",
       "        vertical-align: top;\n",
       "    }\n",
       "\n",
       "    .dataframe thead th {\n",
       "        text-align: right;\n",
       "    }\n",
       "</style>\n",
       "<table border=\"1\" class=\"dataframe\">\n",
       "  <thead>\n",
       "    <tr style=\"text-align: right;\">\n",
       "      <th></th>\n",
       "      <th>메뉴</th>\n",
       "      <th>가격</th>\n",
       "      <th>할인율</th>\n",
       "      <th>칼로리</th>\n",
       "      <th>원두</th>\n",
       "      <th>이벤트가</th>\n",
       "    </tr>\n",
       "  </thead>\n",
       "  <tbody>\n",
       "    <tr>\n",
       "      <th>0</th>\n",
       "      <td>아메리카노</td>\n",
       "      <td>4100</td>\n",
       "      <td>0.5</td>\n",
       "      <td>10</td>\n",
       "      <td>콜롬비아</td>\n",
       "      <td>1900.0</td>\n",
       "    </tr>\n",
       "    <tr>\n",
       "      <th>3</th>\n",
       "      <td>바닐라라떼</td>\n",
       "      <td>5100</td>\n",
       "      <td>0.3</td>\n",
       "      <td>320</td>\n",
       "      <td>NaN</td>\n",
       "      <td>2600.0</td>\n",
       "    </tr>\n",
       "  </tbody>\n",
       "</table>\n",
       "</div>"
      ],
      "text/plain": [
       "      메뉴    가격  할인율  칼로리    원두    이벤트가\n",
       "0  아메리카노  4100  0.5   10  콜롬비아  1900.0\n",
       "3  바닐라라떼  5100  0.3  320   NaN  2600.0"
      ]
     },
     "execution_count": 5,
     "metadata": {},
     "output_type": "execute_result"
    }
   ],
   "source": [
    "# 2개 이상일 때 (AND)\n",
    "\n",
    "cond1 = df['할인율'] >= 0.2\n",
    "cond2 = df['칼로리'] < 400\n",
    "df[cond1 & cond2]"
   ]
  },
  {
   "cell_type": "code",
   "execution_count": 11,
   "id": "2da2c530",
   "metadata": {},
   "outputs": [
    {
     "data": {
      "text/html": [
       "<div>\n",
       "<style scoped>\n",
       "    .dataframe tbody tr th:only-of-type {\n",
       "        vertical-align: middle;\n",
       "    }\n",
       "\n",
       "    .dataframe tbody tr th {\n",
       "        vertical-align: top;\n",
       "    }\n",
       "\n",
       "    .dataframe thead th {\n",
       "        text-align: right;\n",
       "    }\n",
       "</style>\n",
       "<table border=\"1\" class=\"dataframe\">\n",
       "  <thead>\n",
       "    <tr style=\"text-align: right;\">\n",
       "      <th></th>\n",
       "      <th>메뉴</th>\n",
       "      <th>가격</th>\n",
       "      <th>할인율</th>\n",
       "      <th>칼로리</th>\n",
       "      <th>원두</th>\n",
       "      <th>이벤트가</th>\n",
       "    </tr>\n",
       "  </thead>\n",
       "  <tbody>\n",
       "    <tr>\n",
       "      <th>0</th>\n",
       "      <td>아메리카노</td>\n",
       "      <td>4100</td>\n",
       "      <td>0.5</td>\n",
       "      <td>10</td>\n",
       "      <td>콜롬비아</td>\n",
       "      <td>1900.0</td>\n",
       "    </tr>\n",
       "    <tr>\n",
       "      <th>1</th>\n",
       "      <td>카페라떼</td>\n",
       "      <td>4600</td>\n",
       "      <td>0.1</td>\n",
       "      <td>180</td>\n",
       "      <td>콜롬비아</td>\n",
       "      <td>2300.0</td>\n",
       "    </tr>\n",
       "    <tr>\n",
       "      <th>2</th>\n",
       "      <td>카페모카</td>\n",
       "      <td>4600</td>\n",
       "      <td>0.2</td>\n",
       "      <td>420</td>\n",
       "      <td>콜롬비아</td>\n",
       "      <td>NaN</td>\n",
       "    </tr>\n",
       "    <tr>\n",
       "      <th>3</th>\n",
       "      <td>바닐라라떼</td>\n",
       "      <td>5100</td>\n",
       "      <td>0.3</td>\n",
       "      <td>320</td>\n",
       "      <td>콜롬비아</td>\n",
       "      <td>2600.0</td>\n",
       "    </tr>\n",
       "    <tr>\n",
       "      <th>4</th>\n",
       "      <td>녹차</td>\n",
       "      <td>4100</td>\n",
       "      <td>0.0</td>\n",
       "      <td>20</td>\n",
       "      <td>콜롬비아</td>\n",
       "      <td>NaN</td>\n",
       "    </tr>\n",
       "  </tbody>\n",
       "</table>\n",
       "</div>"
      ],
      "text/plain": [
       "      메뉴    가격  할인율  칼로리    원두    이벤트가\n",
       "0  아메리카노  4100  0.5   10  콜롬비아  1900.0\n",
       "1   카페라떼  4600  0.1  180  콜롬비아  2300.0\n",
       "2   카페모카  4600  0.2  420  콜롬비아     NaN\n",
       "3  바닐라라떼  5100  0.3  320  콜롬비아  2600.0\n",
       "4     녹차  4100  0.0   20  콜롬비아     NaN"
      ]
     },
     "execution_count": 11,
     "metadata": {},
     "output_type": "execute_result"
    }
   ],
   "source": [
    "# 2개 이상일 때 (OR)\n",
    "\n",
    "cond1 = df['할인율'] >= 0.2\n",
    "cond2 = df['칼로리'] < 400\n",
    "df[cond1 | cond2]"
   ]
  },
  {
   "cell_type": "code",
   "execution_count": 14,
   "id": "a5082ec5",
   "metadata": {},
   "outputs": [
    {
     "data": {
      "text/html": [
       "<div>\n",
       "<style scoped>\n",
       "    .dataframe tbody tr th:only-of-type {\n",
       "        vertical-align: middle;\n",
       "    }\n",
       "\n",
       "    .dataframe tbody tr th {\n",
       "        vertical-align: top;\n",
       "    }\n",
       "\n",
       "    .dataframe thead th {\n",
       "        text-align: right;\n",
       "    }\n",
       "</style>\n",
       "<table border=\"1\" class=\"dataframe\">\n",
       "  <thead>\n",
       "    <tr style=\"text-align: right;\">\n",
       "      <th></th>\n",
       "      <th>메뉴</th>\n",
       "      <th>가격</th>\n",
       "      <th>할인율</th>\n",
       "      <th>칼로리</th>\n",
       "      <th>원두</th>\n",
       "      <th>이벤트가</th>\n",
       "    </tr>\n",
       "  </thead>\n",
       "  <tbody>\n",
       "    <tr>\n",
       "      <th>0</th>\n",
       "      <td>아메리카노</td>\n",
       "      <td>4100</td>\n",
       "      <td>0.5</td>\n",
       "      <td>10</td>\n",
       "      <td>콜롬비아</td>\n",
       "      <td>1900.0</td>\n",
       "    </tr>\n",
       "    <tr>\n",
       "      <th>1</th>\n",
       "      <td>카페라떼</td>\n",
       "      <td>4600</td>\n",
       "      <td>0.1</td>\n",
       "      <td>180</td>\n",
       "      <td>콜롬비아</td>\n",
       "      <td>2300.0</td>\n",
       "    </tr>\n",
       "    <tr>\n",
       "      <th>2</th>\n",
       "      <td>카페모카</td>\n",
       "      <td>4600</td>\n",
       "      <td>0.2</td>\n",
       "      <td>420</td>\n",
       "      <td>콜롬비아</td>\n",
       "      <td>NaN</td>\n",
       "    </tr>\n",
       "    <tr>\n",
       "      <th>3</th>\n",
       "      <td>바닐라라떼</td>\n",
       "      <td>5100</td>\n",
       "      <td>0.3</td>\n",
       "      <td>320</td>\n",
       "      <td>콜롬비아</td>\n",
       "      <td>2600.0</td>\n",
       "    </tr>\n",
       "    <tr>\n",
       "      <th>4</th>\n",
       "      <td>녹차</td>\n",
       "      <td>4100</td>\n",
       "      <td>0.0</td>\n",
       "      <td>20</td>\n",
       "      <td>콜롬비아</td>\n",
       "      <td>NaN</td>\n",
       "    </tr>\n",
       "    <tr>\n",
       "      <th>5</th>\n",
       "      <td>초코라떼</td>\n",
       "      <td>5000</td>\n",
       "      <td>0.0</td>\n",
       "      <td>500</td>\n",
       "      <td>콜롬비아</td>\n",
       "      <td>3000.0</td>\n",
       "    </tr>\n",
       "    <tr>\n",
       "      <th>6</th>\n",
       "      <td>바닐라콜드브루</td>\n",
       "      <td>5100</td>\n",
       "      <td>0.0</td>\n",
       "      <td>400</td>\n",
       "      <td>콜롬비아</td>\n",
       "      <td>3200.0</td>\n",
       "    </tr>\n",
       "  </tbody>\n",
       "</table>\n",
       "</div>"
      ],
      "text/plain": [
       "        메뉴    가격  할인율  칼로리    원두    이벤트가\n",
       "0    아메리카노  4100  0.5   10  콜롬비아  1900.0\n",
       "1     카페라떼  4600  0.1  180  콜롬비아  2300.0\n",
       "2     카페모카  4600  0.2  420  콜롬비아     NaN\n",
       "3    바닐라라떼  5100  0.3  320  콜롬비아  2600.0\n",
       "4       녹차  4100  0.0   20  콜롬비아     NaN\n",
       "5     초코라떼  5000  0.0  500  콜롬비아  3000.0\n",
       "6  바닐라콜드브루  5100  0.0  400  콜롬비아  3200.0"
      ]
     },
     "execution_count": 14,
     "metadata": {},
     "output_type": "execute_result"
    }
   ],
   "source": [
    "# 문자열 1개 조건\n",
    "cond = df['원두'] == \"콜롬비아\"\n",
    "df[cond]"
   ]
  },
  {
   "cell_type": "code",
   "execution_count": 13,
   "id": "fec003d5",
   "metadata": {},
   "outputs": [
    {
     "data": {
      "text/html": [
       "<div>\n",
       "<style scoped>\n",
       "    .dataframe tbody tr th:only-of-type {\n",
       "        vertical-align: middle;\n",
       "    }\n",
       "\n",
       "    .dataframe tbody tr th {\n",
       "        vertical-align: top;\n",
       "    }\n",
       "\n",
       "    .dataframe thead th {\n",
       "        text-align: right;\n",
       "    }\n",
       "</style>\n",
       "<table border=\"1\" class=\"dataframe\">\n",
       "  <thead>\n",
       "    <tr style=\"text-align: right;\">\n",
       "      <th></th>\n",
       "      <th>메뉴</th>\n",
       "      <th>가격</th>\n",
       "      <th>할인율</th>\n",
       "      <th>칼로리</th>\n",
       "      <th>원두</th>\n",
       "      <th>이벤트가</th>\n",
       "    </tr>\n",
       "  </thead>\n",
       "  <tbody>\n",
       "    <tr>\n",
       "      <th>0</th>\n",
       "      <td>아메리카노</td>\n",
       "      <td>4100</td>\n",
       "      <td>0.5</td>\n",
       "      <td>10</td>\n",
       "      <td>콜롬비아</td>\n",
       "      <td>1900.0</td>\n",
       "    </tr>\n",
       "    <tr>\n",
       "      <th>4</th>\n",
       "      <td>녹차</td>\n",
       "      <td>4100</td>\n",
       "      <td>0.0</td>\n",
       "      <td>20</td>\n",
       "      <td>콜롬비아</td>\n",
       "      <td>NaN</td>\n",
       "    </tr>\n",
       "  </tbody>\n",
       "</table>\n",
       "</div>"
      ],
      "text/plain": [
       "      메뉴    가격  할인율  칼로리    원두    이벤트가\n",
       "0  아메리카노  4100  0.5   10  콜롬비아  1900.0\n",
       "4     녹차  4100  0.0   20  콜롬비아     NaN"
      ]
     },
     "execution_count": 13,
     "metadata": {},
     "output_type": "execute_result"
    }
   ],
   "source": [
    "# 문자열과 숫자 조건\n",
    "\n",
    "cond1 = df['원두'] == \"콜롬비아\"\n",
    "cond2 = df['가격'] < 4500\n",
    "df[cond1 & cond2]"
   ]
  },
  {
   "cell_type": "code",
   "execution_count": 21,
   "id": "b8216d07",
   "metadata": {},
   "outputs": [
    {
     "data": {
      "text/plain": [
       "메뉴      0\n",
       "가격      0\n",
       "할인율     0\n",
       "칼로리     0\n",
       "원두      3\n",
       "이벤트가    2\n",
       "dtype: int64"
      ]
     },
     "execution_count": 21,
     "metadata": {},
     "output_type": "execute_result"
    }
   ],
   "source": [
    "# 컬럼별 결측치 확인\n",
    "df.isnull().sum()"
   ]
  },
  {
   "cell_type": "code",
   "execution_count": 34,
   "id": "5ee4d069",
   "metadata": {},
   "outputs": [],
   "source": [
    "# 결측값 채우기\n",
    "df['원두'] = df['원두'].fillna('코스타리카')"
   ]
  },
  {
   "cell_type": "code",
   "execution_count": 35,
   "id": "d667bbb8",
   "metadata": {},
   "outputs": [
    {
     "data": {
      "text/html": [
       "<div>\n",
       "<style scoped>\n",
       "    .dataframe tbody tr th:only-of-type {\n",
       "        vertical-align: middle;\n",
       "    }\n",
       "\n",
       "    .dataframe tbody tr th {\n",
       "        vertical-align: top;\n",
       "    }\n",
       "\n",
       "    .dataframe thead th {\n",
       "        text-align: right;\n",
       "    }\n",
       "</style>\n",
       "<table border=\"1\" class=\"dataframe\">\n",
       "  <thead>\n",
       "    <tr style=\"text-align: right;\">\n",
       "      <th></th>\n",
       "      <th>메뉴</th>\n",
       "      <th>가격</th>\n",
       "      <th>할인율</th>\n",
       "      <th>칼로리</th>\n",
       "      <th>원두</th>\n",
       "      <th>이벤트가</th>\n",
       "    </tr>\n",
       "  </thead>\n",
       "  <tbody>\n",
       "    <tr>\n",
       "      <th>0</th>\n",
       "      <td>아메리카노</td>\n",
       "      <td>4100</td>\n",
       "      <td>0.5</td>\n",
       "      <td>10</td>\n",
       "      <td>콜롬비아</td>\n",
       "      <td>1900.0</td>\n",
       "    </tr>\n",
       "    <tr>\n",
       "      <th>1</th>\n",
       "      <td>카페라떼</td>\n",
       "      <td>4600</td>\n",
       "      <td>0.1</td>\n",
       "      <td>180</td>\n",
       "      <td>코스타리카</td>\n",
       "      <td>2300.0</td>\n",
       "    </tr>\n",
       "    <tr>\n",
       "      <th>2</th>\n",
       "      <td>카페모카</td>\n",
       "      <td>4600</td>\n",
       "      <td>0.2</td>\n",
       "      <td>420</td>\n",
       "      <td>과테말라</td>\n",
       "      <td>NaN</td>\n",
       "    </tr>\n",
       "    <tr>\n",
       "      <th>3</th>\n",
       "      <td>바닐라라떼</td>\n",
       "      <td>5100</td>\n",
       "      <td>0.3</td>\n",
       "      <td>320</td>\n",
       "      <td>코스타리카</td>\n",
       "      <td>2600.0</td>\n",
       "    </tr>\n",
       "    <tr>\n",
       "      <th>4</th>\n",
       "      <td>녹차</td>\n",
       "      <td>4100</td>\n",
       "      <td>0.0</td>\n",
       "      <td>20</td>\n",
       "      <td>한국</td>\n",
       "      <td>NaN</td>\n",
       "    </tr>\n",
       "    <tr>\n",
       "      <th>5</th>\n",
       "      <td>초코라떼</td>\n",
       "      <td>5000</td>\n",
       "      <td>0.0</td>\n",
       "      <td>500</td>\n",
       "      <td>콜롬비아</td>\n",
       "      <td>3000.0</td>\n",
       "    </tr>\n",
       "    <tr>\n",
       "      <th>6</th>\n",
       "      <td>바닐라콜드브루</td>\n",
       "      <td>5100</td>\n",
       "      <td>0.0</td>\n",
       "      <td>400</td>\n",
       "      <td>코스타리카</td>\n",
       "      <td>3200.0</td>\n",
       "    </tr>\n",
       "  </tbody>\n",
       "</table>\n",
       "</div>"
      ],
      "text/plain": [
       "        메뉴    가격  할인율  칼로리     원두    이벤트가\n",
       "0    아메리카노  4100  0.5   10   콜롬비아  1900.0\n",
       "1     카페라떼  4600  0.1  180  코스타리카  2300.0\n",
       "2     카페모카  4600  0.2  420   과테말라     NaN\n",
       "3    바닐라라떼  5100  0.3  320  코스타리카  2600.0\n",
       "4       녹차  4100  0.0   20     한국     NaN\n",
       "5     초코라떼  5000  0.0  500   콜롬비아  3000.0\n",
       "6  바닐라콜드브루  5100  0.0  400  코스타리카  3200.0"
      ]
     },
     "execution_count": 35,
     "metadata": {},
     "output_type": "execute_result"
    }
   ],
   "source": [
    "df"
   ]
  },
  {
   "cell_type": "code",
   "execution_count": 36,
   "id": "a8a9d470",
   "metadata": {},
   "outputs": [
    {
     "data": {
      "text/html": [
       "<div>\n",
       "<style scoped>\n",
       "    .dataframe tbody tr th:only-of-type {\n",
       "        vertical-align: middle;\n",
       "    }\n",
       "\n",
       "    .dataframe tbody tr th {\n",
       "        vertical-align: top;\n",
       "    }\n",
       "\n",
       "    .dataframe thead th {\n",
       "        text-align: right;\n",
       "    }\n",
       "</style>\n",
       "<table border=\"1\" class=\"dataframe\">\n",
       "  <thead>\n",
       "    <tr style=\"text-align: right;\">\n",
       "      <th></th>\n",
       "      <th>메뉴</th>\n",
       "      <th>가격</th>\n",
       "      <th>할인율</th>\n",
       "      <th>칼로리</th>\n",
       "      <th>원두</th>\n",
       "      <th>이벤트가</th>\n",
       "    </tr>\n",
       "  </thead>\n",
       "  <tbody>\n",
       "    <tr>\n",
       "      <th>0</th>\n",
       "      <td>아메리카노</td>\n",
       "      <td>4100</td>\n",
       "      <td>0.5</td>\n",
       "      <td>10</td>\n",
       "      <td>콜롬비아</td>\n",
       "      <td>1900.0</td>\n",
       "    </tr>\n",
       "    <tr>\n",
       "      <th>1</th>\n",
       "      <td>카페라떼</td>\n",
       "      <td>4600</td>\n",
       "      <td>0.1</td>\n",
       "      <td>180</td>\n",
       "      <td>코스타리카</td>\n",
       "      <td>2300.0</td>\n",
       "    </tr>\n",
       "    <tr>\n",
       "      <th>2</th>\n",
       "      <td>카페모카</td>\n",
       "      <td>4600</td>\n",
       "      <td>0.2</td>\n",
       "      <td>420</td>\n",
       "      <td>과테말라</td>\n",
       "      <td>1900.0</td>\n",
       "    </tr>\n",
       "    <tr>\n",
       "      <th>3</th>\n",
       "      <td>바닐라라떼</td>\n",
       "      <td>5100</td>\n",
       "      <td>0.3</td>\n",
       "      <td>320</td>\n",
       "      <td>코스타리카</td>\n",
       "      <td>2600.0</td>\n",
       "    </tr>\n",
       "    <tr>\n",
       "      <th>4</th>\n",
       "      <td>녹차</td>\n",
       "      <td>4100</td>\n",
       "      <td>0.0</td>\n",
       "      <td>20</td>\n",
       "      <td>한국</td>\n",
       "      <td>1900.0</td>\n",
       "    </tr>\n",
       "    <tr>\n",
       "      <th>5</th>\n",
       "      <td>초코라떼</td>\n",
       "      <td>5000</td>\n",
       "      <td>0.0</td>\n",
       "      <td>500</td>\n",
       "      <td>콜롬비아</td>\n",
       "      <td>3000.0</td>\n",
       "    </tr>\n",
       "    <tr>\n",
       "      <th>6</th>\n",
       "      <td>바닐라콜드브루</td>\n",
       "      <td>5100</td>\n",
       "      <td>0.0</td>\n",
       "      <td>400</td>\n",
       "      <td>코스타리카</td>\n",
       "      <td>3200.0</td>\n",
       "    </tr>\n",
       "  </tbody>\n",
       "</table>\n",
       "</div>"
      ],
      "text/plain": [
       "        메뉴    가격  할인율  칼로리     원두    이벤트가\n",
       "0    아메리카노  4100  0.5   10   콜롬비아  1900.0\n",
       "1     카페라떼  4600  0.1  180  코스타리카  2300.0\n",
       "2     카페모카  4600  0.2  420   과테말라  1900.0\n",
       "3    바닐라라떼  5100  0.3  320  코스타리카  2600.0\n",
       "4       녹차  4100  0.0   20     한국  1900.0\n",
       "5     초코라떼  5000  0.0  500   콜롬비아  3000.0\n",
       "6  바닐라콜드브루  5100  0.0  400  코스타리카  3200.0"
      ]
     },
     "execution_count": 36,
     "metadata": {},
     "output_type": "execute_result"
    }
   ],
   "source": [
    "df['이벤트가'] = df['이벤트가'].fillna(1900)\n",
    "df"
   ]
  },
  {
   "cell_type": "markdown",
   "id": "6ff2445b",
   "metadata": {},
   "source": [
    "# 값 변경"
   ]
  },
  {
   "cell_type": "code",
   "execution_count": 37,
   "id": "475b4b54",
   "metadata": {},
   "outputs": [
    {
     "data": {
      "text/html": [
       "<div>\n",
       "<style scoped>\n",
       "    .dataframe tbody tr th:only-of-type {\n",
       "        vertical-align: middle;\n",
       "    }\n",
       "\n",
       "    .dataframe tbody tr th {\n",
       "        vertical-align: top;\n",
       "    }\n",
       "\n",
       "    .dataframe thead th {\n",
       "        text-align: right;\n",
       "    }\n",
       "</style>\n",
       "<table border=\"1\" class=\"dataframe\">\n",
       "  <thead>\n",
       "    <tr style=\"text-align: right;\">\n",
       "      <th></th>\n",
       "      <th>메뉴</th>\n",
       "      <th>가격</th>\n",
       "      <th>할인율</th>\n",
       "      <th>칼로리</th>\n",
       "      <th>원두</th>\n",
       "      <th>이벤트가</th>\n",
       "    </tr>\n",
       "  </thead>\n",
       "  <tbody>\n",
       "    <tr>\n",
       "      <th>0</th>\n",
       "      <td>아메리카노</td>\n",
       "      <td>4100</td>\n",
       "      <td>0.5</td>\n",
       "      <td>10</td>\n",
       "      <td>콜롬비아</td>\n",
       "      <td>1900.0</td>\n",
       "    </tr>\n",
       "    <tr>\n",
       "      <th>1</th>\n",
       "      <td>카페라떼</td>\n",
       "      <td>4600</td>\n",
       "      <td>0.1</td>\n",
       "      <td>180</td>\n",
       "      <td>코스타리카</td>\n",
       "      <td>2300.0</td>\n",
       "    </tr>\n",
       "    <tr>\n",
       "      <th>2</th>\n",
       "      <td>카페모카</td>\n",
       "      <td>4600</td>\n",
       "      <td>0.2</td>\n",
       "      <td>420</td>\n",
       "      <td>과테말라</td>\n",
       "      <td>1900.0</td>\n",
       "    </tr>\n",
       "    <tr>\n",
       "      <th>3</th>\n",
       "      <td>바닐라라떼</td>\n",
       "      <td>5100</td>\n",
       "      <td>0.3</td>\n",
       "      <td>320</td>\n",
       "      <td>코스타리카</td>\n",
       "      <td>2600.0</td>\n",
       "    </tr>\n",
       "    <tr>\n",
       "      <th>4</th>\n",
       "      <td>녹차</td>\n",
       "      <td>4100</td>\n",
       "      <td>0.0</td>\n",
       "      <td>20</td>\n",
       "      <td>한국</td>\n",
       "      <td>1900.0</td>\n",
       "    </tr>\n",
       "  </tbody>\n",
       "</table>\n",
       "</div>"
      ],
      "text/plain": [
       "      메뉴    가격  할인율  칼로리     원두    이벤트가\n",
       "0  아메리카노  4100  0.5   10   콜롬비아  1900.0\n",
       "1   카페라떼  4600  0.1  180  코스타리카  2300.0\n",
       "2   카페모카  4600  0.2  420   과테말라  1900.0\n",
       "3  바닐라라떼  5100  0.3  320  코스타리카  2600.0\n",
       "4     녹차  4100  0.0   20     한국  1900.0"
      ]
     },
     "execution_count": 37,
     "metadata": {},
     "output_type": "execute_result"
    }
   ],
   "source": [
    "df.head()"
   ]
  },
  {
   "cell_type": "code",
   "execution_count": 40,
   "id": "40dd72a2",
   "metadata": {},
   "outputs": [
    {
     "data": {
      "text/html": [
       "<div>\n",
       "<style scoped>\n",
       "    .dataframe tbody tr th:only-of-type {\n",
       "        vertical-align: middle;\n",
       "    }\n",
       "\n",
       "    .dataframe tbody tr th {\n",
       "        vertical-align: top;\n",
       "    }\n",
       "\n",
       "    .dataframe thead th {\n",
       "        text-align: right;\n",
       "    }\n",
       "</style>\n",
       "<table border=\"1\" class=\"dataframe\">\n",
       "  <thead>\n",
       "    <tr style=\"text-align: right;\">\n",
       "      <th></th>\n",
       "      <th>메뉴</th>\n",
       "      <th>가격</th>\n",
       "      <th>할인율</th>\n",
       "      <th>칼로리</th>\n",
       "      <th>원두</th>\n",
       "      <th>이벤트가</th>\n",
       "    </tr>\n",
       "  </thead>\n",
       "  <tbody>\n",
       "    <tr>\n",
       "      <th>0</th>\n",
       "      <td>룽고</td>\n",
       "      <td>4100</td>\n",
       "      <td>0.5</td>\n",
       "      <td>10</td>\n",
       "      <td>콜롬비아</td>\n",
       "      <td>1900.0</td>\n",
       "    </tr>\n",
       "    <tr>\n",
       "      <th>1</th>\n",
       "      <td>카페라떼</td>\n",
       "      <td>4600</td>\n",
       "      <td>0.1</td>\n",
       "      <td>180</td>\n",
       "      <td>코스타리카</td>\n",
       "      <td>2300.0</td>\n",
       "    </tr>\n",
       "    <tr>\n",
       "      <th>2</th>\n",
       "      <td>카페모카</td>\n",
       "      <td>4600</td>\n",
       "      <td>0.2</td>\n",
       "      <td>420</td>\n",
       "      <td>과테말라</td>\n",
       "      <td>1900.0</td>\n",
       "    </tr>\n",
       "    <tr>\n",
       "      <th>3</th>\n",
       "      <td>바닐라라떼</td>\n",
       "      <td>5100</td>\n",
       "      <td>0.3</td>\n",
       "      <td>320</td>\n",
       "      <td>코스타리카</td>\n",
       "      <td>2600.0</td>\n",
       "    </tr>\n",
       "    <tr>\n",
       "      <th>4</th>\n",
       "      <td>그린티</td>\n",
       "      <td>4100</td>\n",
       "      <td>0.0</td>\n",
       "      <td>20</td>\n",
       "      <td>한국</td>\n",
       "      <td>1900.0</td>\n",
       "    </tr>\n",
       "    <tr>\n",
       "      <th>5</th>\n",
       "      <td>초코라떼</td>\n",
       "      <td>5000</td>\n",
       "      <td>0.0</td>\n",
       "      <td>500</td>\n",
       "      <td>콜롬비아</td>\n",
       "      <td>3000.0</td>\n",
       "    </tr>\n",
       "    <tr>\n",
       "      <th>6</th>\n",
       "      <td>바닐라콜드브루</td>\n",
       "      <td>5100</td>\n",
       "      <td>0.0</td>\n",
       "      <td>400</td>\n",
       "      <td>코스타리카</td>\n",
       "      <td>3200.0</td>\n",
       "    </tr>\n",
       "  </tbody>\n",
       "</table>\n",
       "</div>"
      ],
      "text/plain": [
       "        메뉴    가격  할인율  칼로리     원두    이벤트가\n",
       "0       룽고  4100  0.5   10   콜롬비아  1900.0\n",
       "1     카페라떼  4600  0.1  180  코스타리카  2300.0\n",
       "2     카페모카  4600  0.2  420   과테말라  1900.0\n",
       "3    바닐라라떼  5100  0.3  320  코스타리카  2600.0\n",
       "4      그린티  4100  0.0   20     한국  1900.0\n",
       "5     초코라떼  5000  0.0  500   콜롬비아  3000.0\n",
       "6  바닐라콜드브루  5100  0.0  400  코스타리카  3200.0"
      ]
     },
     "execution_count": 40,
     "metadata": {},
     "output_type": "execute_result"
    }
   ],
   "source": [
    "# 문자 변경\n",
    "df.replace(\"아메리카노\", \"룽고\").replace(\"녹차\",\"그린티\")"
   ]
  },
  {
   "cell_type": "code",
   "execution_count": 43,
   "id": "e9ba16a4",
   "metadata": {},
   "outputs": [],
   "source": [
    "d = {\"아메리카노\":\"룽고\", \"녹차\":\"그린티\"}\n",
    "df = df.replace(d)"
   ]
  },
  {
   "cell_type": "code",
   "execution_count": 44,
   "id": "68ab93c8",
   "metadata": {},
   "outputs": [
    {
     "data": {
      "text/html": [
       "<div>\n",
       "<style scoped>\n",
       "    .dataframe tbody tr th:only-of-type {\n",
       "        vertical-align: middle;\n",
       "    }\n",
       "\n",
       "    .dataframe tbody tr th {\n",
       "        vertical-align: top;\n",
       "    }\n",
       "\n",
       "    .dataframe thead th {\n",
       "        text-align: right;\n",
       "    }\n",
       "</style>\n",
       "<table border=\"1\" class=\"dataframe\">\n",
       "  <thead>\n",
       "    <tr style=\"text-align: right;\">\n",
       "      <th></th>\n",
       "      <th>메뉴</th>\n",
       "      <th>가격</th>\n",
       "      <th>할인율</th>\n",
       "      <th>칼로리</th>\n",
       "      <th>원두</th>\n",
       "      <th>이벤트가</th>\n",
       "    </tr>\n",
       "  </thead>\n",
       "  <tbody>\n",
       "    <tr>\n",
       "      <th>0</th>\n",
       "      <td>룽고</td>\n",
       "      <td>4100</td>\n",
       "      <td>0.5</td>\n",
       "      <td>10</td>\n",
       "      <td>콜롬비아</td>\n",
       "      <td>1900.0</td>\n",
       "    </tr>\n",
       "    <tr>\n",
       "      <th>1</th>\n",
       "      <td>카페라떼</td>\n",
       "      <td>4600</td>\n",
       "      <td>0.1</td>\n",
       "      <td>180</td>\n",
       "      <td>코스타리카</td>\n",
       "      <td>2300.0</td>\n",
       "    </tr>\n",
       "    <tr>\n",
       "      <th>2</th>\n",
       "      <td>카페모카</td>\n",
       "      <td>4600</td>\n",
       "      <td>0.2</td>\n",
       "      <td>420</td>\n",
       "      <td>과테말라</td>\n",
       "      <td>1900.0</td>\n",
       "    </tr>\n",
       "    <tr>\n",
       "      <th>3</th>\n",
       "      <td>바닐라라떼</td>\n",
       "      <td>5100</td>\n",
       "      <td>0.3</td>\n",
       "      <td>320</td>\n",
       "      <td>코스타리카</td>\n",
       "      <td>2600.0</td>\n",
       "    </tr>\n",
       "    <tr>\n",
       "      <th>4</th>\n",
       "      <td>그린티</td>\n",
       "      <td>4100</td>\n",
       "      <td>0.0</td>\n",
       "      <td>20</td>\n",
       "      <td>한국</td>\n",
       "      <td>1900.0</td>\n",
       "    </tr>\n",
       "    <tr>\n",
       "      <th>5</th>\n",
       "      <td>초코라떼</td>\n",
       "      <td>5000</td>\n",
       "      <td>0.0</td>\n",
       "      <td>500</td>\n",
       "      <td>콜롬비아</td>\n",
       "      <td>3000.0</td>\n",
       "    </tr>\n",
       "    <tr>\n",
       "      <th>6</th>\n",
       "      <td>바닐라콜드브루</td>\n",
       "      <td>5100</td>\n",
       "      <td>0.0</td>\n",
       "      <td>400</td>\n",
       "      <td>코스타리카</td>\n",
       "      <td>3200.0</td>\n",
       "    </tr>\n",
       "  </tbody>\n",
       "</table>\n",
       "</div>"
      ],
      "text/plain": [
       "        메뉴    가격  할인율  칼로리     원두    이벤트가\n",
       "0       룽고  4100  0.5   10   콜롬비아  1900.0\n",
       "1     카페라떼  4600  0.1  180  코스타리카  2300.0\n",
       "2     카페모카  4600  0.2  420   과테말라  1900.0\n",
       "3    바닐라라떼  5100  0.3  320  코스타리카  2600.0\n",
       "4      그린티  4100  0.0   20     한국  1900.0\n",
       "5     초코라떼  5000  0.0  500   콜롬비아  3000.0\n",
       "6  바닐라콜드브루  5100  0.0  400  코스타리카  3200.0"
      ]
     },
     "execution_count": 44,
     "metadata": {},
     "output_type": "execute_result"
    }
   ],
   "source": [
    "df"
   ]
  },
  {
   "cell_type": "code",
   "execution_count": 46,
   "id": "78aae27b",
   "metadata": {},
   "outputs": [
    {
     "data": {
      "text/html": [
       "<div>\n",
       "<style scoped>\n",
       "    .dataframe tbody tr th:only-of-type {\n",
       "        vertical-align: middle;\n",
       "    }\n",
       "\n",
       "    .dataframe tbody tr th {\n",
       "        vertical-align: top;\n",
       "    }\n",
       "\n",
       "    .dataframe thead th {\n",
       "        text-align: right;\n",
       "    }\n",
       "</style>\n",
       "<table border=\"1\" class=\"dataframe\">\n",
       "  <thead>\n",
       "    <tr style=\"text-align: right;\">\n",
       "      <th></th>\n",
       "      <th>메뉴</th>\n",
       "      <th>가격</th>\n",
       "      <th>할인율</th>\n",
       "      <th>칼로리</th>\n",
       "      <th>원두</th>\n",
       "      <th>이벤트가</th>\n",
       "    </tr>\n",
       "  </thead>\n",
       "  <tbody>\n",
       "    <tr>\n",
       "      <th>0</th>\n",
       "      <td>룽고</td>\n",
       "      <td>4100</td>\n",
       "      <td>0.5</td>\n",
       "      <td>10</td>\n",
       "      <td>콜롬비아</td>\n",
       "      <td>1500.0</td>\n",
       "    </tr>\n",
       "    <tr>\n",
       "      <th>1</th>\n",
       "      <td>카페라떼</td>\n",
       "      <td>4600</td>\n",
       "      <td>0.1</td>\n",
       "      <td>180</td>\n",
       "      <td>코스타리카</td>\n",
       "      <td>2300.0</td>\n",
       "    </tr>\n",
       "    <tr>\n",
       "      <th>2</th>\n",
       "      <td>카페모카</td>\n",
       "      <td>4600</td>\n",
       "      <td>0.2</td>\n",
       "      <td>420</td>\n",
       "      <td>과테말라</td>\n",
       "      <td>1500.0</td>\n",
       "    </tr>\n",
       "    <tr>\n",
       "      <th>3</th>\n",
       "      <td>바닐라라떼</td>\n",
       "      <td>5100</td>\n",
       "      <td>0.3</td>\n",
       "      <td>320</td>\n",
       "      <td>코스타리카</td>\n",
       "      <td>2600.0</td>\n",
       "    </tr>\n",
       "    <tr>\n",
       "      <th>4</th>\n",
       "      <td>그린티</td>\n",
       "      <td>4100</td>\n",
       "      <td>0.0</td>\n",
       "      <td>20</td>\n",
       "      <td>한국</td>\n",
       "      <td>1500.0</td>\n",
       "    </tr>\n",
       "    <tr>\n",
       "      <th>5</th>\n",
       "      <td>초코라떼</td>\n",
       "      <td>5000</td>\n",
       "      <td>0.0</td>\n",
       "      <td>500</td>\n",
       "      <td>콜롬비아</td>\n",
       "      <td>3000.0</td>\n",
       "    </tr>\n",
       "    <tr>\n",
       "      <th>6</th>\n",
       "      <td>바닐라콜드브루</td>\n",
       "      <td>5100</td>\n",
       "      <td>0.0</td>\n",
       "      <td>400</td>\n",
       "      <td>코스타리카</td>\n",
       "      <td>3200.0</td>\n",
       "    </tr>\n",
       "  </tbody>\n",
       "</table>\n",
       "</div>"
      ],
      "text/plain": [
       "        메뉴    가격  할인율  칼로리     원두    이벤트가\n",
       "0       룽고  4100  0.5   10   콜롬비아  1500.0\n",
       "1     카페라떼  4600  0.1  180  코스타리카  2300.0\n",
       "2     카페모카  4600  0.2  420   과테말라  1500.0\n",
       "3    바닐라라떼  5100  0.3  320  코스타리카  2600.0\n",
       "4      그린티  4100  0.0   20     한국  1500.0\n",
       "5     초코라떼  5000  0.0  500   콜롬비아  3000.0\n",
       "6  바닐라콜드브루  5100  0.0  400  코스타리카  3200.0"
      ]
     },
     "execution_count": 46,
     "metadata": {},
     "output_type": "execute_result"
    }
   ],
   "source": [
    "# 숫자 변경\n",
    "df = df.replace(1900, 1500)\n",
    "df"
   ]
  },
  {
   "cell_type": "code",
   "execution_count": 47,
   "id": "93a327c0",
   "metadata": {},
   "outputs": [
    {
     "data": {
      "text/html": [
       "<div>\n",
       "<style scoped>\n",
       "    .dataframe tbody tr th:only-of-type {\n",
       "        vertical-align: middle;\n",
       "    }\n",
       "\n",
       "    .dataframe tbody tr th {\n",
       "        vertical-align: top;\n",
       "    }\n",
       "\n",
       "    .dataframe thead th {\n",
       "        text-align: right;\n",
       "    }\n",
       "</style>\n",
       "<table border=\"1\" class=\"dataframe\">\n",
       "  <thead>\n",
       "    <tr style=\"text-align: right;\">\n",
       "      <th></th>\n",
       "      <th>메뉴</th>\n",
       "      <th>가격</th>\n",
       "      <th>할인율</th>\n",
       "      <th>칼로리</th>\n",
       "      <th>원두</th>\n",
       "      <th>이벤트가</th>\n",
       "    </tr>\n",
       "  </thead>\n",
       "  <tbody>\n",
       "    <tr>\n",
       "      <th>0</th>\n",
       "      <td>룽고</td>\n",
       "      <td>4100</td>\n",
       "      <td>0.5</td>\n",
       "      <td>10</td>\n",
       "      <td>콜롬비아</td>\n",
       "      <td>1500.0</td>\n",
       "    </tr>\n",
       "    <tr>\n",
       "      <th>1</th>\n",
       "      <td>카페라떼</td>\n",
       "      <td>4600</td>\n",
       "      <td>0.1</td>\n",
       "      <td>180</td>\n",
       "      <td>코스타리카</td>\n",
       "      <td>2300.0</td>\n",
       "    </tr>\n",
       "    <tr>\n",
       "      <th>2</th>\n",
       "      <td>카페모카</td>\n",
       "      <td>4600</td>\n",
       "      <td>0.2</td>\n",
       "      <td>420</td>\n",
       "      <td>과테말라</td>\n",
       "      <td>1500.0</td>\n",
       "    </tr>\n",
       "    <tr>\n",
       "      <th>3</th>\n",
       "      <td>바닐라라떼</td>\n",
       "      <td>5100</td>\n",
       "      <td>0.3</td>\n",
       "      <td>320</td>\n",
       "      <td>과테말라</td>\n",
       "      <td>2600.0</td>\n",
       "    </tr>\n",
       "    <tr>\n",
       "      <th>4</th>\n",
       "      <td>그린티</td>\n",
       "      <td>4100</td>\n",
       "      <td>0.0</td>\n",
       "      <td>20</td>\n",
       "      <td>한국</td>\n",
       "      <td>1500.0</td>\n",
       "    </tr>\n",
       "    <tr>\n",
       "      <th>5</th>\n",
       "      <td>초코라떼</td>\n",
       "      <td>5000</td>\n",
       "      <td>0.0</td>\n",
       "      <td>500</td>\n",
       "      <td>콜롬비아</td>\n",
       "      <td>3000.0</td>\n",
       "    </tr>\n",
       "    <tr>\n",
       "      <th>6</th>\n",
       "      <td>바닐라콜드브루</td>\n",
       "      <td>5100</td>\n",
       "      <td>0.0</td>\n",
       "      <td>400</td>\n",
       "      <td>코스타리카</td>\n",
       "      <td>3200.0</td>\n",
       "    </tr>\n",
       "  </tbody>\n",
       "</table>\n",
       "</div>"
      ],
      "text/plain": [
       "        메뉴    가격  할인율  칼로리     원두    이벤트가\n",
       "0       룽고  4100  0.5   10   콜롬비아  1500.0\n",
       "1     카페라떼  4600  0.1  180  코스타리카  2300.0\n",
       "2     카페모카  4600  0.2  420   과테말라  1500.0\n",
       "3    바닐라라떼  5100  0.3  320   과테말라  2600.0\n",
       "4      그린티  4100  0.0   20     한국  1500.0\n",
       "5     초코라떼  5000  0.0  500   콜롬비아  3000.0\n",
       "6  바닐라콜드브루  5100  0.0  400  코스타리카  3200.0"
      ]
     },
     "execution_count": 47,
     "metadata": {},
     "output_type": "execute_result"
    }
   ],
   "source": [
    "# loc로 값 변경하기\n",
    "df.loc[3,\"원두\"] = '과테말라'\n",
    "df"
   ]
  },
  {
   "cell_type": "code",
   "execution_count": 48,
   "id": "48a69d26",
   "metadata": {},
   "outputs": [
    {
     "data": {
      "text/html": [
       "<div>\n",
       "<style scoped>\n",
       "    .dataframe tbody tr th:only-of-type {\n",
       "        vertical-align: middle;\n",
       "    }\n",
       "\n",
       "    .dataframe tbody tr th {\n",
       "        vertical-align: top;\n",
       "    }\n",
       "\n",
       "    .dataframe thead th {\n",
       "        text-align: right;\n",
       "    }\n",
       "</style>\n",
       "<table border=\"1\" class=\"dataframe\">\n",
       "  <thead>\n",
       "    <tr style=\"text-align: right;\">\n",
       "      <th></th>\n",
       "      <th>메뉴</th>\n",
       "      <th>가격</th>\n",
       "      <th>할인율</th>\n",
       "      <th>칼로리</th>\n",
       "      <th>원두</th>\n",
       "      <th>이벤트가</th>\n",
       "    </tr>\n",
       "  </thead>\n",
       "  <tbody>\n",
       "    <tr>\n",
       "      <th>0</th>\n",
       "      <td>룽고</td>\n",
       "      <td>4100</td>\n",
       "      <td>0.5</td>\n",
       "      <td>10</td>\n",
       "      <td>콜롬비아</td>\n",
       "      <td>1000</td>\n",
       "    </tr>\n",
       "    <tr>\n",
       "      <th>1</th>\n",
       "      <td>카페라떼</td>\n",
       "      <td>4600</td>\n",
       "      <td>0.1</td>\n",
       "      <td>180</td>\n",
       "      <td>코스타리카</td>\n",
       "      <td>1000</td>\n",
       "    </tr>\n",
       "    <tr>\n",
       "      <th>2</th>\n",
       "      <td>카페모카</td>\n",
       "      <td>4600</td>\n",
       "      <td>0.2</td>\n",
       "      <td>420</td>\n",
       "      <td>과테말라</td>\n",
       "      <td>1000</td>\n",
       "    </tr>\n",
       "    <tr>\n",
       "      <th>3</th>\n",
       "      <td>바닐라라떼</td>\n",
       "      <td>5100</td>\n",
       "      <td>0.3</td>\n",
       "      <td>320</td>\n",
       "      <td>과테말라</td>\n",
       "      <td>1000</td>\n",
       "    </tr>\n",
       "    <tr>\n",
       "      <th>4</th>\n",
       "      <td>그린티</td>\n",
       "      <td>4100</td>\n",
       "      <td>0.0</td>\n",
       "      <td>20</td>\n",
       "      <td>한국</td>\n",
       "      <td>1000</td>\n",
       "    </tr>\n",
       "    <tr>\n",
       "      <th>5</th>\n",
       "      <td>초코라떼</td>\n",
       "      <td>5000</td>\n",
       "      <td>0.0</td>\n",
       "      <td>500</td>\n",
       "      <td>콜롬비아</td>\n",
       "      <td>1000</td>\n",
       "    </tr>\n",
       "    <tr>\n",
       "      <th>6</th>\n",
       "      <td>바닐라콜드브루</td>\n",
       "      <td>5100</td>\n",
       "      <td>0.0</td>\n",
       "      <td>400</td>\n",
       "      <td>코스타리카</td>\n",
       "      <td>1000</td>\n",
       "    </tr>\n",
       "  </tbody>\n",
       "</table>\n",
       "</div>"
      ],
      "text/plain": [
       "        메뉴    가격  할인율  칼로리     원두  이벤트가\n",
       "0       룽고  4100  0.5   10   콜롬비아  1000\n",
       "1     카페라떼  4600  0.1  180  코스타리카  1000\n",
       "2     카페모카  4600  0.2  420   과테말라  1000\n",
       "3    바닐라라떼  5100  0.3  320   과테말라  1000\n",
       "4      그린티  4100  0.0   20     한국  1000\n",
       "5     초코라떼  5000  0.0  500   콜롬비아  1000\n",
       "6  바닐라콜드브루  5100  0.0  400  코스타리카  1000"
      ]
     },
     "execution_count": 48,
     "metadata": {},
     "output_type": "execute_result"
    }
   ],
   "source": [
    "# 이벤트가 전체 1000으로 변경\n",
    "df.loc[:,'이벤트가'] = 1000\n",
    "df"
   ]
  },
  {
   "cell_type": "markdown",
   "id": "69c4d801",
   "metadata": {},
   "source": [
    "# 내장함수"
   ]
  },
  {
   "cell_type": "code",
   "execution_count": 50,
   "id": "fedbcbdc",
   "metadata": {},
   "outputs": [
    {
     "data": {
      "text/html": [
       "<div>\n",
       "<style scoped>\n",
       "    .dataframe tbody tr th:only-of-type {\n",
       "        vertical-align: middle;\n",
       "    }\n",
       "\n",
       "    .dataframe tbody tr th {\n",
       "        vertical-align: top;\n",
       "    }\n",
       "\n",
       "    .dataframe thead th {\n",
       "        text-align: right;\n",
       "    }\n",
       "</style>\n",
       "<table border=\"1\" class=\"dataframe\">\n",
       "  <thead>\n",
       "    <tr style=\"text-align: right;\">\n",
       "      <th></th>\n",
       "      <th>메뉴</th>\n",
       "      <th>가격</th>\n",
       "      <th>할인율</th>\n",
       "      <th>칼로리</th>\n",
       "      <th>원두</th>\n",
       "      <th>이벤트가</th>\n",
       "    </tr>\n",
       "  </thead>\n",
       "  <tbody>\n",
       "    <tr>\n",
       "      <th>0</th>\n",
       "      <td>아메리카노</td>\n",
       "      <td>4100</td>\n",
       "      <td>0.5</td>\n",
       "      <td>10</td>\n",
       "      <td>콜롬비아</td>\n",
       "      <td>1900.0</td>\n",
       "    </tr>\n",
       "    <tr>\n",
       "      <th>1</th>\n",
       "      <td>카페라떼</td>\n",
       "      <td>4600</td>\n",
       "      <td>0.1</td>\n",
       "      <td>180</td>\n",
       "      <td>NaN</td>\n",
       "      <td>2300.0</td>\n",
       "    </tr>\n",
       "    <tr>\n",
       "      <th>2</th>\n",
       "      <td>카페모카</td>\n",
       "      <td>4600</td>\n",
       "      <td>0.2</td>\n",
       "      <td>420</td>\n",
       "      <td>과테말라</td>\n",
       "      <td>NaN</td>\n",
       "    </tr>\n",
       "    <tr>\n",
       "      <th>3</th>\n",
       "      <td>바닐라라떼</td>\n",
       "      <td>5100</td>\n",
       "      <td>0.3</td>\n",
       "      <td>320</td>\n",
       "      <td>NaN</td>\n",
       "      <td>2600.0</td>\n",
       "    </tr>\n",
       "    <tr>\n",
       "      <th>4</th>\n",
       "      <td>녹차</td>\n",
       "      <td>4100</td>\n",
       "      <td>0.0</td>\n",
       "      <td>20</td>\n",
       "      <td>한국</td>\n",
       "      <td>NaN</td>\n",
       "    </tr>\n",
       "    <tr>\n",
       "      <th>5</th>\n",
       "      <td>초코라떼</td>\n",
       "      <td>5000</td>\n",
       "      <td>0.0</td>\n",
       "      <td>500</td>\n",
       "      <td>콜롬비아</td>\n",
       "      <td>3000.0</td>\n",
       "    </tr>\n",
       "    <tr>\n",
       "      <th>6</th>\n",
       "      <td>바닐라콜드브루</td>\n",
       "      <td>5100</td>\n",
       "      <td>0.0</td>\n",
       "      <td>400</td>\n",
       "      <td>NaN</td>\n",
       "      <td>3200.0</td>\n",
       "    </tr>\n",
       "  </tbody>\n",
       "</table>\n",
       "</div>"
      ],
      "text/plain": [
       "        메뉴    가격  할인율  칼로리    원두    이벤트가\n",
       "0    아메리카노  4100  0.5   10  콜롬비아  1900.0\n",
       "1     카페라떼  4600  0.1  180   NaN  2300.0\n",
       "2     카페모카  4600  0.2  420  과테말라     NaN\n",
       "3    바닐라라떼  5100  0.3  320   NaN  2600.0\n",
       "4       녹차  4100  0.0   20    한국     NaN\n",
       "5     초코라떼  5000  0.0  500  콜롬비아  3000.0\n",
       "6  바닐라콜드브루  5100  0.0  400   NaN  3200.0"
      ]
     },
     "execution_count": 50,
     "metadata": {},
     "output_type": "execute_result"
    }
   ],
   "source": [
    "# 데이터 불러오기\n",
    "df = pd.read_csv('data.csv')\n",
    "df"
   ]
  },
  {
   "cell_type": "code",
   "execution_count": 51,
   "id": "127f0561",
   "metadata": {},
   "outputs": [
    {
     "data": {
      "text/plain": [
       "메뉴      7\n",
       "가격      7\n",
       "할인율     7\n",
       "칼로리     7\n",
       "원두      4\n",
       "이벤트가    5\n",
       "dtype: int64"
      ]
     },
     "execution_count": 51,
     "metadata": {},
     "output_type": "execute_result"
    }
   ],
   "source": [
    "df.count()"
   ]
  },
  {
   "cell_type": "code",
   "execution_count": 52,
   "id": "c23782a6",
   "metadata": {},
   "outputs": [
    {
     "data": {
      "text/plain": [
       "0    6\n",
       "1    5\n",
       "2    5\n",
       "3    5\n",
       "4    5\n",
       "5    6\n",
       "6    5\n",
       "dtype: int64"
      ]
     },
     "execution_count": 52,
     "metadata": {},
     "output_type": "execute_result"
    }
   ],
   "source": [
    "df.count(axis = 1)"
   ]
  },
  {
   "cell_type": "code",
   "execution_count": 53,
   "id": "4b509d44",
   "metadata": {},
   "outputs": [
    {
     "data": {
      "text/plain": [
       "7"
      ]
     },
     "execution_count": 53,
     "metadata": {},
     "output_type": "execute_result"
    }
   ],
   "source": [
    "len(df)"
   ]
  },
  {
   "cell_type": "code",
   "execution_count": 55,
   "id": "19ad4a55",
   "metadata": {},
   "outputs": [
    {
     "data": {
      "text/plain": [
       "7"
      ]
     },
     "execution_count": 55,
     "metadata": {},
     "output_type": "execute_result"
    }
   ],
   "source": [
    "df.shape # (데이터수, 컬럼수)\n",
    "df.shape[0]"
   ]
  },
  {
   "cell_type": "code",
   "execution_count": 56,
   "id": "d7beb844",
   "metadata": {},
   "outputs": [
    {
     "data": {
      "text/plain": [
       "5100"
      ]
     },
     "execution_count": 56,
     "metadata": {},
     "output_type": "execute_result"
    }
   ],
   "source": [
    "#최대값\n",
    "df['가격'].max()"
   ]
  },
  {
   "cell_type": "code",
   "execution_count": 57,
   "id": "53c0c65e",
   "metadata": {},
   "outputs": [
    {
     "data": {
      "text/plain": [
       "4100"
      ]
     },
     "execution_count": 57,
     "metadata": {},
     "output_type": "execute_result"
    }
   ],
   "source": [
    "#최소값\n",
    "df['가격'].min()"
   ]
  },
  {
   "cell_type": "code",
   "execution_count": 58,
   "id": "e715e6cd",
   "metadata": {},
   "outputs": [
    {
     "data": {
      "text/plain": [
       "4657.142857142857"
      ]
     },
     "execution_count": 58,
     "metadata": {},
     "output_type": "execute_result"
    }
   ],
   "source": [
    "#평균\n",
    "df['가격'].mean()"
   ]
  },
  {
   "cell_type": "code",
   "execution_count": 59,
   "id": "3aac01a7",
   "metadata": {},
   "outputs": [
    {
     "data": {
      "text/plain": [
       "4600.0"
      ]
     },
     "execution_count": 59,
     "metadata": {},
     "output_type": "execute_result"
    }
   ],
   "source": [
    "#중앙값\n",
    "df['가격'].median()"
   ]
  },
  {
   "cell_type": "code",
   "execution_count": 60,
   "id": "2f380e45",
   "metadata": {},
   "outputs": [
    {
     "data": {
      "text/plain": [
       "32600"
      ]
     },
     "execution_count": 60,
     "metadata": {},
     "output_type": "execute_result"
    }
   ],
   "source": [
    "#합계\n",
    "df['가격'].sum()"
   ]
  },
  {
   "cell_type": "code",
   "execution_count": 61,
   "id": "201b8593",
   "metadata": {},
   "outputs": [
    {
     "data": {
      "text/plain": [
       "435.3433237386437"
      ]
     },
     "execution_count": 61,
     "metadata": {},
     "output_type": "execute_result"
    }
   ],
   "source": [
    "#표준편차\n",
    "df['가격'].std()"
   ]
  },
  {
   "cell_type": "code",
   "execution_count": 62,
   "id": "67aaf4b8",
   "metadata": {},
   "outputs": [
    {
     "data": {
      "text/plain": [
       "189523.8095238095"
      ]
     },
     "execution_count": 62,
     "metadata": {},
     "output_type": "execute_result"
    }
   ],
   "source": [
    "#분산\n",
    "df['가격'].var()"
   ]
  },
  {
   "cell_type": "code",
   "execution_count": 63,
   "id": "5cb27c01",
   "metadata": {},
   "outputs": [
    {
     "data": {
      "text/plain": [
       "-0.3739900475641664"
      ]
     },
     "execution_count": 63,
     "metadata": {},
     "output_type": "execute_result"
    }
   ],
   "source": [
    "#왜도 skewness\n",
    "df['가격'].skew()"
   ]
  },
  {
   "cell_type": "code",
   "execution_count": 64,
   "id": "843e8972",
   "metadata": {},
   "outputs": [
    {
     "data": {
      "text/plain": [
       "-1.7170778515694067"
      ]
     },
     "execution_count": 64,
     "metadata": {},
     "output_type": "execute_result"
    }
   ],
   "source": [
    "#첨도 kurtosis\n",
    "df['가격'].kurt()"
   ]
  },
  {
   "cell_type": "code",
   "execution_count": 65,
   "id": "f717947d",
   "metadata": {},
   "outputs": [
    {
     "data": {
      "text/plain": [
       "count       7.000000\n",
       "mean     4657.142857\n",
       "std       435.343324\n",
       "min      4100.000000\n",
       "25%      4350.000000\n",
       "50%      4600.000000\n",
       "75%      5050.000000\n",
       "max      5100.000000\n",
       "Name: 가격, dtype: float64"
      ]
     },
     "execution_count": 65,
     "metadata": {},
     "output_type": "execute_result"
    }
   ],
   "source": [
    "#백분위수\n",
    "df['가격'].describe()"
   ]
  },
  {
   "cell_type": "code",
   "execution_count": 66,
   "id": "efdb829d",
   "metadata": {},
   "outputs": [
    {
     "data": {
      "text/plain": [
       "4350.0"
      ]
     },
     "execution_count": 66,
     "metadata": {},
     "output_type": "execute_result"
    }
   ],
   "source": [
    "# 하위 25% 값\n",
    "df['가격'].quantile(.25)"
   ]
  },
  {
   "cell_type": "code",
   "execution_count": 67,
   "id": "b885c8a6",
   "metadata": {},
   "outputs": [
    {
     "data": {
      "text/plain": [
       "5050.0"
      ]
     },
     "execution_count": 67,
     "metadata": {},
     "output_type": "execute_result"
    }
   ],
   "source": [
    "# 상위 25% 값\n",
    "df['가격'].quantile(.75)"
   ]
  },
  {
   "cell_type": "code",
   "execution_count": 68,
   "id": "a370151b",
   "metadata": {},
   "outputs": [
    {
     "data": {
      "text/html": [
       "<div>\n",
       "<style scoped>\n",
       "    .dataframe tbody tr th:only-of-type {\n",
       "        vertical-align: middle;\n",
       "    }\n",
       "\n",
       "    .dataframe tbody tr th {\n",
       "        vertical-align: top;\n",
       "    }\n",
       "\n",
       "    .dataframe thead th {\n",
       "        text-align: right;\n",
       "    }\n",
       "</style>\n",
       "<table border=\"1\" class=\"dataframe\">\n",
       "  <thead>\n",
       "    <tr style=\"text-align: right;\">\n",
       "      <th></th>\n",
       "      <th>메뉴</th>\n",
       "      <th>가격</th>\n",
       "      <th>할인율</th>\n",
       "      <th>칼로리</th>\n",
       "      <th>원두</th>\n",
       "      <th>이벤트가</th>\n",
       "    </tr>\n",
       "  </thead>\n",
       "  <tbody>\n",
       "    <tr>\n",
       "      <th>0</th>\n",
       "      <td>아메리카노</td>\n",
       "      <td>4100</td>\n",
       "      <td>0.5</td>\n",
       "      <td>10</td>\n",
       "      <td>콜롬비아</td>\n",
       "      <td>1900.0</td>\n",
       "    </tr>\n",
       "    <tr>\n",
       "      <th>4</th>\n",
       "      <td>녹차</td>\n",
       "      <td>4100</td>\n",
       "      <td>0.0</td>\n",
       "      <td>20</td>\n",
       "      <td>한국</td>\n",
       "      <td>NaN</td>\n",
       "    </tr>\n",
       "  </tbody>\n",
       "</table>\n",
       "</div>"
      ],
      "text/plain": [
       "      메뉴    가격  할인율  칼로리    원두    이벤트가\n",
       "0  아메리카노  4100  0.5   10  콜롬비아  1900.0\n",
       "4     녹차  4100  0.0   20    한국     NaN"
      ]
     },
     "execution_count": 68,
     "metadata": {},
     "output_type": "execute_result"
    }
   ],
   "source": [
    "# 하위 25% 데이터\n",
    "cond = df['가격'].quantile(.25) > df['가격']\n",
    "df[cond]"
   ]
  },
  {
   "cell_type": "code",
   "execution_count": 69,
   "id": "e3363460",
   "metadata": {},
   "outputs": [
    {
     "data": {
      "text/html": [
       "<div>\n",
       "<style scoped>\n",
       "    .dataframe tbody tr th:only-of-type {\n",
       "        vertical-align: middle;\n",
       "    }\n",
       "\n",
       "    .dataframe tbody tr th {\n",
       "        vertical-align: top;\n",
       "    }\n",
       "\n",
       "    .dataframe thead th {\n",
       "        text-align: right;\n",
       "    }\n",
       "</style>\n",
       "<table border=\"1\" class=\"dataframe\">\n",
       "  <thead>\n",
       "    <tr style=\"text-align: right;\">\n",
       "      <th></th>\n",
       "      <th>메뉴</th>\n",
       "      <th>가격</th>\n",
       "      <th>할인율</th>\n",
       "      <th>칼로리</th>\n",
       "      <th>원두</th>\n",
       "      <th>이벤트가</th>\n",
       "    </tr>\n",
       "  </thead>\n",
       "  <tbody>\n",
       "    <tr>\n",
       "      <th>0</th>\n",
       "      <td>아메리카노</td>\n",
       "      <td>4100</td>\n",
       "      <td>0.5</td>\n",
       "      <td>10</td>\n",
       "      <td>콜롬비아</td>\n",
       "      <td>1900.0</td>\n",
       "    </tr>\n",
       "    <tr>\n",
       "      <th>1</th>\n",
       "      <td>카페라떼</td>\n",
       "      <td>4600</td>\n",
       "      <td>0.1</td>\n",
       "      <td>180</td>\n",
       "      <td>NaN</td>\n",
       "      <td>2300.0</td>\n",
       "    </tr>\n",
       "    <tr>\n",
       "      <th>2</th>\n",
       "      <td>카페모카</td>\n",
       "      <td>4600</td>\n",
       "      <td>0.2</td>\n",
       "      <td>420</td>\n",
       "      <td>과테말라</td>\n",
       "      <td>NaN</td>\n",
       "    </tr>\n",
       "    <tr>\n",
       "      <th>4</th>\n",
       "      <td>녹차</td>\n",
       "      <td>4100</td>\n",
       "      <td>0.0</td>\n",
       "      <td>20</td>\n",
       "      <td>한국</td>\n",
       "      <td>NaN</td>\n",
       "    </tr>\n",
       "    <tr>\n",
       "      <th>5</th>\n",
       "      <td>초코라떼</td>\n",
       "      <td>5000</td>\n",
       "      <td>0.0</td>\n",
       "      <td>500</td>\n",
       "      <td>콜롬비아</td>\n",
       "      <td>3000.0</td>\n",
       "    </tr>\n",
       "  </tbody>\n",
       "</table>\n",
       "</div>"
      ],
      "text/plain": [
       "      메뉴    가격  할인율  칼로리    원두    이벤트가\n",
       "0  아메리카노  4100  0.5   10  콜롬비아  1900.0\n",
       "1   카페라떼  4600  0.1  180   NaN  2300.0\n",
       "2   카페모카  4600  0.2  420  과테말라     NaN\n",
       "4     녹차  4100  0.0   20    한국     NaN\n",
       "5   초코라떼  5000  0.0  500  콜롬비아  3000.0"
      ]
     },
     "execution_count": 69,
     "metadata": {},
     "output_type": "execute_result"
    }
   ],
   "source": [
    "# 상위 25% 데이터\n",
    "cond = df['가격'].quantile(.75) > df['가격']\n",
    "df[cond]"
   ]
  },
  {
   "cell_type": "code",
   "execution_count": 72,
   "id": "a79fcb98",
   "metadata": {},
   "outputs": [
    {
     "data": {
      "text/plain": [
       "'콜롬비아'"
      ]
     },
     "execution_count": 72,
     "metadata": {},
     "output_type": "execute_result"
    }
   ],
   "source": [
    "# 최빈값 구하기\n",
    "df['원두'].mode()[0]"
   ]
  },
  {
   "cell_type": "markdown",
   "id": "e5618279",
   "metadata": {},
   "source": [
    "## 심화학습 apply함수"
   ]
  },
  {
   "cell_type": "code",
   "execution_count": 73,
   "id": "db53f24b",
   "metadata": {},
   "outputs": [
    {
     "data": {
      "text/html": [
       "<div>\n",
       "<style scoped>\n",
       "    .dataframe tbody tr th:only-of-type {\n",
       "        vertical-align: middle;\n",
       "    }\n",
       "\n",
       "    .dataframe tbody tr th {\n",
       "        vertical-align: top;\n",
       "    }\n",
       "\n",
       "    .dataframe thead th {\n",
       "        text-align: right;\n",
       "    }\n",
       "</style>\n",
       "<table border=\"1\" class=\"dataframe\">\n",
       "  <thead>\n",
       "    <tr style=\"text-align: right;\">\n",
       "      <th></th>\n",
       "      <th>메뉴</th>\n",
       "      <th>가격</th>\n",
       "      <th>할인율</th>\n",
       "      <th>칼로리</th>\n",
       "      <th>원두</th>\n",
       "      <th>이벤트가</th>\n",
       "    </tr>\n",
       "  </thead>\n",
       "  <tbody>\n",
       "    <tr>\n",
       "      <th>0</th>\n",
       "      <td>아메리카노</td>\n",
       "      <td>4100</td>\n",
       "      <td>0.5</td>\n",
       "      <td>10</td>\n",
       "      <td>콜롬비아</td>\n",
       "      <td>1900.0</td>\n",
       "    </tr>\n",
       "    <tr>\n",
       "      <th>1</th>\n",
       "      <td>카페라떼</td>\n",
       "      <td>4600</td>\n",
       "      <td>0.1</td>\n",
       "      <td>180</td>\n",
       "      <td>NaN</td>\n",
       "      <td>2300.0</td>\n",
       "    </tr>\n",
       "    <tr>\n",
       "      <th>2</th>\n",
       "      <td>카페모카</td>\n",
       "      <td>4600</td>\n",
       "      <td>0.2</td>\n",
       "      <td>420</td>\n",
       "      <td>과테말라</td>\n",
       "      <td>NaN</td>\n",
       "    </tr>\n",
       "    <tr>\n",
       "      <th>3</th>\n",
       "      <td>바닐라라떼</td>\n",
       "      <td>5100</td>\n",
       "      <td>0.3</td>\n",
       "      <td>320</td>\n",
       "      <td>NaN</td>\n",
       "      <td>2600.0</td>\n",
       "    </tr>\n",
       "    <tr>\n",
       "      <th>4</th>\n",
       "      <td>녹차</td>\n",
       "      <td>4100</td>\n",
       "      <td>0.0</td>\n",
       "      <td>20</td>\n",
       "      <td>한국</td>\n",
       "      <td>NaN</td>\n",
       "    </tr>\n",
       "    <tr>\n",
       "      <th>5</th>\n",
       "      <td>초코라떼</td>\n",
       "      <td>5000</td>\n",
       "      <td>0.0</td>\n",
       "      <td>500</td>\n",
       "      <td>콜롬비아</td>\n",
       "      <td>3000.0</td>\n",
       "    </tr>\n",
       "    <tr>\n",
       "      <th>6</th>\n",
       "      <td>바닐라콜드브루</td>\n",
       "      <td>5100</td>\n",
       "      <td>0.0</td>\n",
       "      <td>400</td>\n",
       "      <td>NaN</td>\n",
       "      <td>3200.0</td>\n",
       "    </tr>\n",
       "  </tbody>\n",
       "</table>\n",
       "</div>"
      ],
      "text/plain": [
       "        메뉴    가격  할인율  칼로리    원두    이벤트가\n",
       "0    아메리카노  4100  0.5   10  콜롬비아  1900.0\n",
       "1     카페라떼  4600  0.1  180   NaN  2300.0\n",
       "2     카페모카  4600  0.2  420  과테말라     NaN\n",
       "3    바닐라라떼  5100  0.3  320   NaN  2600.0\n",
       "4       녹차  4100  0.0   20    한국     NaN\n",
       "5     초코라떼  5000  0.0  500  콜롬비아  3000.0\n",
       "6  바닐라콜드브루  5100  0.0  400   NaN  3200.0"
      ]
     },
     "execution_count": 73,
     "metadata": {},
     "output_type": "execute_result"
    }
   ],
   "source": [
    "df"
   ]
  },
  {
   "cell_type": "code",
   "execution_count": 74,
   "id": "1a45d93f",
   "metadata": {},
   "outputs": [
    {
     "data": {
      "text/plain": [
       "0    Yes\n",
       "1    Yes\n",
       "2     No\n",
       "3     No\n",
       "4    Yes\n",
       "5     No\n",
       "6     No\n",
       "Name: 칼로리, dtype: object"
      ]
     },
     "execution_count": 74,
     "metadata": {},
     "output_type": "execute_result"
    }
   ],
   "source": [
    "# apply 예시\n",
    "def cal(x):\n",
    "    if x >= 300:\n",
    "        return \"No\"\n",
    "    else:\n",
    "        return \"Yes\"\n",
    "\n",
    "df['칼로리'].apply(cal)"
   ]
  },
  {
   "cell_type": "code",
   "execution_count": 75,
   "id": "7fefb68b",
   "metadata": {},
   "outputs": [
    {
     "data": {
      "text/html": [
       "<div>\n",
       "<style scoped>\n",
       "    .dataframe tbody tr th:only-of-type {\n",
       "        vertical-align: middle;\n",
       "    }\n",
       "\n",
       "    .dataframe tbody tr th {\n",
       "        vertical-align: top;\n",
       "    }\n",
       "\n",
       "    .dataframe thead th {\n",
       "        text-align: right;\n",
       "    }\n",
       "</style>\n",
       "<table border=\"1\" class=\"dataframe\">\n",
       "  <thead>\n",
       "    <tr style=\"text-align: right;\">\n",
       "      <th></th>\n",
       "      <th>메뉴</th>\n",
       "      <th>가격</th>\n",
       "      <th>할인율</th>\n",
       "      <th>칼로리</th>\n",
       "      <th>원두</th>\n",
       "      <th>이벤트가</th>\n",
       "      <th>먹어도될까요</th>\n",
       "    </tr>\n",
       "  </thead>\n",
       "  <tbody>\n",
       "    <tr>\n",
       "      <th>0</th>\n",
       "      <td>아메리카노</td>\n",
       "      <td>4100</td>\n",
       "      <td>0.5</td>\n",
       "      <td>10</td>\n",
       "      <td>콜롬비아</td>\n",
       "      <td>1900.0</td>\n",
       "      <td>Yes</td>\n",
       "    </tr>\n",
       "    <tr>\n",
       "      <th>1</th>\n",
       "      <td>카페라떼</td>\n",
       "      <td>4600</td>\n",
       "      <td>0.1</td>\n",
       "      <td>180</td>\n",
       "      <td>NaN</td>\n",
       "      <td>2300.0</td>\n",
       "      <td>Yes</td>\n",
       "    </tr>\n",
       "    <tr>\n",
       "      <th>2</th>\n",
       "      <td>카페모카</td>\n",
       "      <td>4600</td>\n",
       "      <td>0.2</td>\n",
       "      <td>420</td>\n",
       "      <td>과테말라</td>\n",
       "      <td>NaN</td>\n",
       "      <td>No</td>\n",
       "    </tr>\n",
       "    <tr>\n",
       "      <th>3</th>\n",
       "      <td>바닐라라떼</td>\n",
       "      <td>5100</td>\n",
       "      <td>0.3</td>\n",
       "      <td>320</td>\n",
       "      <td>NaN</td>\n",
       "      <td>2600.0</td>\n",
       "      <td>No</td>\n",
       "    </tr>\n",
       "    <tr>\n",
       "      <th>4</th>\n",
       "      <td>녹차</td>\n",
       "      <td>4100</td>\n",
       "      <td>0.0</td>\n",
       "      <td>20</td>\n",
       "      <td>한국</td>\n",
       "      <td>NaN</td>\n",
       "      <td>Yes</td>\n",
       "    </tr>\n",
       "    <tr>\n",
       "      <th>5</th>\n",
       "      <td>초코라떼</td>\n",
       "      <td>5000</td>\n",
       "      <td>0.0</td>\n",
       "      <td>500</td>\n",
       "      <td>콜롬비아</td>\n",
       "      <td>3000.0</td>\n",
       "      <td>No</td>\n",
       "    </tr>\n",
       "    <tr>\n",
       "      <th>6</th>\n",
       "      <td>바닐라콜드브루</td>\n",
       "      <td>5100</td>\n",
       "      <td>0.0</td>\n",
       "      <td>400</td>\n",
       "      <td>NaN</td>\n",
       "      <td>3200.0</td>\n",
       "      <td>No</td>\n",
       "    </tr>\n",
       "  </tbody>\n",
       "</table>\n",
       "</div>"
      ],
      "text/plain": [
       "        메뉴    가격  할인율  칼로리    원두    이벤트가 먹어도될까요\n",
       "0    아메리카노  4100  0.5   10  콜롬비아  1900.0    Yes\n",
       "1     카페라떼  4600  0.1  180   NaN  2300.0    Yes\n",
       "2     카페모카  4600  0.2  420  과테말라     NaN     No\n",
       "3    바닐라라떼  5100  0.3  320   NaN  2600.0     No\n",
       "4       녹차  4100  0.0   20    한국     NaN    Yes\n",
       "5     초코라떼  5000  0.0  500  콜롬비아  3000.0     No\n",
       "6  바닐라콜드브루  5100  0.0  400   NaN  3200.0     No"
      ]
     },
     "execution_count": 75,
     "metadata": {},
     "output_type": "execute_result"
    }
   ],
   "source": [
    "# apply 적용해서 새로운 컬럼 생성 (칼로리 컬럼 활용)\n",
    "df['먹어도될까요'] = df['칼로리'].apply(cal)\n",
    "df"
   ]
  },
  {
   "cell_type": "code",
   "execution_count": null,
   "id": "733ba983",
   "metadata": {},
   "outputs": [],
   "source": []
  },
  {
   "cell_type": "code",
   "execution_count": null,
   "id": "f99f724a",
   "metadata": {},
   "outputs": [],
   "source": []
  },
  {
   "cell_type": "code",
   "execution_count": null,
   "id": "7756ad40",
   "metadata": {},
   "outputs": [],
   "source": []
  },
  {
   "cell_type": "code",
   "execution_count": null,
   "id": "9e67c438",
   "metadata": {},
   "outputs": [],
   "source": []
  },
  {
   "cell_type": "code",
   "execution_count": null,
   "id": "2bedbfac",
   "metadata": {},
   "outputs": [],
   "source": []
  },
  {
   "cell_type": "code",
   "execution_count": null,
   "id": "d3772355",
   "metadata": {},
   "outputs": [],
   "source": []
  }
 ],
 "metadata": {
  "kernelspec": {
   "display_name": "Python 3 (ipykernel)",
   "language": "python",
   "name": "python3"
  },
  "language_info": {
   "codemirror_mode": {
    "name": "ipython",
    "version": 3
   },
   "file_extension": ".py",
   "mimetype": "text/x-python",
   "name": "python",
   "nbconvert_exporter": "python",
   "pygments_lexer": "ipython3",
   "version": "3.9.7"
  }
 },
 "nbformat": 4,
 "nbformat_minor": 5
}
