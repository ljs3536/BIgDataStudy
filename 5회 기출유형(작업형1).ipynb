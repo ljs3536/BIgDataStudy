{
 "cells": [
  {
   "cell_type": "markdown",
   "id": "b648a389",
   "metadata": {},
   "source": [
    "1. 종량제 봉투 종류가 '규격봉투'이고, 종량제 봉투 용도가 '음식물쓰레기'인 2L가격 평균을 출력하시오 (단, 가격0 제외, 반올림 후 정수 출력)"
   ]
  },
  {
   "cell_type": "code",
   "execution_count": 30,
   "id": "aa22a1ff",
   "metadata": {},
   "outputs": [
    {
     "name": "stdout",
     "output_type": "stream",
     "text": [
      "118\n"
     ]
    }
   ],
   "source": [
    "import pandas as pd\n",
    "df = pd.read_csv('5회 작업형1/5-1price.csv')\n",
    "df\n",
    "cond1 = df['종량제봉투종류'] == '규격봉투'\n",
    "cond2 = df['종량제봉투용도'] == '음식물쓰레기'\n",
    "cond3 = df['2ℓ가격'] != 0\n",
    "df = df[cond1 & cond2 & cond3]\n",
    "print(int(round(df['2ℓ가격'].mean(),0)))"
   ]
  },
  {
   "cell_type": "code",
   "execution_count": null,
   "id": "393f7bb5",
   "metadata": {},
   "outputs": [],
   "source": []
  },
  {
   "cell_type": "code",
   "execution_count": null,
   "id": "21a0d81b",
   "metadata": {},
   "outputs": [],
   "source": []
  },
  {
   "cell_type": "code",
   "execution_count": null,
   "id": "eb81186c",
   "metadata": {},
   "outputs": [],
   "source": []
  },
  {
   "cell_type": "markdown",
   "id": "5f58e008",
   "metadata": {},
   "source": [
    "2. bmi를 계산하고, 수치가 정상인 사람 수와 위험체중인 사람 수의 차이를 절대값으로 구하시오 (정수로 출력)\n",
    " - bmi(체질량지수): 몸무게(kg) / 키(m)의 제곱\n",
    "단위\n",
    "- Height: cm\n",
    "- Weight: kg\n",
    "\n",
    "\n",
    "- 저체중: BMI 18.5미만\n",
    "- 정상체중: BMI 18.5이상 ~ 23미만\n",
    "- 과체중 또는 위험체중: BMI 23 이상 ~ 25미만\n",
    "- 비만체중: 25이상"
   ]
  },
  {
   "cell_type": "code",
   "execution_count": 35,
   "id": "86ea4408",
   "metadata": {},
   "outputs": [
    {
     "name": "stdout",
     "output_type": "stream",
     "text": [
      "144\n"
     ]
    }
   ],
   "source": [
    "import pandas as pd\n",
    "df = pd.read_csv('5회 작업형1/5-2bmi.csv')\n",
    "# 구하는 단위에 주의해야한다.\n",
    "df['BMI'] = df['Weight'] / (df['Height']/100)**2\n",
    "cond1 = df['BMI'] >= 18.5 \n",
    "cond2 = df['BMI'] < 23\n",
    "cond3 = df['BMI'] >= 23\n",
    "cond4 = df['BMI'] < 25\n",
    "normal = df[cond1 & cond2]\n",
    "over = df[cond3 & cond4]\n",
    "print(abs(len(normal) - len(over)))"
   ]
  },
  {
   "cell_type": "code",
   "execution_count": null,
   "id": "3976cd60",
   "metadata": {},
   "outputs": [],
   "source": []
  },
  {
   "cell_type": "code",
   "execution_count": null,
   "id": "54a3adc2",
   "metadata": {},
   "outputs": [],
   "source": []
  },
  {
   "cell_type": "code",
   "execution_count": null,
   "id": "be089ab3",
   "metadata": {},
   "outputs": [],
   "source": []
  },
  {
   "cell_type": "markdown",
   "id": "082d22ba",
   "metadata": {},
   "source": [
    "3. 순전입학생(순전입 학생 = 전입 학생 - 전출 학생)이 가장 많은 학교의 전체학생수를 정수로 출력하시오"
   ]
  },
  {
   "cell_type": "code",
   "execution_count": 42,
   "id": "01fdd198",
   "metadata": {},
   "outputs": [
    {
     "name": "stdout",
     "output_type": "stream",
     "text": [
      "230\n"
     ]
    }
   ],
   "source": [
    "import pandas as pd\n",
    "df = pd.read_csv('5회 작업형1/5-3student.csv')\n",
    "df['순전입학생'] = df['전입학생수(계)']-df['전출학생수(계)']\n",
    "df = df.sort_values('순전입학생',ascending=False)\n",
    "print(int(df.iloc[0, -2]))"
   ]
  },
  {
   "cell_type": "code",
   "execution_count": null,
   "id": "57d9bbeb",
   "metadata": {},
   "outputs": [],
   "source": []
  },
  {
   "cell_type": "code",
   "execution_count": null,
   "id": "8105b946",
   "metadata": {},
   "outputs": [],
   "source": []
  },
  {
   "cell_type": "code",
   "execution_count": null,
   "id": "3dffcdd7",
   "metadata": {},
   "outputs": [],
   "source": []
  },
  {
   "cell_type": "code",
   "execution_count": null,
   "id": "4d617aa6",
   "metadata": {},
   "outputs": [],
   "source": []
  },
  {
   "cell_type": "code",
   "execution_count": null,
   "id": "87147142",
   "metadata": {},
   "outputs": [],
   "source": []
  }
 ],
 "metadata": {
  "kernelspec": {
   "display_name": "Python 3 (ipykernel)",
   "language": "python",
   "name": "python3"
  },
  "language_info": {
   "codemirror_mode": {
    "name": "ipython",
    "version": 3
   },
   "file_extension": ".py",
   "mimetype": "text/x-python",
   "name": "python",
   "nbconvert_exporter": "python",
   "pygments_lexer": "ipython3",
   "version": "3.9.7"
  }
 },
 "nbformat": 4,
 "nbformat_minor": 5
}
