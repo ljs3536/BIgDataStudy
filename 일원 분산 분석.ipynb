{
 "cells": [
  {
   "cell_type": "markdown",
   "id": "b380f1ec",
   "metadata": {},
   "source": [
    "# 일원 분산 분석\n",
    "주어진 데이터는 4가지 다른 교육 방법을 적용한 대학생들의 학점 결과이다. 이 실험에서는 비슷한 실력을 가진 학생 40명을 무작위로 4개(A, B, C, D)그룹으로 나누었고, 각 그룹은 다른 교육 방법을 적용했다. 학생들의 학점 결과에는 교육 방법에 따른 차이가 있는지 유의수준 0.5하에서 검정하시오.\n",
    "- 귀무가설(H0): 네 가지 교육 방법에 의한 학생들의 학점 평균은 동일하다.\n",
    "- 대립가설(H1): 적어도 두 그룹의 학점 평균은 다르다."
   ]
  },
  {
   "cell_type": "code",
   "execution_count": 2,
   "id": "a99a24bc",
   "metadata": {},
   "outputs": [
    {
     "name": "stdout",
     "output_type": "stream",
     "text": [
      "     A    B    C    D\n",
      "0  3.5  3.9  3.2  3.8\n",
      "1  4.3  4.4  3.7  3.4\n"
     ]
    }
   ],
   "source": [
    "import pandas as pd\n",
    "df = pd.DataFrame({\n",
    "    'A': [3.5, 4.3, 3.8, 3.6, 4.1, 3.2, 3.9, 4.4, 3.5, 3.3],\n",
    "    'B': [3.9, 4.4, 4.1, 4.2, 4.5, 3.8, 4.2, 3.9, 4.4, 4.3],\n",
    "    'C': [3.2, 3.7, 3.6, 3.9, 4.3, 4.1, 3.8, 3.5, 4.4, 4.0],\n",
    "    'D': [3.8, 3.4, 3.1, 3.5, 3.6, 3.9, 3.2, 3.7, 3.3, 3.4]\n",
    "})\n",
    "print(df.head(2))"
   ]
  },
  {
   "cell_type": "markdown",
   "id": "ac4fc23c",
   "metadata": {},
   "source": [
    "## 일원 분산 분석"
   ]
  },
  {
   "cell_type": "code",
   "execution_count": 3,
   "id": "29685e83",
   "metadata": {},
   "outputs": [
    {
     "data": {
      "text/plain": [
       "F_onewayResult(statistic=7.2969837587007, pvalue=0.0006053225519892207)"
      ]
     },
     "execution_count": 3,
     "metadata": {},
     "output_type": "execute_result"
    }
   ],
   "source": [
    "# 일원 분산 분석\n",
    "from scipy import stats\n",
    "stats.f_oneway(df['A'],df['B'],df['C'],df['D'])"
   ]
  },
  {
   "cell_type": "code",
   "execution_count": 6,
   "id": "8132c7f2",
   "metadata": {},
   "outputs": [
    {
     "name": "stdout",
     "output_type": "stream",
     "text": [
      "ShapiroResult(statistic=0.949882447719574, pvalue=0.667110025882721)\n",
      "ShapiroResult(statistic=0.9346448183059692, pvalue=0.49509772658348083)\n",
      "ShapiroResult(statistic=0.9871343374252319, pvalue=0.9919547438621521)\n",
      "ShapiroResult(statistic=0.9752339720726013, pvalue=0.934686005115509)\n",
      "LeveneResult(statistic=1.5433829973707245, pvalue=0.22000894224209636)\n",
      "F_onewayResult(statistic=7.2969837587007, pvalue=0.0006053225519892207)\n"
     ]
    }
   ],
   "source": [
    "# 정규성, 등분산, 일원 분산 분석\n",
    "# 0.05보다 pvalue가 크므로 정규분포 만족한다.\n",
    "# Shapiro-Wilk(샤피로-윌크) 정규성 검정\n",
    "print(stats.shapiro(df['A']))\n",
    "print(stats.shapiro(df['B']))\n",
    "print(stats.shapiro(df['C']))\n",
    "print(stats.shapiro(df['D']))\n",
    "# Leavene(레빈) 등분산 검정\n",
    "print(stats.levene(df['A'],df['B'],df['C'],df['D']))\n",
    "#  일원 분산 분석\n",
    "print(stats.f_oneway(df['A'],df['B'],df['C'],df['D']))"
   ]
  },
  {
   "cell_type": "markdown",
   "id": "ad05006d",
   "metadata": {},
   "source": [
    "# 2.심화"
   ]
  },
  {
   "cell_type": "code",
   "execution_count": 8,
   "id": "fb527248",
   "metadata": {},
   "outputs": [
    {
     "data": {
      "text/html": [
       "<div>\n",
       "<style scoped>\n",
       "    .dataframe tbody tr th:only-of-type {\n",
       "        vertical-align: middle;\n",
       "    }\n",
       "\n",
       "    .dataframe tbody tr th {\n",
       "        vertical-align: top;\n",
       "    }\n",
       "\n",
       "    .dataframe thead th {\n",
       "        text-align: right;\n",
       "    }\n",
       "</style>\n",
       "<table border=\"1\" class=\"dataframe\">\n",
       "  <thead>\n",
       "    <tr style=\"text-align: right;\">\n",
       "      <th></th>\n",
       "      <th>variable</th>\n",
       "      <th>value</th>\n",
       "    </tr>\n",
       "  </thead>\n",
       "  <tbody>\n",
       "    <tr>\n",
       "      <th>0</th>\n",
       "      <td>A</td>\n",
       "      <td>3.5</td>\n",
       "    </tr>\n",
       "    <tr>\n",
       "      <th>1</th>\n",
       "      <td>A</td>\n",
       "      <td>4.3</td>\n",
       "    </tr>\n",
       "    <tr>\n",
       "      <th>2</th>\n",
       "      <td>A</td>\n",
       "      <td>3.8</td>\n",
       "    </tr>\n",
       "    <tr>\n",
       "      <th>3</th>\n",
       "      <td>A</td>\n",
       "      <td>3.6</td>\n",
       "    </tr>\n",
       "    <tr>\n",
       "      <th>4</th>\n",
       "      <td>A</td>\n",
       "      <td>4.1</td>\n",
       "    </tr>\n",
       "  </tbody>\n",
       "</table>\n",
       "</div>"
      ],
      "text/plain": [
       "  variable  value\n",
       "0        A    3.5\n",
       "1        A    4.3\n",
       "2        A    3.8\n",
       "3        A    3.6\n",
       "4        A    4.1"
      ]
     },
     "execution_count": 8,
     "metadata": {},
     "output_type": "execute_result"
    }
   ],
   "source": [
    "# 데이터 재구조화\n",
    "df_melt = pd.melt(df)\n",
    "df_melt.head()"
   ]
  },
  {
   "cell_type": "markdown",
   "id": "4e26fa68",
   "metadata": {},
   "source": [
    "## 분산분석 테이블"
   ]
  },
  {
   "cell_type": "code",
   "execution_count": 11,
   "id": "a67a39c1",
   "metadata": {},
   "outputs": [
    {
     "data": {
      "text/html": [
       "<div>\n",
       "<style scoped>\n",
       "    .dataframe tbody tr th:only-of-type {\n",
       "        vertical-align: middle;\n",
       "    }\n",
       "\n",
       "    .dataframe tbody tr th {\n",
       "        vertical-align: top;\n",
       "    }\n",
       "\n",
       "    .dataframe thead th {\n",
       "        text-align: right;\n",
       "    }\n",
       "</style>\n",
       "<table border=\"1\" class=\"dataframe\">\n",
       "  <thead>\n",
       "    <tr style=\"text-align: right;\">\n",
       "      <th></th>\n",
       "      <th>df</th>\n",
       "      <th>sum_sq</th>\n",
       "      <th>mean_sq</th>\n",
       "      <th>F</th>\n",
       "      <th>PR(&gt;F)</th>\n",
       "    </tr>\n",
       "  </thead>\n",
       "  <tbody>\n",
       "    <tr>\n",
       "      <th>variable</th>\n",
       "      <td>3.0</td>\n",
       "      <td>2.35875</td>\n",
       "      <td>0.78625</td>\n",
       "      <td>7.296984</td>\n",
       "      <td>0.000605</td>\n",
       "    </tr>\n",
       "    <tr>\n",
       "      <th>Residual</th>\n",
       "      <td>36.0</td>\n",
       "      <td>3.87900</td>\n",
       "      <td>0.10775</td>\n",
       "      <td>NaN</td>\n",
       "      <td>NaN</td>\n",
       "    </tr>\n",
       "  </tbody>\n",
       "</table>\n",
       "</div>"
      ],
      "text/plain": [
       "            df   sum_sq  mean_sq         F    PR(>F)\n",
       "variable   3.0  2.35875  0.78625  7.296984  0.000605\n",
       "Residual  36.0  3.87900  0.10775       NaN       NaN"
      ]
     },
     "execution_count": 11,
     "metadata": {},
     "output_type": "execute_result"
    }
   ],
   "source": [
    "# ANOVA 테이블\n",
    "from statsmodels.formula.api import ols\n",
    "from statsmodels.stats.anova import anova_lm\n",
    "model = ols('value ~ variable', data=df_melt).fit()\n",
    "anova_lm(model)"
   ]
  },
  {
   "cell_type": "markdown",
   "id": "cd6af732",
   "metadata": {},
   "source": [
    "## 사후검정\n",
    "- 목적 : 어떤 그룹들 간에 통계적으로 유의미한 차이가 있는지 구체적으로 파악하는 것"
   ]
  },
  {
   "cell_type": "code",
   "execution_count": 15,
   "id": "9904d366",
   "metadata": {},
   "outputs": [
    {
     "name": "stdout",
     "output_type": "stream",
     "text": [
      "Multiple Comparison of Means - Tukey HSD, FWER=0.05 \n",
      "====================================================\n",
      "group1 group2 meandiff p-adj   lower   upper  reject\n",
      "----------------------------------------------------\n",
      "     A      B     0.41 0.0397  0.0146  0.8054   True\n",
      "     A      C     0.09    0.9 -0.3054  0.4854  False\n",
      "     A      D    -0.27 0.2723 -0.6654  0.1254  False\n",
      "     B      C    -0.32 0.1483 -0.7154  0.0754  False\n",
      "     B      D    -0.68  0.001 -1.0754 -0.2846   True\n",
      "     C      D    -0.36 0.0853 -0.7554  0.0354  False\n",
      "----------------------------------------------------\n",
      "Test Multiple Comparison ttest_ind \n",
      "FWER=0.05 method=bonf\n",
      "alphacSidak=0.01, alphacBonf=0.008\n",
      "=============================================\n",
      "group1 group2   stat   pval  pval_corr reject\n",
      "---------------------------------------------\n",
      "     A      B -2.7199  0.014    0.0843  False\n",
      "     A      C  -0.515 0.6128       1.0  False\n",
      "     A      D  1.7538 0.0965    0.5788  False\n",
      "     B      C  2.2975 0.0338    0.2028  False\n",
      "     B      D  6.0686    0.0    0.0001   True\n",
      "     C      D  2.5219 0.0213    0.1279  False\n",
      "---------------------------------------------\n"
     ]
    }
   ],
   "source": [
    "from scipy import stats\n",
    "from statsmodels.stats.multicomp import pairwise_tukeyhsd, MultiComparison\n",
    "\n",
    "# tukey HSD\n",
    "tukey_result = pairwise_tukeyhsd(df_melt['value'], df_melt['variable'],alpha=0.05)\n",
    "print(tukey_result.summary())\n",
    "\n",
    "# Bonferroni\n",
    "mc = MultiComparison(df_melt['value'], df_melt['variable'])\n",
    "bon_result = mc.allpairtest(stats.ttest_ind, method='bonf')\n",
    "print(bon_result[0])"
   ]
  },
  {
   "cell_type": "code",
   "execution_count": null,
   "id": "6878be4b",
   "metadata": {},
   "outputs": [],
   "source": [
    "# 크루스칼 왈리스 검정\n",
    "import pandas as pd\n",
    "from scipy import stats\n",
    "df = pd.DataFrame({\n",
    "    'A': [10.5, 11.3, 10.8, 10.6, 11.1, 10.2, 10.9, 11.4, 10.5, 10.3],\n",
    "    'B': [10.9, 11.4, 11.1, 11.2, 11.5, 10.8, 11.2, 10.9, 11.4, 11.3],\n",
    "    'C': [10.2, 10.7, 10.6, 10.9, 11.3, 11.1, 10.8, 10.5, 11.4, 11.0],\n",
    "    'D': [10.8, 10.4, 10.1, 10.5, 10.6, 10.9, 10.2, 10.7, 10.3, 10.4]\n",
    "})\n",
    "\n",
    "# 정규성 검정\n",
    "print(stats.shapiro(df['A']))"
   ]
  },
  {
   "cell_type": "code",
   "execution_count": null,
   "id": "c61a2f17",
   "metadata": {},
   "outputs": [],
   "source": []
  }
 ],
 "metadata": {
  "kernelspec": {
   "display_name": "Python 3 (ipykernel)",
   "language": "python",
   "name": "python3"
  },
  "language_info": {
   "codemirror_mode": {
    "name": "ipython",
    "version": 3
   },
   "file_extension": ".py",
   "mimetype": "text/x-python",
   "name": "python",
   "nbconvert_exporter": "python",
   "pygments_lexer": "ipython3",
   "version": "3.9.7"
  }
 },
 "nbformat": 4,
 "nbformat_minor": 5
}
