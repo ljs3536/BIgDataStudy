{
 "cells": [
  {
   "cell_type": "markdown",
   "id": "9a1debd0",
   "metadata": {},
   "source": [
    "# 일원 분산 분석\n",
    "주어진 데이터는 4가지 다른 교육 방법을 적용한 대학생들의 학점 결과이다. 이 실험에서는 비슷한 실력을 가진 학생 40명을 무작위로 4개(A, B, C, D)그룹으로 나누었고, 각 그룹은 다른 교육 방법을 적용했다. 학생들의 학점 결과에는 교육 방법에 따른 차이가 있는지 유의수준 0.5하에서 검정하시오.\n",
    "- 귀무가설(H0): 네 가지 교육 방법에 의한 학생들의 학점 평균은 동일하다.\n",
    "- 대립가설(H1): 적어도 두 그룹의 학점 평균은 다르다."
   ]
  },
  {
   "cell_type": "code",
   "execution_count": 2,
   "id": "705d6cf0",
   "metadata": {},
   "outputs": [
    {
     "name": "stdout",
     "output_type": "stream",
     "text": [
      "     A    B    C    D\n",
      "0  3.5  3.9  3.2  3.8\n",
      "1  4.3  4.4  3.7  3.4\n"
     ]
    }
   ],
   "source": [
    "import pandas as pd\n",
    "df = pd.DataFrame({\n",
    "    'A': [3.5, 4.3, 3.8, 3.6, 4.1, 3.2, 3.9, 4.4, 3.5, 3.3],\n",
    "    'B': [3.9, 4.4, 4.1, 4.2, 4.5, 3.8, 4.2, 3.9, 4.4, 4.3],\n",
    "    'C': [3.2, 3.7, 3.6, 3.9, 4.3, 4.1, 3.8, 3.5, 4.4, 4.0],\n",
    "    'D': [3.8, 3.4, 3.1, 3.5, 3.6, 3.9, 3.2, 3.7, 3.3, 3.4]\n",
    "})\n",
    "print(df.head(2))"
   ]
  },
  {
   "cell_type": "markdown",
   "id": "3e9c2552",
   "metadata": {},
   "source": [
    "## 일원 분산 분석"
   ]
  },
  {
   "cell_type": "code",
   "execution_count": 3,
   "id": "fb9737af",
   "metadata": {},
   "outputs": [
    {
     "data": {
      "text/plain": [
       "F_onewayResult(statistic=7.2969837587007, pvalue=0.0006053225519892207)"
      ]
     },
     "execution_count": 3,
     "metadata": {},
     "output_type": "execute_result"
    }
   ],
   "source": [
    "# 일원 분산 분석\n",
    "from scipy import stats\n",
    "stats.f_oneway(df['A'],df['B'],df['C'],df['D'])"
   ]
  },
  {
   "cell_type": "code",
   "execution_count": 5,
   "id": "653e8a30",
   "metadata": {},
   "outputs": [
    {
     "name": "stdout",
     "output_type": "stream",
     "text": [
      "ShapiroResult(statistic=0.949882447719574, pvalue=0.667110025882721)\n",
      "ShapiroResult(statistic=0.9346448183059692, pvalue=0.49509772658348083)\n",
      "ShapiroResult(statistic=0.9871343374252319, pvalue=0.9919547438621521)\n",
      "ShapiroResult(statistic=0.9752339720726013, pvalue=0.934686005115509)\n"
     ]
    },
    {
     "data": {
      "text/plain": [
       "LeveneResult(statistic=1.5433829973707245, pvalue=0.22000894224209636)"
      ]
     },
     "execution_count": 5,
     "metadata": {},
     "output_type": "execute_result"
    }
   ],
   "source": [
    "# 정규성, 등분산, 일원 분산 분석\n",
    "# 0.05보다 pvalue가 크므로 정규분포 만족한다.\n",
    "# Shapiro-Wilk(샤피로-윌크) 정규성 검정\n",
    "print(stats.shapiro(df['A']))\n",
    "print(stats.shapiro(df['B']))\n",
    "print(stats.shapiro(df['C']))\n",
    "print(stats.shapiro(df['D']))\n",
    "# Leavene(레빈) 등분산 검정\n",
    "print(stats.levene(df['A'],df['B'],df['C'],df['D']))\n",
    "#  일원 분산 분석\n",
    "stats.f_oneway(df['A'],df['B'],df['C'],df['D'])"
   ]
  },
  {
   "cell_type": "code",
   "execution_count": null,
   "id": "160e60d9",
   "metadata": {},
   "outputs": [],
   "source": []
  },
  {
   "cell_type": "code",
   "execution_count": null,
   "id": "aaf40855",
   "metadata": {},
   "outputs": [],
   "source": []
  },
  {
   "cell_type": "code",
   "execution_count": null,
   "id": "c00ae64b",
   "metadata": {},
   "outputs": [],
   "source": []
  },
  {
   "cell_type": "code",
   "execution_count": null,
   "id": "5e7293e9",
   "metadata": {},
   "outputs": [],
   "source": []
  },
  {
   "cell_type": "code",
   "execution_count": null,
   "id": "1c904b92",
   "metadata": {},
   "outputs": [],
   "source": []
  },
  {
   "cell_type": "code",
   "execution_count": null,
   "id": "4ab1073b",
   "metadata": {},
   "outputs": [],
   "source": []
  },
  {
   "cell_type": "code",
   "execution_count": null,
   "id": "22510cfe",
   "metadata": {},
   "outputs": [],
   "source": []
  },
  {
   "cell_type": "code",
   "execution_count": null,
   "id": "2bc9b22e",
   "metadata": {},
   "outputs": [],
   "source": []
  }
 ],
 "metadata": {
  "kernelspec": {
   "display_name": "Python 3 (ipykernel)",
   "language": "python",
   "name": "python3"
  },
  "language_info": {
   "codemirror_mode": {
    "name": "ipython",
    "version": 3
   },
   "file_extension": ".py",
   "mimetype": "text/x-python",
   "name": "python",
   "nbconvert_exporter": "python",
   "pygments_lexer": "ipython3",
   "version": "3.9.7"
  }
 },
 "nbformat": 4,
 "nbformat_minor": 5
}
