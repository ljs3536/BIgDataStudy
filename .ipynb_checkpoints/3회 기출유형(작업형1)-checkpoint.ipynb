{
 "cells": [
  {
   "cell_type": "markdown",
   "id": "dc2f211b",
   "metadata": {},
   "source": [
    "# 작업형1\n",
    "- 빅데이터 분석기사 3회 실기\n",
    "- 데이터: members.csv 또는 임의 데이터 생성"
   ]
  },
  {
   "cell_type": "markdown",
   "id": "294deaa8",
   "metadata": {},
   "source": [
    "## 문제1\n",
    "- 결측치 데이터(행)을 제거하고, 앞에서부터 70% 데이터만 활용해, 'f1' 컬럼 1사분위 값을 구하시오\n",
    "- 데이터: members.csv"
   ]
  },
  {
   "cell_type": "code",
   "execution_count": 13,
   "id": "b8c2bf5c",
   "metadata": {},
   "outputs": [
    {
     "name": "stdout",
     "output_type": "stream",
     "text": [
      "57.0\n"
     ]
    }
   ],
   "source": [
    "import pandas as pd\n",
    "df = pd.read_csv('members.csv')\n",
    "#rint(df.isnull().sum())\n",
    "#print(df.shape)\n",
    "df = df.dropna()\n",
    "#print(df.shape)\n",
    "\n",
    "#print(int(len(df) * 0.7))\n",
    "\n",
    "df = df.iloc[:int(len(df) * 0.7)]\n",
    "#print(df.shape)\n",
    "\n",
    "print(df['f1'].quantile(.25))"
   ]
  },
  {
   "cell_type": "markdown",
   "id": "92e0e230",
   "metadata": {},
   "source": [
    "## 문제2\n",
    "- index는 년도임. 2000년 데이터 중 2000년 평균보다 큰 값의 데이터 수\n",
    "- 데이터: 아래 셀 실행 "
   ]
  },
  {
   "cell_type": "code",
   "execution_count": 14,
   "id": "32323cdb",
   "metadata": {},
   "outputs": [
    {
     "data": {
      "text/html": [
       "<div>\n",
       "<style scoped>\n",
       "    .dataframe tbody tr th:only-of-type {\n",
       "        vertical-align: middle;\n",
       "    }\n",
       "\n",
       "    .dataframe tbody tr th {\n",
       "        vertical-align: top;\n",
       "    }\n",
       "\n",
       "    .dataframe thead th {\n",
       "        text-align: right;\n",
       "    }\n",
       "</style>\n",
       "<table border=\"1\" class=\"dataframe\">\n",
       "  <thead>\n",
       "    <tr style=\"text-align: right;\">\n",
       "      <th></th>\n",
       "      <th>0</th>\n",
       "      <th>1</th>\n",
       "      <th>2</th>\n",
       "      <th>3</th>\n",
       "      <th>4</th>\n",
       "      <th>5</th>\n",
       "      <th>6</th>\n",
       "      <th>7</th>\n",
       "      <th>8</th>\n",
       "      <th>9</th>\n",
       "      <th>...</th>\n",
       "      <th>190</th>\n",
       "      <th>191</th>\n",
       "      <th>192</th>\n",
       "      <th>193</th>\n",
       "      <th>194</th>\n",
       "      <th>195</th>\n",
       "      <th>196</th>\n",
       "      <th>197</th>\n",
       "      <th>198</th>\n",
       "      <th>199</th>\n",
       "    </tr>\n",
       "  </thead>\n",
       "  <tbody>\n",
       "    <tr>\n",
       "      <th>1999</th>\n",
       "      <td>137</td>\n",
       "      <td>74</td>\n",
       "      <td>114</td>\n",
       "      <td>140</td>\n",
       "      <td>80</td>\n",
       "      <td>150</td>\n",
       "      <td>16</td>\n",
       "      <td>133</td>\n",
       "      <td>178</td>\n",
       "      <td>181</td>\n",
       "      <td>...</td>\n",
       "      <td>124</td>\n",
       "      <td>94</td>\n",
       "      <td>118</td>\n",
       "      <td>12</td>\n",
       "      <td>50</td>\n",
       "      <td>191</td>\n",
       "      <td>137</td>\n",
       "      <td>174</td>\n",
       "      <td>56</td>\n",
       "      <td>128</td>\n",
       "    </tr>\n",
       "    <tr>\n",
       "      <th>2000</th>\n",
       "      <td>176</td>\n",
       "      <td>87</td>\n",
       "      <td>64</td>\n",
       "      <td>110</td>\n",
       "      <td>128</td>\n",
       "      <td>16</td>\n",
       "      <td>8</td>\n",
       "      <td>4</td>\n",
       "      <td>123</td>\n",
       "      <td>87</td>\n",
       "      <td>...</td>\n",
       "      <td>59</td>\n",
       "      <td>22</td>\n",
       "      <td>3</td>\n",
       "      <td>108</td>\n",
       "      <td>17</td>\n",
       "      <td>104</td>\n",
       "      <td>101</td>\n",
       "      <td>161</td>\n",
       "      <td>156</td>\n",
       "      <td>43</td>\n",
       "    </tr>\n",
       "    <tr>\n",
       "      <th>2001</th>\n",
       "      <td>128</td>\n",
       "      <td>132</td>\n",
       "      <td>123</td>\n",
       "      <td>112</td>\n",
       "      <td>134</td>\n",
       "      <td>160</td>\n",
       "      <td>180</td>\n",
       "      <td>47</td>\n",
       "      <td>115</td>\n",
       "      <td>155</td>\n",
       "      <td>...</td>\n",
       "      <td>160</td>\n",
       "      <td>111</td>\n",
       "      <td>116</td>\n",
       "      <td>75</td>\n",
       "      <td>48</td>\n",
       "      <td>51</td>\n",
       "      <td>81</td>\n",
       "      <td>101</td>\n",
       "      <td>194</td>\n",
       "      <td>73</td>\n",
       "    </tr>\n",
       "  </tbody>\n",
       "</table>\n",
       "<p>3 rows × 200 columns</p>\n",
       "</div>"
      ],
      "text/plain": [
       "      0    1    2    3    4    5    6    7    8    9    ...  190  191  192  \\\n",
       "1999  137   74  114  140   80  150   16  133  178  181  ...  124   94  118   \n",
       "2000  176   87   64  110  128   16    8    4  123   87  ...   59   22    3   \n",
       "2001  128  132  123  112  134  160  180   47  115  155  ...  160  111  116   \n",
       "\n",
       "      193  194  195  196  197  198  199  \n",
       "1999   12   50  191  137  174   56  128  \n",
       "2000  108   17  104  101  161  156   43  \n",
       "2001   75   48   51   81  101  194   73  \n",
       "\n",
       "[3 rows x 200 columns]"
      ]
     },
     "execution_count": 14,
     "metadata": {},
     "output_type": "execute_result"
    }
   ],
   "source": [
    "# 데이터 생성(먼저 실행해 주세요)\n",
    "import pandas as pd\n",
    "import random\n",
    "random.seed(2022)\n",
    "df = pd.DataFrame()\n",
    "for i in range(0, 3):\n",
    "    list_box = []\n",
    "    for k in range(0, 200):\n",
    "        ran_num = random.randint(1,200)\n",
    "        list_box.append(ran_num)\n",
    "    df[i+1999] = list_box\n",
    "df = df.T\n",
    "df"
   ]
  },
  {
   "cell_type": "code",
   "execution_count": 18,
   "id": "fce84a13",
   "metadata": {},
   "outputs": [
    {
     "name": "stdout",
     "output_type": "stream",
     "text": [
      "100\n"
     ]
    }
   ],
   "source": [
    "# 방법 1 # loc 사용\n",
    "m = df.loc[2000].mean()\n",
    "print(sum(df.loc[2000,:] > m)) "
   ]
  },
  {
   "cell_type": "code",
   "execution_count": 23,
   "id": "4b6270cf",
   "metadata": {},
   "outputs": [
    {
     "name": "stdout",
     "output_type": "stream",
     "text": [
      "100\n"
     ]
    }
   ],
   "source": [
    "# 방법 2 # 행과 열 변환\n",
    "#df = df.T  \n",
    "m = df[2000].mean()\n",
    "print(sum(df[2000] > m))"
   ]
  },
  {
   "cell_type": "markdown",
   "id": "4a0eeef6",
   "metadata": {},
   "source": [
    "## 문제3\n",
    "- 결측치가 제일 큰 값의 컬럼명\n",
    "- 데이터: members.csv"
   ]
  },
  {
   "cell_type": "code",
   "execution_count": 37,
   "id": "71003de4",
   "metadata": {},
   "outputs": [
    {
     "name": "stdout",
     "output_type": "stream",
     "text": [
      "f1\n"
     ]
    }
   ],
   "source": [
    "import pandas as pd\n",
    "df = pd.read_csv('members.csv')\n",
    "# 방법 1\n",
    "# df = df.isnull().sum()\n",
    "# df = df.sort_values(ascending = False)\n",
    "# print(df.index[0])\n",
    "\n",
    "# 방법 2\n",
    "df = df.isnull().sum()\n",
    "df = df.reset_index()\n",
    "print(df.loc[3,'index'])"
   ]
  },
  {
   "cell_type": "code",
   "execution_count": null,
   "id": "e7796139",
   "metadata": {},
   "outputs": [],
   "source": []
  },
  {
   "cell_type": "code",
   "execution_count": null,
   "id": "a9608049",
   "metadata": {},
   "outputs": [],
   "source": []
  },
  {
   "cell_type": "code",
   "execution_count": null,
   "id": "ebd9c20f",
   "metadata": {},
   "outputs": [],
   "source": []
  },
  {
   "cell_type": "code",
   "execution_count": null,
   "id": "e5378e6d",
   "metadata": {},
   "outputs": [],
   "source": []
  },
  {
   "cell_type": "code",
   "execution_count": null,
   "id": "75d47120",
   "metadata": {},
   "outputs": [],
   "source": []
  }
 ],
 "metadata": {
  "kernelspec": {
   "display_name": "Python 3 (ipykernel)",
   "language": "python",
   "name": "python3"
  },
  "language_info": {
   "codemirror_mode": {
    "name": "ipython",
    "version": 3
   },
   "file_extension": ".py",
   "mimetype": "text/x-python",
   "name": "python",
   "nbconvert_exporter": "python",
   "pygments_lexer": "ipython3",
   "version": "3.10.9"
  }
 },
 "nbformat": 4,
 "nbformat_minor": 5
}
