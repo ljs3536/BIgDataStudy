{
 "cells": [
  {
   "cell_type": "markdown",
   "id": "5e7e66db",
   "metadata": {},
   "source": [
    "# 2. 기초통계량 (평균, 중앙값, IQR, 표준 편차 등)\n",
    "\n",
    "### 1) 중심측도를 나타내는 값(평균, 중앙값, 최빈값)"
   ]
  },
  {
   "cell_type": "code",
   "execution_count": null,
   "id": "590bfce9",
   "metadata": {},
   "outputs": [],
   "source": []
  },
  {
   "cell_type": "code",
   "execution_count": null,
   "id": "24b783b3",
   "metadata": {},
   "outputs": [],
   "source": []
  },
  {
   "cell_type": "code",
   "execution_count": null,
   "id": "d5bdc76d",
   "metadata": {},
   "outputs": [],
   "source": []
  },
  {
   "cell_type": "code",
   "execution_count": null,
   "id": "d1d46ee5",
   "metadata": {},
   "outputs": [],
   "source": []
  }
 ],
 "metadata": {
  "kernelspec": {
   "display_name": "Python 3 (ipykernel)",
   "language": "python",
   "name": "python3"
  },
  "language_info": {
   "codemirror_mode": {
    "name": "ipython",
    "version": 3
   },
   "file_extension": ".py",
   "mimetype": "text/x-python",
   "name": "python",
   "nbconvert_exporter": "python",
   "pygments_lexer": "ipython3",
   "version": "3.9.7"
  }
 },
 "nbformat": 4,
 "nbformat_minor": 5
}
