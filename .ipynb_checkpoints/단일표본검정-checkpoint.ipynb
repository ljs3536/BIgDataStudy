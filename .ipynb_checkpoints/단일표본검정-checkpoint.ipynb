{
 "cells": [
  {
   "cell_type": "markdown",
   "id": "df42e6dd",
   "metadata": {},
   "source": [
    "# 단일표본검정"
   ]
  },
  {
   "cell_type": "markdown",
   "id": "4a401999",
   "metadata": {},
   "source": [
    "#### 나커피 유튜버는 최근 판매되는 \"합격 원두(dark)\" 상품의 실제 무게를 조사하였다. 제조사는 \"합격 원두(dark)\"의 무게를 120g라고 표기하였다. 나커피 유튜버는 이 주장이 사실인지 확인하기 위해 상품의 무게를 측정하였다. 다음은 30개의 상품 샘플의 무게 측정 결과다. 이 측정 결과를 바탕으로 제조사의 주장인 상품의 무게(120g)가 사실인지 검정해보시오. (데이터는 정규분포를 따른다고 가정한다.)\n",
    "\n",
    "- 귀무가설: μ = μ0, \"합격 원두(dark)\" 상품의 평균 무게는 120g이다.\n",
    "- 대립가설: μ ≠ μ0, \"합격 원두(dark)\" 상품의 평균 무게는 120g 아니다.\n",
    "- μ(뮤): 현재 조사하려는 상품의 실제 평균 무게\n",
    "- μ0(뮤 제로): 제조사가 주장하는 상품의 평균 무게(120g)"
   ]
  },
  {
   "cell_type": "markdown",
   "id": "da127c02",
   "metadata": {},
   "source": [
    "## 1.기초"
   ]
  },
  {
   "cell_type": "code",
   "execution_count": 1,
   "id": "5eaa8f4a",
   "metadata": {},
   "outputs": [],
   "source": [
    "import pandas as pd\n",
    "df = pd.DataFrame({\n",
    "    '무게':[119, 121, 121, 119, 125, 115, 121, 118, 117, 127,\n",
    "           123, 129, 119, 124, 114, 126, 122, 124, 121, 116,\n",
    "           123, 123, 127, 118, 122, 117, 124, 125, 123, 121],\n",
    "})"
   ]
  },
  {
   "cell_type": "markdown",
   "id": "3fa6c2c6",
   "metadata": {},
   "source": [
    "## 단일표본검정"
   ]
  },
  {
   "cell_type": "code",
   "execution_count": 2,
   "id": "f0f6bad5",
   "metadata": {},
   "outputs": [
    {
     "name": "stdout",
     "output_type": "stream",
     "text": [
      "Ttest_1sampResult(statistic=2.153709967150663, pvalue=0.03970987897788578)\n"
     ]
    }
   ],
   "source": [
    "# 단일표본검정\n",
    "from scipy import stats\n",
    "print(stats.ttest_1samp(df['무게'],120))\n"
   ]
  },
  {
   "cell_type": "code",
   "execution_count": 4,
   "id": "cd76244f",
   "metadata": {},
   "outputs": [
    {
     "name": "stdout",
     "output_type": "stream",
     "text": [
      "1.7.1\n"
     ]
    }
   ],
   "source": [
    "import scipy\n",
    "print(scipy.__version__)"
   ]
  },
  {
   "cell_type": "code",
   "execution_count": 5,
   "id": "64a821f9",
   "metadata": {},
   "outputs": [
    {
     "name": "stdout",
     "output_type": "stream",
     "text": [
      "Ttest_1sampResult(statistic=2.153709967150663, pvalue=0.03970987897788578)\n"
     ]
    }
   ],
   "source": [
    "# 대립가설: 합격 원두(dark)\" 상품의 평균 무게는 120g 아니다.\n",
    "print(stats.ttest_1samp(df['무게'],120, alternative='two-sided'))"
   ]
  },
  {
   "cell_type": "code",
   "execution_count": 6,
   "id": "10810e00",
   "metadata": {},
   "outputs": [
    {
     "name": "stdout",
     "output_type": "stream",
     "text": [
      "Ttest_1sampResult(statistic=2.153709967150663, pvalue=0.01985493948894289)\n"
     ]
    }
   ],
   "source": [
    "# 대립가설: 합격 원두(dark)\" 상품의 평균 무게는 120g 보다 크다\n",
    "print(stats.ttest_1samp(df['무게'],120, alternative='greater'))"
   ]
  },
  {
   "cell_type": "code",
   "execution_count": 7,
   "id": "cd1595dc",
   "metadata": {},
   "outputs": [
    {
     "name": "stdout",
     "output_type": "stream",
     "text": [
      "Ttest_1sampResult(statistic=2.153709967150663, pvalue=0.9801450605110571)\n"
     ]
    }
   ],
   "source": [
    "# 대립가설: 합격 원두(dark)\" 상품의 평균 무게는 120g 보다 작다\n",
    "print(stats.ttest_1samp(df['무게'],120, alternative='less'))"
   ]
  },
  {
   "cell_type": "code",
   "execution_count": null,
   "id": "af286b79",
   "metadata": {},
   "outputs": [],
   "source": []
  },
  {
   "cell_type": "markdown",
   "id": "209e759f",
   "metadata": {},
   "source": [
    "## 2.심화"
   ]
  },
  {
   "cell_type": "code",
   "execution_count": 8,
   "id": "477e29b5",
   "metadata": {},
   "outputs": [],
   "source": [
    "# 데이터 (정규성에 만족하지 않게 일부 변경)\n",
    "import pandas as pd\n",
    "df = pd.DataFrame({\n",
    "    '무게':[219, 121, 121, 119, 125, 115, 121, 118, 117, 127,\n",
    "           123, 129, 119, 124, 114, 126, 122, 124, 121, 116,\n",
    "           123, 123, 127, 118, 122, 117, 124, 125, 123, 121],\n",
    "})"
   ]
  },
  {
   "cell_type": "markdown",
   "id": "0f0743ec",
   "metadata": {},
   "source": [
    "### Shapiro-Wilk 검정\n",
    "- 귀무가설 (H0): 주어진 데이터 샘플은 정규 분포를 따른다.\n",
    "- 대립가설(H1): 주어진 데이터 샘플은 정규 분포를 따르지 않는다."
   ]
  },
  {
   "cell_type": "code",
   "execution_count": 11,
   "id": "79af8b06",
   "metadata": {},
   "outputs": [
    {
     "data": {
      "text/plain": [
       "ShapiroResult(statistic=0.3572896122932434, pvalue=2.2139187705327856e-10)"
      ]
     },
     "execution_count": 11,
     "metadata": {},
     "output_type": "execute_result"
    }
   ],
   "source": [
    "# Shapiro-Wilk(샤피로-윌크) 정규성 검정\n",
    "from scipy import stats\n",
    "stats.shapiro(df['무게'])"
   ]
  },
  {
   "cell_type": "code",
   "execution_count": 13,
   "id": "158a4041",
   "metadata": {},
   "outputs": [
    {
     "data": {
      "text/plain": [
       "'0.00000000022'"
      ]
     },
     "execution_count": 13,
     "metadata": {},
     "output_type": "execute_result"
    }
   ],
   "source": [
    "\"{:.11f}\".format(2.2139187705327856e-10)"
   ]
  },
  {
   "cell_type": "markdown",
   "id": "2fe13eb5",
   "metadata": {},
   "source": [
    "### Wilcoxon 검정 (비모수 검정)\n",
    "- 귀무가설 (H0): μ = μ0, \"합격 원두(dark)\" 상품의 평균 무게는 120g이다.\n",
    "- 대립가설(H1): μ < μ0, \"합격 원두(dark)\" 상품의 평균 무게는 120g 보다 작다"
   ]
  },
  {
   "cell_type": "code",
   "execution_count": 14,
   "id": "ed05d5fe",
   "metadata": {},
   "outputs": [
    {
     "data": {
      "text/plain": [
       "WilcoxonResult(statistic=341.0, pvalue=0.9874090523115628)"
      ]
     },
     "execution_count": 14,
     "metadata": {},
     "output_type": "execute_result"
    }
   ],
   "source": [
    "# Wilcoxon(윌콕슨)의 부호 순위 검정 수행\n",
    "stats.wilcoxon(df['무게'] - 120, alternative='less')"
   ]
  },
  {
   "cell_type": "code",
   "execution_count": null,
   "id": "9333e3b5",
   "metadata": {},
   "outputs": [],
   "source": []
  },
  {
   "cell_type": "code",
   "execution_count": null,
   "id": "3d375535",
   "metadata": {},
   "outputs": [],
   "source": []
  }
 ],
 "metadata": {
  "kernelspec": {
   "display_name": "Python 3 (ipykernel)",
   "language": "python",
   "name": "python3"
  },
  "language_info": {
   "codemirror_mode": {
    "name": "ipython",
    "version": 3
   },
   "file_extension": ".py",
   "mimetype": "text/x-python",
   "name": "python",
   "nbconvert_exporter": "python",
   "pygments_lexer": "ipython3",
   "version": "3.9.7"
  }
 },
 "nbformat": 4,
 "nbformat_minor": 5
}
