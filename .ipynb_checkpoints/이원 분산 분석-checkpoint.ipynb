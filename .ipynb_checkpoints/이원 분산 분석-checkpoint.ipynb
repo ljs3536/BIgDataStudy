{
 "cells": [
  {
   "cell_type": "markdown",
   "id": "b8e6da84",
   "metadata": {},
   "source": [
    "# 이원 분산 분석 \n",
    "가정에서 재배하고 있는 네 가지 토마토 종자(A, B, C, D)에 대해 세 가지 종류의 비료 (11, 12, 13)를 사용하여 재배된 토마토 수를 조사하였다. 종자 및 비료 종류 간의 토마토 수의 차이가 있는지 유의수준 0.05하에서 검정하시오.\n",
    "(단, 정규성, 등분산성에 만족한 데이터)\n",
    "- 종자 (주 효과)\n",
    "    - 귀무가설(H0): 종자 간의 토마토 수에 차이가 없다.\n",
    "    - 대립가설(H1): 적어도 하나의 종자에서 토마토 수에 차이가 있다.\n",
    "- 비료 (주 효과)\n",
    "    - 귀무가설(H0): 비료 종류 간의 토마토 수에 차이가 없다.\n",
    "    - 대립가설(H1): 적어도 하나의 비료 종류에서 토마토 수에 차이가 있다.\n",
    "- 상호작용 효과:\n",
    "    - 귀무가설(H0): 종자와 비료 간의 상호작용은 토마토 수에 영향을 미치지 않는다.\n",
    "    - 대립가설(H1): 종자와 비료 간의 상호작용은 토마토 수에 영향을 미친다.\n"
   ]
  },
  {
   "cell_type": "markdown",
   "id": "d0c36ffd",
   "metadata": {},
   "source": [
    "# 1.기초"
   ]
  },
  {
   "cell_type": "code",
   "execution_count": 2,
   "id": "2e35d5a5",
   "metadata": {},
   "outputs": [
    {
     "name": "stdout",
     "output_type": "stream",
     "text": [
      "  종자  비료  토마토수\n",
      "0  A  11    54\n",
      "1  A  11    48\n",
      "2  A  11    56\n",
      "3  A  11    65\n",
      "4  A  11    47 (120, 3)\n"
     ]
    }
   ],
   "source": [
    "import pandas as pd\n",
    "df = pd.read_csv('tomato.csv')\n",
    "print(df.head(),df.shape)"
   ]
  },
  {
   "cell_type": "markdown",
   "id": "1b8e5abc",
   "metadata": {},
   "source": [
    "## 이원 분산 분석"
   ]
  },
  {
   "cell_type": "code",
   "execution_count": 4,
   "id": "d778fbb4",
   "metadata": {},
   "outputs": [
    {
     "data": {
      "text/html": [
       "<div>\n",
       "<style scoped>\n",
       "    .dataframe tbody tr th:only-of-type {\n",
       "        vertical-align: middle;\n",
       "    }\n",
       "\n",
       "    .dataframe tbody tr th {\n",
       "        vertical-align: top;\n",
       "    }\n",
       "\n",
       "    .dataframe thead th {\n",
       "        text-align: right;\n",
       "    }\n",
       "</style>\n",
       "<table border=\"1\" class=\"dataframe\">\n",
       "  <thead>\n",
       "    <tr style=\"text-align: right;\">\n",
       "      <th></th>\n",
       "      <th>df</th>\n",
       "      <th>sum_sq</th>\n",
       "      <th>mean_sq</th>\n",
       "      <th>F</th>\n",
       "      <th>PR(&gt;F)</th>\n",
       "    </tr>\n",
       "  </thead>\n",
       "  <tbody>\n",
       "    <tr>\n",
       "      <th>종자</th>\n",
       "      <td>3.0</td>\n",
       "      <td>4801.000000</td>\n",
       "      <td>1600.333333</td>\n",
       "      <td>18.297521</td>\n",
       "      <td>9.892196e-10</td>\n",
       "    </tr>\n",
       "    <tr>\n",
       "      <th>비료</th>\n",
       "      <td>1.0</td>\n",
       "      <td>877.812500</td>\n",
       "      <td>877.812500</td>\n",
       "      <td>10.036530</td>\n",
       "      <td>1.978360e-03</td>\n",
       "    </tr>\n",
       "    <tr>\n",
       "      <th>종자:비료</th>\n",
       "      <td>3.0</td>\n",
       "      <td>406.137500</td>\n",
       "      <td>135.379167</td>\n",
       "      <td>1.547867</td>\n",
       "      <td>2.061233e-01</td>\n",
       "    </tr>\n",
       "    <tr>\n",
       "      <th>Residual</th>\n",
       "      <td>112.0</td>\n",
       "      <td>9795.716667</td>\n",
       "      <td>87.461756</td>\n",
       "      <td>NaN</td>\n",
       "      <td>NaN</td>\n",
       "    </tr>\n",
       "  </tbody>\n",
       "</table>\n",
       "</div>"
      ],
      "text/plain": [
       "             df       sum_sq      mean_sq          F        PR(>F)\n",
       "종자          3.0  4801.000000  1600.333333  18.297521  9.892196e-10\n",
       "비료          1.0   877.812500   877.812500  10.036530  1.978360e-03\n",
       "종자:비료       3.0   406.137500   135.379167   1.547867  2.061233e-01\n",
       "Residual  112.0  9795.716667    87.461756        NaN           NaN"
      ]
     },
     "execution_count": 4,
     "metadata": {},
     "output_type": "execute_result"
    }
   ],
   "source": [
    "from statsmodels.formula.api import ols\n",
    "from statsmodels.stats.anova import anova_lm\n",
    "model = ols('토마토수 ~ 종자 + 비료 + 종자:비료', data = df).fit()\n",
    "anova_lm(model)"
   ]
  },
  {
   "cell_type": "code",
   "execution_count": 5,
   "id": "def3c438",
   "metadata": {},
   "outputs": [
    {
     "data": {
      "text/html": [
       "<div>\n",
       "<style scoped>\n",
       "    .dataframe tbody tr th:only-of-type {\n",
       "        vertical-align: middle;\n",
       "    }\n",
       "\n",
       "    .dataframe tbody tr th {\n",
       "        vertical-align: top;\n",
       "    }\n",
       "\n",
       "    .dataframe thead th {\n",
       "        text-align: right;\n",
       "    }\n",
       "</style>\n",
       "<table border=\"1\" class=\"dataframe\">\n",
       "  <thead>\n",
       "    <tr style=\"text-align: right;\">\n",
       "      <th></th>\n",
       "      <th>df</th>\n",
       "      <th>sum_sq</th>\n",
       "      <th>mean_sq</th>\n",
       "      <th>F</th>\n",
       "      <th>PR(&gt;F)</th>\n",
       "    </tr>\n",
       "  </thead>\n",
       "  <tbody>\n",
       "    <tr>\n",
       "      <th>C(종자)</th>\n",
       "      <td>3.0</td>\n",
       "      <td>4801.000000</td>\n",
       "      <td>1600.333333</td>\n",
       "      <td>18.757977</td>\n",
       "      <td>7.254117e-10</td>\n",
       "    </tr>\n",
       "    <tr>\n",
       "      <th>C(비료)</th>\n",
       "      <td>2.0</td>\n",
       "      <td>1140.316667</td>\n",
       "      <td>570.158333</td>\n",
       "      <td>6.682993</td>\n",
       "      <td>1.835039e-03</td>\n",
       "    </tr>\n",
       "    <tr>\n",
       "      <th>C(종자):C(비료)</th>\n",
       "      <td>6.0</td>\n",
       "      <td>725.350000</td>\n",
       "      <td>120.891667</td>\n",
       "      <td>1.417007</td>\n",
       "      <td>2.146636e-01</td>\n",
       "    </tr>\n",
       "    <tr>\n",
       "      <th>Residual</th>\n",
       "      <td>108.0</td>\n",
       "      <td>9214.000000</td>\n",
       "      <td>85.314815</td>\n",
       "      <td>NaN</td>\n",
       "      <td>NaN</td>\n",
       "    </tr>\n",
       "  </tbody>\n",
       "</table>\n",
       "</div>"
      ],
      "text/plain": [
       "                df       sum_sq      mean_sq          F        PR(>F)\n",
       "C(종자)          3.0  4801.000000  1600.333333  18.757977  7.254117e-10\n",
       "C(비료)          2.0  1140.316667   570.158333   6.682993  1.835039e-03\n",
       "C(종자):C(비료)    6.0   725.350000   120.891667   1.417007  2.146636e-01\n",
       "Residual     108.0  9214.000000    85.314815        NaN           NaN"
      ]
     },
     "execution_count": 5,
     "metadata": {},
     "output_type": "execute_result"
    }
   ],
   "source": [
    "# 범주형 데이터 처리 \n",
    "from statsmodels.formula.api import ols\n",
    "from statsmodels.stats.anova import anova_lm\n",
    "model = ols('토마토수 ~ C(종자) + C(비료) + C(종자):C(비료)', data = df).fit()\n",
    "anova_lm(model)"
   ]
  },
  {
   "cell_type": "code",
   "execution_count": 8,
   "id": "41264f52",
   "metadata": {},
   "outputs": [
    {
     "name": "stdout",
     "output_type": "stream",
     "text": [
      "0.0000000007\n",
      "0.0018350390\n",
      "0.2146636000\n"
     ]
    }
   ],
   "source": [
    "# 일반표기법 format(지수표기법, '.10f')\n",
    "print(format(7.254117e-10, '.10f'))\n",
    "print(format(1.835039e-03, '.10f'))\n",
    "print(format(2.146636e-01, '.10f'))"
   ]
  },
  {
   "cell_type": "code",
   "execution_count": 10,
   "id": "80cc0c35",
   "metadata": {},
   "outputs": [
    {
     "data": {
      "text/html": [
       "<div>\n",
       "<style scoped>\n",
       "    .dataframe tbody tr th:only-of-type {\n",
       "        vertical-align: middle;\n",
       "    }\n",
       "\n",
       "    .dataframe tbody tr th {\n",
       "        vertical-align: top;\n",
       "    }\n",
       "\n",
       "    .dataframe thead th {\n",
       "        text-align: right;\n",
       "    }\n",
       "</style>\n",
       "<table border=\"1\" class=\"dataframe\">\n",
       "  <thead>\n",
       "    <tr style=\"text-align: right;\">\n",
       "      <th></th>\n",
       "      <th>df</th>\n",
       "      <th>sum_sq</th>\n",
       "      <th>mean_sq</th>\n",
       "      <th>F</th>\n",
       "      <th>PR(&gt;F)</th>\n",
       "    </tr>\n",
       "  </thead>\n",
       "  <tbody>\n",
       "    <tr>\n",
       "      <th>C(종자)</th>\n",
       "      <td>3.0</td>\n",
       "      <td>4801.000000</td>\n",
       "      <td>1600.333333</td>\n",
       "      <td>18.757977</td>\n",
       "      <td>7.254117e-10</td>\n",
       "    </tr>\n",
       "    <tr>\n",
       "      <th>C(비료)</th>\n",
       "      <td>2.0</td>\n",
       "      <td>1140.316667</td>\n",
       "      <td>570.158333</td>\n",
       "      <td>6.682993</td>\n",
       "      <td>1.835039e-03</td>\n",
       "    </tr>\n",
       "    <tr>\n",
       "      <th>C(종자):C(비료)</th>\n",
       "      <td>6.0</td>\n",
       "      <td>725.350000</td>\n",
       "      <td>120.891667</td>\n",
       "      <td>1.417007</td>\n",
       "      <td>2.146636e-01</td>\n",
       "    </tr>\n",
       "    <tr>\n",
       "      <th>Residual</th>\n",
       "      <td>108.0</td>\n",
       "      <td>9214.000000</td>\n",
       "      <td>85.314815</td>\n",
       "      <td>NaN</td>\n",
       "      <td>NaN</td>\n",
       "    </tr>\n",
       "  </tbody>\n",
       "</table>\n",
       "</div>"
      ],
      "text/plain": [
       "                df       sum_sq      mean_sq          F        PR(>F)\n",
       "C(종자)          3.0  4801.000000  1600.333333  18.757977  7.254117e-10\n",
       "C(비료)          2.0  1140.316667   570.158333   6.682993  1.835039e-03\n",
       "C(종자):C(비료)    6.0   725.350000   120.891667   1.417007  2.146636e-01\n",
       "Residual     108.0  9214.000000    85.314815        NaN           NaN"
      ]
     },
     "execution_count": 10,
     "metadata": {},
     "output_type": "execute_result"
    }
   ],
   "source": [
    "# formula + 활용\n",
    "from statsmodels.formula.api import ols\n",
    "from statsmodels.stats.anova import anova_lm\n",
    "#model = ols('토마토수 ~ C(종자) + C(비료) + C(종자):C(비료)', data = df).fit()\n",
    "model = ols('토마토수 ~ C(종자) * C(비료)', data = df).fit()\n",
    "anova_lm(model)"
   ]
  },
  {
   "cell_type": "markdown",
   "id": "e0a74aa3",
   "metadata": {},
   "source": [
    "# 2.심화"
   ]
  },
  {
   "cell_type": "markdown",
   "id": "be9af9d1",
   "metadata": {},
   "source": [
    "## 사후검정"
   ]
  },
  {
   "cell_type": "code",
   "execution_count": 11,
   "id": "d8368f09",
   "metadata": {},
   "outputs": [
    {
     "data": {
      "text/html": [
       "<div>\n",
       "<style scoped>\n",
       "    .dataframe tbody tr th:only-of-type {\n",
       "        vertical-align: middle;\n",
       "    }\n",
       "\n",
       "    .dataframe tbody tr th {\n",
       "        vertical-align: top;\n",
       "    }\n",
       "\n",
       "    .dataframe thead th {\n",
       "        text-align: right;\n",
       "    }\n",
       "</style>\n",
       "<table border=\"1\" class=\"dataframe\">\n",
       "  <thead>\n",
       "    <tr style=\"text-align: right;\">\n",
       "      <th></th>\n",
       "      <th>df</th>\n",
       "      <th>sum_sq</th>\n",
       "      <th>mean_sq</th>\n",
       "      <th>F</th>\n",
       "      <th>PR(&gt;F)</th>\n",
       "    </tr>\n",
       "  </thead>\n",
       "  <tbody>\n",
       "    <tr>\n",
       "      <th>C(종자)</th>\n",
       "      <td>3.0</td>\n",
       "      <td>4801.000000</td>\n",
       "      <td>1600.333333</td>\n",
       "      <td>18.757977</td>\n",
       "      <td>7.254117e-10</td>\n",
       "    </tr>\n",
       "    <tr>\n",
       "      <th>C(비료)</th>\n",
       "      <td>2.0</td>\n",
       "      <td>1140.316667</td>\n",
       "      <td>570.158333</td>\n",
       "      <td>6.682993</td>\n",
       "      <td>1.835039e-03</td>\n",
       "    </tr>\n",
       "    <tr>\n",
       "      <th>C(종자):C(비료)</th>\n",
       "      <td>6.0</td>\n",
       "      <td>725.350000</td>\n",
       "      <td>120.891667</td>\n",
       "      <td>1.417007</td>\n",
       "      <td>2.146636e-01</td>\n",
       "    </tr>\n",
       "    <tr>\n",
       "      <th>Residual</th>\n",
       "      <td>108.0</td>\n",
       "      <td>9214.000000</td>\n",
       "      <td>85.314815</td>\n",
       "      <td>NaN</td>\n",
       "      <td>NaN</td>\n",
       "    </tr>\n",
       "  </tbody>\n",
       "</table>\n",
       "</div>"
      ],
      "text/plain": [
       "                df       sum_sq      mean_sq          F        PR(>F)\n",
       "C(종자)          3.0  4801.000000  1600.333333  18.757977  7.254117e-10\n",
       "C(비료)          2.0  1140.316667   570.158333   6.682993  1.835039e-03\n",
       "C(종자):C(비료)    6.0   725.350000   120.891667   1.417007  2.146636e-01\n",
       "Residual     108.0  9214.000000    85.314815        NaN           NaN"
      ]
     },
     "execution_count": 11,
     "metadata": {},
     "output_type": "execute_result"
    }
   ],
   "source": [
    "# 이원 분산 분석 수행\n",
    "model = ols('토마토수 ~ C(종자) + C(비료) + C(종자):C(비료)', data = df).fit()\n",
    "anova_lm(model)"
   ]
  },
  {
   "cell_type": "code",
   "execution_count": 12,
   "id": "045b59be",
   "metadata": {},
   "outputs": [
    {
     "name": "stdout",
     "output_type": "stream",
     "text": [
      "Multiple Comparison of Means - Tukey HSD, FWER=0.05 \n",
      "====================================================\n",
      "group1 group2 meandiff p-adj   lower   upper  reject\n",
      "----------------------------------------------------\n",
      "     A      B   5.7333 0.1107 -0.8448 12.3115  False\n",
      "     A      C     12.1  0.001  5.5219 18.6781   True\n",
      "     A      D     16.7  0.001 10.1219 23.2781   True\n",
      "     B      C   6.3667 0.0617 -0.2115 12.9448  False\n",
      "     B      D  10.9667  0.001  4.3885 17.5448   True\n",
      "     C      D      4.6  0.268 -1.9781 11.1781  False\n",
      "----------------------------------------------------\n",
      "Multiple Comparison of Means - Tukey HSD, FWER=0.05 \n",
      "====================================================\n",
      "group1 group2 meandiff p-adj   lower   upper  reject\n",
      "----------------------------------------------------\n",
      "    11     12    0.175    0.9 -5.7836  6.1336  False\n",
      "    11     13    6.625 0.0254  0.6664 12.5836   True\n",
      "    12     13     6.45 0.0305  0.4914 12.4086   True\n",
      "----------------------------------------------------\n"
     ]
    }
   ],
   "source": [
    "from statsmodels.stats.multicomp import pairwise_tukeyhsd\n",
    "\n",
    "# Tukey HSD\n",
    "tukey_summary1 = pairwise_tukeyhsd(df['토마토수'], df['종자'], alpha=0.05)\n",
    "tukey_summary2 = pairwise_tukeyhsd(df['토마토수'], df['비료'].astype(str), alpha=0.05)\n",
    "print(tukey_summary1)\n",
    "print(tukey_summary2)"
   ]
  },
  {
   "cell_type": "code",
   "execution_count": 18,
   "id": "bed2a5f1",
   "metadata": {},
   "outputs": [
    {
     "name": "stdout",
     "output_type": "stream",
     "text": [
      "Test Multiple Comparison ttest_ind \n",
      "FWER=0.05 method=bonf\n",
      "alphacSidak=0.01, alphacBonf=0.008\n",
      "=============================================\n",
      "group1 group2   stat   pval  pval_corr reject\n",
      "---------------------------------------------\n",
      "     A      B -2.3457 0.0224    0.1346  False\n",
      "     A      C -4.9096    0.0       0.0   True\n",
      "     A      D -7.0162    0.0       0.0   True\n",
      "     B      C -2.3944 0.0199    0.1194  False\n",
      "     B      D -4.2491 0.0001    0.0005   True\n",
      "     C      D -1.7691 0.0821    0.4928  False\n",
      "---------------------------------------------\n",
      "Test Multiple Comparison ttest_ind \n",
      "FWER=0.05 method=bonf\n",
      "alphacSidak=0.02, alphacBonf=0.017\n",
      "=============================================\n",
      "group1 group2   stat   pval  pval_corr reject\n",
      "---------------------------------------------\n",
      "    11     12 -0.0691 0.9451       1.0  False\n",
      "    11     13 -2.8722 0.0052    0.0157   True\n",
      "    12     13  -2.411 0.0183    0.0548  False\n",
      "---------------------------------------------\n"
     ]
    }
   ],
   "source": [
    "# Bonferroni\n",
    "from scipy import stats\n",
    "from statsmodels.stats.multicomp import MultiComparison\n",
    "\n",
    "mc = MultiComparison(df['토마토수'],df['종자'])\n",
    "bon_result = mc.allpairtest(stats.ttest_ind, method='bonf')\n",
    "print(bon_result[0])\n",
    "\n",
    "mc = MultiComparison(df['토마토수'],df['비료'].astype(str))\n",
    "bon_result = mc.allpairtest(stats.ttest_ind, method='bonf')\n",
    "print(bon_result[0])"
   ]
  },
  {
   "cell_type": "code",
   "execution_count": null,
   "id": "818ac032",
   "metadata": {},
   "outputs": [],
   "source": []
  },
  {
   "cell_type": "code",
   "execution_count": null,
   "id": "3a5fa6c7",
   "metadata": {},
   "outputs": [],
   "source": []
  }
 ],
 "metadata": {
  "kernelspec": {
   "display_name": "Python 3 (ipykernel)",
   "language": "python",
   "name": "python3"
  },
  "language_info": {
   "codemirror_mode": {
    "name": "ipython",
    "version": 3
   },
   "file_extension": ".py",
   "mimetype": "text/x-python",
   "name": "python",
   "nbconvert_exporter": "python",
   "pygments_lexer": "ipython3",
   "version": "3.9.7"
  }
 },
 "nbformat": 4,
 "nbformat_minor": 5
}
