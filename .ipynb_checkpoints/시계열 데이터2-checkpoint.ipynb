{
 "cells": [
  {
   "cell_type": "code",
   "execution_count": 3,
   "id": "c74c9cf8",
   "metadata": {
    "scrolled": true
   },
   "outputs": [
    {
     "data": {
      "text/html": [
       "<div>\n",
       "<style scoped>\n",
       "    .dataframe tbody tr th:only-of-type {\n",
       "        vertical-align: middle;\n",
       "    }\n",
       "\n",
       "    .dataframe tbody tr th {\n",
       "        vertical-align: top;\n",
       "    }\n",
       "\n",
       "    .dataframe thead th {\n",
       "        text-align: right;\n",
       "    }\n",
       "</style>\n",
       "<table border=\"1\" class=\"dataframe\">\n",
       "  <thead>\n",
       "    <tr style=\"text-align: right;\">\n",
       "      <th></th>\n",
       "      <th>DateTime4</th>\n",
       "    </tr>\n",
       "  </thead>\n",
       "  <tbody>\n",
       "    <tr>\n",
       "      <th>0</th>\n",
       "      <td>2024-02-17 11:45:30</td>\n",
       "    </tr>\n",
       "    <tr>\n",
       "      <th>1</th>\n",
       "      <td>2024-02-18 12:55:45</td>\n",
       "    </tr>\n",
       "    <tr>\n",
       "      <th>2</th>\n",
       "      <td>2024-02-19 13:30:15</td>\n",
       "    </tr>\n",
       "  </tbody>\n",
       "</table>\n",
       "</div>"
      ],
      "text/plain": [
       "            DateTime4\n",
       "0 2024-02-17 11:45:30\n",
       "1 2024-02-18 12:55:45\n",
       "2 2024-02-19 13:30:15"
      ]
     },
     "execution_count": 3,
     "metadata": {},
     "output_type": "execute_result"
    }
   ],
   "source": [
    "# 데이터 불러오기 (usecols, parse_dates)\n",
    "import pandas as pd\n",
    "df = pd.read_csv(\"date.csv\", usecols=['DateTime4'], parse_dates=['DateTime4'])\n",
    "df"
   ]
  },
  {
   "cell_type": "code",
   "execution_count": 4,
   "id": "0ba02122",
   "metadata": {},
   "outputs": [
    {
     "data": {
      "text/html": [
       "<div>\n",
       "<style scoped>\n",
       "    .dataframe tbody tr th:only-of-type {\n",
       "        vertical-align: middle;\n",
       "    }\n",
       "\n",
       "    .dataframe tbody tr th {\n",
       "        vertical-align: top;\n",
       "    }\n",
       "\n",
       "    .dataframe thead th {\n",
       "        text-align: right;\n",
       "    }\n",
       "</style>\n",
       "<table border=\"1\" class=\"dataframe\">\n",
       "  <thead>\n",
       "    <tr style=\"text-align: right;\">\n",
       "      <th></th>\n",
       "      <th>DateTime4</th>\n",
       "      <th>100일</th>\n",
       "    </tr>\n",
       "  </thead>\n",
       "  <tbody>\n",
       "    <tr>\n",
       "      <th>0</th>\n",
       "      <td>2024-02-17 11:45:30</td>\n",
       "      <td>2024-05-26 11:45:30</td>\n",
       "    </tr>\n",
       "    <tr>\n",
       "      <th>1</th>\n",
       "      <td>2024-02-18 12:55:45</td>\n",
       "      <td>2024-05-27 12:55:45</td>\n",
       "    </tr>\n",
       "    <tr>\n",
       "      <th>2</th>\n",
       "      <td>2024-02-19 13:30:15</td>\n",
       "      <td>2024-05-28 13:30:15</td>\n",
       "    </tr>\n",
       "  </tbody>\n",
       "</table>\n",
       "</div>"
      ],
      "text/plain": [
       "            DateTime4                100일\n",
       "0 2024-02-17 11:45:30 2024-05-26 11:45:30\n",
       "1 2024-02-18 12:55:45 2024-05-27 12:55:45\n",
       "2 2024-02-19 13:30:15 2024-05-28 13:30:15"
      ]
     },
     "execution_count": 4,
     "metadata": {},
     "output_type": "execute_result"
    }
   ],
   "source": [
    "# 100일째 되는 날\n",
    "day = pd.Timedelta(days=99)\n",
    "df['100일'] = df['DateTime4'] + day\n",
    "df"
   ]
  },
  {
   "cell_type": "code",
   "execution_count": 5,
   "id": "fae4463c",
   "metadata": {},
   "outputs": [
    {
     "data": {
      "text/html": [
       "<div>\n",
       "<style scoped>\n",
       "    .dataframe tbody tr th:only-of-type {\n",
       "        vertical-align: middle;\n",
       "    }\n",
       "\n",
       "    .dataframe tbody tr th {\n",
       "        vertical-align: top;\n",
       "    }\n",
       "\n",
       "    .dataframe thead th {\n",
       "        text-align: right;\n",
       "    }\n",
       "</style>\n",
       "<table border=\"1\" class=\"dataframe\">\n",
       "  <thead>\n",
       "    <tr style=\"text-align: right;\">\n",
       "      <th></th>\n",
       "      <th>DateTime4</th>\n",
       "      <th>100일</th>\n",
       "      <th>100시간</th>\n",
       "    </tr>\n",
       "  </thead>\n",
       "  <tbody>\n",
       "    <tr>\n",
       "      <th>0</th>\n",
       "      <td>2024-02-17 11:45:30</td>\n",
       "      <td>2024-05-26 11:45:30</td>\n",
       "      <td>2024-02-21 15:45:30</td>\n",
       "    </tr>\n",
       "    <tr>\n",
       "      <th>1</th>\n",
       "      <td>2024-02-18 12:55:45</td>\n",
       "      <td>2024-05-27 12:55:45</td>\n",
       "      <td>2024-02-22 16:55:45</td>\n",
       "    </tr>\n",
       "    <tr>\n",
       "      <th>2</th>\n",
       "      <td>2024-02-19 13:30:15</td>\n",
       "      <td>2024-05-28 13:30:15</td>\n",
       "      <td>2024-02-23 17:30:15</td>\n",
       "    </tr>\n",
       "  </tbody>\n",
       "</table>\n",
       "</div>"
      ],
      "text/plain": [
       "            DateTime4                100일               100시간\n",
       "0 2024-02-17 11:45:30 2024-05-26 11:45:30 2024-02-21 15:45:30\n",
       "1 2024-02-18 12:55:45 2024-05-27 12:55:45 2024-02-22 16:55:45\n",
       "2 2024-02-19 13:30:15 2024-05-28 13:30:15 2024-02-23 17:30:15"
      ]
     },
     "execution_count": 5,
     "metadata": {},
     "output_type": "execute_result"
    }
   ],
   "source": [
    "# 100시간 이후\n",
    "hour = pd.Timedelta(hours=100)\n",
    "df['100시간'] = df['DateTime4'] + hour\n",
    "df"
   ]
  },
  {
   "cell_type": "code",
   "execution_count": 6,
   "id": "4b565854",
   "metadata": {},
   "outputs": [
    {
     "data": {
      "text/html": [
       "<div>\n",
       "<style scoped>\n",
       "    .dataframe tbody tr th:only-of-type {\n",
       "        vertical-align: middle;\n",
       "    }\n",
       "\n",
       "    .dataframe tbody tr th {\n",
       "        vertical-align: top;\n",
       "    }\n",
       "\n",
       "    .dataframe thead th {\n",
       "        text-align: right;\n",
       "    }\n",
       "</style>\n",
       "<table border=\"1\" class=\"dataframe\">\n",
       "  <thead>\n",
       "    <tr style=\"text-align: right;\">\n",
       "      <th></th>\n",
       "      <th>DateTime4</th>\n",
       "      <th>100일</th>\n",
       "      <th>100시간</th>\n",
       "      <th>+diff</th>\n",
       "      <th>-diff</th>\n",
       "    </tr>\n",
       "  </thead>\n",
       "  <tbody>\n",
       "    <tr>\n",
       "      <th>0</th>\n",
       "      <td>2024-02-17 11:45:30</td>\n",
       "      <td>2024-05-26 11:45:30</td>\n",
       "      <td>2024-02-21 15:45:30</td>\n",
       "      <td>2024-03-12 14:48:33</td>\n",
       "      <td>2024-01-24 08:42:27</td>\n",
       "    </tr>\n",
       "    <tr>\n",
       "      <th>1</th>\n",
       "      <td>2024-02-18 12:55:45</td>\n",
       "      <td>2024-05-27 12:55:45</td>\n",
       "      <td>2024-02-22 16:55:45</td>\n",
       "      <td>2024-03-13 15:58:48</td>\n",
       "      <td>2024-01-25 09:52:42</td>\n",
       "    </tr>\n",
       "    <tr>\n",
       "      <th>2</th>\n",
       "      <td>2024-02-19 13:30:15</td>\n",
       "      <td>2024-05-28 13:30:15</td>\n",
       "      <td>2024-02-23 17:30:15</td>\n",
       "      <td>2024-03-14 16:33:18</td>\n",
       "      <td>2024-01-26 10:27:12</td>\n",
       "    </tr>\n",
       "  </tbody>\n",
       "</table>\n",
       "</div>"
      ],
      "text/plain": [
       "            DateTime4                100일               100시간  \\\n",
       "0 2024-02-17 11:45:30 2024-05-26 11:45:30 2024-02-21 15:45:30   \n",
       "1 2024-02-18 12:55:45 2024-05-27 12:55:45 2024-02-22 16:55:45   \n",
       "2 2024-02-19 13:30:15 2024-05-28 13:30:15 2024-02-23 17:30:15   \n",
       "\n",
       "                +diff               -diff  \n",
       "0 2024-03-12 14:48:33 2024-01-24 08:42:27  \n",
       "1 2024-03-13 15:58:48 2024-01-25 09:52:42  \n",
       "2 2024-03-14 16:33:18 2024-01-26 10:27:12  "
      ]
     },
     "execution_count": 6,
     "metadata": {},
     "output_type": "execute_result"
    }
   ],
   "source": [
    "# 시간 +/- (3주, 3일, 3시간, 3분, 3초 이전과 이후)\n",
    "diff = pd.Timedelta(weeks=3, days=3, hours=3, minutes=3, seconds=3)\n",
    "df['+diff'] = df['DateTime4'] + diff\n",
    "df['-diff'] = df['DateTime4'] - diff\n",
    "df"
   ]
  },
  {
   "cell_type": "code",
   "execution_count": 7,
   "id": "8df71b24",
   "metadata": {},
   "outputs": [
    {
     "data": {
      "text/plain": [
       "0   94 days 20:00:00\n",
       "1   94 days 20:00:00\n",
       "2   94 days 20:00:00\n",
       "dtype: timedelta64[ns]"
      ]
     },
     "execution_count": 7,
     "metadata": {},
     "output_type": "execute_result"
    }
   ],
   "source": [
    "# timedelta 자료형(datetime간의 연산 결과)\n",
    "diff = df['100일'] - df['100시간']\n",
    "diff"
   ]
  },
  {
   "cell_type": "code",
   "execution_count": 9,
   "id": "47e4fcff",
   "metadata": {},
   "outputs": [
    {
     "name": "stdout",
     "output_type": "stream",
     "text": [
      "0    8193600.0\n",
      "1    8193600.0\n",
      "2    8193600.0\n",
      "dtype: float64\n",
      "0    136560.0\n",
      "1    136560.0\n",
      "2    136560.0\n",
      "dtype: float64\n",
      "0    2276.0\n",
      "1    2276.0\n",
      "2    2276.0\n",
      "dtype: float64\n",
      "0    94.833333\n",
      "1    94.833333\n",
      "2    94.833333\n",
      "dtype: float64\n"
     ]
    }
   ],
   "source": [
    "# 기간을 초로 변환 total_seconds() => timedelta에만 적용 가능\n",
    "print(diff.dt.total_seconds()) # 초\n",
    "print(diff.dt.total_seconds()/60) # 분\n",
    "print(diff.dt.total_seconds()/60/60) # 시간\n",
    "print(diff.dt.total_seconds()/60/60/24) # 일"
   ]
  },
  {
   "cell_type": "code",
   "execution_count": 10,
   "id": "f002a250",
   "metadata": {},
   "outputs": [
    {
     "name": "stdout",
     "output_type": "stream",
     "text": [
      "0    94\n",
      "1    94\n",
      "2    94\n",
      "dtype: int64\n",
      "0    72000\n",
      "1    72000\n",
      "2    72000\n",
      "dtype: int64\n"
     ]
    }
   ],
   "source": [
    "#일(days), 초(seconds) ==> 시간값만 계산\n",
    "print(diff.dt.days)\n",
    "print(diff.dt.seconds)"
   ]
  },
  {
   "cell_type": "code",
   "execution_count": 11,
   "id": "1d43867d",
   "metadata": {},
   "outputs": [
    {
     "data": {
      "text/plain": [
       "5"
      ]
     },
     "execution_count": 11,
     "metadata": {},
     "output_type": "execute_result"
    }
   ],
   "source": [
    "# 반올림 (ex: 5.49분) 30초 이상이면 올림, 미만이면 버림\n",
    "value = 5.49\n",
    "round(value)"
   ]
  },
  {
   "cell_type": "code",
   "execution_count": 12,
   "id": "ca48db7a",
   "metadata": {},
   "outputs": [
    {
     "data": {
      "text/plain": [
       "29.4"
      ]
     },
     "execution_count": 12,
     "metadata": {},
     "output_type": "execute_result"
    }
   ],
   "source": [
    "0.49 * 60 # 위 값을 초로 생각할 때 조심해야 하는 부분"
   ]
  },
  {
   "cell_type": "code",
   "execution_count": null,
   "id": "6afd28b8",
   "metadata": {},
   "outputs": [],
   "source": []
  }
 ],
 "metadata": {
  "kernelspec": {
   "display_name": "Python 3 (ipykernel)",
   "language": "python",
   "name": "python3"
  },
  "language_info": {
   "codemirror_mode": {
    "name": "ipython",
    "version": 3
   },
   "file_extension": ".py",
   "mimetype": "text/x-python",
   "name": "python",
   "nbconvert_exporter": "python",
   "pygments_lexer": "ipython3",
   "version": "3.9.7"
  }
 },
 "nbformat": 4,
 "nbformat_minor": 5
}
