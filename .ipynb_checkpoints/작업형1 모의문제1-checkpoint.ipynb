{
 "cells": [
  {
   "cell_type": "markdown",
   "id": "fc2499da",
   "metadata": {},
   "source": [
    "# 작업형1 모의문제1\n",
    "- data: members.csv\n",
    "- 한 개의 셀만 사용해서 문제를 풀어주세요\n"
   ]
  },
  {
   "cell_type": "markdown",
   "id": "bcc8f5f1",
   "metadata": {},
   "source": [
    "# 문제1\n",
    "- f1컬럼의 결측치는 중앙 값으로 대체하고\n",
    "- 나머지 결측치가 있는 데이터(행)을 모두 제거하고\n",
    "- 앞에서부터 70% 데이터 중 views 컬럼의 3사분위 수에서 1사분위 수를 뺀값을 구하시오\n",
    "- (단, 데이터 70% 지점은 정수형(int)반환)\n"
   ]
  },
  {
   "cell_type": "code",
   "execution_count": 18,
   "id": "1de5054f",
   "metadata": {},
   "outputs": [
    {
     "name": "stdout",
     "output_type": "stream",
     "text": [
      "3261.0\n"
     ]
    }
   ],
   "source": [
    "import pandas as pd\n",
    "#csv읽기\n",
    "df = pd.read_csv('members.csv')\n",
    "\n",
    "# #결측치 찾기\n",
    "# df.isnull().sum()\n",
    "\n",
    "# # f1 중앙값\n",
    "# df['f1'].median()\n",
    "\n",
    "# # 결측치를 중앙값으로 대체\n",
    "df['f1'] = df['f1'].fillna(df['f1'].median())\n",
    "\n",
    "# print(df.isnull().sum())\n",
    "\n",
    "# print(df.shape)\n",
    "# # 나머지 결측치 데이터 행 모두 제거\n",
    "df = df.dropna()\n",
    "# print(df.shape)\n",
    "\n",
    "# 70% 데이터 선택 (단, 데이터 정수형 변환)\n",
    "df = df[:int(len(df) * 0.7)]\n",
    "\n",
    "# views컬럼의 3사분위\n",
    "r1 = df['views'].quantile(.75)\n",
    "# views컬럼의 1사분위\n",
    "r2 = df['views'].quantile(.25)\n",
    "print(r1-r2)"
   ]
  },
  {
   "cell_type": "markdown",
   "id": "58ae3416",
   "metadata": {},
   "source": [
    "# 문제2\n",
    "- 주어진 데이터에서 결측치가 30%이상 되는 컬럼을 찾고 해당 컬럼에 결측치가 있는 데이터(행)를 삭제함.\n",
    "- 그리고 30% 미만, 20% 이상인 결측치가 있는 컬럼은 최빈값으로 값을 대체하고\n",
    "- 'f3'컬럼의 'gold' 값을 가진 데이터 수를 출력"
   ]
  },
  {
   "cell_type": "code",
   "execution_count": 27,
   "id": "77e6aa78",
   "metadata": {},
   "outputs": [
    {
     "name": "stdout",
     "output_type": "stream",
     "text": [
      "56\n"
     ]
    }
   ],
   "source": [
    "import pandas as pd\n",
    "df = pd.read_csv('members.csv')\n",
    "\n",
    "# print(df.isnull().sum())\n",
    "\n",
    "# print(len(df)*0.3)\n",
    "\n",
    "# f1 결측치 삭제, f3 최빈값으로 대체\n",
    "#print(df.shape)\n",
    "df = df.dropna(subset=['f1'])\n",
    "#print(df.shape)\n",
    "\n",
    "# 최빈값\n",
    "#df['f3'].mode()[0]\n",
    "\n",
    "#print(df.head())\n",
    "df['f3'] = df['f3'].fillna(df['f3'].mode()[0])\n",
    "#print(df.head())\n",
    "\n",
    "# f3컬럼의 gold값을 가진 데이터 수 \n",
    "print(sum(df['f3'] == 'gold'))"
   ]
  },
  {
   "cell_type": "markdown",
   "id": "ddf421d2",
   "metadata": {},
   "source": [
    "# 문제3\n",
    "- views컬럼에 결측치가 있는 데이터(행)을 삭제하고,\n",
    "- f3 컬럼의 결측치는 0, silver는 1, gold는2, vip는3으로 변환 후 f3컬럼의 총 합을 정수형으로 출력하시오."
   ]
  },
  {
   "cell_type": "code",
   "execution_count": 17,
   "id": "25995f39",
   "metadata": {},
   "outputs": [
    {
     "name": "stdout",
     "output_type": "stream",
     "text": [
      "133\n"
     ]
    }
   ],
   "source": [
    "# 풀이\n",
    "#replace\n",
    "import pandas as pd\n",
    "df = pd.read_csv(\"members.csv\")\n",
    "\n",
    "\n",
    "# view컬럼의 결측치 삭제\n",
    "df = df.dropna(subset=['views'])\n",
    "\n",
    "#print(df.shape)\n",
    "df['f3'] = df['f3'].fillna(0)\n",
    "#print(df.shape)\n",
    "\n",
    "import numpy as np\n",
    "df.isnull().sum()\n",
    "df['f3'] = df['f3'].replace(np.nan,0).replace('silver',1).replace('gold',2).replace('vip',3)\n",
    "# df['f3'] = df['f3'].replace(np.nan,0)\n",
    "# df['f3'] = df['f3'].replace('silver',1)\n",
    "# df['f3'] = df['f3'].replace('gold',2)\n",
    "# df['f3'] = df['f3'].replace('vip',3)\n",
    "#print(df.head(7))\n",
    "\n",
    "print(df['f3'].sum())"
   ]
  },
  {
   "cell_type": "code",
   "execution_count": 18,
   "id": "656bd3d8",
   "metadata": {},
   "outputs": [
    {
     "name": "stdout",
     "output_type": "stream",
     "text": [
      "133\n"
     ]
    }
   ],
   "source": [
    "#map\n",
    "import pandas as pd\n",
    "import numpy as np\n",
    "df = pd.read_csv(\"members.csv\")\n",
    "\n",
    "\n",
    "# view컬럼의 결측치 삭제\n",
    "df = df.dropna(subset=['views'])\n",
    "\n",
    "dict_list = {np.nan : 0, 'silver' : 1, 'gold' : 2, 'vip' : 3} \n",
    "df['f3'] = df['f3'].map(dict_list)\n",
    "\n",
    "print(df['f3'].sum())"
   ]
  },
  {
   "cell_type": "code",
   "execution_count": 20,
   "id": "edfca86b",
   "metadata": {},
   "outputs": [
    {
     "name": "stdout",
     "output_type": "stream",
     "text": [
      "133\n"
     ]
    }
   ],
   "source": [
    "#조건\n",
    "import pandas as pd\n",
    "import numpy as np\n",
    "df = pd.read_csv(\"members.csv\")\n",
    "\n",
    "\n",
    "# view컬럼의 결측치 삭제\n",
    "df = df.dropna(subset=['views'])\n",
    "\n",
    "silver = sum(df['f3'] == 'silver') * 1\n",
    "gold = sum(df['f3'] == 'gold') * 2\n",
    "vip = sum(df['f3'] == 'vip') * 3\n",
    "\n",
    "print(silver + gold + vip)"
   ]
  },
  {
   "cell_type": "code",
   "execution_count": null,
   "id": "8c168cf7",
   "metadata": {},
   "outputs": [],
   "source": []
  },
  {
   "cell_type": "code",
   "execution_count": null,
   "id": "7e36c544",
   "metadata": {},
   "outputs": [],
   "source": []
  }
 ],
 "metadata": {
  "kernelspec": {
   "display_name": "Python 3 (ipykernel)",
   "language": "python",
   "name": "python3"
  },
  "language_info": {
   "codemirror_mode": {
    "name": "ipython",
    "version": 3
   },
   "file_extension": ".py",
   "mimetype": "text/x-python",
   "name": "python",
   "nbconvert_exporter": "python",
   "pygments_lexer": "ipython3",
   "version": "3.9.7"
  }
 },
 "nbformat": 4,
 "nbformat_minor": 5
}
