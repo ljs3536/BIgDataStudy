{
 "cells": [
  {
   "cell_type": "markdown",
   "id": "5bdf6ede",
   "metadata": {},
   "source": [
    "## 작업형1"
   ]
  },
  {
   "cell_type": "markdown",
   "id": "1fd93a28",
   "metadata": {},
   "source": [
    "### 문제1. 결측치가 있는 행을 제거한 후, 학생이 가장 많이 수강한 과목(id_assessment)을 찾고, 해당 과목 점수(score)를 표준화(스탠다스 스케일) 한 뒤에 표준화된 가장 큰 값을 구하시오. (반올림하여 소수 셋째자리까지 계산)"
   ]
  },
  {
   "cell_type": "code",
   "execution_count": 24,
   "id": "c56ec177",
   "metadata": {
    "scrolled": true
   },
   "outputs": [
    {
     "name": "stdout",
     "output_type": "stream",
     "text": [
      "2.183\n"
     ]
    }
   ],
   "source": [
    "import pandas as pd\n",
    "df = pd.read_csv(\"p7_type1/student_assessment.csv\")\n",
    "\n",
    "# 결측치있는 행 제거\n",
    "#print(df.shape)\n",
    "df = df.dropna() # 결측치가 있는 행 제거 dropna\n",
    "#print(df.shape)\n",
    "# 가장 많이 수강한 과목 필터링\n",
    "id = df['id_assessment'].value_counts().idxmax()\n",
    "cond = (df['id_assessment'] == id)\n",
    "df = df[cond]\n",
    "# 과목 점수 스탠다드 스케일\n",
    "from sklearn.preprocessing import StandardScaler\n",
    "scaler = StandardScaler()\n",
    "df['score'] = scaler.fit_transform(df[['score']]) #데이터 프레임 형태로 넣어주어야함\n",
    "df\n",
    "# 가장 큰 값\n",
    "print(round(df['score'].max(),3))"
   ]
  },
  {
   "cell_type": "code",
   "execution_count": null,
   "id": "56a56b3a",
   "metadata": {},
   "outputs": [],
   "source": []
  },
  {
   "cell_type": "markdown",
   "id": "4513d0bd",
   "metadata": {},
   "source": [
    "### 문제2. DE1~DE77컬럼 중 주가지수의 종가 \"close\"와 가장 상관관계가 높은 변수를 찾아, 해당 변수의 평균값을 구하시오. (반올림하여 소수 넷째자리까지 계산)"
   ]
  },
  {
   "cell_type": "code",
   "execution_count": 35,
   "id": "e8506379",
   "metadata": {},
   "outputs": [
    {
     "name": "stdout",
     "output_type": "stream",
     "text": [
      "-0.0004\n"
     ]
    }
   ],
   "source": [
    "import pandas as pd\n",
    "df = pd.read_csv(\"p7_type1/stock_market.csv\")\n",
    "df.head(2)\n",
    "\n",
    "# close와 상관관계\n",
    "df_corr = df.corr()['close'].abs() # corr 상관관계\n",
    "# 상관관계가 높은 변수명\n",
    "col = df_corr.loc['DE1':'DE77'].idxmax()\n",
    "# 위에서 구한 변수명의 평균값\n",
    "print(round(df[col].mean(),4))"
   ]
  },
  {
   "cell_type": "code",
   "execution_count": null,
   "id": "8da0cd99",
   "metadata": {},
   "outputs": [],
   "source": []
  },
  {
   "cell_type": "markdown",
   "id": "9d36d900",
   "metadata": {},
   "source": [
    "### 문제3. IQR을 이용해 이산화탄소(CO2) 이상치 수를 찾으시오\n",
    "\n",
    "- Q1 (제 1사분위수): 하위 25% 값\n",
    "- Q3 (제 3사분위수): 상위 25% 값\n",
    "- IQR (사분위수 범위): IQR = Q3 - Q1\n",
    "\n",
    "- lower (하한선): Q1 - 1.5 * IQR, 이 값보다 작은 데이터는 이상치로 간주\n",
    "- upper (상한선): Q3 + 1.5 * IQR, 이 값보다 큰 데이터는 이상치로 간주\n",
    "\n"
   ]
  },
  {
   "cell_type": "code",
   "execution_count": 42,
   "id": "2edba823",
   "metadata": {},
   "outputs": [
    {
     "name": "stdout",
     "output_type": "stream",
     "text": [
      "304\n"
     ]
    }
   ],
   "source": [
    "import pandas as pd\n",
    "df = pd.read_csv(\"p7_type1/air_quality.csv\")\n",
    "df.head()\n",
    "\n",
    "Q1 = df['CO2'].quantile(.25)\n",
    "Q3 = df['CO2'].quantile(.75)\n",
    "IQR = Q3 - Q1\n",
    "lower = Q1 - 1.5 * IQR\n",
    "upper = Q3 + 1.5 * IQR\n",
    "\n",
    "cond1 = df['CO2'] < lower\n",
    "cond2 = df['CO2'] > upper\n",
    "\n",
    "print(len(df[cond1 | cond2]))"
   ]
  },
  {
   "cell_type": "code",
   "execution_count": 45,
   "id": "2a5adc40",
   "metadata": {},
   "outputs": [
    {
     "name": "stdout",
     "output_type": "stream",
     "text": [
      "304\n"
     ]
    }
   ],
   "source": [
    "import pandas as pd\n",
    "df = pd.read_csv(\"p7_type1/air_quality.csv\")\n",
    "df.head()\n",
    "\n",
    "# IQR 계산\n",
    "Q1 = df['CO2'].quantile(.25)\n",
    "Q3 = df['CO2'].quantile(.75)\n",
    "IQR = Q3 - Q1\n",
    "\n",
    "# 상한 및 하한 계산\n",
    "lower = Q1 - 1.5 * IQR\n",
    "upper = Q3 + 1.5 * IQR\n",
    "# 이상치 식별\n",
    "cond1 = df['CO2'] < lower\n",
    "cond2 = df['CO2'] > upper\n",
    "outliers = df[cond1 | cond2]\n",
    "\n",
    "# 이상치 수\n",
    "print(len(outliers))"
   ]
  },
  {
   "cell_type": "code",
   "execution_count": null,
   "id": "6b0d9d26",
   "metadata": {},
   "outputs": [],
   "source": []
  },
  {
   "cell_type": "code",
   "execution_count": null,
   "id": "3cdd7303",
   "metadata": {},
   "outputs": [],
   "source": []
  },
  {
   "cell_type": "code",
   "execution_count": null,
   "id": "8d26cced",
   "metadata": {},
   "outputs": [],
   "source": []
  }
 ],
 "metadata": {
  "kernelspec": {
   "display_name": "Python 3 (ipykernel)",
   "language": "python",
   "name": "python3"
  },
  "language_info": {
   "codemirror_mode": {
    "name": "ipython",
    "version": 3
   },
   "file_extension": ".py",
   "mimetype": "text/x-python",
   "name": "python",
   "nbconvert_exporter": "python",
   "pygments_lexer": "ipython3",
   "version": "3.9.7"
  }
 },
 "nbformat": 4,
 "nbformat_minor": 5
}
