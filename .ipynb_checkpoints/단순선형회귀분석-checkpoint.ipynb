{
 "cells": [
  {
   "cell_type": "markdown",
   "id": "5cc975f1",
   "metadata": {},
   "source": [
    "# 단순 선형 회귀 분석\n",
    "주어진 키와 몸무게 데이터로 회귀모델을 구축하고 각 소문제의 값을 구하시오\n",
    "- 키 : 종속변수\n",
    "- 몸무게 : 독립변수"
   ]
  },
  {
   "cell_type": "code",
   "execution_count": 1,
   "id": "4284dfb5",
   "metadata": {},
   "outputs": [],
   "source": [
    "import pandas as pd\n",
    "\n",
    "df = pd.DataFrame({\n",
    "    '키': [150, 160, 170, 175, 165, 155, 172, 168, 174, 158,\n",
    "          162, 173, 156, 159, 167, 163, 171, 169, 176, 161],\n",
    "    '몸무게': [74, 50, 70, 64, 56, 48, 68, 60, 65, 52,\n",
    "            54, 67, 49, 51, 58, 55, 69, 61, 66, 53]\n",
    "})"
   ]
  },
  {
   "cell_type": "code",
   "execution_count": 3,
   "id": "58512876",
   "metadata": {},
   "outputs": [
    {
     "name": "stdout",
     "output_type": "stream",
     "text": [
      "                            OLS Regression Results                            \n",
      "==============================================================================\n",
      "Dep. Variable:                      키   R-squared:                       0.280\n",
      "Model:                            OLS   Adj. R-squared:                  0.240\n",
      "Method:                 Least Squares   F-statistic:                     6.984\n",
      "Date:                Sat, 11 May 2024   Prob (F-statistic):             0.0165\n",
      "Time:                        19:00:25   Log-Likelihood:                -64.701\n",
      "No. Observations:                  20   AIC:                             133.4\n",
      "Df Residuals:                      18   BIC:                             135.4\n",
      "Df Model:                           1                                         \n",
      "Covariance Type:            nonrobust                                         \n",
      "==============================================================================\n",
      "                 coef    std err          t      P>|t|      [0.025      0.975]\n",
      "------------------------------------------------------------------------------\n",
      "Intercept    135.8209     11.211     12.115      0.000     112.268     159.374\n",
      "몸무게            0.4938      0.187      2.643      0.017       0.101       0.886\n",
      "==============================================================================\n",
      "Omnibus:                       26.498   Durbin-Watson:                   1.317\n",
      "Prob(Omnibus):                  0.000   Jarque-Bera (JB):               46.624\n",
      "Skew:                          -2.181   Prob(JB):                     7.51e-11\n",
      "Kurtosis:                       9.076   Cond. No.                         464.\n",
      "==============================================================================\n",
      "\n",
      "Notes:\n",
      "[1] Standard Errors assume that the covariance matrix of the errors is correctly specified.\n"
     ]
    }
   ],
   "source": [
    "# 모델 학습 summary 출력\n",
    "from statsmodels.formula.api import ols\n",
    "model = ols('키 ~ 몸무게',data=df).fit()\n",
    "print(model.summary())"
   ]
  },
  {
   "cell_type": "code",
   "execution_count": 4,
   "id": "1314546b",
   "metadata": {},
   "outputs": [
    {
     "data": {
      "text/plain": [
       "0.27954323113299495"
      ]
     },
     "execution_count": 4,
     "metadata": {},
     "output_type": "execute_result"
    }
   ],
   "source": [
    "# 결정계수 R-squared\n",
    "# 0.28\n",
    "model.rsquared"
   ]
  },
  {
   "cell_type": "code",
   "execution_count": 6,
   "id": "9dd54dc9",
   "metadata": {},
   "outputs": [
    {
     "data": {
      "text/plain": [
       "0.49376558603491116"
      ]
     },
     "execution_count": 6,
     "metadata": {},
     "output_type": "execute_result"
    }
   ],
   "source": [
    "# 기울기(회귀계수)\n",
    "# 0.4938\n",
    "model.params['몸무게']"
   ]
  },
  {
   "cell_type": "code",
   "execution_count": 7,
   "id": "11c7f37f",
   "metadata": {},
   "outputs": [
    {
     "data": {
      "text/plain": [
       "135.82094763092283"
      ]
     },
     "execution_count": 7,
     "metadata": {},
     "output_type": "execute_result"
    }
   ],
   "source": [
    "# 절편(회귀계수)\n",
    "# 135.8209\n",
    "model.params['Intercept']"
   ]
  },
  {
   "cell_type": "code",
   "execution_count": 8,
   "id": "7484fd47",
   "metadata": {},
   "outputs": [
    {
     "data": {
      "text/plain": [
       "0.0165401344531702"
      ]
     },
     "execution_count": 8,
     "metadata": {},
     "output_type": "execute_result"
    }
   ],
   "source": [
    "# 몸무게의 회귀계수가 통계적으로 유의핝지 pvalue\n",
    "# 0.017\n",
    "model.pvalues['몸무게']"
   ]
  },
  {
   "cell_type": "code",
   "execution_count": 10,
   "id": "8f4c3d0f",
   "metadata": {},
   "outputs": [
    {
     "data": {
      "text/plain": [
       "0    160.509227\n",
       "dtype: float64"
      ]
     },
     "execution_count": 10,
     "metadata": {},
     "output_type": "execute_result"
    }
   ],
   "source": [
    "# 몸무게가 50 일때 예측키\n",
    "newdata = pd.DataFrame({'몸무게': [50]})\n",
    "model.predict(newdata)"
   ]
  },
  {
   "cell_type": "code",
   "execution_count": 13,
   "id": "ee80d2cb",
   "metadata": {},
   "outputs": [
    {
     "data": {
      "text/plain": [
       "755.9032418952617"
      ]
     },
     "execution_count": 13,
     "metadata": {},
     "output_type": "execute_result"
    }
   ],
   "source": [
    "# 잔차 제곱합\n",
    "# 잔차 = 관측(실제)값 - 예측값\n",
    "# df['키'] - model.predict()\n",
    "df['잔차'] = df['키'] - model.predict(df['몸무게'])\n",
    "sum(df['잔차'] **2)"
   ]
  },
  {
   "cell_type": "code",
   "execution_count": 14,
   "id": "e85e2aa7",
   "metadata": {},
   "outputs": [
    {
     "data": {
      "text/plain": [
       "0    -22.359601\n",
       "1     -0.509227\n",
       "2     -0.384539\n",
       "3      7.578055\n",
       "4      1.528180\n",
       "5     -4.521696\n",
       "6      2.602993\n",
       "7      2.553117\n",
       "8      6.084289\n",
       "9     -3.496758\n",
       "10    -0.484289\n",
       "11     4.096758\n",
       "12    -4.015461\n",
       "13    -2.002993\n",
       "14     2.540648\n",
       "15     0.021945\n",
       "16     1.109227\n",
       "17     3.059352\n",
       "18     7.590524\n",
       "19    -0.990524\n",
       "Name: 잔차, dtype: float64"
      ]
     },
     "execution_count": 14,
     "metadata": {},
     "output_type": "execute_result"
    }
   ],
   "source": [
    "df['잔차']"
   ]
  },
  {
   "cell_type": "code",
   "execution_count": null,
   "id": "bfa07990",
   "metadata": {},
   "outputs": [],
   "source": []
  },
  {
   "cell_type": "code",
   "execution_count": 15,
   "id": "b441ba7d",
   "metadata": {},
   "outputs": [
    {
     "data": {
      "text/plain": [
       "37.795162094763086"
      ]
     },
     "execution_count": 15,
     "metadata": {},
     "output_type": "execute_result"
    }
   ],
   "source": [
    "# MSE mean squared error\n",
    "(df['잔차'] **2).mean()\n"
   ]
  },
  {
   "cell_type": "code",
   "execution_count": null,
   "id": "3fdbe3b3",
   "metadata": {},
   "outputs": [],
   "source": []
  },
  {
   "cell_type": "code",
   "execution_count": 17,
   "id": "91671000",
   "metadata": {},
   "outputs": [
    {
     "data": {
      "text/plain": [
       "37.795162094763086"
      ]
     },
     "execution_count": 17,
     "metadata": {},
     "output_type": "execute_result"
    }
   ],
   "source": [
    "# 사이킷런 MSE\n",
    "from sklearn.metrics import mean_squared_error\n",
    "pred = model.predict(df)\n",
    "mean_squared_error(df['키'],pred)"
   ]
  },
  {
   "cell_type": "code",
   "execution_count": null,
   "id": "0c8fd651",
   "metadata": {},
   "outputs": [],
   "source": [
    "# 신뢰구간\n",
    "# 0.101 0.886\n"
   ]
  },
  {
   "cell_type": "code",
   "execution_count": 18,
   "id": "d37eadb8",
   "metadata": {},
   "outputs": [
    {
     "data": {
      "text/html": [
       "<div>\n",
       "<style scoped>\n",
       "    .dataframe tbody tr th:only-of-type {\n",
       "        vertical-align: middle;\n",
       "    }\n",
       "\n",
       "    .dataframe tbody tr th {\n",
       "        vertical-align: top;\n",
       "    }\n",
       "\n",
       "    .dataframe thead th {\n",
       "        text-align: right;\n",
       "    }\n",
       "</style>\n",
       "<table border=\"1\" class=\"dataframe\">\n",
       "  <thead>\n",
       "    <tr style=\"text-align: right;\">\n",
       "      <th></th>\n",
       "      <th>mean</th>\n",
       "      <th>mean_se</th>\n",
       "      <th>mean_ci_lower</th>\n",
       "      <th>mean_ci_upper</th>\n",
       "      <th>obs_ci_lower</th>\n",
       "      <th>obs_ci_upper</th>\n",
       "    </tr>\n",
       "  </thead>\n",
       "  <tbody>\n",
       "    <tr>\n",
       "      <th>0</th>\n",
       "      <td>160.509227</td>\n",
       "      <td>2.291332</td>\n",
       "      <td>155.695318</td>\n",
       "      <td>165.323136</td>\n",
       "      <td>146.068566</td>\n",
       "      <td>174.949888</td>\n",
       "    </tr>\n",
       "  </tbody>\n",
       "</table>\n",
       "</div>"
      ],
      "text/plain": [
       "         mean   mean_se  mean_ci_lower  mean_ci_upper  obs_ci_lower  \\\n",
       "0  160.509227  2.291332     155.695318     165.323136    146.068566   \n",
       "\n",
       "   obs_ci_upper  \n",
       "0    174.949888  "
      ]
     },
     "execution_count": 18,
     "metadata": {},
     "output_type": "execute_result"
    }
   ],
   "source": [
    "# 몸무게가 50일 때 예측키에 대한 신뢰구간, 예측구간\n",
    "newdata = pd.DataFrame({'몸무게':[50]})\n",
    "pred = model.get_prediction(newdata)\n",
    "pred.summary_frame(alpha=0.05)"
   ]
  },
  {
   "cell_type": "code",
   "execution_count": null,
   "id": "1d8d6c86",
   "metadata": {},
   "outputs": [],
   "source": [
    "# 신뢰구간 : 155.695318\t165.323136\n",
    "# 예측구간 : 146.068566\t174.949888"
   ]
  },
  {
   "cell_type": "code",
   "execution_count": null,
   "id": "821c4168",
   "metadata": {},
   "outputs": [],
   "source": []
  },
  {
   "cell_type": "code",
   "execution_count": null,
   "id": "8604fe5e",
   "metadata": {},
   "outputs": [],
   "source": []
  },
  {
   "cell_type": "code",
   "execution_count": null,
   "id": "d18c6712",
   "metadata": {},
   "outputs": [],
   "source": []
  },
  {
   "cell_type": "code",
   "execution_count": null,
   "id": "94a89d0a",
   "metadata": {},
   "outputs": [],
   "source": []
  },
  {
   "cell_type": "code",
   "execution_count": null,
   "id": "1840dffd",
   "metadata": {},
   "outputs": [],
   "source": []
  },
  {
   "cell_type": "code",
   "execution_count": null,
   "id": "71560ee5",
   "metadata": {},
   "outputs": [],
   "source": []
  }
 ],
 "metadata": {
  "kernelspec": {
   "display_name": "Python 3 (ipykernel)",
   "language": "python",
   "name": "python3"
  },
  "language_info": {
   "codemirror_mode": {
    "name": "ipython",
    "version": 3
   },
   "file_extension": ".py",
   "mimetype": "text/x-python",
   "name": "python",
   "nbconvert_exporter": "python",
   "pygments_lexer": "ipython3",
   "version": "3.10.9"
  }
 },
 "nbformat": 4,
 "nbformat_minor": 5
}
