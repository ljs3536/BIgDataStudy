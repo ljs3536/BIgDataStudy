{
 "cells": [
  {
   "cell_type": "markdown",
   "id": "41e083e0",
   "metadata": {},
   "source": [
    "# 모의고사 작업형1"
   ]
  },
  {
   "cell_type": "markdown",
   "id": "1c927f0c",
   "metadata": {},
   "source": [
    "# 작업형 1-1\n",
    "- 앞에서부터 50%의 데이터와 'target'컬럼이 0 값을 가진 데이터만 활용해 'proline' 컬럼의 평균을 구하시오(소수점 절사(버림),정수형 출력)"
   ]
  },
  {
   "cell_type": "code",
   "execution_count": 14,
   "id": "7d5c243c",
   "metadata": {},
   "outputs": [
    {
     "name": "stdout",
     "output_type": "stream",
     "text": [
      "1115\n"
     ]
    }
   ],
   "source": [
    "# 시험환경 세팅\n",
    "import pandas as pd\n",
    "from sklearn import datasets\n",
    "dataset = datasets.load_wine()\n",
    "df = pd.DataFrame(dataset['data'], columns=dataset['feature_names'])\n",
    "df['target'] = dataset['target']\n",
    "df.to_csv(\"data1-1.csv\", index=False)\n",
    "\n",
    "#####################################################################\n",
    "\n",
    "# 출력을 원할 경우 print() 함수 활용\n",
    "# 예시) print(df.head())\n",
    "\n",
    "# getcwd(), chdir() 등 작업 폴더 설정 불필요\n",
    "# 파일 경로 상 내부 드라이브 경로(C: 등) 접근 불가\n",
    "\n",
    "# 데이터 파일 읽기 예제\n",
    "import pandas as pd\n",
    "a = pd.read_csv(\"data1-1.csv\")\n",
    "\n",
    "# 사용자 코딩\n",
    "#print(a.shape)\n",
    "a = a[:int(len(a)/2)]\n",
    "#print(a.shape)\n",
    "\n",
    "cond = a['target'] == 0\n",
    "a = a[cond]\n",
    "#print(a.shape)\n",
    "\n",
    "m = a['proline'].mean()\n",
    "\n",
    "# 답안 제출 예시\n",
    "print(int(m))\n",
    "# print(평균변수값)"
   ]
  },
  {
   "cell_type": "markdown",
   "id": "c24c2ef8",
   "metadata": {},
   "source": [
    "# 작업형1-2\n",
    "- s1,s2,s3,s4,s5,s6, 컬럼의 행(row)별 합을 구하고 그 합이 0.1보다 큰 값의 수를 구하시오"
   ]
  },
  {
   "cell_type": "code",
   "execution_count": 23,
   "id": "3b5ecb0a",
   "metadata": {},
   "outputs": [
    {
     "name": "stdout",
     "output_type": "stream",
     "text": [
      "120\n"
     ]
    }
   ],
   "source": [
    "# 시험환경 세팅\n",
    "import pandas as pd\n",
    "from sklearn import datasets\n",
    "dataset = datasets.load_diabetes()\n",
    "df = pd.DataFrame(dataset['data'], columns=dataset['feature_names'])\n",
    "df.to_csv(\"data1-2.csv\", index=False)\n",
    "\n",
    "#####################################################################\n",
    "\n",
    "# 출력을 원할 경우 print() 함수 활용\n",
    "# 예시) print(df.head())\n",
    "\n",
    "# getcwd(), chdir() 등 작업 폴더 설정 불필요\n",
    "# 파일 경로 상 내부 드라이브 경로(C: 등) 접근 불가\n",
    "\n",
    "# 데이터 파일 읽기 예제\n",
    "import pandas as pd\n",
    "a = pd.read_csv(\"data1-2.csv\")\n",
    "a.head()\n",
    "# 사용자 코딩\n",
    "cols = ['s1','s2','s3','s4','s5','s6']\n",
    "a = a[cols]\n",
    "\n",
    "\n",
    "# 답안 제출 예시\n",
    "print(sum(a.sum(axis=1) > 0.1))\n",
    "\n",
    "# print(평균변수값)"
   ]
  },
  {
   "cell_type": "markdown",
   "id": "5efc16c4",
   "metadata": {},
   "source": [
    "# 작업형1-3\n",
    "- 고유한 값이 가장 많은 컬럼의 이름은?"
   ]
  },
  {
   "cell_type": "code",
   "execution_count": 32,
   "id": "54a0bbc9",
   "metadata": {},
   "outputs": [
    {
     "name": "stdout",
     "output_type": "stream",
     "text": [
      "smoothness error\n"
     ]
    }
   ],
   "source": [
    "# 시험환경 세팅\n",
    "import pandas as pd\n",
    "from sklearn import datasets\n",
    "dataset = datasets.load_breast_cancer()\n",
    "df = pd.DataFrame(dataset['data'], columns=dataset['feature_names'])\n",
    "df['target'] = dataset['target']\n",
    "df.to_csv(\"data1-3.csv\", index=False)\n",
    "\n",
    "#####################################################################\n",
    "\n",
    "# 출력을 원할 경우 print() 함수 활용\n",
    "# 예시) print(df.head())\n",
    "\n",
    "# getcwd(), chdir() 등 작업 폴더 설정 불필요\n",
    "# 파일 경로 상 내부 드라이브 경로(C: 등) 접근 불가\n",
    "\n",
    "# 데이터 파일 읽기 예제\n",
    "import pandas as pd\n",
    "a = pd.read_csv(\"data1-3.csv\")\n",
    "\n",
    "a = a.nunique()\n",
    "\n",
    "\n",
    "# 사용자 코딩\n",
    "\n",
    "# 답안 제출 예시\n",
    "print(a.sort_values(ascending=False).index[0])\n",
    "# print(평균변수값)"
   ]
  }
 ],
 "metadata": {
  "kernelspec": {
   "display_name": "Python 3 (ipykernel)",
   "language": "python",
   "name": "python3"
  },
  "language_info": {
   "codemirror_mode": {
    "name": "ipython",
    "version": 3
   },
   "file_extension": ".py",
   "mimetype": "text/x-python",
   "name": "python",
   "nbconvert_exporter": "python",
   "pygments_lexer": "ipython3",
   "version": "3.9.7"
  }
 },
 "nbformat": 4,
 "nbformat_minor": 5
}
