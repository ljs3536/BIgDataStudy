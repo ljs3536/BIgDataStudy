{
 "cells": [
  {
   "cell_type": "markdown",
   "id": "669bf2a0",
   "metadata": {},
   "source": [
    "# 독립표본검정"
   ]
  },
  {
   "cell_type": "markdown",
   "id": "b852822f",
   "metadata": {},
   "source": [
    "다음은 빅데이터 분석기사 실기 시험 점수이다. A그룹과 B그룹의 평균 점수가 차이가 있는지 유의수준 0.05하에서 가설 검정하시오.\n",
    "(데이터는 정규분포를 따르고 분산이 동일하다고 가정한다.)\n",
    "- 귀무가설(H0): 그룹별 시험 평균 점수는 차이가 없다. (μ1 = μ2)\n",
    "- 대립가설(H1): 그룹별 시험 평균 점수는 차이가 있다. (μ1 ≠ μ2)"
   ]
  },
  {
   "cell_type": "markdown",
   "id": "3295b3c2",
   "metadata": {},
   "source": [
    "# 1.기초"
   ]
  },
  {
   "cell_type": "code",
   "execution_count": 1,
   "id": "4fcfb391",
   "metadata": {},
   "outputs": [],
   "source": [
    "# 데이터\n",
    "A = [85, 90, 92, 88, 86, 89, 83, 87,\n",
    "     84, 50, 60, 39, 28, 48, 38, 28]\n",
    "B = [82, 82, 88, 85, 84, 74, 79, 69,\n",
    "     78, 76, 85, 84, 79, 89]"
   ]
  },
  {
   "cell_type": "markdown",
   "id": "7d0601a0",
   "metadata": {},
   "source": [
    "# 독립표본검정"
   ]
  },
  {
   "cell_type": "code",
   "execution_count": 2,
   "id": "dc3706c7",
   "metadata": {},
   "outputs": [
    {
     "data": {
      "text/plain": [
       "Ttest_indResult(statistic=-2.051813915505951, pvalue=0.04964542271174967)"
      ]
     },
     "execution_count": 2,
     "metadata": {},
     "output_type": "execute_result"
    }
   ],
   "source": [
    "# 독립표본검정\n",
    "from scipy import stats\n",
    "stats.ttest_ind(A,B) #(처리집단, 대조집단)"
   ]
  },
  {
   "cell_type": "code",
   "execution_count": null,
   "id": "8d53a766",
   "metadata": {},
   "outputs": [],
   "source": []
  },
  {
   "cell_type": "markdown",
   "id": "93d4dbca",
   "metadata": {},
   "source": [
    "# 등분산"
   ]
  },
  {
   "cell_type": "code",
   "execution_count": 4,
   "id": "c100d5b8",
   "metadata": {},
   "outputs": [
    {
     "data": {
      "text/plain": [
       "Ttest_indResult(statistic=-2.1837307810153024, pvalue=0.04352730399590312)"
      ]
     },
     "execution_count": 4,
     "metadata": {},
     "output_type": "execute_result"
    }
   ],
   "source": [
    "# 두 집단의 분산이 다르다(equal_var=False)\n",
    "stats.ttest_ind(A,B,equal_var=False)"
   ]
  },
  {
   "cell_type": "markdown",
   "id": "dc4606f5",
   "metadata": {},
   "source": [
    "- 귀무가설(H0): 그룹별 시험 평균 점수는 차이가 없다. (μ1 = μ2)\n",
    "- 대립가설(H1): B그룹 시험 평균 점수가 더 높다. (μ1 < μ2)"
   ]
  },
  {
   "cell_type": "code",
   "execution_count": 5,
   "id": "969f19b7",
   "metadata": {},
   "outputs": [
    {
     "data": {
      "text/plain": [
       "Ttest_indResult(statistic=-2.051813915505951, pvalue=0.024822711355874834)"
      ]
     },
     "execution_count": 5,
     "metadata": {},
     "output_type": "execute_result"
    }
   ],
   "source": [
    "# 독립표본검정(less)\n",
    "stats.ttest_ind(A,B,equal_var=True, alternative='less')"
   ]
  },
  {
   "cell_type": "markdown",
   "id": "e4906c24",
   "metadata": {},
   "source": [
    "- 귀무가설(H0): 그룹별 시험 평균 점수는 차이가 없다. (μ1 = μ2)\n",
    "- 대립가설(H1): A그룹 시험 평균 점수가 더 높다. (μ1 > μ2)"
   ]
  },
  {
   "cell_type": "code",
   "execution_count": 6,
   "id": "47e6d1fb",
   "metadata": {},
   "outputs": [
    {
     "data": {
      "text/plain": [
       "Ttest_indResult(statistic=-2.051813915505951, pvalue=0.9751772886441252)"
      ]
     },
     "execution_count": 6,
     "metadata": {},
     "output_type": "execute_result"
    }
   ],
   "source": [
    "# 독립표본검정(greater)\n",
    "stats.ttest_ind(A,B,equal_var=True, alternative='greater')"
   ]
  },
  {
   "cell_type": "markdown",
   "id": "b28ab395",
   "metadata": {},
   "source": [
    "# 2.심화"
   ]
  },
  {
   "cell_type": "code",
   "execution_count": 7,
   "id": "30b7764b",
   "metadata": {},
   "outputs": [],
   "source": [
    "# 데이터\n",
    "import pandas as pd\n",
    "A = [85, 90, 92, 88, 86, 89, 83, 87,\n",
    "     84, 50, 60, 39, 28, 48, 38, 28]\n",
    "B = [82, 82, 88, 85, 84, 74, 79, 69,\n",
    "     78, 76, 85, 84, 79, 89]"
   ]
  },
  {
   "cell_type": "markdown",
   "id": "2315ee4d",
   "metadata": {},
   "source": [
    "### Shapiro-Wilk 검정"
   ]
  },
  {
   "cell_type": "code",
   "execution_count": 9,
   "id": "f35d79ab",
   "metadata": {},
   "outputs": [
    {
     "name": "stdout",
     "output_type": "stream",
     "text": [
      "ShapiroResult(statistic=0.8128696084022522, pvalue=0.004057693760842085)\n",
      "ShapiroResult(statistic=0.9610027074813843, pvalue=0.7395777702331543)\n"
     ]
    }
   ],
   "source": [
    "# Shapiro-Wilk(샤피로-윌크) 정규성 검정\n",
    "from scipy import stats\n",
    "print(stats.shapiro(A))\n",
    "print(stats.shapiro(B))"
   ]
  },
  {
   "cell_type": "markdown",
   "id": "72e00357",
   "metadata": {},
   "source": [
    "### Levene 검정"
   ]
  },
  {
   "cell_type": "code",
   "execution_count": 12,
   "id": "1fe8fb0b",
   "metadata": {},
   "outputs": [
    {
     "data": {
      "text/plain": [
       "LeveneResult(statistic=8.013957643762076, pvalue=0.008497116974003)"
      ]
     },
     "execution_count": 12,
     "metadata": {},
     "output_type": "execute_result"
    }
   ],
   "source": [
    "# Levene(레빈) 등분산 검정 (귀무가설: 분산이 동일하다)\n",
    "stats.levene(A, B)"
   ]
  },
  {
   "cell_type": "markdown",
   "id": "b506d620",
   "metadata": {},
   "source": [
    "### 독립표본검정\n",
    "- 귀무가설(H0): 그룹별 시험 평균 점수는 차이가 없다. (μ1 = μ2)\n",
    "- 대립가설(H1): B그룹 시험 평균 점수가 더 높다. (μ1 < μ2)"
   ]
  },
  {
   "cell_type": "code",
   "execution_count": 13,
   "id": "ac84103c",
   "metadata": {},
   "outputs": [
    {
     "data": {
      "text/plain": [
       "Ttest_indResult(statistic=-2.1837307810153024, pvalue=0.02176365199795156)"
      ]
     },
     "execution_count": 13,
     "metadata": {},
     "output_type": "execute_result"
    }
   ],
   "source": [
    "# 독립표본검정\n",
    "stats.ttest_ind(A,B,equal_var=False, alternative='less')"
   ]
  },
  {
   "cell_type": "markdown",
   "id": "49a59ba9",
   "metadata": {},
   "source": [
    "### Mann-Whitney U 검정 (비모수 검정)\n",
    "- 귀무가설(H0): 그룹별 시험 평균 점수는 차이가 없다. (μ1 = μ2)\n",
    "- 대립가설(H1): B그룹 시험 평균 점수가 더 높다. (μ1 < μ2)"
   ]
  },
  {
   "cell_type": "code",
   "execution_count": 11,
   "id": "ac7e8473",
   "metadata": {},
   "outputs": [
    {
     "data": {
      "text/plain": [
       "MannwhitneyuResult(statistic=106.0, pvalue=0.40944636368515097)"
      ]
     },
     "execution_count": 11,
     "metadata": {},
     "output_type": "execute_result"
    }
   ],
   "source": [
    "# Mann-Whitney U(만-휘트니 유) 검정\n",
    "stats.mannwhitneyu(A,B, alternative='less')"
   ]
  }
 ],
 "metadata": {
  "kernelspec": {
   "display_name": "Python 3 (ipykernel)",
   "language": "python",
   "name": "python3"
  },
  "language_info": {
   "codemirror_mode": {
    "name": "ipython",
    "version": 3
   },
   "file_extension": ".py",
   "mimetype": "text/x-python",
   "name": "python",
   "nbconvert_exporter": "python",
   "pygments_lexer": "ipython3",
   "version": "3.9.7"
  }
 },
 "nbformat": 4,
 "nbformat_minor": 5
}
