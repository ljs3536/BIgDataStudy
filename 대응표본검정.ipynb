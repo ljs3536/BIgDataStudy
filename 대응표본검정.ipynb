{
 "cells": [
  {
   "cell_type": "markdown",
   "id": "21acc241",
   "metadata": {},
   "source": [
    "# 대응표본검정\n",
    "퇴근후딴짓 크리에이터는 수험생의 점수 향상을 위해 새로운 교육 프로그램을 도입했다. 도입 전과 도입 후의 점수 차이를 확인하기 위해 동일한 수험생의 점수를 비교하였습니다. 다음은 교육 전과 후의 점수 데이터이다. 새로운 교육 프로그램이 효과가 있는지 검정하시오.(데이터는 정규분포를 따른다고 가정한다.)\n",
    "\n",
    "μ<sub>d</sub> = (before – after)의 평균\n",
    "\n",
    "- 귀무가설: μ<sub>d</sub> ≥ 0, 새로운 교육 프로그램은 효과가 없다.\n",
    "- 대립가설: μ<sub>d</sub> < 0, 새로운 교육 프로그램은 효과가 있다.\n",
    "\n"
   ]
  },
  {
   "cell_type": "markdown",
   "id": "46ec2375",
   "metadata": {},
   "source": [
    "## 1. 기초"
   ]
  },
  {
   "cell_type": "code",
   "execution_count": 1,
   "id": "0368c998",
   "metadata": {},
   "outputs": [],
   "source": [
    "# 데이터\n",
    "import pandas as pd\n",
    "df = pd.DataFrame({\n",
    "    'before':[85,90,92,88,86,89,83,87,65,50],\n",
    "    'after':[88,89,96,89,85,88,85,89,78,61]\n",
    "})"
   ]
  },
  {
   "cell_type": "markdown",
   "id": "3026799c",
   "metadata": {},
   "source": [
    "# 대응표본검정"
   ]
  },
  {
   "cell_type": "code",
   "execution_count": 2,
   "id": "d1896530",
   "metadata": {},
   "outputs": [
    {
     "data": {
      "text/plain": [
       "Ttest_relResult(statistic=-2.119860886666164, pvalue=0.03152591671694539)"
      ]
     },
     "execution_count": 2,
     "metadata": {},
     "output_type": "execute_result"
    }
   ],
   "source": [
    "# 대응표본검정\n",
    "from scipy import stats\n",
    "stats.ttest_rel(df['before'],df['after'], alternative='less')"
   ]
  },
  {
   "cell_type": "code",
   "execution_count": null,
   "id": "6a91145c",
   "metadata": {},
   "outputs": [],
   "source": []
  },
  {
   "cell_type": "markdown",
   "id": "69a0107f",
   "metadata": {},
   "source": [
    "μ<sub>d</sub> = (after - before)의 평균\n",
    "- 귀무가설: μ<sub>d</sub> ≤ 0\n",
    "- 대립가설: μ<sub>d</sub> > 0"
   ]
  },
  {
   "cell_type": "code",
   "execution_count": 3,
   "id": "78a1f8d3",
   "metadata": {},
   "outputs": [
    {
     "data": {
      "text/plain": [
       "Ttest_relResult(statistic=2.119860886666164, pvalue=0.03152591671694539)"
      ]
     },
     "execution_count": 3,
     "metadata": {},
     "output_type": "execute_result"
    }
   ],
   "source": [
    "# 대응표본검정\n",
    "stats.ttest_rel(df['after'],df['before'], alternative='greater')"
   ]
  },
  {
   "cell_type": "code",
   "execution_count": null,
   "id": "ff59d66d",
   "metadata": {},
   "outputs": [],
   "source": []
  },
  {
   "cell_type": "markdown",
   "id": "bdfe09c2",
   "metadata": {},
   "source": [
    "# 2.심화"
   ]
  },
  {
   "cell_type": "code",
   "execution_count": 4,
   "id": "6988f838",
   "metadata": {},
   "outputs": [],
   "source": [
    "# 데이터\n",
    "import pandas as pd\n",
    "df = pd.DataFrame({\n",
    "    'before':[85,90,92,88,86,89,83,87,65,50],\n",
    "    'after':[88,89,96,89,85,88,85,89,78,61]\n",
    "})"
   ]
  },
  {
   "cell_type": "markdown",
   "id": "0fb81836",
   "metadata": {},
   "source": [
    "μ<sub>d</sub> = (after - before)의 평균\n",
    "- 귀무가설: μ<sub>d</sub> ≤ 0\n",
    "- 대립가설: μ<sub>d</sub> > 0"
   ]
  },
  {
   "cell_type": "markdown",
   "id": "25ba6a85",
   "metadata": {},
   "source": [
    "# Shapiro-Wilk 검정"
   ]
  },
  {
   "cell_type": "code",
   "execution_count": 11,
   "id": "047a8c76",
   "metadata": {},
   "outputs": [
    {
     "data": {
      "text/plain": [
       "ShapiroResult(statistic=0.8106808066368103, pvalue=0.019542887806892395)"
      ]
     },
     "execution_count": 11,
     "metadata": {},
     "output_type": "execute_result"
    }
   ],
   "source": [
    "# Shapiro-Wilk(샤피로-윌크) 정규성 검정\n",
    "df['diff'] = df['after'] - df['before']\n",
    "from scipy import stats\n",
    "stats.shapiro(df['diff'])"
   ]
  },
  {
   "cell_type": "code",
   "execution_count": 7,
   "id": "63c9d86a",
   "metadata": {},
   "outputs": [
    {
     "data": {
      "text/plain": [
       "ShapiroResult(statistic=0.8106809258460999, pvalue=0.019542988389730453)"
      ]
     },
     "execution_count": 7,
     "metadata": {},
     "output_type": "execute_result"
    }
   ],
   "source": [
    "df['diff'] = df['before'] - df['after']\n",
    "stats.shapiro(df['diff'])"
   ]
  },
  {
   "cell_type": "markdown",
   "id": "64eb681f",
   "metadata": {},
   "source": [
    "# Wilcoxon검정(비모수 검정)"
   ]
  },
  {
   "cell_type": "code",
   "execution_count": 9,
   "id": "df075f30",
   "metadata": {},
   "outputs": [
    {
     "data": {
      "text/plain": [
       "WilcoxonResult(statistic=47.5, pvalue=0.0244140625)"
      ]
     },
     "execution_count": 9,
     "metadata": {},
     "output_type": "execute_result"
    }
   ],
   "source": [
    "# Wilcoxon(윌콕슨)의 부호 순위 검정 수행\n",
    "stats.wilcoxon(df['after'],df['before'],alternative='greater')"
   ]
  },
  {
   "cell_type": "code",
   "execution_count": 12,
   "id": "2bf9981e",
   "metadata": {},
   "outputs": [
    {
     "data": {
      "text/plain": [
       "WilcoxonResult(statistic=47.5, pvalue=0.0244140625)"
      ]
     },
     "execution_count": 12,
     "metadata": {},
     "output_type": "execute_result"
    }
   ],
   "source": [
    "# Wilcoxon(윌콕슨)의 부호 순위 검정 수행 (diff)\n",
    "stats.wilcoxon(df['diff'],alternative='greater')"
   ]
  },
  {
   "cell_type": "code",
   "execution_count": null,
   "id": "662c7415",
   "metadata": {},
   "outputs": [],
   "source": []
  },
  {
   "cell_type": "code",
   "execution_count": null,
   "id": "bd863c4f",
   "metadata": {},
   "outputs": [],
   "source": []
  },
  {
   "cell_type": "code",
   "execution_count": null,
   "id": "13b3f434",
   "metadata": {},
   "outputs": [],
   "source": []
  }
 ],
 "metadata": {
  "kernelspec": {
   "display_name": "Python 3 (ipykernel)",
   "language": "python",
   "name": "python3"
  },
  "language_info": {
   "codemirror_mode": {
    "name": "ipython",
    "version": 3
   },
   "file_extension": ".py",
   "mimetype": "text/x-python",
   "name": "python",
   "nbconvert_exporter": "python",
   "pygments_lexer": "ipython3",
   "version": "3.9.7"
  }
 },
 "nbformat": 4,
 "nbformat_minor": 5
}
