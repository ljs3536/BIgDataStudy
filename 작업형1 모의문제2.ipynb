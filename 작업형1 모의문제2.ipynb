{
 "cells": [
  {
   "cell_type": "markdown",
   "id": "4414f7b4",
   "metadata": {},
   "source": [
    "# 작업형1 모의문제2"
   ]
  },
  {
   "cell_type": "markdown",
   "id": "9524b8ab",
   "metadata": {},
   "source": [
    "# 문제4\n",
    "- 주어진 데이터에서 자료형(type)이 object인 컬럼은 삭제하고, 결측치는 0으로 대체한다.\n",
    "- 행 단위로 합한 다음 그 값이 3000보다 큰 값의 데이터 수를 구하시오(age, f1, f2, f5, views의 각 행별 합)"
   ]
  },
  {
   "cell_type": "code",
   "execution_count": 3,
   "id": "c94a6661",
   "metadata": {
    "scrolled": true
   },
   "outputs": [
    {
     "name": "stdout",
     "output_type": "stream",
     "text": [
      "<class 'pandas.core.frame.DataFrame'>\n",
      "RangeIndex: 100 entries, 0 to 99\n",
      "Data columns (total 10 columns):\n",
      " #   Column      Non-Null Count  Dtype  \n",
      "---  ------      --------------  -----  \n",
      " 0   id          100 non-null    object \n",
      " 1   age         100 non-null    float64\n",
      " 2   city        100 non-null    object \n",
      " 3   f1          69 non-null     float64\n",
      " 4   f2          100 non-null    int64  \n",
      " 5   f3          72 non-null     object \n",
      " 6   f4          100 non-null    object \n",
      " 7   f5          100 non-null    float64\n",
      " 8   subscribed  100 non-null    object \n",
      " 9   views       96 non-null     float64\n",
      "dtypes: float64(4), int64(1), object(5)\n",
      "memory usage: 7.9+ KB\n",
      "None\n",
      "<class 'pandas.core.frame.DataFrame'>\n",
      "RangeIndex: 100 entries, 0 to 99\n",
      "Data columns (total 5 columns):\n",
      " #   Column  Non-Null Count  Dtype  \n",
      "---  ------  --------------  -----  \n",
      " 0   age     100 non-null    float64\n",
      " 1   f1      69 non-null     float64\n",
      " 2   f2      100 non-null    int64  \n",
      " 3   f5      100 non-null    float64\n",
      " 4   views   96 non-null     float64\n",
      "dtypes: float64(4), int64(1)\n",
      "memory usage: 4.0 KB\n",
      "None\n"
     ]
    }
   ],
   "source": [
    "import pandas as pd\n",
    "df = pd.read_csv(\"members.csv\")\n",
    "\n",
    "print(df.info())\n",
    "series = [\n",
    "    'age','f1','f2','f5','views'\n",
    "]\n",
    "df = df[series]\n",
    "print(df.info())\n",
    "\n"
   ]
  },
  {
   "cell_type": "code",
   "execution_count": 13,
   "id": "9dbfbd71",
   "metadata": {},
   "outputs": [
    {
     "name": "stdout",
     "output_type": "stream",
     "text": [
      "                0            1            2           3            4   \\\n",
      "age       2.000000     9.000000    27.000000   75.000000    24.000000   \n",
      "f1        0.000000    70.000000    61.000000    0.000000    85.000000   \n",
      "f2        0.000000     1.000000     1.000000    2.000000     2.000000   \n",
      "f5       91.297791    60.339826    17.252986   52.667078    29.269869   \n",
      "views  6820.000000  2534.000000  7312.000000  493.000000  1338.000000   \n",
      "\n",
      "                 5          6           7            8            9   ...  \\\n",
      "age       22.000000  36.300000    38.00000     3.300000    95.000000  ...   \n",
      "f1        57.000000  60.000000   101.00000    35.000000    74.000000  ...   \n",
      "f2         0.000000   1.000000     1.00000     2.000000     1.000000  ...   \n",
      "f5        20.129444   9.796378    83.68538    17.252986    98.429899  ...   \n",
      "views  21550.000000  61.000000  3260.00000  2764.000000  9992.000000  ...   \n",
      "\n",
      "                90           91           92         93           94  \\\n",
      "age      54.000000     6.000000    97.000000  21.800000    84.000000   \n",
      "f1        0.000000    72.000000    78.000000  57.000000     0.000000   \n",
      "f2        0.000000     0.000000     1.000000   0.000000     1.000000   \n",
      "f5       29.269869     9.796378    97.381034  73.586397    90.496999   \n",
      "views  3818.000000  8988.000000  9625.000000  42.000000  3774.000000   \n",
      "\n",
      "                95           96           97          98           99  \n",
      "age      77.000000    92.000000   100.000000   39.000000     1.000000  \n",
      "f1       43.000000    53.000000     0.000000   58.000000    47.000000  \n",
      "f2        1.000000     1.000000     0.000000    2.000000     0.000000  \n",
      "f5       91.297791    52.667078    67.886373   98.429899    97.381034  \n",
      "views  8697.000000  4336.000000  6687.000000  865.000000  6090.000000  \n",
      "\n",
      "[5 rows x 100 columns]\n",
      "73\n"
     ]
    }
   ],
   "source": [
    "import pandas as pd\n",
    "df = pd.read_csv(\"members.csv\")\n",
    "# cols = df.select_dtypes(include='object').columns\n",
    "# cols\n",
    "# df.drop(cols,axis=1)\n",
    "# df.head()\n",
    "\n",
    "cols = df.select_dtypes(exclude='object').columns\n",
    "df = df[cols]\n",
    "\n",
    "df = df.fillna(0)\n",
    "\n",
    "df.head()\n",
    "\n",
    "df = df.T\n",
    "print(df.head())\n",
    "\n",
    "print(sum(df.sum() > 3000))"
   ]
  },
  {
   "cell_type": "markdown",
   "id": "c88bba91",
   "metadata": {},
   "source": [
    "# 문제5\n",
    "- 데이터에서 IQR을 활용해 views 컬럼의 이상치를 찾고, 이상치 데이터의 수를 구하시오."
   ]
  },
  {
   "cell_type": "code",
   "execution_count": 19,
   "id": "e290dffd",
   "metadata": {},
   "outputs": [
    {
     "name": "stdout",
     "output_type": "stream",
     "text": [
      "4\n"
     ]
    }
   ],
   "source": [
    "import pandas as pd\n",
    "df = pd.read_csv(\"members.csv\")\n",
    "\n",
    "q3 = df['views'].quantile(.75)\n",
    "q1 = df['views'].quantile(.25)\n",
    "\n",
    "IQR = q3 - q1\n",
    "#print(IQR)\n",
    "\n",
    "line1 = q1 - 1.5 * IQR\n",
    "line2 = q3 + 1.5 * IQR\n",
    "\n",
    "print(sum(df['views'] < line1) + sum(df['views'] > line2))"
   ]
  },
  {
   "cell_type": "markdown",
   "id": "26edcdda",
   "metadata": {},
   "source": [
    "# 문제 6\n",
    "- 'age'컬럼의 이상치(소수점 나이와 음수나이, 0포함)를 제거하고\n",
    "- 제거 전 후의 views 컬럼 표준편차를 더하시오(최종 결과 값은 소수 둘째자리까지 출력, 셋째자리에서 반올림)"
   ]
  },
  {
   "cell_type": "code",
   "execution_count": 7,
   "id": "8c249b44",
   "metadata": {},
   "outputs": [
    {
     "name": "stdout",
     "output_type": "stream",
     "text": [
      "8420.69\n"
     ]
    }
   ],
   "source": [
    "import pandas as pd\n",
    "df = pd.read_csv(\"members.csv\")\n",
    "\n",
    "r1 = df['views'].std()\n",
    "\n",
    "cond = df['age'] <= 0\n",
    "#print(df.shape)\n",
    "df = df[~cond]\n",
    "#print(df.shape)\n",
    "\n",
    "cond = df['age'] == round(df['age'],0)\n",
    "#print(df.shape)\n",
    "df = df[cond]\n",
    "#print(df.shape)\n",
    "r2 = df['views'].std()\n",
    "\n",
    "print(round(r1+r2,2))"
   ]
  },
  {
   "cell_type": "code",
   "execution_count": null,
   "id": "1c273622",
   "metadata": {},
   "outputs": [],
   "source": []
  },
  {
   "cell_type": "code",
   "execution_count": null,
   "id": "df8983af",
   "metadata": {},
   "outputs": [],
   "source": []
  },
  {
   "cell_type": "code",
   "execution_count": null,
   "id": "a54d58fa",
   "metadata": {},
   "outputs": [],
   "source": []
  },
  {
   "cell_type": "code",
   "execution_count": null,
   "id": "b3759a69",
   "metadata": {},
   "outputs": [],
   "source": []
  },
  {
   "cell_type": "code",
   "execution_count": null,
   "id": "e43d69a4",
   "metadata": {},
   "outputs": [],
   "source": []
  },
  {
   "cell_type": "code",
   "execution_count": null,
   "id": "5c2e07a8",
   "metadata": {},
   "outputs": [],
   "source": []
  },
  {
   "cell_type": "code",
   "execution_count": null,
   "id": "2c2c926a",
   "metadata": {},
   "outputs": [],
   "source": []
  }
 ],
 "metadata": {
  "kernelspec": {
   "display_name": "Python 3 (ipykernel)",
   "language": "python",
   "name": "python3"
  },
  "language_info": {
   "codemirror_mode": {
    "name": "ipython",
    "version": 3
   },
   "file_extension": ".py",
   "mimetype": "text/x-python",
   "name": "python",
   "nbconvert_exporter": "python",
   "pygments_lexer": "ipython3",
   "version": "3.9.7"
  }
 },
 "nbformat": 4,
 "nbformat_minor": 5
}
