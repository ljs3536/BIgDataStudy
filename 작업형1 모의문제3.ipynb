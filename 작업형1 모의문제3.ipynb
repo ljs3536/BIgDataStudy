{
 "cells": [
  {
   "cell_type": "markdown",
   "id": "b7eff265",
   "metadata": {},
   "source": [
    "# 문제 7\n",
    "- index '2001' 데이터(행)의 평균보다 큰 값의 수와\n",
    "- index '2003' 데이터(행)의 평균보다 작은 값의 수를 더하시오"
   ]
  },
  {
   "cell_type": "code",
   "execution_count": 2,
   "id": "362d1a47",
   "metadata": {},
   "outputs": [],
   "source": [
    "# 데이터 생성\n",
    "import pandas as pd\n",
    "import random\n",
    "df = pd.DataFrame()\n",
    "for i in range(0,5):\n",
    "    list_box = []\n",
    "    for k in range(0,200):\n",
    "        ran_num = random.randint(1,200)\n",
    "        list_box.append(ran_num)\n",
    "    df[i+2000] = list_box\n",
    "df = df.T\n",
    "df.to_csv(\"data.csv\", index = True)"
   ]
  },
  {
   "cell_type": "code",
   "execution_count": 5,
   "id": "af355fa4",
   "metadata": {},
   "outputs": [
    {
     "data": {
      "text/html": [
       "<div>\n",
       "<style scoped>\n",
       "    .dataframe tbody tr th:only-of-type {\n",
       "        vertical-align: middle;\n",
       "    }\n",
       "\n",
       "    .dataframe tbody tr th {\n",
       "        vertical-align: top;\n",
       "    }\n",
       "\n",
       "    .dataframe thead th {\n",
       "        text-align: right;\n",
       "    }\n",
       "</style>\n",
       "<table border=\"1\" class=\"dataframe\">\n",
       "  <thead>\n",
       "    <tr style=\"text-align: right;\">\n",
       "      <th></th>\n",
       "      <th>0</th>\n",
       "      <th>1</th>\n",
       "      <th>2</th>\n",
       "      <th>3</th>\n",
       "      <th>4</th>\n",
       "      <th>5</th>\n",
       "      <th>6</th>\n",
       "      <th>7</th>\n",
       "      <th>8</th>\n",
       "      <th>9</th>\n",
       "      <th>...</th>\n",
       "      <th>190</th>\n",
       "      <th>191</th>\n",
       "      <th>192</th>\n",
       "      <th>193</th>\n",
       "      <th>194</th>\n",
       "      <th>195</th>\n",
       "      <th>196</th>\n",
       "      <th>197</th>\n",
       "      <th>198</th>\n",
       "      <th>199</th>\n",
       "    </tr>\n",
       "  </thead>\n",
       "  <tbody>\n",
       "    <tr>\n",
       "      <th>2000</th>\n",
       "      <td>87</td>\n",
       "      <td>46</td>\n",
       "      <td>62</td>\n",
       "      <td>178</td>\n",
       "      <td>16</td>\n",
       "      <td>36</td>\n",
       "      <td>39</td>\n",
       "      <td>181</td>\n",
       "      <td>52</td>\n",
       "      <td>154</td>\n",
       "      <td>...</td>\n",
       "      <td>106</td>\n",
       "      <td>106</td>\n",
       "      <td>41</td>\n",
       "      <td>46</td>\n",
       "      <td>93</td>\n",
       "      <td>129</td>\n",
       "      <td>75</td>\n",
       "      <td>67</td>\n",
       "      <td>119</td>\n",
       "      <td>103</td>\n",
       "    </tr>\n",
       "    <tr>\n",
       "      <th>2001</th>\n",
       "      <td>87</td>\n",
       "      <td>144</td>\n",
       "      <td>38</td>\n",
       "      <td>142</td>\n",
       "      <td>47</td>\n",
       "      <td>143</td>\n",
       "      <td>162</td>\n",
       "      <td>162</td>\n",
       "      <td>125</td>\n",
       "      <td>108</td>\n",
       "      <td>...</td>\n",
       "      <td>79</td>\n",
       "      <td>50</td>\n",
       "      <td>67</td>\n",
       "      <td>140</td>\n",
       "      <td>182</td>\n",
       "      <td>12</td>\n",
       "      <td>28</td>\n",
       "      <td>127</td>\n",
       "      <td>35</td>\n",
       "      <td>17</td>\n",
       "    </tr>\n",
       "    <tr>\n",
       "      <th>2002</th>\n",
       "      <td>177</td>\n",
       "      <td>7</td>\n",
       "      <td>181</td>\n",
       "      <td>77</td>\n",
       "      <td>167</td>\n",
       "      <td>136</td>\n",
       "      <td>197</td>\n",
       "      <td>191</td>\n",
       "      <td>199</td>\n",
       "      <td>194</td>\n",
       "      <td>...</td>\n",
       "      <td>38</td>\n",
       "      <td>94</td>\n",
       "      <td>77</td>\n",
       "      <td>65</td>\n",
       "      <td>84</td>\n",
       "      <td>162</td>\n",
       "      <td>170</td>\n",
       "      <td>31</td>\n",
       "      <td>90</td>\n",
       "      <td>61</td>\n",
       "    </tr>\n",
       "    <tr>\n",
       "      <th>2003</th>\n",
       "      <td>27</td>\n",
       "      <td>171</td>\n",
       "      <td>200</td>\n",
       "      <td>30</td>\n",
       "      <td>194</td>\n",
       "      <td>47</td>\n",
       "      <td>130</td>\n",
       "      <td>52</td>\n",
       "      <td>136</td>\n",
       "      <td>65</td>\n",
       "      <td>...</td>\n",
       "      <td>194</td>\n",
       "      <td>137</td>\n",
       "      <td>81</td>\n",
       "      <td>179</td>\n",
       "      <td>96</td>\n",
       "      <td>177</td>\n",
       "      <td>178</td>\n",
       "      <td>38</td>\n",
       "      <td>52</td>\n",
       "      <td>108</td>\n",
       "    </tr>\n",
       "    <tr>\n",
       "      <th>2004</th>\n",
       "      <td>15</td>\n",
       "      <td>116</td>\n",
       "      <td>82</td>\n",
       "      <td>191</td>\n",
       "      <td>43</td>\n",
       "      <td>95</td>\n",
       "      <td>101</td>\n",
       "      <td>164</td>\n",
       "      <td>114</td>\n",
       "      <td>176</td>\n",
       "      <td>...</td>\n",
       "      <td>65</td>\n",
       "      <td>63</td>\n",
       "      <td>188</td>\n",
       "      <td>4</td>\n",
       "      <td>18</td>\n",
       "      <td>144</td>\n",
       "      <td>139</td>\n",
       "      <td>82</td>\n",
       "      <td>159</td>\n",
       "      <td>44</td>\n",
       "    </tr>\n",
       "  </tbody>\n",
       "</table>\n",
       "<p>5 rows × 200 columns</p>\n",
       "</div>"
      ],
      "text/plain": [
       "        0    1    2    3    4    5    6    7    8    9  ...  190  191  192  \\\n",
       "2000   87   46   62  178   16   36   39  181   52  154  ...  106  106   41   \n",
       "2001   87  144   38  142   47  143  162  162  125  108  ...   79   50   67   \n",
       "2002  177    7  181   77  167  136  197  191  199  194  ...   38   94   77   \n",
       "2003   27  171  200   30  194   47  130   52  136   65  ...  194  137   81   \n",
       "2004   15  116   82  191   43   95  101  164  114  176  ...   65   63  188   \n",
       "\n",
       "      193  194  195  196  197  198  199  \n",
       "2000   46   93  129   75   67  119  103  \n",
       "2001  140  182   12   28  127   35   17  \n",
       "2002   65   84  162  170   31   90   61  \n",
       "2003  179   96  177  178   38   52  108  \n",
       "2004    4   18  144  139   82  159   44  \n",
       "\n",
       "[5 rows x 200 columns]"
      ]
     },
     "execution_count": 5,
     "metadata": {},
     "output_type": "execute_result"
    }
   ],
   "source": [
    "df = pd.read_csv(\"data.csv\", index_col=\"Unnamed: 0\")\n",
    "df.head()"
   ]
  },
  {
   "cell_type": "code",
   "execution_count": 19,
   "id": "2430f493",
   "metadata": {},
   "outputs": [
    {
     "name": "stdout",
     "output_type": "stream",
     "text": [
      "193\n"
     ]
    }
   ],
   "source": [
    "m2001 = df.loc[2001].mean()\n",
    "# print(m2001)\n",
    "cond = df.loc[2001] > m2001\n",
    "r1 = sum(cond)\n",
    "\n",
    "m2003 = df.loc[2003].mean()\n",
    "# print(m2001)\n",
    "cond2 = df.loc[2003] < m2001\n",
    "r2 = sum(cond2)\n",
    "\n",
    "print(r1 + r2)"
   ]
  },
  {
   "cell_type": "markdown",
   "id": "f746e018",
   "metadata": {},
   "source": [
    "# 문제 8\n",
    "- 결측 값을 가진 데이터는 바로 뒤에 있는 값으로 대체한 후 (바로 뒤가 결측값이라면 뒤에있는 데이터 중 가장 가까운 값)\n",
    "- city와 f2 컬럼 기준으로 그룹합을 계산한 뒤 \n",
    "- views가 세번째로 큰 city(도시) 이름은?"
   ]
  },
  {
   "cell_type": "code",
   "execution_count": 33,
   "id": "091f1377",
   "metadata": {},
   "outputs": [
    {
     "name": "stdout",
     "output_type": "stream",
     "text": [
      "대구\n"
     ]
    }
   ],
   "source": [
    "import pandas as pd\n",
    "df = pd.read_csv(\"members.csv\")\n",
    "#df.isnull().sum()\n",
    "\n",
    "#display(df.head())\n",
    "df = df.fillna(method='bfill')\n",
    "#display(df.head())\n",
    "\n",
    "df = df.groupby(['city','f2']).sum().reset_index()\n",
    "\n",
    "df = df.sort_values('views',ascending=False)\n",
    "\n",
    "print(df.iloc[2,0])"
   ]
  },
  {
   "cell_type": "markdown",
   "id": "4d59acbf",
   "metadata": {},
   "source": [
    "# 문제 9\n",
    "- 구독(subscribed) 월별로 데이터 개수를 구한 뒤\n",
    "- 가장 작은 구독 수가 있는 월을 구하시오"
   ]
  },
  {
   "cell_type": "code",
   "execution_count": 43,
   "id": "4262a334",
   "metadata": {},
   "outputs": [
    {
     "data": {
      "text/plain": [
       "11"
      ]
     },
     "execution_count": 43,
     "metadata": {},
     "output_type": "execute_result"
    }
   ],
   "source": [
    "import pandas as pd\n",
    "df = pd.read_csv(\"members.csv\")\n",
    "\n",
    "df['subscribed'] = pd.to_datetime(df['subscribed'])\n",
    "df['year'] = df['subscribed'].dt.year\n",
    "df['month'] = df['subscribed'].dt.month\n",
    "df['day'] = df['subscribed'].dt.day\n",
    "\n",
    "df = df.groupby('month').count()\n",
    "df.sort_values('subscribed', ascending=True).index[0]"
   ]
  },
  {
   "cell_type": "code",
   "execution_count": null,
   "id": "4abd001e",
   "metadata": {},
   "outputs": [],
   "source": []
  },
  {
   "cell_type": "code",
   "execution_count": null,
   "id": "793b0ee0",
   "metadata": {},
   "outputs": [],
   "source": []
  },
  {
   "cell_type": "code",
   "execution_count": null,
   "id": "851279e6",
   "metadata": {},
   "outputs": [],
   "source": []
  },
  {
   "cell_type": "code",
   "execution_count": null,
   "id": "e379233f",
   "metadata": {},
   "outputs": [],
   "source": []
  },
  {
   "cell_type": "code",
   "execution_count": null,
   "id": "1ec38ce4",
   "metadata": {},
   "outputs": [],
   "source": []
  },
  {
   "cell_type": "code",
   "execution_count": null,
   "id": "573be92c",
   "metadata": {},
   "outputs": [],
   "source": []
  }
 ],
 "metadata": {
  "kernelspec": {
   "display_name": "Python 3 (ipykernel)",
   "language": "python",
   "name": "python3"
  },
  "language_info": {
   "codemirror_mode": {
    "name": "ipython",
    "version": 3
   },
   "file_extension": ".py",
   "mimetype": "text/x-python",
   "name": "python",
   "nbconvert_exporter": "python",
   "pygments_lexer": "ipython3",
   "version": "3.9.7"
  }
 },
 "nbformat": 4,
 "nbformat_minor": 5
}
