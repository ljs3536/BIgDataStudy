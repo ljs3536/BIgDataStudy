{
 "cells": [
  {
   "cell_type": "markdown",
   "id": "1f053e7f",
   "metadata": {},
   "source": [
    "# 2. 독립성 검점\n"
   ]
  },
  {
   "cell_type": "markdown",
   "id": "1af97612",
   "metadata": {},
   "source": [
    "[문제] 빅데이터 분석기사 실기 언어 선택에 따라 합격 여부를 조사한 결과이다. 언어와 합격 여부는 독립적인가? 가설검정을 실시하시오. (유의수준 0.05)\n",
    "-\t귀무가설(H0): 언어와 합격 여부는 독립이다.\n",
    "-\t대립가설(H1): 언어과 합격 여부는 독립이지 않다.\n",
    "\n"
   ]
  },
  {
   "cell_type": "markdown",
   "id": "52106222",
   "metadata": {},
   "source": [
    "## 2-1 교차표 데이터\n",
    "\n",
    "- R: 합격 80명, 불합격 20명,\n",
    "- Python: 합격 90명, 불합격 10명"
   ]
  },
  {
   "cell_type": "code",
   "execution_count": 4,
   "id": "405b8aa2",
   "metadata": {},
   "outputs": [],
   "source": [
    "import pandas as pd\n",
    "df = pd.DataFrame({\n",
    "    '합격' : [80,90],\n",
    "    '불합격' : [20,10]\n",
    "   \n",
    "}, index=['R','P'])"
   ]
  },
  {
   "cell_type": "code",
   "execution_count": 5,
   "id": "262fbdc6",
   "metadata": {},
   "outputs": [
    {
     "data": {
      "text/plain": [
       "(3.1764705882352944,\n",
       " 0.07470593331213068,\n",
       " 1,\n",
       " array([[85., 15.],\n",
       "        [85., 15.]]))"
      ]
     },
     "execution_count": 5,
     "metadata": {},
     "output_type": "execute_result"
    }
   ],
   "source": [
    "from scipy import stats\n",
    "stats.chi2_contingency(df)"
   ]
  },
  {
   "cell_type": "code",
   "execution_count": 7,
   "id": "8dcf6fc0",
   "metadata": {},
   "outputs": [
    {
     "data": {
      "text/html": [
       "<div>\n",
       "<style scoped>\n",
       "    .dataframe tbody tr th:only-of-type {\n",
       "        vertical-align: middle;\n",
       "    }\n",
       "\n",
       "    .dataframe tbody tr th {\n",
       "        vertical-align: top;\n",
       "    }\n",
       "\n",
       "    .dataframe thead th {\n",
       "        text-align: right;\n",
       "    }\n",
       "</style>\n",
       "<table border=\"1\" class=\"dataframe\">\n",
       "  <thead>\n",
       "    <tr style=\"text-align: right;\">\n",
       "      <th></th>\n",
       "      <th>R</th>\n",
       "      <th>P</th>\n",
       "    </tr>\n",
       "  </thead>\n",
       "  <tbody>\n",
       "    <tr>\n",
       "      <th>합격</th>\n",
       "      <td>80</td>\n",
       "      <td>90</td>\n",
       "    </tr>\n",
       "    <tr>\n",
       "      <th>불합격</th>\n",
       "      <td>20</td>\n",
       "      <td>10</td>\n",
       "    </tr>\n",
       "  </tbody>\n",
       "</table>\n",
       "</div>"
      ],
      "text/plain": [
       "      R   P\n",
       "합격   80  90\n",
       "불합격  20  10"
      ]
     },
     "execution_count": 7,
     "metadata": {},
     "output_type": "execute_result"
    }
   ],
   "source": [
    "import pandas as pd\n",
    "df = pd.DataFrame({\n",
    "    'R' : [80,20],\n",
    "    'P' : [90,10]\n",
    "   \n",
    "}, index=['합격','불합격'])\n",
    "df"
   ]
  },
  {
   "cell_type": "code",
   "execution_count": 8,
   "id": "55222826",
   "metadata": {},
   "outputs": [
    {
     "data": {
      "text/plain": [
       "(3.1764705882352944,\n",
       " 0.07470593331213068,\n",
       " 1,\n",
       " array([[85., 85.],\n",
       "        [15., 15.]]))"
      ]
     },
     "execution_count": 8,
     "metadata": {},
     "output_type": "execute_result"
    }
   ],
   "source": [
    "stats.chi2_contingency(df)"
   ]
  },
  {
   "cell_type": "code",
   "execution_count": 10,
   "id": "59f9ce91",
   "metadata": {},
   "outputs": [],
   "source": [
    "df = [[80,20],[90,10]]"
   ]
  },
  {
   "cell_type": "code",
   "execution_count": 11,
   "id": "7559956e",
   "metadata": {},
   "outputs": [
    {
     "data": {
      "text/plain": [
       "(3.1764705882352944,\n",
       " 0.07470593331213068,\n",
       " 1,\n",
       " array([[85., 15.],\n",
       "        [85., 15.]]))"
      ]
     },
     "execution_count": 11,
     "metadata": {},
     "output_type": "execute_result"
    }
   ],
   "source": [
    "stats.chi2_contingency(df)"
   ]
  },
  {
   "cell_type": "markdown",
   "id": "181aa3b8",
   "metadata": {},
   "source": [
    "## 2-2 로우 데이터"
   ]
  },
  {
   "cell_type": "code",
   "execution_count": 12,
   "id": "22c01ec1",
   "metadata": {},
   "outputs": [],
   "source": [
    "# 데이터 생성\n",
    "import pandas as pd\n",
    "data = {\n",
    "    '언어': ['R']*100 + ['Python']*100,\n",
    "    '합격여부': ['합격']*80 + ['불합격']*20 + ['합격']*90 + ['불합격']*10\n",
    "}\n",
    "df = pd.DataFrame(data)"
   ]
  },
  {
   "cell_type": "code",
   "execution_count": 13,
   "id": "ac14b531",
   "metadata": {},
   "outputs": [
    {
     "data": {
      "text/html": [
       "<div>\n",
       "<style scoped>\n",
       "    .dataframe tbody tr th:only-of-type {\n",
       "        vertical-align: middle;\n",
       "    }\n",
       "\n",
       "    .dataframe tbody tr th {\n",
       "        vertical-align: top;\n",
       "    }\n",
       "\n",
       "    .dataframe thead th {\n",
       "        text-align: right;\n",
       "    }\n",
       "</style>\n",
       "<table border=\"1\" class=\"dataframe\">\n",
       "  <thead>\n",
       "    <tr style=\"text-align: right;\">\n",
       "      <th></th>\n",
       "      <th>언어</th>\n",
       "      <th>합격여부</th>\n",
       "    </tr>\n",
       "  </thead>\n",
       "  <tbody>\n",
       "    <tr>\n",
       "      <th>91</th>\n",
       "      <td>R</td>\n",
       "      <td>불합격</td>\n",
       "    </tr>\n",
       "  </tbody>\n",
       "</table>\n",
       "</div>"
      ],
      "text/plain": [
       "   언어 합격여부\n",
       "91  R  불합격"
      ]
     },
     "execution_count": 13,
     "metadata": {},
     "output_type": "execute_result"
    }
   ],
   "source": [
    "df.sample(1)"
   ]
  },
  {
   "cell_type": "code",
   "execution_count": 14,
   "id": "22ee86af",
   "metadata": {},
   "outputs": [
    {
     "data": {
      "text/html": [
       "<div>\n",
       "<style scoped>\n",
       "    .dataframe tbody tr th:only-of-type {\n",
       "        vertical-align: middle;\n",
       "    }\n",
       "\n",
       "    .dataframe tbody tr th {\n",
       "        vertical-align: top;\n",
       "    }\n",
       "\n",
       "    .dataframe thead th {\n",
       "        text-align: right;\n",
       "    }\n",
       "</style>\n",
       "<table border=\"1\" class=\"dataframe\">\n",
       "  <thead>\n",
       "    <tr style=\"text-align: right;\">\n",
       "      <th>합격여부</th>\n",
       "      <th>불합격</th>\n",
       "      <th>합격</th>\n",
       "    </tr>\n",
       "    <tr>\n",
       "      <th>언어</th>\n",
       "      <th></th>\n",
       "      <th></th>\n",
       "    </tr>\n",
       "  </thead>\n",
       "  <tbody>\n",
       "    <tr>\n",
       "      <th>Python</th>\n",
       "      <td>10</td>\n",
       "      <td>90</td>\n",
       "    </tr>\n",
       "    <tr>\n",
       "      <th>R</th>\n",
       "      <td>20</td>\n",
       "      <td>80</td>\n",
       "    </tr>\n",
       "  </tbody>\n",
       "</table>\n",
       "</div>"
      ],
      "text/plain": [
       "합격여부    불합격  합격\n",
       "언어             \n",
       "Python   10  90\n",
       "R        20  80"
      ]
     },
     "execution_count": 14,
     "metadata": {},
     "output_type": "execute_result"
    }
   ],
   "source": [
    "pd.crosstab(df['언어'],df['합격여부'])"
   ]
  },
  {
   "cell_type": "code",
   "execution_count": null,
   "id": "ce94f7b5",
   "metadata": {},
   "outputs": [],
   "source": []
  },
  {
   "cell_type": "code",
   "execution_count": null,
   "id": "45085139",
   "metadata": {},
   "outputs": [],
   "source": []
  },
  {
   "cell_type": "code",
   "execution_count": null,
   "id": "ded08670",
   "metadata": {},
   "outputs": [],
   "source": []
  },
  {
   "cell_type": "code",
   "execution_count": null,
   "id": "c3c8699d",
   "metadata": {},
   "outputs": [],
   "source": []
  }
 ],
 "metadata": {
  "kernelspec": {
   "display_name": "Python 3 (ipykernel)",
   "language": "python",
   "name": "python3"
  },
  "language_info": {
   "codemirror_mode": {
    "name": "ipython",
    "version": 3
   },
   "file_extension": ".py",
   "mimetype": "text/x-python",
   "name": "python",
   "nbconvert_exporter": "python",
   "pygments_lexer": "ipython3",
   "version": "3.9.7"
  }
 },
 "nbformat": 4,
 "nbformat_minor": 5
}
