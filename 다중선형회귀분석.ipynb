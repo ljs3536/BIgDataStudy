{
 "cells": [
  {
   "cell_type": "markdown",
   "id": "ca39f21e",
   "metadata": {},
   "source": [
    "# 다중 선형 회귀 분석"
   ]
  },
  {
   "cell_type": "markdown",
   "id": "f55bc20d",
   "metadata": {},
   "source": [
    "주어진 매출액, 광고비, 플랫폼 데이터로 회귀모델을 구축하고 각 소문제의 값을 구하시오.\n",
    "- 매출액: 종속변수\n",
    "- 광고비, 플랫폼(유통 플랫폼 수), 투자: 독립변수"
   ]
  },
  {
   "cell_type": "code",
   "execution_count": 2,
   "id": "cc0e067f",
   "metadata": {},
   "outputs": [
    {
     "data": {
      "text/html": [
       "<div>\n",
       "<style scoped>\n",
       "    .dataframe tbody tr th:only-of-type {\n",
       "        vertical-align: middle;\n",
       "    }\n",
       "\n",
       "    .dataframe tbody tr th {\n",
       "        vertical-align: top;\n",
       "    }\n",
       "\n",
       "    .dataframe thead th {\n",
       "        text-align: right;\n",
       "    }\n",
       "</style>\n",
       "<table border=\"1\" class=\"dataframe\">\n",
       "  <thead>\n",
       "    <tr style=\"text-align: right;\">\n",
       "      <th></th>\n",
       "      <th>매출액</th>\n",
       "      <th>광고비</th>\n",
       "      <th>플랫폼</th>\n",
       "      <th>투자</th>\n",
       "    </tr>\n",
       "  </thead>\n",
       "  <tbody>\n",
       "    <tr>\n",
       "      <th>0</th>\n",
       "      <td>300</td>\n",
       "      <td>70</td>\n",
       "      <td>15</td>\n",
       "      <td>100</td>\n",
       "    </tr>\n",
       "    <tr>\n",
       "      <th>1</th>\n",
       "      <td>320</td>\n",
       "      <td>75</td>\n",
       "      <td>16</td>\n",
       "      <td>0</td>\n",
       "    </tr>\n",
       "    <tr>\n",
       "      <th>2</th>\n",
       "      <td>250</td>\n",
       "      <td>30</td>\n",
       "      <td>14</td>\n",
       "      <td>200</td>\n",
       "    </tr>\n",
       "  </tbody>\n",
       "</table>\n",
       "</div>"
      ],
      "text/plain": [
       "   매출액  광고비  플랫폼   투자\n",
       "0  300   70   15  100\n",
       "1  320   75   16    0\n",
       "2  250   30   14  200"
      ]
     },
     "execution_count": 2,
     "metadata": {},
     "output_type": "execute_result"
    }
   ],
   "source": [
    "import pandas as pd\n",
    "df = pd.DataFrame({\n",
    "    '매출액': [300, 320, 250, 360, 315, 328, 310, 335, 326, 280,\n",
    "            290, 300, 315, 328, 310, 335, 300, 400, 500, 600],\n",
    "    '광고비': [70, 75, 30, 80, 72, 77, 70, 82, 70, 80,\n",
    "            68, 90, 72, 77, 70, 82, 40, 20, 75, 80],\n",
    "    '플랫폼': [15, 16, 14, 20, 19, 17, 16, 19, 15, 20,\n",
    "            14, 5, 16, 17, 16, 14, 30, 40, 10, 50],\n",
    "    '투자':[100, 0, 200, 0, 10, 0, 5, 0, 20, 0,\n",
    "          0, 0, 0, 0, 0, 0, 0, 0, 0, 0]\n",
    "    })\n",
    "df.head(3)"
   ]
  },
  {
   "cell_type": "code",
   "execution_count": 4,
   "id": "79218e71",
   "metadata": {},
   "outputs": [
    {
     "name": "stdout",
     "output_type": "stream",
     "text": [
      "                            OLS Regression Results                            \n",
      "==============================================================================\n",
      "Dep. Variable:                    매출액   R-squared:                       0.512\n",
      "Model:                            OLS   Adj. R-squared:                  0.454\n",
      "Method:                 Least Squares   F-statistic:                     8.907\n",
      "Date:                Sun, 12 May 2024   Prob (F-statistic):            0.00226\n",
      "Time:                        21:00:06   Log-Likelihood:                -108.22\n",
      "No. Observations:                  20   AIC:                             222.4\n",
      "Df Residuals:                      17   BIC:                             225.4\n",
      "Df Model:                           2                                         \n",
      "Covariance Type:            nonrobust                                         \n",
      "==============================================================================\n",
      "                 coef    std err          t      P>|t|      [0.025      0.975]\n",
      "------------------------------------------------------------------------------\n",
      "Intercept    101.0239     71.716      1.409      0.177     -50.284     252.331\n",
      "광고비            1.8194      0.807      2.255      0.038       0.117       3.522\n",
      "플랫폼            5.9288      1.430      4.147      0.001       2.912       8.945\n",
      "==============================================================================\n",
      "Omnibus:                       30.534   Durbin-Watson:                   1.354\n",
      "Prob(Omnibus):                  0.000   Jarque-Bera (JB):               64.655\n",
      "Skew:                           2.444   Prob(JB):                     9.13e-15\n",
      "Kurtosis:                      10.327   Cond. No.                         401.\n",
      "==============================================================================\n",
      "\n",
      "Notes:\n",
      "[1] Standard Errors assume that the covariance matrix of the errors is correctly specified.\n"
     ]
    }
   ],
   "source": [
    "# 모델 학습 summary 출력 (종속변수 : 매출액, 독립변수 : 광고비, 플랫폼)\n",
    "from statsmodels.formula.api import ols\n",
    "model = ols(\"매출액 ~ 광고비 + 플랫폼\",data = df).fit()\n",
    "print(model.summary())"
   ]
  },
  {
   "cell_type": "code",
   "execution_count": 5,
   "id": "fb2cadd0",
   "metadata": {},
   "outputs": [
    {
     "data": {
      "text/plain": [
       "0.5116964327009041"
      ]
     },
     "execution_count": 5,
     "metadata": {},
     "output_type": "execute_result"
    }
   ],
   "source": [
    "# 결정 계수 (R-squared)\n",
    "# 0.512\n",
    "model.rsquared"
   ]
  },
  {
   "cell_type": "code",
   "execution_count": 7,
   "id": "a7f1f47f",
   "metadata": {},
   "outputs": [
    {
     "data": {
      "text/plain": [
       "1.8194269419344606"
      ]
     },
     "execution_count": 7,
     "metadata": {},
     "output_type": "execute_result"
    }
   ],
   "source": [
    "# 회귀계수(광고비)\n",
    "# 1.8194\n",
    "model.params['광고비']"
   ]
  },
  {
   "cell_type": "code",
   "execution_count": 8,
   "id": "f28100c7",
   "metadata": {},
   "outputs": [
    {
     "data": {
      "text/plain": [
       "5.928755546950752"
      ]
     },
     "execution_count": 8,
     "metadata": {},
     "output_type": "execute_result"
    }
   ],
   "source": [
    "# 회귀계수(플랫폼)\n",
    "# 5.9288\n",
    "model.params['플랫폼']"
   ]
  },
  {
   "cell_type": "code",
   "execution_count": 9,
   "id": "f58da0d4",
   "metadata": {},
   "outputs": [
    {
     "data": {
      "text/plain": [
       "101.02387228241548"
      ]
     },
     "execution_count": 9,
     "metadata": {},
     "output_type": "execute_result"
    }
   ],
   "source": [
    "# 회귀계수(절편)\n",
    "# 101.0239\n",
    "model.params['Intercept']"
   ]
  },
  {
   "cell_type": "code",
   "execution_count": 10,
   "id": "4b8fddff",
   "metadata": {},
   "outputs": [
    {
     "data": {
      "text/plain": [
       "0.0376435064769604"
      ]
     },
     "execution_count": 10,
     "metadata": {},
     "output_type": "execute_result"
    }
   ],
   "source": [
    "# 광고비의 회귀계수가 통계적으로 유의한지 pvalue\n",
    "# 0.038\n",
    "model.pvalues['광고비']"
   ]
  },
  {
   "cell_type": "code",
   "execution_count": 11,
   "id": "a3babaca",
   "metadata": {},
   "outputs": [
    {
     "data": {
      "text/plain": [
       "0.0006746810554564365"
      ]
     },
     "execution_count": 11,
     "metadata": {},
     "output_type": "execute_result"
    }
   ],
   "source": [
    "# 플랫폼의 회귀계수가 통계적으로 유의한지 pvalue\n",
    "# 0.001\n",
    "model.pvalues['플랫폼']"
   ]
  },
  {
   "cell_type": "code",
   "execution_count": 12,
   "id": "07de1fc0",
   "metadata": {},
   "outputs": [
    {
     "data": {
      "text/plain": [
       "0    310.57033\n",
       "dtype: float64"
      ]
     },
     "execution_count": 12,
     "metadata": {},
     "output_type": "execute_result"
    }
   ],
   "source": [
    "# 광고비 50, 플랫폼 20 일 때 매출액 예측\n",
    "newdata = pd.DataFrame({\n",
    "    '광고비' : [50],\n",
    "    '플랫폼' : [20]\n",
    "})\n",
    "model.predict(newdata)"
   ]
  },
  {
   "cell_type": "code",
   "execution_count": 15,
   "id": "b782beb8",
   "metadata": {},
   "outputs": [
    {
     "name": "stdout",
     "output_type": "stream",
     "text": [
      "0     -17.315091\n",
      "1     -12.340982\n",
      "2      11.390742\n",
      "3      -5.153139\n",
      "4     -29.668967\n",
      "5     -13.908591\n",
      "6     -13.243847\n",
      "7     -27.863237\n",
      "8       8.684909\n",
      "9     -85.153139\n",
      "10    -17.747482\n",
      "11      5.583925\n",
      "12    -11.882701\n",
      "13    -13.908591\n",
      "14    -13.243847\n",
      "15      1.780541\n",
      "16    -51.663616\n",
      "17     25.437367\n",
      "18    203.231552\n",
      "19     56.984195\n",
      "dtype: float64\n",
      "58686.17827156107\n",
      "58686.178271561075\n"
     ]
    }
   ],
   "source": [
    "# 잔차 제곱합\n",
    "print(model.resid)\n",
    "print(sum(model.resid**2))\n",
    "print((model.resid**2).sum())"
   ]
  },
  {
   "cell_type": "code",
   "execution_count": 14,
   "id": "67d40840",
   "metadata": {},
   "outputs": [
    {
     "data": {
      "text/plain": [
       "2934.3089135780538"
      ]
     },
     "execution_count": 14,
     "metadata": {},
     "output_type": "execute_result"
    }
   ],
   "source": [
    "# MSE\n",
    "(model.resid**2).mean()"
   ]
  },
  {
   "cell_type": "code",
   "execution_count": 16,
   "id": "eb7b34db",
   "metadata": {},
   "outputs": [
    {
     "data": {
      "text/html": [
       "<div>\n",
       "<style scoped>\n",
       "    .dataframe tbody tr th:only-of-type {\n",
       "        vertical-align: middle;\n",
       "    }\n",
       "\n",
       "    .dataframe tbody tr th {\n",
       "        vertical-align: top;\n",
       "    }\n",
       "\n",
       "    .dataframe thead th {\n",
       "        text-align: right;\n",
       "    }\n",
       "</style>\n",
       "<table border=\"1\" class=\"dataframe\">\n",
       "  <thead>\n",
       "    <tr style=\"text-align: right;\">\n",
       "      <th></th>\n",
       "      <th>0</th>\n",
       "      <th>1</th>\n",
       "    </tr>\n",
       "  </thead>\n",
       "  <tbody>\n",
       "    <tr>\n",
       "      <th>Intercept</th>\n",
       "      <td>-50.283684</td>\n",
       "      <td>252.331429</td>\n",
       "    </tr>\n",
       "    <tr>\n",
       "      <th>광고비</th>\n",
       "      <td>0.116785</td>\n",
       "      <td>3.522069</td>\n",
       "    </tr>\n",
       "    <tr>\n",
       "      <th>플랫폼</th>\n",
       "      <td>2.912406</td>\n",
       "      <td>8.945105</td>\n",
       "    </tr>\n",
       "  </tbody>\n",
       "</table>\n",
       "</div>"
      ],
      "text/plain": [
       "                   0           1\n",
       "Intercept -50.283684  252.331429\n",
       "광고비         0.116785    3.522069\n",
       "플랫폼         2.912406    8.945105"
      ]
     },
     "execution_count": 16,
     "metadata": {},
     "output_type": "execute_result"
    }
   ],
   "source": [
    "# 광고비, 플랫폼 회귀계수의 95% 신뢰구간\n",
    "# 광고비 : 0.117       3.522\n",
    "# 플랫폼 : 2.912       8.945\n",
    "# model.conf_int(alpha=0.05)\n",
    "model.conf_int(alpha=0.05)"
   ]
  },
  {
   "cell_type": "code",
   "execution_count": 17,
   "id": "ffdcc341",
   "metadata": {},
   "outputs": [
    {
     "data": {
      "text/html": [
       "<div>\n",
       "<style scoped>\n",
       "    .dataframe tbody tr th:only-of-type {\n",
       "        vertical-align: middle;\n",
       "    }\n",
       "\n",
       "    .dataframe tbody tr th {\n",
       "        vertical-align: top;\n",
       "    }\n",
       "\n",
       "    .dataframe thead th {\n",
       "        text-align: right;\n",
       "    }\n",
       "</style>\n",
       "<table border=\"1\" class=\"dataframe\">\n",
       "  <thead>\n",
       "    <tr style=\"text-align: right;\">\n",
       "      <th></th>\n",
       "      <th>mean</th>\n",
       "      <th>mean_se</th>\n",
       "      <th>mean_ci_lower</th>\n",
       "      <th>mean_ci_upper</th>\n",
       "      <th>obs_ci_lower</th>\n",
       "      <th>obs_ci_upper</th>\n",
       "    </tr>\n",
       "  </thead>\n",
       "  <tbody>\n",
       "    <tr>\n",
       "      <th>0</th>\n",
       "      <td>310.57033</td>\n",
       "      <td>19.887098</td>\n",
       "      <td>268.612221</td>\n",
       "      <td>352.52844</td>\n",
       "      <td>179.700104</td>\n",
       "      <td>441.440556</td>\n",
       "    </tr>\n",
       "  </tbody>\n",
       "</table>\n",
       "</div>"
      ],
      "text/plain": [
       "        mean    mean_se  mean_ci_lower  mean_ci_upper  obs_ci_lower  \\\n",
       "0  310.57033  19.887098     268.612221      352.52844    179.700104   \n",
       "\n",
       "   obs_ci_upper  \n",
       "0    441.440556  "
      ]
     },
     "execution_count": 17,
     "metadata": {},
     "output_type": "execute_result"
    }
   ],
   "source": [
    "# 광고비 50, 플랫폼 20일때 매출에대한 95% 신뢰구간과 예측구간\n",
    "newdata = pd.DataFrame({\n",
    "    '광고비' : [50],\n",
    "    '플랫폼' : [20]\n",
    "})\n",
    "pred = model.get_prediction(newdata)\n",
    "pred.summary_frame(alpha=0.05)\n",
    "# 신뢰구간 268.612221\t352.52844\t\n",
    "# 예측구간 179.700104\t441.440556"
   ]
  },
  {
   "cell_type": "code",
   "execution_count": null,
   "id": "f260be1e",
   "metadata": {},
   "outputs": [],
   "source": []
  },
  {
   "cell_type": "code",
   "execution_count": null,
   "id": "c1337fbc",
   "metadata": {},
   "outputs": [],
   "source": []
  },
  {
   "cell_type": "code",
   "execution_count": null,
   "id": "b59043b2",
   "metadata": {},
   "outputs": [],
   "source": []
  },
  {
   "cell_type": "code",
   "execution_count": null,
   "id": "462d8403",
   "metadata": {},
   "outputs": [],
   "source": []
  },
  {
   "cell_type": "code",
   "execution_count": null,
   "id": "e77feeeb",
   "metadata": {},
   "outputs": [],
   "source": []
  },
  {
   "cell_type": "code",
   "execution_count": null,
   "id": "c07036d7",
   "metadata": {},
   "outputs": [],
   "source": []
  },
  {
   "cell_type": "code",
   "execution_count": null,
   "id": "65aca335",
   "metadata": {},
   "outputs": [],
   "source": []
  },
  {
   "cell_type": "code",
   "execution_count": null,
   "id": "1e9851d7",
   "metadata": {},
   "outputs": [],
   "source": []
  }
 ],
 "metadata": {
  "kernelspec": {
   "display_name": "Python 3 (ipykernel)",
   "language": "python",
   "name": "python3"
  },
  "language_info": {
   "codemirror_mode": {
    "name": "ipython",
    "version": 3
   },
   "file_extension": ".py",
   "mimetype": "text/x-python",
   "name": "python",
   "nbconvert_exporter": "python",
   "pygments_lexer": "ipython3",
   "version": "3.10.9"
  }
 },
 "nbformat": 4,
 "nbformat_minor": 5
}
