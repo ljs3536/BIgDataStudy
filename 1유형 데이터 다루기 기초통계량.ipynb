{
 "cells": [
  {
   "cell_type": "markdown",
   "id": "235d4502",
   "metadata": {},
   "source": [
    "# 2. 기초통계량 (평균, 중앙값, IQR, 표준 편차 등)\n",
    "\n",
    "### 1) 중심측도를 나타내는 값(평균, 중앙값, 최빈값)"
   ]
  },
  {
   "cell_type": "code",
   "execution_count": 1,
   "id": "45237187",
   "metadata": {},
   "outputs": [],
   "source": [
    "import pandas as pd\n",
    "import numpy as np"
   ]
  },
  {
   "cell_type": "code",
   "execution_count": 3,
   "id": "ec95d26e",
   "metadata": {},
   "outputs": [
    {
     "data": {
      "text/html": [
       "<div>\n",
       "<style scoped>\n",
       "    .dataframe tbody tr th:only-of-type {\n",
       "        vertical-align: middle;\n",
       "    }\n",
       "\n",
       "    .dataframe tbody tr th {\n",
       "        vertical-align: top;\n",
       "    }\n",
       "\n",
       "    .dataframe thead th {\n",
       "        text-align: right;\n",
       "    }\n",
       "</style>\n",
       "<table border=\"1\" class=\"dataframe\">\n",
       "  <thead>\n",
       "    <tr style=\"text-align: right;\">\n",
       "      <th></th>\n",
       "      <th>Unnamed: 0</th>\n",
       "      <th>mpg</th>\n",
       "      <th>cyl</th>\n",
       "      <th>disp</th>\n",
       "      <th>hp</th>\n",
       "      <th>drat</th>\n",
       "      <th>wt</th>\n",
       "      <th>qsec</th>\n",
       "      <th>vs</th>\n",
       "      <th>am</th>\n",
       "      <th>gear</th>\n",
       "      <th>carb</th>\n",
       "    </tr>\n",
       "  </thead>\n",
       "  <tbody>\n",
       "    <tr>\n",
       "      <th>0</th>\n",
       "      <td>Mazda RX4</td>\n",
       "      <td>21.0</td>\n",
       "      <td>6</td>\n",
       "      <td>160.0</td>\n",
       "      <td>110</td>\n",
       "      <td>3.90</td>\n",
       "      <td>2.620</td>\n",
       "      <td>16.46</td>\n",
       "      <td>0</td>\n",
       "      <td>1</td>\n",
       "      <td>4</td>\n",
       "      <td>4</td>\n",
       "    </tr>\n",
       "    <tr>\n",
       "      <th>1</th>\n",
       "      <td>Mazda RX4 Wag</td>\n",
       "      <td>21.0</td>\n",
       "      <td>6</td>\n",
       "      <td>160.0</td>\n",
       "      <td>110</td>\n",
       "      <td>3.90</td>\n",
       "      <td>2.875</td>\n",
       "      <td>17.02</td>\n",
       "      <td>0</td>\n",
       "      <td>1</td>\n",
       "      <td>4</td>\n",
       "      <td>4</td>\n",
       "    </tr>\n",
       "    <tr>\n",
       "      <th>2</th>\n",
       "      <td>Datsun 710</td>\n",
       "      <td>22.8</td>\n",
       "      <td>4</td>\n",
       "      <td>108.0</td>\n",
       "      <td>93</td>\n",
       "      <td>3.85</td>\n",
       "      <td>2.320</td>\n",
       "      <td>18.61</td>\n",
       "      <td>1</td>\n",
       "      <td>1</td>\n",
       "      <td>4</td>\n",
       "      <td>1</td>\n",
       "    </tr>\n",
       "    <tr>\n",
       "      <th>3</th>\n",
       "      <td>Hornet 4 Drive</td>\n",
       "      <td>21.4</td>\n",
       "      <td>6</td>\n",
       "      <td>258.0</td>\n",
       "      <td>110</td>\n",
       "      <td>3.08</td>\n",
       "      <td>3.215</td>\n",
       "      <td>19.44</td>\n",
       "      <td>1</td>\n",
       "      <td>0</td>\n",
       "      <td>3</td>\n",
       "      <td>1</td>\n",
       "    </tr>\n",
       "    <tr>\n",
       "      <th>4</th>\n",
       "      <td>Hornet Sportabout</td>\n",
       "      <td>18.7</td>\n",
       "      <td>8</td>\n",
       "      <td>360.0</td>\n",
       "      <td>175</td>\n",
       "      <td>3.15</td>\n",
       "      <td>3.440</td>\n",
       "      <td>17.02</td>\n",
       "      <td>0</td>\n",
       "      <td>0</td>\n",
       "      <td>3</td>\n",
       "      <td>2</td>\n",
       "    </tr>\n",
       "  </tbody>\n",
       "</table>\n",
       "</div>"
      ],
      "text/plain": [
       "          Unnamed: 0   mpg  cyl   disp   hp  drat     wt   qsec  vs  am  gear  \\\n",
       "0          Mazda RX4  21.0    6  160.0  110  3.90  2.620  16.46   0   1     4   \n",
       "1      Mazda RX4 Wag  21.0    6  160.0  110  3.90  2.875  17.02   0   1     4   \n",
       "2         Datsun 710  22.8    4  108.0   93  3.85  2.320  18.61   1   1     4   \n",
       "3     Hornet 4 Drive  21.4    6  258.0  110  3.08  3.215  19.44   1   0     3   \n",
       "4  Hornet Sportabout  18.7    8  360.0  175  3.15  3.440  17.02   0   0     3   \n",
       "\n",
       "   carb  \n",
       "0     4  \n",
       "1     4  \n",
       "2     1  \n",
       "3     1  \n",
       "4     2  "
      ]
     },
     "execution_count": 3,
     "metadata": {},
     "output_type": "execute_result"
    }
   ],
   "source": [
    "df = pd.read_csv(\"mtcars.csv\")\n",
    "df.head()"
   ]
  },
  {
   "cell_type": "code",
   "execution_count": 4,
   "id": "4f61c63b",
   "metadata": {},
   "outputs": [
    {
     "data": {
      "text/plain": [
       "(32, 12)"
      ]
     },
     "execution_count": 4,
     "metadata": {},
     "output_type": "execute_result"
    }
   ],
   "source": [
    "df.shape"
   ]
  },
  {
   "cell_type": "code",
   "execution_count": 6,
   "id": "1cb114a9",
   "metadata": {},
   "outputs": [
    {
     "name": "stdout",
     "output_type": "stream",
     "text": [
      "20.090624999999996\n"
     ]
    }
   ],
   "source": [
    "#평균값 구하기\n",
    "mpg_mean = df['mpg'].mean()\n",
    "print(mpg_mean)"
   ]
  },
  {
   "cell_type": "code",
   "execution_count": 7,
   "id": "3d4e6791",
   "metadata": {},
   "outputs": [
    {
     "name": "stdout",
     "output_type": "stream",
     "text": [
      "19.2\n"
     ]
    }
   ],
   "source": [
    "#중앙값 구하기\n",
    "mpg_median = df['mpg'].median()\n",
    "print(mpg_median)"
   ]
  },
  {
   "cell_type": "code",
   "execution_count": 9,
   "id": "0114a587",
   "metadata": {},
   "outputs": [
    {
     "name": "stdout",
     "output_type": "stream",
     "text": [
      "0    8\n",
      "dtype: int64\n",
      "8\n"
     ]
    }
   ],
   "source": [
    "#최빈값 구하기\n",
    "mpg_mode = df['cyl'].mode()\n",
    "print(mpg_mode)\n",
    "print(mpg_mode[0])"
   ]
  },
  {
   "cell_type": "code",
   "execution_count": 11,
   "id": "6ed4729d",
   "metadata": {},
   "outputs": [
    {
     "data": {
      "text/plain": [
       "8    14\n",
       "4    11\n",
       "6     7\n",
       "Name: cyl, dtype: int64"
      ]
     },
     "execution_count": 11,
     "metadata": {},
     "output_type": "execute_result"
    }
   ],
   "source": [
    "df['cyl'].value_counts()"
   ]
  },
  {
   "cell_type": "markdown",
   "id": "7d04bf13",
   "metadata": {},
   "source": [
    "## 2) 산포도를 나타내는 값(분산, 표준편차, IQR, 범위(최대-최소) 등)"
   ]
  },
  {
   "cell_type": "code",
   "execution_count": 13,
   "id": "5e229565",
   "metadata": {},
   "outputs": [
    {
     "name": "stdout",
     "output_type": "stream",
     "text": [
      "36.32410282258065\n"
     ]
    }
   ],
   "source": [
    "# 분산\n",
    "mpg_var = df['mpg'].var()\n",
    "print(mpg_var)"
   ]
  },
  {
   "cell_type": "code",
   "execution_count": 14,
   "id": "2bc69dba",
   "metadata": {},
   "outputs": [
    {
     "name": "stdout",
     "output_type": "stream",
     "text": [
      "6.026948052089105\n"
     ]
    }
   ],
   "source": [
    "# 표준편차\n",
    "mpg_std = df['mpg'].std()\n",
    "print(mpg_std)"
   ]
  },
  {
   "cell_type": "code",
   "execution_count": 15,
   "id": "779c763d",
   "metadata": {},
   "outputs": [
    {
     "name": "stdout",
     "output_type": "stream",
     "text": [
      "15.425\n"
     ]
    }
   ],
   "source": [
    "# IQR\n",
    "Q1 = df['mpg'].quantile(.25)\n",
    "print(Q1)"
   ]
  },
  {
   "cell_type": "code",
   "execution_count": 16,
   "id": "3a9a1c6d",
   "metadata": {},
   "outputs": [
    {
     "name": "stdout",
     "output_type": "stream",
     "text": [
      "22.8\n"
     ]
    }
   ],
   "source": [
    "Q3 = df['mpg'].quantile(.75)\n",
    "print(Q3)"
   ]
  },
  {
   "cell_type": "code",
   "execution_count": 17,
   "id": "1200a09e",
   "metadata": {},
   "outputs": [
    {
     "name": "stdout",
     "output_type": "stream",
     "text": [
      "7.375\n"
     ]
    }
   ],
   "source": [
    "IQR = Q3 - Q1\n",
    "print(IQR)"
   ]
  },
  {
   "cell_type": "code",
   "execution_count": 18,
   "id": "5bad2c4c",
   "metadata": {},
   "outputs": [
    {
     "name": "stdout",
     "output_type": "stream",
     "text": [
      "19.2\n",
      "19.2\n"
     ]
    }
   ],
   "source": [
    "Q2 = df['mpg'].quantile(.50)\n",
    "print(Q2)\n",
    "print(df['mpg'].median())"
   ]
  },
  {
   "cell_type": "code",
   "execution_count": 19,
   "id": "69e5d3bf",
   "metadata": {},
   "outputs": [
    {
     "name": "stdout",
     "output_type": "stream",
     "text": [
      "33.9\n"
     ]
    }
   ],
   "source": [
    "# 범위(Range) = 최대값 - 최소값\n",
    "mpg_max = df['mpg'].max()\n",
    "print(mpg_max)"
   ]
  },
  {
   "cell_type": "code",
   "execution_count": 20,
   "id": "44db2115",
   "metadata": {},
   "outputs": [
    {
     "name": "stdout",
     "output_type": "stream",
     "text": [
      "10.4\n"
     ]
    }
   ],
   "source": [
    "mpg_min = df['mpg'].min()\n",
    "print(mpg_min)"
   ]
  },
  {
   "cell_type": "code",
   "execution_count": 21,
   "id": "1d9124cd",
   "metadata": {},
   "outputs": [
    {
     "name": "stdout",
     "output_type": "stream",
     "text": [
      "23.5\n"
     ]
    }
   ],
   "source": [
    "mpg_range = mpg_max - mpg_min\n",
    "print(mpg_range)"
   ]
  },
  {
   "cell_type": "markdown",
   "id": "ed4e26ba",
   "metadata": {},
   "source": [
    "## 3) 분포의 비대칭도"
   ]
  },
  {
   "cell_type": "code",
   "execution_count": 22,
   "id": "6c08a407",
   "metadata": {},
   "outputs": [
    {
     "name": "stdout",
     "output_type": "stream",
     "text": [
      "0.6723771376290805\n"
     ]
    }
   ],
   "source": [
    "# 왜도\n",
    "mpg_skew = df['mpg'].skew()\n",
    "print(mpg_skew)"
   ]
  },
  {
   "cell_type": "code",
   "execution_count": 23,
   "id": "83ebaa2c",
   "metadata": {},
   "outputs": [
    {
     "name": "stdout",
     "output_type": "stream",
     "text": [
      "-0.0220062914240855\n"
     ]
    }
   ],
   "source": [
    "# 첨도\n",
    "mpg_kurt = df['mpg'].kurt()\n",
    "print(mpg_kurt)"
   ]
  },
  {
   "cell_type": "markdown",
   "id": "7e6dbd06",
   "metadata": {},
   "source": [
    "## 4) 기타(합계, 절대값, 데이터 수 등)"
   ]
  },
  {
   "cell_type": "code",
   "execution_count": 24,
   "id": "d8a7c8f6",
   "metadata": {},
   "outputs": [
    {
     "name": "stdout",
     "output_type": "stream",
     "text": [
      "642.9000000000001\n"
     ]
    }
   ],
   "source": [
    "# 합계\n",
    "mpg_sum = df['mpg'].sum()\n",
    "print(mpg_sum)"
   ]
  },
  {
   "cell_type": "code",
   "execution_count": 25,
   "id": "f55cd776",
   "metadata": {},
   "outputs": [
    {
     "name": "stdout",
     "output_type": "stream",
     "text": [
      "-7.375\n",
      "7.375\n"
     ]
    }
   ],
   "source": [
    "# 절대값\n",
    "IQR2 = Q1 - Q3\n",
    "print(IQR2)\n",
    "print(abs(IQR2))"
   ]
  },
  {
   "cell_type": "code",
   "execution_count": 26,
   "id": "d78d7ec0",
   "metadata": {},
   "outputs": [
    {
     "data": {
      "text/plain": [
       "32"
      ]
     },
     "execution_count": 26,
     "metadata": {},
     "output_type": "execute_result"
    }
   ],
   "source": [
    "# 데이터 수 \n",
    "len(df['mpg'])"
   ]
  },
  {
   "cell_type": "markdown",
   "id": "ccd0df45",
   "metadata": {},
   "source": [
    "## 5) 그룹화하여 계산하기 (groupby 활용)"
   ]
  },
  {
   "cell_type": "code",
   "execution_count": 28,
   "id": "bae720bb",
   "metadata": {},
   "outputs": [
    {
     "name": "stdout",
     "output_type": "stream",
     "text": [
      "   sepal_length  sepal_width  petal_length  petal_width species\n",
      "0           5.1          3.5           1.4          0.2  setosa\n",
      "1           4.9          3.0           1.4          0.2  setosa\n",
      "2           4.7          3.2           1.3          0.2  setosa\n",
      "3           4.6          3.1           1.5          0.2  setosa\n",
      "4           5.0          3.6           1.4          0.2  setosa\n"
     ]
    },
    {
     "data": {
      "text/html": [
       "<div>\n",
       "<style scoped>\n",
       "    .dataframe tbody tr th:only-of-type {\n",
       "        vertical-align: middle;\n",
       "    }\n",
       "\n",
       "    .dataframe tbody tr th {\n",
       "        vertical-align: top;\n",
       "    }\n",
       "\n",
       "    .dataframe thead th {\n",
       "        text-align: right;\n",
       "    }\n",
       "</style>\n",
       "<table border=\"1\" class=\"dataframe\">\n",
       "  <thead>\n",
       "    <tr style=\"text-align: right;\">\n",
       "      <th></th>\n",
       "      <th>sepal_length</th>\n",
       "      <th>sepal_width</th>\n",
       "      <th>petal_length</th>\n",
       "      <th>petal_width</th>\n",
       "    </tr>\n",
       "    <tr>\n",
       "      <th>species</th>\n",
       "      <th></th>\n",
       "      <th></th>\n",
       "      <th></th>\n",
       "      <th></th>\n",
       "    </tr>\n",
       "  </thead>\n",
       "  <tbody>\n",
       "    <tr>\n",
       "      <th>setosa</th>\n",
       "      <td>5.006</td>\n",
       "      <td>3.428</td>\n",
       "      <td>1.462</td>\n",
       "      <td>0.246</td>\n",
       "    </tr>\n",
       "    <tr>\n",
       "      <th>versicolor</th>\n",
       "      <td>5.936</td>\n",
       "      <td>2.770</td>\n",
       "      <td>4.260</td>\n",
       "      <td>1.326</td>\n",
       "    </tr>\n",
       "    <tr>\n",
       "      <th>virginica</th>\n",
       "      <td>6.588</td>\n",
       "      <td>2.974</td>\n",
       "      <td>5.552</td>\n",
       "      <td>2.026</td>\n",
       "    </tr>\n",
       "  </tbody>\n",
       "</table>\n",
       "</div>"
      ],
      "text/plain": [
       "            sepal_length  sepal_width  petal_length  petal_width\n",
       "species                                                         \n",
       "setosa             5.006        3.428         1.462        0.246\n",
       "versicolor         5.936        2.770         4.260        1.326\n",
       "virginica          6.588        2.974         5.552        2.026"
      ]
     },
     "execution_count": 28,
     "metadata": {},
     "output_type": "execute_result"
    }
   ],
   "source": [
    "# species별로 각 변수의 평균 구해보기\n",
    "import seaborn as sns\n",
    "df = sns.load_dataset('iris')\n",
    "print(df.head())\n",
    "df.groupby('species').mean()"
   ]
  },
  {
   "cell_type": "code",
   "execution_count": 29,
   "id": "5693ba56",
   "metadata": {},
   "outputs": [
    {
     "data": {
      "text/html": [
       "<div>\n",
       "<style scoped>\n",
       "    .dataframe tbody tr th:only-of-type {\n",
       "        vertical-align: middle;\n",
       "    }\n",
       "\n",
       "    .dataframe tbody tr th {\n",
       "        vertical-align: top;\n",
       "    }\n",
       "\n",
       "    .dataframe thead th {\n",
       "        text-align: right;\n",
       "    }\n",
       "</style>\n",
       "<table border=\"1\" class=\"dataframe\">\n",
       "  <thead>\n",
       "    <tr style=\"text-align: right;\">\n",
       "      <th></th>\n",
       "      <th>sepal_length</th>\n",
       "      <th>sepal_width</th>\n",
       "      <th>petal_length</th>\n",
       "      <th>petal_width</th>\n",
       "    </tr>\n",
       "    <tr>\n",
       "      <th>species</th>\n",
       "      <th></th>\n",
       "      <th></th>\n",
       "      <th></th>\n",
       "      <th></th>\n",
       "    </tr>\n",
       "  </thead>\n",
       "  <tbody>\n",
       "    <tr>\n",
       "      <th>setosa</th>\n",
       "      <td>5.0</td>\n",
       "      <td>3.4</td>\n",
       "      <td>1.50</td>\n",
       "      <td>0.2</td>\n",
       "    </tr>\n",
       "    <tr>\n",
       "      <th>versicolor</th>\n",
       "      <td>5.9</td>\n",
       "      <td>2.8</td>\n",
       "      <td>4.35</td>\n",
       "      <td>1.3</td>\n",
       "    </tr>\n",
       "    <tr>\n",
       "      <th>virginica</th>\n",
       "      <td>6.5</td>\n",
       "      <td>3.0</td>\n",
       "      <td>5.55</td>\n",
       "      <td>2.0</td>\n",
       "    </tr>\n",
       "  </tbody>\n",
       "</table>\n",
       "</div>"
      ],
      "text/plain": [
       "            sepal_length  sepal_width  petal_length  petal_width\n",
       "species                                                         \n",
       "setosa               5.0          3.4          1.50          0.2\n",
       "versicolor           5.9          2.8          4.35          1.3\n",
       "virginica            6.5          3.0          5.55          2.0"
      ]
     },
     "execution_count": 29,
     "metadata": {},
     "output_type": "execute_result"
    }
   ],
   "source": [
    "df.groupby('species').median()"
   ]
  },
  {
   "cell_type": "code",
   "execution_count": null,
   "id": "fa664e31",
   "metadata": {},
   "outputs": [],
   "source": []
  },
  {
   "cell_type": "code",
   "execution_count": null,
   "id": "2a3fd089",
   "metadata": {},
   "outputs": [],
   "source": []
  }
 ],
 "metadata": {
  "kernelspec": {
   "display_name": "Python 3 (ipykernel)",
   "language": "python",
   "name": "python3"
  },
  "language_info": {
   "codemirror_mode": {
    "name": "ipython",
    "version": 3
   },
   "file_extension": ".py",
   "mimetype": "text/x-python",
   "name": "python",
   "nbconvert_exporter": "python",
   "pygments_lexer": "ipython3",
   "version": "3.9.7"
  }
 },
 "nbformat": 4,
 "nbformat_minor": 5
}
